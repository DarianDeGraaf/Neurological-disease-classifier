{
 "cells": [
  {
   "cell_type": "code",
   "execution_count": 1,
   "id": "fee2ed17",
   "metadata": {},
   "outputs": [],
   "source": [
    "import os\n",
    "import json\n",
    "import pandas as pd\n",
    "import requests\n",
    "from pandas.core.frame import DataFrame\n",
    "\n",
    "import numpy as np\n",
    "from sklearn.preprocessing import FunctionTransformer, StandardScaler\n",
    "from sklearn.pipeline import Pipeline"
   ]
  },
  {
   "cell_type": "code",
   "execution_count": 2,
   "id": "425ee33e",
   "metadata": {},
   "outputs": [
    {
     "data": {
      "application/vnd.microsoft.datawrangler.viewer.v0+json": {
       "columns": [
        {
         "name": "index",
         "rawType": "object",
         "type": "string"
        },
        {
         "name": "nr. reads sequenced",
         "rawType": "float64",
         "type": "float"
        },
        {
         "name": "host age",
         "rawType": "float64",
         "type": "float"
        },
        {
         "name": "BMI",
         "rawType": "float64",
         "type": "float"
        },
        {
         "name": "longitude",
         "rawType": "float64",
         "type": "float"
        },
        {
         "name": "lattitude",
         "rawType": "float64",
         "type": "float"
        },
        {
         "name": "QC status",
         "rawType": "float64",
         "type": "float"
        }
       ],
       "ref": "7ac60533-a3c1-41cc-8263-d7e0c846187a",
       "rows": [
        [
         "count",
         "14461.0",
         "14461.0",
         "14461.0",
         "14461.0",
         "14461.0",
         "14459.0"
        ],
        [
         "mean",
         "32905.29811216375",
         "45.10683908443399",
         "43.83569808450315",
         "-56.134105525205726",
         "37.71669317474588",
         "0.5409779376167093"
        ],
        [
         "std",
         "39187.68457901751",
         "18.45643057131903",
         "566.1170041961095",
         "64.91897711111147",
         "18.576356107766834",
         "0.49833521243327256"
        ],
        [
         "min",
         "0.0",
         "0.0",
         "0.0",
         "-166.5",
         "-45.9",
         "0.0"
        ],
        [
         "25%",
         "16246.0",
         "34.0",
         "20.78",
         "-110.7",
         "34.1",
         "0.0"
        ],
        [
         "50%",
         "24507.0",
         "47.0",
         "23.4",
         "-76.9",
         "40.7",
         "1.0"
        ],
        [
         "75%",
         "35872.0",
         "60.0",
         "26.5",
         "-1.0",
         "50.9",
         "1.0"
        ],
        [
         "max",
         "1545243.0",
         "96.0",
         "42500.0",
         "175.7",
         "64.9",
         "1.0"
        ]
       ],
       "shape": {
        "columns": 6,
        "rows": 8
       }
      },
      "text/html": [
       "<div>\n",
       "<style scoped>\n",
       "    .dataframe tbody tr th:only-of-type {\n",
       "        vertical-align: middle;\n",
       "    }\n",
       "\n",
       "    .dataframe tbody tr th {\n",
       "        vertical-align: top;\n",
       "    }\n",
       "\n",
       "    .dataframe thead th {\n",
       "        text-align: right;\n",
       "    }\n",
       "</style>\n",
       "<table border=\"1\" class=\"dataframe\">\n",
       "  <thead>\n",
       "    <tr style=\"text-align: right;\">\n",
       "      <th></th>\n",
       "      <th>nr. reads sequenced</th>\n",
       "      <th>host age</th>\n",
       "      <th>BMI</th>\n",
       "      <th>longitude</th>\n",
       "      <th>lattitude</th>\n",
       "      <th>QC status</th>\n",
       "    </tr>\n",
       "  </thead>\n",
       "  <tbody>\n",
       "    <tr>\n",
       "      <th>count</th>\n",
       "      <td>1.446100e+04</td>\n",
       "      <td>14461.000000</td>\n",
       "      <td>14461.000000</td>\n",
       "      <td>14461.000000</td>\n",
       "      <td>14461.000000</td>\n",
       "      <td>14459.000000</td>\n",
       "    </tr>\n",
       "    <tr>\n",
       "      <th>mean</th>\n",
       "      <td>3.290530e+04</td>\n",
       "      <td>45.106839</td>\n",
       "      <td>43.835698</td>\n",
       "      <td>-56.134106</td>\n",
       "      <td>37.716693</td>\n",
       "      <td>0.540978</td>\n",
       "    </tr>\n",
       "    <tr>\n",
       "      <th>std</th>\n",
       "      <td>3.918768e+04</td>\n",
       "      <td>18.456431</td>\n",
       "      <td>566.117004</td>\n",
       "      <td>64.918977</td>\n",
       "      <td>18.576356</td>\n",
       "      <td>0.498335</td>\n",
       "    </tr>\n",
       "    <tr>\n",
       "      <th>min</th>\n",
       "      <td>0.000000e+00</td>\n",
       "      <td>0.000000</td>\n",
       "      <td>0.000000</td>\n",
       "      <td>-166.500000</td>\n",
       "      <td>-45.900000</td>\n",
       "      <td>0.000000</td>\n",
       "    </tr>\n",
       "    <tr>\n",
       "      <th>25%</th>\n",
       "      <td>1.624600e+04</td>\n",
       "      <td>34.000000</td>\n",
       "      <td>20.780000</td>\n",
       "      <td>-110.700000</td>\n",
       "      <td>34.100000</td>\n",
       "      <td>0.000000</td>\n",
       "    </tr>\n",
       "    <tr>\n",
       "      <th>50%</th>\n",
       "      <td>2.450700e+04</td>\n",
       "      <td>47.000000</td>\n",
       "      <td>23.400000</td>\n",
       "      <td>-76.900000</td>\n",
       "      <td>40.700000</td>\n",
       "      <td>1.000000</td>\n",
       "    </tr>\n",
       "    <tr>\n",
       "      <th>75%</th>\n",
       "      <td>3.587200e+04</td>\n",
       "      <td>60.000000</td>\n",
       "      <td>26.500000</td>\n",
       "      <td>-1.000000</td>\n",
       "      <td>50.900000</td>\n",
       "      <td>1.000000</td>\n",
       "    </tr>\n",
       "    <tr>\n",
       "      <th>max</th>\n",
       "      <td>1.545243e+06</td>\n",
       "      <td>96.000000</td>\n",
       "      <td>42500.000000</td>\n",
       "      <td>175.700000</td>\n",
       "      <td>64.900000</td>\n",
       "      <td>1.000000</td>\n",
       "    </tr>\n",
       "  </tbody>\n",
       "</table>\n",
       "</div>"
      ],
      "text/plain": [
       "       nr. reads sequenced      host age           BMI     longitude  \\\n",
       "count         1.446100e+04  14461.000000  14461.000000  14461.000000   \n",
       "mean          3.290530e+04     45.106839     43.835698    -56.134106   \n",
       "std           3.918768e+04     18.456431    566.117004     64.918977   \n",
       "min           0.000000e+00      0.000000      0.000000   -166.500000   \n",
       "25%           1.624600e+04     34.000000     20.780000   -110.700000   \n",
       "50%           2.450700e+04     47.000000     23.400000    -76.900000   \n",
       "75%           3.587200e+04     60.000000     26.500000     -1.000000   \n",
       "max           1.545243e+06     96.000000  42500.000000    175.700000   \n",
       "\n",
       "          lattitude     QC status  \n",
       "count  14461.000000  14459.000000  \n",
       "mean      37.716693      0.540978  \n",
       "std       18.576356      0.498335  \n",
       "min      -45.900000      0.000000  \n",
       "25%       34.100000      0.000000  \n",
       "50%       40.700000      1.000000  \n",
       "75%       50.900000      1.000000  \n",
       "max       64.900000      1.000000  "
      ]
     },
     "execution_count": 2,
     "metadata": {},
     "output_type": "execute_result"
    }
   ],
   "source": [
    "df_pr1 = pd.read_csv('Data/all_runs_in_project_PRJEB11419.tsv', sep=\"\t\" , index_col=False)\n",
    "df_pr1.describe()"
   ]
  },
  {
   "cell_type": "code",
   "execution_count": 3,
   "id": "19ca63a9",
   "metadata": {},
   "outputs": [
    {
     "data": {
      "application/vnd.microsoft.datawrangler.viewer.v0+json": {
       "columns": [
        {
         "name": "index",
         "rawType": "int64",
         "type": "integer"
        },
        {
         "name": "project ID",
         "rawType": "object",
         "type": "string"
        },
        {
         "name": "run ID",
         "rawType": "object",
         "type": "string"
        },
        {
         "name": "experiment type",
         "rawType": "object",
         "type": "string"
        },
        {
         "name": "instrument model",
         "rawType": "object",
         "type": "string"
        },
        {
         "name": "nr. reads sequenced",
         "rawType": "int64",
         "type": "integer"
        },
        {
         "name": "host age",
         "rawType": "int64",
         "type": "integer"
        },
        {
         "name": "sex",
         "rawType": "object",
         "type": "string"
        },
        {
         "name": "BMI",
         "rawType": "float64",
         "type": "float"
        },
        {
         "name": "country",
         "rawType": "object",
         "type": "string"
        },
        {
         "name": "longitude",
         "rawType": "float64",
         "type": "float"
        },
        {
         "name": "lattitude",
         "rawType": "float64",
         "type": "float"
        },
        {
         "name": "associated phenotype",
         "rawType": "object",
         "type": "string"
        },
        {
         "name": "QC status",
         "rawType": "float64",
         "type": "float"
        }
       ],
       "ref": "ae76ab71-7d2f-487f-b199-4681ffc0bcce",
       "rows": [
        [
         "0",
         "PRJEB11419",
         "ERR1072629",
         "Amplicon",
         "Illumina MiSeq",
         "23830",
         "64",
         "Male",
         "17.67",
         "United States of America",
         "-70.3",
         "41.6",
         "D001714",
         "1.0"
        ],
        [
         "40",
         "PRJEB11419",
         "ERR1072937",
         "Amplicon",
         "Illumina MiSeq",
         "27504",
         "53",
         "Male",
         "26.51",
         "United States of America",
         "-116.2",
         "43.6",
         "D001714",
         "1.0"
        ],
        [
         "49",
         "PRJEB11419",
         "ERR1073023",
         "Amplicon",
         "Illumina MiSeq",
         "24706",
         "35",
         "Female",
         "34.72",
         "United States of America",
         "-93.3",
         "45.0",
         "D001714",
         "1.0"
        ],
        [
         "80",
         "PRJEB11419",
         "ERR1073394",
         "Amplicon",
         "Illumina MiSeq",
         "43579",
         "27",
         "Female",
         "22.41",
         "United States of America",
         "-117.2",
         "32.8",
         "D001714",
         "1.0"
        ],
        [
         "87",
         "PRJEB11419",
         "ERR1073395",
         "Amplicon",
         "Illumina MiSeq",
         "45092",
         "27",
         "Female",
         "22.41",
         "United States of America",
         "-117.2",
         "32.8",
         "D001714",
         "1.0"
        ]
       ],
       "shape": {
        "columns": 13,
        "rows": 5
       }
      },
      "text/html": [
       "<div>\n",
       "<style scoped>\n",
       "    .dataframe tbody tr th:only-of-type {\n",
       "        vertical-align: middle;\n",
       "    }\n",
       "\n",
       "    .dataframe tbody tr th {\n",
       "        vertical-align: top;\n",
       "    }\n",
       "\n",
       "    .dataframe thead th {\n",
       "        text-align: right;\n",
       "    }\n",
       "</style>\n",
       "<table border=\"1\" class=\"dataframe\">\n",
       "  <thead>\n",
       "    <tr style=\"text-align: right;\">\n",
       "      <th></th>\n",
       "      <th>project ID</th>\n",
       "      <th>run ID</th>\n",
       "      <th>experiment type</th>\n",
       "      <th>instrument model</th>\n",
       "      <th>nr. reads sequenced</th>\n",
       "      <th>host age</th>\n",
       "      <th>sex</th>\n",
       "      <th>BMI</th>\n",
       "      <th>country</th>\n",
       "      <th>longitude</th>\n",
       "      <th>lattitude</th>\n",
       "      <th>associated phenotype</th>\n",
       "      <th>QC status</th>\n",
       "    </tr>\n",
       "  </thead>\n",
       "  <tbody>\n",
       "    <tr>\n",
       "      <th>0</th>\n",
       "      <td>PRJEB11419</td>\n",
       "      <td>ERR1072629</td>\n",
       "      <td>Amplicon</td>\n",
       "      <td>Illumina MiSeq</td>\n",
       "      <td>23830</td>\n",
       "      <td>64</td>\n",
       "      <td>Male</td>\n",
       "      <td>17.67</td>\n",
       "      <td>United States of America</td>\n",
       "      <td>-70.3</td>\n",
       "      <td>41.6</td>\n",
       "      <td>D001714</td>\n",
       "      <td>1.0</td>\n",
       "    </tr>\n",
       "    <tr>\n",
       "      <th>40</th>\n",
       "      <td>PRJEB11419</td>\n",
       "      <td>ERR1072937</td>\n",
       "      <td>Amplicon</td>\n",
       "      <td>Illumina MiSeq</td>\n",
       "      <td>27504</td>\n",
       "      <td>53</td>\n",
       "      <td>Male</td>\n",
       "      <td>26.51</td>\n",
       "      <td>United States of America</td>\n",
       "      <td>-116.2</td>\n",
       "      <td>43.6</td>\n",
       "      <td>D001714</td>\n",
       "      <td>1.0</td>\n",
       "    </tr>\n",
       "    <tr>\n",
       "      <th>49</th>\n",
       "      <td>PRJEB11419</td>\n",
       "      <td>ERR1073023</td>\n",
       "      <td>Amplicon</td>\n",
       "      <td>Illumina MiSeq</td>\n",
       "      <td>24706</td>\n",
       "      <td>35</td>\n",
       "      <td>Female</td>\n",
       "      <td>34.72</td>\n",
       "      <td>United States of America</td>\n",
       "      <td>-93.3</td>\n",
       "      <td>45.0</td>\n",
       "      <td>D001714</td>\n",
       "      <td>1.0</td>\n",
       "    </tr>\n",
       "    <tr>\n",
       "      <th>80</th>\n",
       "      <td>PRJEB11419</td>\n",
       "      <td>ERR1073394</td>\n",
       "      <td>Amplicon</td>\n",
       "      <td>Illumina MiSeq</td>\n",
       "      <td>43579</td>\n",
       "      <td>27</td>\n",
       "      <td>Female</td>\n",
       "      <td>22.41</td>\n",
       "      <td>United States of America</td>\n",
       "      <td>-117.2</td>\n",
       "      <td>32.8</td>\n",
       "      <td>D001714</td>\n",
       "      <td>1.0</td>\n",
       "    </tr>\n",
       "    <tr>\n",
       "      <th>87</th>\n",
       "      <td>PRJEB11419</td>\n",
       "      <td>ERR1073395</td>\n",
       "      <td>Amplicon</td>\n",
       "      <td>Illumina MiSeq</td>\n",
       "      <td>45092</td>\n",
       "      <td>27</td>\n",
       "      <td>Female</td>\n",
       "      <td>22.41</td>\n",
       "      <td>United States of America</td>\n",
       "      <td>-117.2</td>\n",
       "      <td>32.8</td>\n",
       "      <td>D001714</td>\n",
       "      <td>1.0</td>\n",
       "    </tr>\n",
       "  </tbody>\n",
       "</table>\n",
       "</div>"
      ],
      "text/plain": [
       "    project ID      run ID experiment type instrument model  \\\n",
       "0   PRJEB11419  ERR1072629        Amplicon   Illumina MiSeq   \n",
       "40  PRJEB11419  ERR1072937        Amplicon   Illumina MiSeq   \n",
       "49  PRJEB11419  ERR1073023        Amplicon   Illumina MiSeq   \n",
       "80  PRJEB11419  ERR1073394        Amplicon   Illumina MiSeq   \n",
       "87  PRJEB11419  ERR1073395        Amplicon   Illumina MiSeq   \n",
       "\n",
       "    nr. reads sequenced  host age     sex    BMI                   country  \\\n",
       "0                 23830        64    Male  17.67  United States of America   \n",
       "40                27504        53    Male  26.51  United States of America   \n",
       "49                24706        35  Female  34.72  United States of America   \n",
       "80                43579        27  Female  22.41  United States of America   \n",
       "87                45092        27  Female  22.41  United States of America   \n",
       "\n",
       "    longitude  lattitude associated phenotype  QC status  \n",
       "0       -70.3       41.6              D001714        1.0  \n",
       "40     -116.2       43.6              D001714        1.0  \n",
       "49      -93.3       45.0              D001714        1.0  \n",
       "80     -117.2       32.8              D001714        1.0  \n",
       "87     -117.2       32.8              D001714        1.0  "
      ]
     },
     "execution_count": 3,
     "metadata": {},
     "output_type": "execute_result"
    }
   ],
   "source": [
    "df_QC1 = df_pr1.loc[df_pr1['QC status'] == 1.0]\n",
    "df_phen_depr = df_QC1.loc[df_QC1['associated phenotype'] == 'D001714'] #bipolar\n",
    "df_phen_depr.head()"
   ]
  },
  {
   "cell_type": "code",
   "execution_count": 4,
   "id": "2bc96232",
   "metadata": {},
   "outputs": [
    {
     "data": {
      "application/vnd.microsoft.datawrangler.viewer.v0+json": {
       "columns": [
        {
         "name": "index",
         "rawType": "object",
         "type": "string"
        },
        {
         "name": "run ID",
         "rawType": "object",
         "type": "unknown"
        }
       ],
       "ref": "634e16ea-d4af-42b2-a899-b4ab0d041dca",
       "rows": [
        [
         "count",
         "354"
        ],
        [
         "unique",
         "354"
        ],
        [
         "top",
         "ERR1072629"
        ],
        [
         "freq",
         "1"
        ]
       ],
       "shape": {
        "columns": 1,
        "rows": 4
       }
      },
      "text/plain": [
       "count            354\n",
       "unique           354\n",
       "top       ERR1072629\n",
       "freq               1\n",
       "Name: run ID, dtype: object"
      ]
     },
     "execution_count": 4,
     "metadata": {},
     "output_type": "execute_result"
    }
   ],
   "source": [
    "df_runs = df_phen_depr['run ID']\n",
    "df_runs.describe()"
   ]
  },
  {
   "cell_type": "code",
   "execution_count": 5,
   "id": "9fd11e49",
   "metadata": {},
   "outputs": [],
   "source": [
    "df_only_runs = pd.DataFrame({'Runs': df_runs.values})"
   ]
  },
  {
   "cell_type": "code",
   "execution_count": 6,
   "id": "9c839582",
   "metadata": {},
   "outputs": [
    {
     "data": {
      "application/vnd.microsoft.datawrangler.viewer.v0+json": {
       "columns": [
        {
         "name": "index",
         "rawType": "object",
         "type": "string"
        },
        {
         "name": "Runs",
         "rawType": "object",
         "type": "unknown"
        }
       ],
       "ref": "61bce5da-e7c1-494f-8259-f19ebd231715",
       "rows": [
        [
         "count",
         "354"
        ],
        [
         "unique",
         "354"
        ],
        [
         "top",
         "ERR1072629"
        ],
        [
         "freq",
         "1"
        ]
       ],
       "shape": {
        "columns": 1,
        "rows": 4
       }
      },
      "text/html": [
       "<div>\n",
       "<style scoped>\n",
       "    .dataframe tbody tr th:only-of-type {\n",
       "        vertical-align: middle;\n",
       "    }\n",
       "\n",
       "    .dataframe tbody tr th {\n",
       "        vertical-align: top;\n",
       "    }\n",
       "\n",
       "    .dataframe thead th {\n",
       "        text-align: right;\n",
       "    }\n",
       "</style>\n",
       "<table border=\"1\" class=\"dataframe\">\n",
       "  <thead>\n",
       "    <tr style=\"text-align: right;\">\n",
       "      <th></th>\n",
       "      <th>Runs</th>\n",
       "    </tr>\n",
       "  </thead>\n",
       "  <tbody>\n",
       "    <tr>\n",
       "      <th>count</th>\n",
       "      <td>354</td>\n",
       "    </tr>\n",
       "    <tr>\n",
       "      <th>unique</th>\n",
       "      <td>354</td>\n",
       "    </tr>\n",
       "    <tr>\n",
       "      <th>top</th>\n",
       "      <td>ERR1072629</td>\n",
       "    </tr>\n",
       "    <tr>\n",
       "      <th>freq</th>\n",
       "      <td>1</td>\n",
       "    </tr>\n",
       "  </tbody>\n",
       "</table>\n",
       "</div>"
      ],
      "text/plain": [
       "              Runs\n",
       "count          354\n",
       "unique         354\n",
       "top     ERR1072629\n",
       "freq             1"
      ]
     },
     "execution_count": 6,
     "metadata": {},
     "output_type": "execute_result"
    }
   ],
   "source": [
    "df_only_runs.describe()"
   ]
  },
  {
   "cell_type": "code",
   "execution_count": 7,
   "id": "4f4290a9",
   "metadata": {},
   "outputs": [],
   "source": [
    "all_flattened_runs = []"
   ]
  },
  {
   "cell_type": "code",
   "execution_count": 8,
   "id": "e11b94f8",
   "metadata": {},
   "outputs": [],
   "source": [
    "\n",
    "\n",
    "for index, run_id in df_only_runs[\"Runs\"].items():\n",
    "    try:\n",
    "        query = {\"run_id\":run_id}  \n",
    "        url = 'https://gmrepo.humangut.info/api/getFullTaxonomicProfileByRunID'\n",
    "        data = requests.post(url, data=json.dumps(query)).json()\n",
    "\n",
    "        ## --get run List\n",
    "        run = data.get(\"run\")\n",
    "\n",
    "        ## --get DataFrames\n",
    "        species = DataFrame(data.get(\"species\"))\n",
    "        species = species.drop(columns = ['taxon_rank_level', 'relative_abundance']) #drop useless info\n",
    "\n",
    "        #species = species[species['ncbi_taxon_id'] != -1]   #drop missing taxons\n",
    "        flat = species.set_index('ncbi_taxon_id')['scientific_name'].T\n",
    "        flat = flat.rename_axis(None).to_frame().T\n",
    "        flat.insert(0, 'Run', run_id)\n",
    "        all_flattened_runs.append(species)\n",
    "    except Exception as e:\n",
    "        print(f\"Error processing run {run}: {e}\")\n",
    "\n"
   ]
  },
  {
   "cell_type": "code",
   "execution_count": 9,
   "id": "33e9b9ec",
   "metadata": {},
   "outputs": [
    {
     "data": {
      "application/vnd.microsoft.datawrangler.viewer.v0+json": {
       "columns": [
        {
         "name": "index",
         "rawType": "object",
         "type": "string"
        },
        {
         "name": "nr. reads sequenced",
         "rawType": "float64",
         "type": "float"
        },
        {
         "name": "host age",
         "rawType": "float64",
         "type": "float"
        },
        {
         "name": "BMI",
         "rawType": "float64",
         "type": "float"
        },
        {
         "name": "longitude",
         "rawType": "float64",
         "type": "float"
        },
        {
         "name": "lattitude",
         "rawType": "float64",
         "type": "float"
        },
        {
         "name": "QC status",
         "rawType": "float64",
         "type": "float"
        }
       ],
       "ref": "753214d7-d11a-4d46-96f3-a195372079a5",
       "rows": [
        [
         "count",
         "179.0",
         "179.0",
         "179.0",
         "0.0",
         "0.0",
         "179.0"
        ],
        [
         "mean",
         "27708.558659217877",
         "49.6536312849162",
         "28.1259217877095",
         null,
         null,
         "0.7653631284916201"
        ],
        [
         "std",
         "7670.763118554633",
         "14.251852854046655",
         "6.561101717444828",
         null,
         null,
         "0.4249603510695659"
        ],
        [
         "min",
         "5333.0",
         "23.0",
         "15.95",
         null,
         null,
         "0.0"
        ],
        [
         "25%",
         "23613.0",
         "36.5",
         "23.115000000000002",
         null,
         null,
         "1.0"
        ],
        [
         "50%",
         "28568.0",
         "53.0",
         "26.58",
         null,
         null,
         "1.0"
        ],
        [
         "75%",
         "32235.0",
         "60.5",
         "31.695",
         null,
         null,
         "1.0"
        ],
        [
         "max",
         "47652.0",
         "87.0",
         "54.08",
         null,
         null,
         "1.0"
        ]
       ],
       "shape": {
        "columns": 6,
        "rows": 8
       }
      },
      "text/html": [
       "<div>\n",
       "<style scoped>\n",
       "    .dataframe tbody tr th:only-of-type {\n",
       "        vertical-align: middle;\n",
       "    }\n",
       "\n",
       "    .dataframe tbody tr th {\n",
       "        vertical-align: top;\n",
       "    }\n",
       "\n",
       "    .dataframe thead th {\n",
       "        text-align: right;\n",
       "    }\n",
       "</style>\n",
       "<table border=\"1\" class=\"dataframe\">\n",
       "  <thead>\n",
       "    <tr style=\"text-align: right;\">\n",
       "      <th></th>\n",
       "      <th>nr. reads sequenced</th>\n",
       "      <th>host age</th>\n",
       "      <th>BMI</th>\n",
       "      <th>longitude</th>\n",
       "      <th>lattitude</th>\n",
       "      <th>QC status</th>\n",
       "    </tr>\n",
       "  </thead>\n",
       "  <tbody>\n",
       "    <tr>\n",
       "      <th>count</th>\n",
       "      <td>179.000000</td>\n",
       "      <td>179.000000</td>\n",
       "      <td>179.000000</td>\n",
       "      <td>0.0</td>\n",
       "      <td>0.0</td>\n",
       "      <td>179.000000</td>\n",
       "    </tr>\n",
       "    <tr>\n",
       "      <th>mean</th>\n",
       "      <td>27708.558659</td>\n",
       "      <td>49.653631</td>\n",
       "      <td>28.125922</td>\n",
       "      <td>NaN</td>\n",
       "      <td>NaN</td>\n",
       "      <td>0.765363</td>\n",
       "    </tr>\n",
       "    <tr>\n",
       "      <th>std</th>\n",
       "      <td>7670.763119</td>\n",
       "      <td>14.251853</td>\n",
       "      <td>6.561102</td>\n",
       "      <td>NaN</td>\n",
       "      <td>NaN</td>\n",
       "      <td>0.424960</td>\n",
       "    </tr>\n",
       "    <tr>\n",
       "      <th>min</th>\n",
       "      <td>5333.000000</td>\n",
       "      <td>23.000000</td>\n",
       "      <td>15.950000</td>\n",
       "      <td>NaN</td>\n",
       "      <td>NaN</td>\n",
       "      <td>0.000000</td>\n",
       "    </tr>\n",
       "    <tr>\n",
       "      <th>25%</th>\n",
       "      <td>23613.000000</td>\n",
       "      <td>36.500000</td>\n",
       "      <td>23.115000</td>\n",
       "      <td>NaN</td>\n",
       "      <td>NaN</td>\n",
       "      <td>1.000000</td>\n",
       "    </tr>\n",
       "    <tr>\n",
       "      <th>50%</th>\n",
       "      <td>28568.000000</td>\n",
       "      <td>53.000000</td>\n",
       "      <td>26.580000</td>\n",
       "      <td>NaN</td>\n",
       "      <td>NaN</td>\n",
       "      <td>1.000000</td>\n",
       "    </tr>\n",
       "    <tr>\n",
       "      <th>75%</th>\n",
       "      <td>32235.000000</td>\n",
       "      <td>60.500000</td>\n",
       "      <td>31.695000</td>\n",
       "      <td>NaN</td>\n",
       "      <td>NaN</td>\n",
       "      <td>1.000000</td>\n",
       "    </tr>\n",
       "    <tr>\n",
       "      <th>max</th>\n",
       "      <td>47652.000000</td>\n",
       "      <td>87.000000</td>\n",
       "      <td>54.080000</td>\n",
       "      <td>NaN</td>\n",
       "      <td>NaN</td>\n",
       "      <td>1.000000</td>\n",
       "    </tr>\n",
       "  </tbody>\n",
       "</table>\n",
       "</div>"
      ],
      "text/plain": [
       "       nr. reads sequenced    host age         BMI  longitude  lattitude  \\\n",
       "count           179.000000  179.000000  179.000000        0.0        0.0   \n",
       "mean          27708.558659   49.653631   28.125922        NaN        NaN   \n",
       "std            7670.763119   14.251853    6.561102        NaN        NaN   \n",
       "min            5333.000000   23.000000   15.950000        NaN        NaN   \n",
       "25%           23613.000000   36.500000   23.115000        NaN        NaN   \n",
       "50%           28568.000000   53.000000   26.580000        NaN        NaN   \n",
       "75%           32235.000000   60.500000   31.695000        NaN        NaN   \n",
       "max           47652.000000   87.000000   54.080000        NaN        NaN   \n",
       "\n",
       "        QC status  \n",
       "count  179.000000  \n",
       "mean     0.765363  \n",
       "std      0.424960  \n",
       "min      0.000000  \n",
       "25%      1.000000  \n",
       "50%      1.000000  \n",
       "75%      1.000000  \n",
       "max      1.000000  "
      ]
     },
     "execution_count": 9,
     "metadata": {},
     "output_type": "execute_result"
    }
   ],
   "source": [
    "df_pr1 = pd.read_csv('Data/all_runs_in_project_PRJNA485797.tsv', sep=\"\t\" , index_col=False)\n",
    "df_pr1.describe()"
   ]
  },
  {
   "cell_type": "code",
   "execution_count": 10,
   "id": "b6900ba7",
   "metadata": {},
   "outputs": [
    {
     "data": {
      "application/vnd.microsoft.datawrangler.viewer.v0+json": {
       "columns": [
        {
         "name": "index",
         "rawType": "int64",
         "type": "integer"
        },
        {
         "name": "project ID",
         "rawType": "object",
         "type": "string"
        },
        {
         "name": "run ID",
         "rawType": "object",
         "type": "string"
        },
        {
         "name": "experiment type",
         "rawType": "object",
         "type": "string"
        },
        {
         "name": "instrument model",
         "rawType": "object",
         "type": "string"
        },
        {
         "name": "nr. reads sequenced",
         "rawType": "int64",
         "type": "integer"
        },
        {
         "name": "host age",
         "rawType": "int64",
         "type": "integer"
        },
        {
         "name": "sex",
         "rawType": "object",
         "type": "string"
        },
        {
         "name": "BMI",
         "rawType": "float64",
         "type": "float"
        },
        {
         "name": "country",
         "rawType": "object",
         "type": "string"
        },
        {
         "name": "longitude",
         "rawType": "float64",
         "type": "float"
        },
        {
         "name": "lattitude",
         "rawType": "float64",
         "type": "float"
        },
        {
         "name": "associated phenotype",
         "rawType": "object",
         "type": "string"
        },
        {
         "name": "QC status",
         "rawType": "int64",
         "type": "integer"
        }
       ],
       "ref": "f71a2a07-de15-4d12-b7bf-b9fe9809f5e6",
       "rows": [
        [
         "1",
         "PRJNA485797",
         "SRR7690036",
         "Amplicon",
         "Illumina MiSeq",
         "33248",
         "53",
         "Female",
         "24.96",
         "United States of America",
         null,
         null,
         "D001714",
         "1"
        ],
        [
         "4",
         "PRJNA485797",
         "SRR7690039",
         "Amplicon",
         "Illumina MiSeq",
         "29605",
         "41",
         "Female",
         "29.83",
         "United States of America",
         null,
         null,
         "D001714",
         "1"
        ],
        [
         "5",
         "PRJNA485797",
         "SRR7690040",
         "Amplicon",
         "Illumina MiSeq",
         "22968",
         "58",
         "Female",
         "38.89",
         "United States of America",
         null,
         null,
         "D001714",
         "1"
        ],
        [
         "8",
         "PRJNA485797",
         "SRR7690043",
         "Amplicon",
         "Illumina MiSeq",
         "28728",
         "61",
         "Female",
         "20.67",
         "United States of America",
         null,
         null,
         "D001714",
         "1"
        ],
        [
         "9",
         "PRJNA485797",
         "SRR7690044",
         "Amplicon",
         "Illumina MiSeq",
         "36228",
         "24",
         "Female",
         "15.95",
         "United States of America",
         null,
         null,
         "D001714",
         "1"
        ]
       ],
       "shape": {
        "columns": 13,
        "rows": 5
       }
      },
      "text/html": [
       "<div>\n",
       "<style scoped>\n",
       "    .dataframe tbody tr th:only-of-type {\n",
       "        vertical-align: middle;\n",
       "    }\n",
       "\n",
       "    .dataframe tbody tr th {\n",
       "        vertical-align: top;\n",
       "    }\n",
       "\n",
       "    .dataframe thead th {\n",
       "        text-align: right;\n",
       "    }\n",
       "</style>\n",
       "<table border=\"1\" class=\"dataframe\">\n",
       "  <thead>\n",
       "    <tr style=\"text-align: right;\">\n",
       "      <th></th>\n",
       "      <th>project ID</th>\n",
       "      <th>run ID</th>\n",
       "      <th>experiment type</th>\n",
       "      <th>instrument model</th>\n",
       "      <th>nr. reads sequenced</th>\n",
       "      <th>host age</th>\n",
       "      <th>sex</th>\n",
       "      <th>BMI</th>\n",
       "      <th>country</th>\n",
       "      <th>longitude</th>\n",
       "      <th>lattitude</th>\n",
       "      <th>associated phenotype</th>\n",
       "      <th>QC status</th>\n",
       "    </tr>\n",
       "  </thead>\n",
       "  <tbody>\n",
       "    <tr>\n",
       "      <th>1</th>\n",
       "      <td>PRJNA485797</td>\n",
       "      <td>SRR7690036</td>\n",
       "      <td>Amplicon</td>\n",
       "      <td>Illumina MiSeq</td>\n",
       "      <td>33248</td>\n",
       "      <td>53</td>\n",
       "      <td>Female</td>\n",
       "      <td>24.96</td>\n",
       "      <td>United States of America</td>\n",
       "      <td>NaN</td>\n",
       "      <td>NaN</td>\n",
       "      <td>D001714</td>\n",
       "      <td>1</td>\n",
       "    </tr>\n",
       "    <tr>\n",
       "      <th>4</th>\n",
       "      <td>PRJNA485797</td>\n",
       "      <td>SRR7690039</td>\n",
       "      <td>Amplicon</td>\n",
       "      <td>Illumina MiSeq</td>\n",
       "      <td>29605</td>\n",
       "      <td>41</td>\n",
       "      <td>Female</td>\n",
       "      <td>29.83</td>\n",
       "      <td>United States of America</td>\n",
       "      <td>NaN</td>\n",
       "      <td>NaN</td>\n",
       "      <td>D001714</td>\n",
       "      <td>1</td>\n",
       "    </tr>\n",
       "    <tr>\n",
       "      <th>5</th>\n",
       "      <td>PRJNA485797</td>\n",
       "      <td>SRR7690040</td>\n",
       "      <td>Amplicon</td>\n",
       "      <td>Illumina MiSeq</td>\n",
       "      <td>22968</td>\n",
       "      <td>58</td>\n",
       "      <td>Female</td>\n",
       "      <td>38.89</td>\n",
       "      <td>United States of America</td>\n",
       "      <td>NaN</td>\n",
       "      <td>NaN</td>\n",
       "      <td>D001714</td>\n",
       "      <td>1</td>\n",
       "    </tr>\n",
       "    <tr>\n",
       "      <th>8</th>\n",
       "      <td>PRJNA485797</td>\n",
       "      <td>SRR7690043</td>\n",
       "      <td>Amplicon</td>\n",
       "      <td>Illumina MiSeq</td>\n",
       "      <td>28728</td>\n",
       "      <td>61</td>\n",
       "      <td>Female</td>\n",
       "      <td>20.67</td>\n",
       "      <td>United States of America</td>\n",
       "      <td>NaN</td>\n",
       "      <td>NaN</td>\n",
       "      <td>D001714</td>\n",
       "      <td>1</td>\n",
       "    </tr>\n",
       "    <tr>\n",
       "      <th>9</th>\n",
       "      <td>PRJNA485797</td>\n",
       "      <td>SRR7690044</td>\n",
       "      <td>Amplicon</td>\n",
       "      <td>Illumina MiSeq</td>\n",
       "      <td>36228</td>\n",
       "      <td>24</td>\n",
       "      <td>Female</td>\n",
       "      <td>15.95</td>\n",
       "      <td>United States of America</td>\n",
       "      <td>NaN</td>\n",
       "      <td>NaN</td>\n",
       "      <td>D001714</td>\n",
       "      <td>1</td>\n",
       "    </tr>\n",
       "  </tbody>\n",
       "</table>\n",
       "</div>"
      ],
      "text/plain": [
       "    project ID      run ID experiment type instrument model  \\\n",
       "1  PRJNA485797  SRR7690036        Amplicon   Illumina MiSeq   \n",
       "4  PRJNA485797  SRR7690039        Amplicon   Illumina MiSeq   \n",
       "5  PRJNA485797  SRR7690040        Amplicon   Illumina MiSeq   \n",
       "8  PRJNA485797  SRR7690043        Amplicon   Illumina MiSeq   \n",
       "9  PRJNA485797  SRR7690044        Amplicon   Illumina MiSeq   \n",
       "\n",
       "   nr. reads sequenced  host age     sex    BMI                   country  \\\n",
       "1                33248        53  Female  24.96  United States of America   \n",
       "4                29605        41  Female  29.83  United States of America   \n",
       "5                22968        58  Female  38.89  United States of America   \n",
       "8                28728        61  Female  20.67  United States of America   \n",
       "9                36228        24  Female  15.95  United States of America   \n",
       "\n",
       "   longitude  lattitude associated phenotype  QC status  \n",
       "1        NaN        NaN              D001714          1  \n",
       "4        NaN        NaN              D001714          1  \n",
       "5        NaN        NaN              D001714          1  \n",
       "8        NaN        NaN              D001714          1  \n",
       "9        NaN        NaN              D001714          1  "
      ]
     },
     "execution_count": 10,
     "metadata": {},
     "output_type": "execute_result"
    }
   ],
   "source": [
    "df_QC1 = df_pr1.loc[df_pr1['QC status'] == 1.0]\n",
    "df_phen_depr = df_QC1.loc[df_QC1['associated phenotype'] == 'D001714'] #bipolar\n",
    "df_phen_depr.head()"
   ]
  },
  {
   "cell_type": "code",
   "execution_count": 11,
   "id": "c141452d",
   "metadata": {},
   "outputs": [
    {
     "data": {
      "application/vnd.microsoft.datawrangler.viewer.v0+json": {
       "columns": [
        {
         "name": "index",
         "rawType": "object",
         "type": "string"
        },
        {
         "name": "run ID",
         "rawType": "object",
         "type": "unknown"
        }
       ],
       "ref": "0c4246a9-304a-4b56-b3c3-d1aeaf1abaff",
       "rows": [
        [
         "count",
         "91"
        ],
        [
         "unique",
         "91"
        ],
        [
         "top",
         "SRR7690036"
        ],
        [
         "freq",
         "1"
        ]
       ],
       "shape": {
        "columns": 1,
        "rows": 4
       }
      },
      "text/plain": [
       "count             91\n",
       "unique            91\n",
       "top       SRR7690036\n",
       "freq               1\n",
       "Name: run ID, dtype: object"
      ]
     },
     "execution_count": 11,
     "metadata": {},
     "output_type": "execute_result"
    }
   ],
   "source": [
    "df_runs = df_phen_depr['run ID']\n",
    "df_runs.describe()"
   ]
  },
  {
   "cell_type": "code",
   "execution_count": 12,
   "id": "80a6a442",
   "metadata": {},
   "outputs": [],
   "source": [
    "df_only_runs = pd.DataFrame({'Runs': df_runs.values})"
   ]
  },
  {
   "cell_type": "code",
   "execution_count": 13,
   "id": "d33b69c6",
   "metadata": {},
   "outputs": [],
   "source": [
    "\n",
    "for index, run_id in df_only_runs[\"Runs\"].items():\n",
    "    try:\n",
    "        query = {\"run_id\":run_id}  \n",
    "        url = 'https://gmrepo.humangut.info/api/getFullTaxonomicProfileByRunID'\n",
    "        data = requests.post(url, data=json.dumps(query)).json()\n",
    "\n",
    "        ## --get run List\n",
    "        run = data.get(\"run\")\n",
    "\n",
    "        ## --get DataFrames\n",
    "        species = DataFrame(data.get(\"species\"))\n",
    "        species = species.drop(columns = ['taxon_rank_level', 'relative_abundance']) #drop useless info\n",
    "\n",
    "        #species = species[species['ncbi_taxon_id'] != -1]   #drop missing taxons\n",
    "        flat = species.set_index('ncbi_taxon_id')['scientific_name'].T\n",
    "        flat = flat.rename_axis(None).to_frame().T\n",
    "        flat.insert(0, 'Run', run_id)\n",
    "        all_flattened_runs.append(species)\n",
    "    except Exception as e:\n",
    "        print(f\"Error processing run {run}: {e}\")\n"
   ]
  },
  {
   "cell_type": "code",
   "execution_count": 14,
   "id": "40676138",
   "metadata": {},
   "outputs": [],
   "source": [
    "final_df = pd.concat(all_flattened_runs, ignore_index=True)\n"
   ]
  },
  {
   "cell_type": "code",
   "execution_count": 15,
   "id": "8e5f98b0",
   "metadata": {},
   "outputs": [
    {
     "data": {
      "application/vnd.microsoft.datawrangler.viewer.v0+json": {
       "columns": [
        {
         "name": "index",
         "rawType": "int64",
         "type": "integer"
        },
        {
         "name": "ncbi_taxon_id",
         "rawType": "int64",
         "type": "integer"
        },
        {
         "name": "scientific_name",
         "rawType": "object",
         "type": "string"
        }
       ],
       "ref": "e558ce4e-d7f8-4cd4-9a4f-deacd466bca2",
       "rows": [
        [
         "0",
         "821",
         "Bacteroides vulgatus"
        ],
        [
         "1",
         "328813",
         "Alistipes onderdonkii"
        ],
        [
         "2",
         "823",
         "Parabacteroides distasonis"
        ],
        [
         "3",
         "817",
         "Bacteroides fragilis"
        ],
        [
         "4",
         "818",
         "Bacteroides thetaiotaomicron"
        ]
       ],
       "shape": {
        "columns": 2,
        "rows": 5
       }
      },
      "text/html": [
       "<div>\n",
       "<style scoped>\n",
       "    .dataframe tbody tr th:only-of-type {\n",
       "        vertical-align: middle;\n",
       "    }\n",
       "\n",
       "    .dataframe tbody tr th {\n",
       "        vertical-align: top;\n",
       "    }\n",
       "\n",
       "    .dataframe thead th {\n",
       "        text-align: right;\n",
       "    }\n",
       "</style>\n",
       "<table border=\"1\" class=\"dataframe\">\n",
       "  <thead>\n",
       "    <tr style=\"text-align: right;\">\n",
       "      <th></th>\n",
       "      <th>ncbi_taxon_id</th>\n",
       "      <th>scientific_name</th>\n",
       "    </tr>\n",
       "  </thead>\n",
       "  <tbody>\n",
       "    <tr>\n",
       "      <th>0</th>\n",
       "      <td>821</td>\n",
       "      <td>Bacteroides vulgatus</td>\n",
       "    </tr>\n",
       "    <tr>\n",
       "      <th>1</th>\n",
       "      <td>328813</td>\n",
       "      <td>Alistipes onderdonkii</td>\n",
       "    </tr>\n",
       "    <tr>\n",
       "      <th>2</th>\n",
       "      <td>823</td>\n",
       "      <td>Parabacteroides distasonis</td>\n",
       "    </tr>\n",
       "    <tr>\n",
       "      <th>3</th>\n",
       "      <td>817</td>\n",
       "      <td>Bacteroides fragilis</td>\n",
       "    </tr>\n",
       "    <tr>\n",
       "      <th>4</th>\n",
       "      <td>818</td>\n",
       "      <td>Bacteroides thetaiotaomicron</td>\n",
       "    </tr>\n",
       "  </tbody>\n",
       "</table>\n",
       "</div>"
      ],
      "text/plain": [
       "   ncbi_taxon_id               scientific_name\n",
       "0            821          Bacteroides vulgatus\n",
       "1         328813         Alistipes onderdonkii\n",
       "2            823    Parabacteroides distasonis\n",
       "3            817          Bacteroides fragilis\n",
       "4            818  Bacteroides thetaiotaomicron"
      ]
     },
     "execution_count": 15,
     "metadata": {},
     "output_type": "execute_result"
    }
   ],
   "source": [
    "final_df.head()"
   ]
  },
  {
   "cell_type": "code",
   "execution_count": 16,
   "id": "c10b1940",
   "metadata": {},
   "outputs": [],
   "source": [
    "df = final_df.drop_duplicates(subset='ncbi_taxon_id', keep='first')"
   ]
  },
  {
   "cell_type": "code",
   "execution_count": 17,
   "id": "6f9d98be",
   "metadata": {},
   "outputs": [
    {
     "data": {
      "application/vnd.microsoft.datawrangler.viewer.v0+json": {
       "columns": [
        {
         "name": "index",
         "rawType": "int64",
         "type": "integer"
        },
        {
         "name": "ncbi_taxon_id",
         "rawType": "int64",
         "type": "integer"
        },
        {
         "name": "scientific_name",
         "rawType": "object",
         "type": "string"
        }
       ],
       "ref": "22897168-d696-477d-a52f-06cff7ad8ec5",
       "rows": [
        [
         "0",
         "821",
         "Bacteroides vulgatus"
        ],
        [
         "1",
         "328813",
         "Alistipes onderdonkii"
        ],
        [
         "2",
         "823",
         "Parabacteroides distasonis"
        ],
        [
         "3",
         "817",
         "Bacteroides fragilis"
        ],
        [
         "4",
         "818",
         "Bacteroides thetaiotaomicron"
        ]
       ],
       "shape": {
        "columns": 2,
        "rows": 5
       }
      },
      "text/html": [
       "<div>\n",
       "<style scoped>\n",
       "    .dataframe tbody tr th:only-of-type {\n",
       "        vertical-align: middle;\n",
       "    }\n",
       "\n",
       "    .dataframe tbody tr th {\n",
       "        vertical-align: top;\n",
       "    }\n",
       "\n",
       "    .dataframe thead th {\n",
       "        text-align: right;\n",
       "    }\n",
       "</style>\n",
       "<table border=\"1\" class=\"dataframe\">\n",
       "  <thead>\n",
       "    <tr style=\"text-align: right;\">\n",
       "      <th></th>\n",
       "      <th>ncbi_taxon_id</th>\n",
       "      <th>scientific_name</th>\n",
       "    </tr>\n",
       "  </thead>\n",
       "  <tbody>\n",
       "    <tr>\n",
       "      <th>0</th>\n",
       "      <td>821</td>\n",
       "      <td>Bacteroides vulgatus</td>\n",
       "    </tr>\n",
       "    <tr>\n",
       "      <th>1</th>\n",
       "      <td>328813</td>\n",
       "      <td>Alistipes onderdonkii</td>\n",
       "    </tr>\n",
       "    <tr>\n",
       "      <th>2</th>\n",
       "      <td>823</td>\n",
       "      <td>Parabacteroides distasonis</td>\n",
       "    </tr>\n",
       "    <tr>\n",
       "      <th>3</th>\n",
       "      <td>817</td>\n",
       "      <td>Bacteroides fragilis</td>\n",
       "    </tr>\n",
       "    <tr>\n",
       "      <th>4</th>\n",
       "      <td>818</td>\n",
       "      <td>Bacteroides thetaiotaomicron</td>\n",
       "    </tr>\n",
       "  </tbody>\n",
       "</table>\n",
       "</div>"
      ],
      "text/plain": [
       "   ncbi_taxon_id               scientific_name\n",
       "0            821          Bacteroides vulgatus\n",
       "1         328813         Alistipes onderdonkii\n",
       "2            823    Parabacteroides distasonis\n",
       "3            817          Bacteroides fragilis\n",
       "4            818  Bacteroides thetaiotaomicron"
      ]
     },
     "execution_count": 17,
     "metadata": {},
     "output_type": "execute_result"
    }
   ],
   "source": [
    "df.head()"
   ]
  },
  {
   "cell_type": "code",
   "execution_count": 18,
   "id": "61899ab2",
   "metadata": {},
   "outputs": [],
   "source": [
    "from collections import Counter\n",
    "\n",
    "def features_in_k_arrays(arrays, k):\n",
    "    if not arrays:\n",
    "        return []\n",
    "\n",
    "    counter = Counter()\n",
    "    \n",
    "    for array in arrays:\n",
    "        unique_strings = set(array)  \n",
    "        counter.update(unique_strings)\n",
    "    \n",
    "    return [string for string, count in counter.items() if count >= k]"
   ]
  },
  {
   "cell_type": "code",
   "execution_count": 19,
   "id": "c78afb7f",
   "metadata": {},
   "outputs": [],
   "source": [
    "five_folds = ['29346', '232270', '634771', '255723', '392736', '1495', '736', '99807', '638619', '395922', '118967', '66219', '415956', '53972', '46867'] \n",
    "\n",
    "\n",
    "four_folds = ['29346', '626947', '232270', '634771', '255723', '1350067', '1655', '392736', '592978', '376805', '1495', '736', '58180', '589437', '339862', '99807', '638619', '36850', '395922', '40091', '118967', '66219', '415956', '53972', '46867', '1244', '156974', '78346', '1501', '831', '1692', '199', '1393'] \n",
    "\n",
    "\n",
    "three_folds = ['29346', '626947', '232270', '634771', '255723', '1350067', '1655', '392736', '592978', '305719', '376805', '1495', '33033', '736', '52769', '58180', '589437', '339862', '148814', '99807', '183', '332163', '638619', '36850', '395922', '40091', '43997', '118967', '66219', '415956', '53972', '1071880', '46867', '1536', '1244', '36849', '745368', '156974', '89014', '78346', '1501', '831', '1254', '1692', '199', '1580', '1393', '97084'] \n"
   ]
  },
  {
   "cell_type": "code",
   "execution_count": 20,
   "id": "f120c2bd",
   "metadata": {},
   "outputs": [],
   "source": [
    "five_folds_2 = ['183', '415956', '395922', '58180', '736', '29346', '634771', '339862', '314319', '745368', '392736', '36850', '53972', '831', '1350067', '255723', '86958', '1495', '40091', '66219', '99807', '232270', '156974', '1692', '36854', '376805'] \n",
    "\n",
    "\n",
    "four_folds_2 = ['183', '415956', '349096', '305719', '395922', '58180', '736', '29346', '1531', '634771', '339862', '314319', '745368', '392736', '36850', '53972', '831', '1350067', '255723', '86958', '1495', '40091', '66219', '99807', '232270', '156974', '1692', '36854', '376805', '1530', '85831', '89014', '1501', '118967'] \n",
    "\n",
    "\n",
    "three_folds_2 = ['183', '415956', '349096', '97084', '305719', '395922', '58180', '736', '29346', '89152', '1531', '634771', '339862', '314319', '1536', '745368', '392736', '36850', '53972', '831', '39488', '1350067', '255723', '86958', '1495', '40091', '66219', '99807', '232270', '371601', '156974', '1692', '36854', '376805', '1655', '1530', '85831', '199', '78346', '1596', '89014', '1393', '1501', '853', '118967', '216940', '332163'] \n"
   ]
  },
  {
   "cell_type": "code",
   "execution_count": 24,
   "id": "b6a52902",
   "metadata": {},
   "outputs": [
    {
     "data": {
      "application/vnd.microsoft.datawrangler.viewer.v0+json": {
       "columns": [
        {
         "name": "index",
         "rawType": "int64",
         "type": "integer"
        },
        {
         "name": "821",
         "rawType": "float64",
         "type": "float"
        },
        {
         "name": "328813",
         "rawType": "float64",
         "type": "float"
        },
        {
         "name": "823",
         "rawType": "float64",
         "type": "float"
        },
        {
         "name": "817",
         "rawType": "float64",
         "type": "float"
        },
        {
         "name": "818",
         "rawType": "float64",
         "type": "float"
        },
        {
         "name": "239935",
         "rawType": "float64",
         "type": "float"
        },
        {
         "name": "28116",
         "rawType": "float64",
         "type": "float"
        },
        {
         "name": "351091",
         "rawType": "float64",
         "type": "float"
        },
        {
         "name": "28118",
         "rawType": "float64",
         "type": "float"
        },
        {
         "name": "1161942",
         "rawType": "float64",
         "type": "float"
        },
        {
         "name": "1755626",
         "rawType": "float64",
         "type": "float"
        },
        {
         "name": "291645",
         "rawType": "float64",
         "type": "float"
        },
        {
         "name": "39485",
         "rawType": "float64",
         "type": "float"
        },
        {
         "name": "437898",
         "rawType": "float64",
         "type": "float"
        },
        {
         "name": "69825",
         "rawType": "float64",
         "type": "float"
        },
        {
         "name": "28117",
         "rawType": "float64",
         "type": "float"
        },
        {
         "name": "29370",
         "rawType": "float64",
         "type": "float"
        },
        {
         "name": "166486",
         "rawType": "float64",
         "type": "float"
        },
        {
         "name": "301301",
         "rawType": "float64",
         "type": "float"
        },
        {
         "name": "1465754",
         "rawType": "float64",
         "type": "float"
        },
        {
         "name": "39496",
         "rawType": "float64",
         "type": "float"
        },
        {
         "name": "44749",
         "rawType": "float64",
         "type": "float"
        },
        {
         "name": "84030",
         "rawType": "float64",
         "type": "float"
        },
        {
         "name": "169435",
         "rawType": "float64",
         "type": "float"
        },
        {
         "name": "1264",
         "rawType": "float64",
         "type": "float"
        },
        {
         "name": "208479",
         "rawType": "float64",
         "type": "float"
        },
        {
         "name": "29354",
         "rawType": "float64",
         "type": "float"
        },
        {
         "name": "100884",
         "rawType": "float64",
         "type": "float"
        },
        {
         "name": "28446",
         "rawType": "float64",
         "type": "float"
        },
        {
         "name": "36835",
         "rawType": "float64",
         "type": "float"
        },
        {
         "name": "626937",
         "rawType": "float64",
         "type": "float"
        },
        {
         "name": "371601",
         "rawType": "float64",
         "type": "float"
        },
        {
         "name": "536633",
         "rawType": "float64",
         "type": "float"
        },
        {
         "name": "1535",
         "rawType": "float64",
         "type": "float"
        },
        {
         "name": "115979",
         "rawType": "float64",
         "type": "float"
        },
        {
         "name": "358742",
         "rawType": "float64",
         "type": "float"
        },
        {
         "name": "39484",
         "rawType": "float64",
         "type": "float"
        },
        {
         "name": "1681",
         "rawType": "float64",
         "type": "float"
        },
        {
         "name": "1547",
         "rawType": "float64",
         "type": "float"
        },
        {
         "name": "143393",
         "rawType": "float64",
         "type": "float"
        },
        {
         "name": "1532",
         "rawType": "float64",
         "type": "float"
        },
        {
         "name": "52787",
         "rawType": "float64",
         "type": "float"
        },
        {
         "name": "261299",
         "rawType": "float64",
         "type": "float"
        },
        {
         "name": "204516",
         "rawType": "float64",
         "type": "float"
        },
        {
         "name": "1755607",
         "rawType": "float64",
         "type": "float"
        },
        {
         "name": "47678",
         "rawType": "float64",
         "type": "float"
        },
        {
         "name": "820",
         "rawType": "float64",
         "type": "float"
        },
        {
         "name": "1522",
         "rawType": "float64",
         "type": "float"
        },
        {
         "name": "165179",
         "rawType": "float64",
         "type": "float"
        },
        {
         "name": "376804",
         "rawType": "float64",
         "type": "float"
        },
        {
         "name": "40518",
         "rawType": "float64",
         "type": "float"
        },
        {
         "name": "1265",
         "rawType": "float64",
         "type": "float"
        },
        {
         "name": "626930",
         "rawType": "float64",
         "type": "float"
        },
        {
         "name": "650643",
         "rawType": "float64",
         "type": "float"
        },
        {
         "name": "357276",
         "rawType": "float64",
         "type": "float"
        },
        {
         "name": "84026",
         "rawType": "float64",
         "type": "float"
        },
        {
         "name": "671267",
         "rawType": "float64",
         "type": "float"
        },
        {
         "name": "36847",
         "rawType": "float64",
         "type": "float"
        },
        {
         "name": "46506",
         "rawType": "float64",
         "type": "float"
        },
        {
         "name": "246787",
         "rawType": "float64",
         "type": "float"
        },
        {
         "name": "61171",
         "rawType": "float64",
         "type": "float"
        },
        {
         "name": "392838",
         "rawType": "float64",
         "type": "float"
        },
        {
         "name": "1515",
         "rawType": "float64",
         "type": "float"
        },
        {
         "name": "100176",
         "rawType": "float64",
         "type": "float"
        },
        {
         "name": "40520",
         "rawType": "float64",
         "type": "float"
        },
        {
         "name": "328812",
         "rawType": "float64",
         "type": "float"
        },
        {
         "name": "338188",
         "rawType": "float64",
         "type": "float"
        },
        {
         "name": "35517",
         "rawType": "float64",
         "type": "float"
        },
        {
         "name": "487175",
         "rawType": "float64",
         "type": "float"
        },
        {
         "name": "29356",
         "rawType": "float64",
         "type": "float"
        },
        {
         "name": "29348",
         "rawType": "float64",
         "type": "float"
        },
        {
         "name": "122355",
         "rawType": "float64",
         "type": "float"
        },
        {
         "name": "876",
         "rawType": "float64",
         "type": "float"
        },
        {
         "name": "732242",
         "rawType": "float64",
         "type": "float"
        },
        {
         "name": "1512",
         "rawType": "float64",
         "type": "float"
        },
        {
         "name": "410072",
         "rawType": "float64",
         "type": "float"
        },
        {
         "name": "649724",
         "rawType": "float64",
         "type": "float"
        },
        {
         "name": "562",
         "rawType": "float64",
         "type": "float"
        },
        {
         "name": "106588",
         "rawType": "float64",
         "type": "float"
        },
        {
         "name": "28025",
         "rawType": "float64",
         "type": "float"
        },
        {
         "name": "1297750",
         "rawType": "float64",
         "type": "float"
        },
        {
         "name": "376806",
         "rawType": "float64",
         "type": "float"
        },
        {
         "name": "1404",
         "rawType": "float64",
         "type": "float"
        },
        {
         "name": "97253",
         "rawType": "float64",
         "type": "float"
        },
        {
         "name": "317",
         "rawType": "float64",
         "type": "float"
        },
        {
         "name": "397865",
         "rawType": "float64",
         "type": "float"
        },
        {
         "name": "591197",
         "rawType": "float64",
         "type": "float"
        },
        {
         "name": "287",
         "rawType": "float64",
         "type": "float"
        },
        {
         "name": "282125",
         "rawType": "float64",
         "type": "float"
        },
        {
         "name": "89152",
         "rawType": "float64",
         "type": "float"
        },
        {
         "name": "626932",
         "rawType": "float64",
         "type": "float"
        },
        {
         "name": "219748",
         "rawType": "float64",
         "type": "float"
        },
        {
         "name": "83661",
         "rawType": "float64",
         "type": "float"
        },
        {
         "name": "291644",
         "rawType": "float64",
         "type": "float"
        },
        {
         "name": "28112",
         "rawType": "float64",
         "type": "float"
        },
        {
         "name": "214856",
         "rawType": "float64",
         "type": "float"
        },
        {
         "name": "847",
         "rawType": "float64",
         "type": "float"
        },
        {
         "name": "310297",
         "rawType": "float64",
         "type": "float"
        },
        {
         "name": "33069",
         "rawType": "float64",
         "type": "float"
        },
        {
         "name": "151276",
         "rawType": "float64",
         "type": "float"
        },
        {
         "name": "1308",
         "rawType": "float64",
         "type": "float"
        },
        {
         "name": "29375",
         "rawType": "float64",
         "type": "float"
        },
        {
         "name": "28111",
         "rawType": "float64",
         "type": "float"
        },
        {
         "name": "28454",
         "rawType": "float64",
         "type": "float"
        },
        {
         "name": "1133319",
         "rawType": "float64",
         "type": "float"
        },
        {
         "name": "185300",
         "rawType": "float64",
         "type": "float"
        },
        {
         "name": "2173",
         "rawType": "float64",
         "type": "float"
        },
        {
         "name": "572036",
         "rawType": "float64",
         "type": "float"
        },
        {
         "name": "882211",
         "rawType": "float64",
         "type": "float"
        },
        {
         "name": "310298",
         "rawType": "float64",
         "type": "float"
        },
        {
         "name": "729",
         "rawType": "float64",
         "type": "float"
        },
        {
         "name": "328814",
         "rawType": "float64",
         "type": "float"
        },
        {
         "name": "1630",
         "rawType": "float64",
         "type": "float"
        },
        {
         "name": "294",
         "rawType": "float64",
         "type": "float"
        },
        {
         "name": "329854",
         "rawType": "float64",
         "type": "float"
        },
        {
         "name": "39492",
         "rawType": "float64",
         "type": "float"
        },
        {
         "name": "1303",
         "rawType": "float64",
         "type": "float"
        },
        {
         "name": "33039",
         "rawType": "float64",
         "type": "float"
        },
        {
         "name": "243924",
         "rawType": "float64",
         "type": "float"
        },
        {
         "name": "290053",
         "rawType": "float64",
         "type": "float"
        },
        {
         "name": "502558",
         "rawType": "float64",
         "type": "float"
        },
        {
         "name": "47880",
         "rawType": "float64",
         "type": "float"
        },
        {
         "name": "84032",
         "rawType": "float64",
         "type": "float"
        },
        {
         "name": "1260",
         "rawType": "float64",
         "type": "float"
        },
        {
         "name": "1304",
         "rawType": "float64",
         "type": "float"
        },
        {
         "name": "28037",
         "rawType": "float64",
         "type": "float"
        },
        {
         "name": "39486",
         "rawType": "float64",
         "type": "float"
        },
        {
         "name": "197614",
         "rawType": "float64",
         "type": "float"
        },
        {
         "name": "626931",
         "rawType": "float64",
         "type": "float"
        },
        {
         "name": "39490",
         "rawType": "float64",
         "type": "float"
        },
        {
         "name": "29524",
         "rawType": "float64",
         "type": "float"
        },
        {
         "name": "33035",
         "rawType": "float64",
         "type": "float"
        },
        {
         "name": "39778",
         "rawType": "float64",
         "type": "float"
        },
        {
         "name": "288965",
         "rawType": "float64",
         "type": "float"
        },
        {
         "name": "29466",
         "rawType": "float64",
         "type": "float"
        },
        {
         "name": "37734",
         "rawType": "float64",
         "type": "float"
        },
        {
         "name": "28127",
         "rawType": "float64",
         "type": "float"
        },
        {
         "name": "43675",
         "rawType": "float64",
         "type": "float"
        },
        {
         "name": "1352",
         "rawType": "float64",
         "type": "float"
        },
        {
         "name": "281920",
         "rawType": "float64",
         "type": "float"
        },
        {
         "name": "187327",
         "rawType": "float64",
         "type": "float"
        },
        {
         "name": "1267",
         "rawType": "float64",
         "type": "float"
        },
        {
         "name": "839",
         "rawType": "float64",
         "type": "float"
        },
        {
         "name": "290055",
         "rawType": "float64",
         "type": "float"
        },
        {
         "name": "155617",
         "rawType": "float64",
         "type": "float"
        },
        {
         "name": "1313",
         "rawType": "float64",
         "type": "float"
        },
        {
         "name": "1680",
         "rawType": "float64",
         "type": "float"
        },
        {
         "name": "33029",
         "rawType": "float64",
         "type": "float"
        },
        {
         "name": "35785",
         "rawType": "float64",
         "type": "float"
        },
        {
         "name": "1307",
         "rawType": "float64",
         "type": "float"
        },
        {
         "name": "1590",
         "rawType": "float64",
         "type": "float"
        },
        {
         "name": "387090",
         "rawType": "float64",
         "type": "float"
        },
        {
         "name": "1168034",
         "rawType": "float64",
         "type": "float"
        },
        {
         "name": "41976",
         "rawType": "float64",
         "type": "float"
        },
        {
         "name": "1177728",
         "rawType": "float64",
         "type": "float"
        },
        {
         "name": "871325",
         "rawType": "float64",
         "type": "float"
        },
        {
         "name": "39491",
         "rawType": "float64",
         "type": "float"
        },
        {
         "name": "28901",
         "rawType": "float64",
         "type": "float"
        },
        {
         "name": "28123",
         "rawType": "float64",
         "type": "float"
        },
        {
         "name": "1408",
         "rawType": "float64",
         "type": "float"
        },
        {
         "name": "990",
         "rawType": "float64",
         "type": "float"
        },
        {
         "name": "146817",
         "rawType": "float64",
         "type": "float"
        },
        {
         "name": "1113650",
         "rawType": "float64",
         "type": "float"
        },
        {
         "name": "33037",
         "rawType": "float64",
         "type": "float"
        },
        {
         "name": "1544",
         "rawType": "float64",
         "type": "float"
        },
        {
         "name": "1078480",
         "rawType": "float64",
         "type": "float"
        },
        {
         "name": "58138",
         "rawType": "float64",
         "type": "float"
        },
        {
         "name": "341225",
         "rawType": "float64",
         "type": "float"
        },
        {
         "name": "58172",
         "rawType": "float64",
         "type": "float"
        },
        {
         "name": "40324",
         "rawType": "float64",
         "type": "float"
        },
        {
         "name": "29347",
         "rawType": "float64",
         "type": "float"
        },
        {
         "name": "35519",
         "rawType": "float64",
         "type": "float"
        },
        {
         "name": "39497",
         "rawType": "float64",
         "type": "float"
        },
        {
         "name": "454154",
         "rawType": "float64",
         "type": "float"
        },
        {
         "name": "574375",
         "rawType": "float64",
         "type": "float"
        },
        {
         "name": "40519",
         "rawType": "float64",
         "type": "float"
        },
        {
         "name": "35833",
         "rawType": "float64",
         "type": "float"
        },
        {
         "name": "1559",
         "rawType": "float64",
         "type": "float"
        },
        {
         "name": "1520",
         "rawType": "float64",
         "type": "float"
        },
        {
         "name": "84031",
         "rawType": "float64",
         "type": "float"
        },
        {
         "name": "310300",
         "rawType": "float64",
         "type": "float"
        },
        {
         "name": "84109",
         "rawType": "float64",
         "type": "float"
        },
        {
         "name": "36874",
         "rawType": "float64",
         "type": "float"
        },
        {
         "name": "1736",
         "rawType": "float64",
         "type": "float"
        },
        {
         "name": "885581",
         "rawType": "float64",
         "type": "float"
        },
        {
         "name": "626935",
         "rawType": "float64",
         "type": "float"
        },
        {
         "name": "39488",
         "rawType": "float64",
         "type": "float"
        },
        {
         "name": "46228",
         "rawType": "float64",
         "type": "float"
        },
        {
         "name": "29363",
         "rawType": "float64",
         "type": "float"
        },
        {
         "name": "1502",
         "rawType": "float64",
         "type": "float"
        },
        {
         "name": "33043",
         "rawType": "float64",
         "type": "float"
        },
        {
         "name": "33038",
         "rawType": "float64",
         "type": "float"
        },
        {
         "name": "33953",
         "rawType": "float64",
         "type": "float"
        },
        {
         "name": "29360",
         "rawType": "float64",
         "type": "float"
        },
        {
         "name": "39493",
         "rawType": "float64",
         "type": "float"
        },
        {
         "name": "218538",
         "rawType": "float64",
         "type": "float"
        },
        {
         "name": "216816",
         "rawType": "float64",
         "type": "float"
        },
        {
         "name": "28130",
         "rawType": "float64",
         "type": "float"
        },
        {
         "name": "1685",
         "rawType": "float64",
         "type": "float"
        },
        {
         "name": "78342",
         "rawType": "float64",
         "type": "float"
        },
        {
         "name": "118748",
         "rawType": "float64",
         "type": "float"
        },
        {
         "name": "47246",
         "rawType": "float64",
         "type": "float"
        },
        {
         "name": "39483",
         "rawType": "float64",
         "type": "float"
        },
        {
         "name": "36745",
         "rawType": "float64",
         "type": "float"
        },
        {
         "name": "871324",
         "rawType": "float64",
         "type": "float"
        },
        {
         "name": "871327",
         "rawType": "float64",
         "type": "float"
        },
        {
         "name": "1646",
         "rawType": "float64",
         "type": "float"
        },
        {
         "name": "2052",
         "rawType": "float64",
         "type": "float"
        },
        {
         "name": "1504",
         "rawType": "float64",
         "type": "float"
        },
        {
         "name": "332249",
         "rawType": "float64",
         "type": "float"
        },
        {
         "name": "46503",
         "rawType": "float64",
         "type": "float"
        },
        {
         "name": "29355",
         "rawType": "float64",
         "type": "float"
        },
        {
         "name": "36854",
         "rawType": "float64",
         "type": "float"
        },
        {
         "name": "180164",
         "rawType": "float64",
         "type": "float"
        },
        {
         "name": "147207",
         "rawType": "float64",
         "type": "float"
        },
        {
         "name": "89153",
         "rawType": "float64",
         "type": "float"
        },
        {
         "name": "1510",
         "rawType": "float64",
         "type": "float"
        },
        {
         "name": "1527",
         "rawType": "float64",
         "type": "float"
        },
        {
         "name": "1428",
         "rawType": "float64",
         "type": "float"
        },
        {
         "name": "114702",
         "rawType": "float64",
         "type": "float"
        },
        {
         "name": "999468",
         "rawType": "float64",
         "type": "float"
        },
        {
         "name": "574930",
         "rawType": "float64",
         "type": "float"
        },
        {
         "name": "477666",
         "rawType": "float64",
         "type": "float"
        },
        {
         "name": "178214",
         "rawType": "float64",
         "type": "float"
        },
        {
         "name": "84112",
         "rawType": "float64",
         "type": "float"
        },
        {
         "name": "66851",
         "rawType": "float64",
         "type": "float"
        },
        {
         "name": "471189",
         "rawType": "float64",
         "type": "float"
        },
        {
         "name": "1358",
         "rawType": "float64",
         "type": "float"
        },
        {
         "name": "1280",
         "rawType": "float64",
         "type": "float"
        },
        {
         "name": "74426",
         "rawType": "float64",
         "type": "float"
        },
        {
         "name": "1114008",
         "rawType": "float64",
         "type": "float"
        },
        {
         "name": "387661",
         "rawType": "float64",
         "type": "float"
        },
        {
         "name": "28026",
         "rawType": "float64",
         "type": "float"
        },
        {
         "name": "645466",
         "rawType": "float64",
         "type": "float"
        },
        {
         "name": "28126",
         "rawType": "float64",
         "type": "float"
        },
        {
         "name": "76517",
         "rawType": "float64",
         "type": "float"
        },
        {
         "name": "1671366",
         "rawType": "float64",
         "type": "float"
        },
        {
         "name": "105841",
         "rawType": "float64",
         "type": "float"
        },
        {
         "name": "158787",
         "rawType": "float64",
         "type": "float"
        },
        {
         "name": "1686",
         "rawType": "float64",
         "type": "float"
        },
        {
         "name": "39482",
         "rawType": "float64",
         "type": "float"
        },
        {
         "name": "58134",
         "rawType": "float64",
         "type": "float"
        },
        {
         "name": "33032",
         "rawType": "float64",
         "type": "float"
        },
        {
         "name": "78448",
         "rawType": "float64",
         "type": "float"
        },
        {
         "name": "166501",
         "rawType": "float64",
         "type": "float"
        },
        {
         "name": "1506",
         "rawType": "float64",
         "type": "float"
        },
        {
         "name": "90730",
         "rawType": "float64",
         "type": "float"
        },
        {
         "name": "33031",
         "rawType": "float64",
         "type": "float"
        },
        {
         "name": "28135",
         "rawType": "float64",
         "type": "float"
        },
        {
         "name": "1071880",
         "rawType": "float64",
         "type": "float"
        },
        {
         "name": "312279",
         "rawType": "float64",
         "type": "float"
        },
        {
         "name": "167964",
         "rawType": "float64",
         "type": "float"
        },
        {
         "name": "69824",
         "rawType": "float64",
         "type": "float"
        },
        {
         "name": "35760",
         "rawType": "float64",
         "type": "float"
        },
        {
         "name": "1689",
         "rawType": "float64",
         "type": "float"
        },
        {
         "name": "61435",
         "rawType": "float64",
         "type": "float"
        },
        {
         "name": "43143",
         "rawType": "float64",
         "type": "float"
        },
        {
         "name": "106648",
         "rawType": "float64",
         "type": "float"
        },
        {
         "name": "2047",
         "rawType": "float64",
         "type": "float"
        },
        {
         "name": "589436",
         "rawType": "float64",
         "type": "float"
        },
        {
         "name": "189722",
         "rawType": "float64",
         "type": "float"
        },
        {
         "name": "1735",
         "rawType": "float64",
         "type": "float"
        },
        {
         "name": "356829",
         "rawType": "float64",
         "type": "float"
        },
        {
         "name": "28119",
         "rawType": "float64",
         "type": "float"
        },
        {
         "name": "2741",
         "rawType": "float64",
         "type": "float"
        },
        {
         "name": "52773",
         "rawType": "float64",
         "type": "float"
        },
        {
         "name": "31971",
         "rawType": "float64",
         "type": "float"
        },
        {
         "name": "78343",
         "rawType": "float64",
         "type": "float"
        },
        {
         "name": "582",
         "rawType": "float64",
         "type": "float"
        },
        {
         "name": "901",
         "rawType": "float64",
         "type": "float"
        },
        {
         "name": "881",
         "rawType": "float64",
         "type": "float"
        },
        {
         "name": "863643",
         "rawType": "float64",
         "type": "float"
        },
        {
         "name": "319644",
         "rawType": "float64",
         "type": "float"
        },
        {
         "name": "1725",
         "rawType": "float64",
         "type": "float"
        },
        {
         "name": "28128",
         "rawType": "float64",
         "type": "float"
        },
        {
         "name": "46206",
         "rawType": "float64",
         "type": "float"
        },
        {
         "name": "191493",
         "rawType": "float64",
         "type": "float"
        },
        {
         "name": "137732",
         "rawType": "float64",
         "type": "float"
        },
        {
         "name": "488",
         "rawType": "float64",
         "type": "float"
        },
        {
         "name": "1827099",
         "rawType": "float64",
         "type": "float"
        },
        {
         "name": "1563",
         "rawType": "float64",
         "type": "float"
        },
        {
         "name": "88431",
         "rawType": "float64",
         "type": "float"
        },
        {
         "name": "28132",
         "rawType": "float64",
         "type": "float"
        },
        {
         "name": "851",
         "rawType": "float64",
         "type": "float"
        },
        {
         "name": "483",
         "rawType": "float64",
         "type": "float"
        },
        {
         "name": "1487956",
         "rawType": "float64",
         "type": "float"
        },
        {
         "name": "860",
         "rawType": "float64",
         "type": "float"
        },
        {
         "name": "52769",
         "rawType": "float64",
         "type": "float"
        },
        {
         "name": "187145",
         "rawType": "float64",
         "type": "float"
        },
        {
         "name": "1747",
         "rawType": "float64",
         "type": "float"
        },
        {
         "name": "47770",
         "rawType": "float64",
         "type": "float"
        },
        {
         "name": "1582",
         "rawType": "float64",
         "type": "float"
        },
        {
         "name": "45851",
         "rawType": "float64",
         "type": "float"
        },
        {
         "name": "1282",
         "rawType": "float64",
         "type": "float"
        },
        {
         "name": "363832",
         "rawType": "float64",
         "type": "float"
        },
        {
         "name": "28136",
         "rawType": "float64",
         "type": "float"
        },
        {
         "name": "53374",
         "rawType": "float64",
         "type": "float"
        },
        {
         "name": "29317",
         "rawType": "float64",
         "type": "float"
        },
        {
         "name": "45254",
         "rawType": "float64",
         "type": "float"
        },
        {
         "name": "762211",
         "rawType": "float64",
         "type": "float"
        },
        {
         "name": "267818",
         "rawType": "float64",
         "type": "float"
        },
        {
         "name": "52561",
         "rawType": "float64",
         "type": "float"
        },
        {
         "name": "1519",
         "rawType": "float64",
         "type": "float"
        },
        {
         "name": "54911",
         "rawType": "float64",
         "type": "float"
        },
        {
         "name": "44742",
         "rawType": "float64",
         "type": "float"
        },
        {
         "name": "237258",
         "rawType": "float64",
         "type": "float"
        },
        {
         "name": "316",
         "rawType": "float64",
         "type": "float"
        },
        {
         "name": "1379",
         "rawType": "float64",
         "type": "float"
        },
        {
         "name": "1223514",
         "rawType": "float64",
         "type": "float"
        },
        {
         "name": "1755629",
         "rawType": "float64",
         "type": "float"
        },
        {
         "name": "762210",
         "rawType": "float64",
         "type": "float"
        },
        {
         "name": "270498",
         "rawType": "float64",
         "type": "float"
        },
        {
         "name": "28139",
         "rawType": "float64",
         "type": "float"
        },
        {
         "name": "28091",
         "rawType": "float64",
         "type": "float"
        },
        {
         "name": "1660",
         "rawType": "float64",
         "type": "float"
        },
        {
         "name": "470565",
         "rawType": "float64",
         "type": "float"
        },
        {
         "name": "1531",
         "rawType": "float64",
         "type": "float"
        },
        {
         "name": "467976",
         "rawType": "float64",
         "type": "float"
        },
        {
         "name": "584",
         "rawType": "float64",
         "type": "float"
        },
        {
         "name": "1311",
         "rawType": "float64",
         "type": "float"
        },
        {
         "name": "40214",
         "rawType": "float64",
         "type": "float"
        },
        {
         "name": "253245",
         "rawType": "float64",
         "type": "float"
        },
        {
         "name": "61635",
         "rawType": "float64",
         "type": "float"
        },
        {
         "name": "905",
         "rawType": "float64",
         "type": "float"
        },
        {
         "name": "1755610",
         "rawType": "float64",
         "type": "float"
        },
        {
         "name": "185293",
         "rawType": "float64",
         "type": "float"
        },
        {
         "name": "840",
         "rawType": "float64",
         "type": "float"
        },
        {
         "name": "228603",
         "rawType": "float64",
         "type": "float"
        },
        {
         "name": "454155",
         "rawType": "float64",
         "type": "float"
        },
        {
         "name": "43770",
         "rawType": "float64",
         "type": "float"
        },
        {
         "name": "341220",
         "rawType": "float64",
         "type": "float"
        },
        {
         "name": "136857",
         "rawType": "float64",
         "type": "float"
        },
        {
         "name": "39777",
         "rawType": "float64",
         "type": "float"
        },
        {
         "name": "1727",
         "rawType": "float64",
         "type": "float"
        },
        {
         "name": "1309",
         "rawType": "float64",
         "type": "float"
        },
        {
         "name": "29389",
         "rawType": "float64",
         "type": "float"
        },
        {
         "name": "43131",
         "rawType": "float64",
         "type": "float"
        },
        {
         "name": "1349",
         "rawType": "float64",
         "type": "float"
        },
        {
         "name": "1328",
         "rawType": "float64",
         "type": "float"
        },
        {
         "name": "358743",
         "rawType": "float64",
         "type": "float"
        },
        {
         "name": "1338",
         "rawType": "float64",
         "type": "float"
        },
        {
         "name": "1655",
         "rawType": "float64",
         "type": "float"
        },
        {
         "name": "29552",
         "rawType": "float64",
         "type": "float"
        },
        {
         "name": "38986",
         "rawType": "float64",
         "type": "float"
        },
        {
         "name": "1539",
         "rawType": "float64",
         "type": "float"
        },
        {
         "name": "386414",
         "rawType": "float64",
         "type": "float"
        },
        {
         "name": "184870",
         "rawType": "float64",
         "type": "float"
        },
        {
         "name": "48256",
         "rawType": "float64",
         "type": "float"
        },
        {
         "name": "309120",
         "rawType": "float64",
         "type": "float"
        },
        {
         "name": "53443",
         "rawType": "float64",
         "type": "float"
        },
        {
         "name": "54006",
         "rawType": "float64",
         "type": "float"
        },
        {
         "name": "38304",
         "rawType": "float64",
         "type": "float"
        },
        {
         "name": "1491",
         "rawType": "float64",
         "type": "float"
        },
        {
         "name": "214853",
         "rawType": "float64",
         "type": "float"
        },
        {
         "name": "2736",
         "rawType": "float64",
         "type": "float"
        },
        {
         "name": "884684",
         "rawType": "float64",
         "type": "float"
        },
        {
         "name": "1121298",
         "rawType": "float64",
         "type": "float"
        },
        {
         "name": "28137",
         "rawType": "float64",
         "type": "float"
        },
        {
         "name": "47715",
         "rawType": "float64",
         "type": "float"
        },
        {
         "name": "1584",
         "rawType": "float64",
         "type": "float"
        },
        {
         "name": "691816",
         "rawType": "float64",
         "type": "float"
        },
        {
         "name": "36834",
         "rawType": "float64",
         "type": "float"
        },
        {
         "name": "1507",
         "rawType": "float64",
         "type": "float"
        },
        {
         "name": "133453",
         "rawType": "float64",
         "type": "float"
        },
        {
         "name": "552810",
         "rawType": "float64",
         "type": "float"
        },
        {
         "name": "1492",
         "rawType": "float64",
         "type": "float"
        },
        {
         "name": "28129",
         "rawType": "float64",
         "type": "float"
        },
        {
         "name": "282402",
         "rawType": "float64",
         "type": "float"
        },
        {
         "name": "185294",
         "rawType": "float64",
         "type": "float"
        },
        {
         "name": "77095",
         "rawType": "float64",
         "type": "float"
        },
        {
         "name": "35825",
         "rawType": "float64",
         "type": "float"
        },
        {
         "name": "228604",
         "rawType": "float64",
         "type": "float"
        },
        {
         "name": "28125",
         "rawType": "float64",
         "type": "float"
        },
        {
         "name": "1382",
         "rawType": "float64",
         "type": "float"
        },
        {
         "name": "1364",
         "rawType": "float64",
         "type": "float"
        },
        {
         "name": "363277",
         "rawType": "float64",
         "type": "float"
        },
        {
         "name": "1648",
         "rawType": "float64",
         "type": "float"
        },
        {
         "name": "28161",
         "rawType": "float64",
         "type": "float"
        },
        {
         "name": "1597",
         "rawType": "float64",
         "type": "float"
        },
        {
         "name": "28134",
         "rawType": "float64",
         "type": "float"
        },
        {
         "name": "907",
         "rawType": "float64",
         "type": "float"
        },
        {
         "name": "39950",
         "rawType": "float64",
         "type": "float"
        },
        {
         "name": "33034",
         "rawType": "float64",
         "type": "float"
        },
        {
         "name": "341694",
         "rawType": "float64",
         "type": "float"
        },
        {
         "name": "114527",
         "rawType": "float64",
         "type": "float"
        },
        {
         "name": "827",
         "rawType": "float64",
         "type": "float"
        },
        {
         "name": "1258",
         "rawType": "float64",
         "type": "float"
        },
        {
         "name": "1859291",
         "rawType": "float64",
         "type": "float"
        },
        {
         "name": "701529",
         "rawType": "float64",
         "type": "float"
        },
        {
         "name": "242750",
         "rawType": "float64",
         "type": "float"
        },
        {
         "name": "38286",
         "rawType": "float64",
         "type": "float"
        },
        {
         "name": "633701",
         "rawType": "float64",
         "type": "float"
        },
        {
         "name": "39029",
         "rawType": "float64",
         "type": "float"
        },
        {
         "name": "1623",
         "rawType": "float64",
         "type": "float"
        },
        {
         "name": "472113",
         "rawType": "float64",
         "type": "float"
        },
        {
         "name": "48467",
         "rawType": "float64",
         "type": "float"
        },
        {
         "name": "1659",
         "rawType": "float64",
         "type": "float"
        },
        {
         "name": "133926",
         "rawType": "float64",
         "type": "float"
        },
        {
         "name": "1254",
         "rawType": "float64",
         "type": "float"
        },
        {
         "name": "102684",
         "rawType": "float64",
         "type": "float"
        },
        {
         "name": "1134405",
         "rawType": "float64",
         "type": "float"
        },
        {
         "name": "46124",
         "rawType": "float64",
         "type": "float"
        },
        {
         "name": "77768",
         "rawType": "float64",
         "type": "float"
        },
        {
         "name": "42256",
         "rawType": "float64",
         "type": "float"
        },
        {
         "name": "982",
         "rawType": "float64",
         "type": "float"
        },
        {
         "name": "33905",
         "rawType": "float64",
         "type": "float"
        },
        {
         "name": "461876",
         "rawType": "float64",
         "type": "float"
        },
        {
         "name": "831",
         "rawType": "float64",
         "type": "float"
        },
        {
         "name": "2088",
         "rawType": "float64",
         "type": "float"
        },
        {
         "name": "43997",
         "rawType": "float64",
         "type": "float"
        },
        {
         "name": "264463",
         "rawType": "float64",
         "type": "float"
        },
        {
         "name": "66219",
         "rawType": "float64",
         "type": "float"
        },
        {
         "name": "1541",
         "rawType": "float64",
         "type": "float"
        },
        {
         "name": "86664",
         "rawType": "float64",
         "type": "float"
        },
        {
         "name": "1336",
         "rawType": "float64",
         "type": "float"
        },
        {
         "name": "52226",
         "rawType": "float64",
         "type": "float"
        },
        {
         "name": "1402",
         "rawType": "float64",
         "type": "float"
        },
        {
         "name": "626933",
         "rawType": "float64",
         "type": "float"
        },
        {
         "name": "1599",
         "rawType": "float64",
         "type": "float"
        },
        {
         "name": "1566358",
         "rawType": "float64",
         "type": "float"
        },
        {
         "name": "762212",
         "rawType": "float64",
         "type": "float"
        },
        {
         "name": "78344",
         "rawType": "float64",
         "type": "float"
        },
        {
         "name": "1691",
         "rawType": "float64",
         "type": "float"
        },
        {
         "name": "332163",
         "rawType": "float64",
         "type": "float"
        },
        {
         "name": "1343",
         "rawType": "float64",
         "type": "float"
        },
        {
         "name": "1598",
         "rawType": "float64",
         "type": "float"
        },
        {
         "name": "1694",
         "rawType": "float64",
         "type": "float"
        },
        {
         "name": "983706",
         "rawType": "float64",
         "type": "float"
        },
        {
         "name": "78257",
         "rawType": "float64",
         "type": "float"
        },
        {
         "name": "253239",
         "rawType": "float64",
         "type": "float"
        },
        {
         "name": "38284",
         "rawType": "float64",
         "type": "float"
        },
        {
         "name": "467210",
         "rawType": "float64",
         "type": "float"
        },
        {
         "name": "1114067",
         "rawType": "float64",
         "type": "float"
        },
        {
         "name": "151781",
         "rawType": "float64",
         "type": "float"
        },
        {
         "name": "1684",
         "rawType": "float64",
         "type": "float"
        },
        {
         "name": "166485",
         "rawType": "float64",
         "type": "float"
        },
        {
         "name": "446660",
         "rawType": "float64",
         "type": "float"
        },
        {
         "name": "508460",
         "rawType": "float64",
         "type": "float"
        },
        {
         "name": "294710",
         "rawType": "float64",
         "type": "float"
        },
        {
         "name": "138595",
         "rawType": "float64",
         "type": "float"
        },
        {
         "name": "853",
         "rawType": "float64",
         "type": "float"
        },
        {
         "name": "85831",
         "rawType": "float64",
         "type": "float"
        },
        {
         "name": "544645",
         "rawType": "float64",
         "type": "float"
        },
        {
         "name": "89014",
         "rawType": "float64",
         "type": "float"
        },
        {
         "name": "214858",
         "rawType": "float64",
         "type": "float"
        },
        {
         "name": "28114",
         "rawType": "float64",
         "type": "float"
        },
        {
         "name": "727",
         "rawType": "float64",
         "type": "float"
        },
        {
         "name": "755171",
         "rawType": "float64",
         "type": "float"
        },
        {
         "name": "180311",
         "rawType": "float64",
         "type": "float"
        },
        {
         "name": "308994",
         "rawType": "float64",
         "type": "float"
        },
        {
         "name": "1322",
         "rawType": "float64",
         "type": "float"
        },
        {
         "name": "745368",
         "rawType": "float64",
         "type": "float"
        },
        {
         "name": "78345",
         "rawType": "float64",
         "type": "float"
        },
        {
         "name": "360807",
         "rawType": "float64",
         "type": "float"
        },
        {
         "name": "301302",
         "rawType": "float64",
         "type": "float"
        },
        {
         "name": "392412",
         "rawType": "float64",
         "type": "float"
        },
        {
         "name": "54005",
         "rawType": "float64",
         "type": "float"
        },
        {
         "name": "1530",
         "rawType": "float64",
         "type": "float"
        },
        {
         "name": "46867",
         "rawType": "float64",
         "type": "float"
        },
        {
         "name": "1501",
         "rawType": "float64",
         "type": "float"
        },
        {
         "name": "395922",
         "rawType": "float64",
         "type": "float"
        },
        {
         "name": "1536",
         "rawType": "float64",
         "type": "float"
        },
        {
         "name": "99807",
         "rawType": "float64",
         "type": "float"
        },
        {
         "name": "255723",
         "rawType": "float64",
         "type": "float"
        },
        {
         "name": "1350067",
         "rawType": "float64",
         "type": "float"
        },
        {
         "name": "1077256",
         "rawType": "float64",
         "type": "float"
        },
        {
         "name": "59310",
         "rawType": "float64",
         "type": "float"
        },
        {
         "name": "37930",
         "rawType": "float64",
         "type": "float"
        },
        {
         "name": "314319",
         "rawType": "float64",
         "type": "float"
        },
        {
         "name": "736",
         "rawType": "float64",
         "type": "float"
        },
        {
         "name": "36850",
         "rawType": "float64",
         "type": "float"
        },
        {
         "name": "216940",
         "rawType": "float64",
         "type": "float"
        },
        {
         "name": "1495",
         "rawType": "float64",
         "type": "float"
        },
        {
         "name": "1580",
         "rawType": "float64",
         "type": "float"
        },
        {
         "name": "29385",
         "rawType": "float64",
         "type": "float"
        },
        {
         "name": "38289",
         "rawType": "float64",
         "type": "float"
        },
        {
         "name": "38303",
         "rawType": "float64",
         "type": "float"
        },
        {
         "name": "53972",
         "rawType": "float64",
         "type": "float"
        },
        {
         "name": "1113741",
         "rawType": "float64",
         "type": "float"
        },
        {
         "name": "2137",
         "rawType": "float64",
         "type": "float"
        },
        {
         "name": "216947",
         "rawType": "float64",
         "type": "float"
        },
        {
         "name": "634771",
         "rawType": "float64",
         "type": "float"
        },
        {
         "name": "384638",
         "rawType": "float64",
         "type": "float"
        },
        {
         "name": "118967",
         "rawType": "float64",
         "type": "float"
        },
        {
         "name": "148814",
         "rawType": "float64",
         "type": "float"
        },
        {
         "name": "339862",
         "rawType": "float64",
         "type": "float"
        },
        {
         "name": "392736",
         "rawType": "float64",
         "type": "float"
        },
        {
         "name": "415956",
         "rawType": "float64",
         "type": "float"
        },
        {
         "name": "33033",
         "rawType": "float64",
         "type": "float"
        },
        {
         "name": "726",
         "rawType": "float64",
         "type": "float"
        },
        {
         "name": "103892",
         "rawType": "float64",
         "type": "float"
        },
        {
         "name": "157692",
         "rawType": "float64",
         "type": "float"
        },
        {
         "name": "652716",
         "rawType": "float64",
         "type": "float"
        },
        {
         "name": "232270",
         "rawType": "float64",
         "type": "float"
        },
        {
         "name": "1718",
         "rawType": "float64",
         "type": "float"
        },
        {
         "name": "376805",
         "rawType": "float64",
         "type": "float"
        },
        {
         "name": "156974",
         "rawType": "float64",
         "type": "float"
        },
        {
         "name": "97084",
         "rawType": "float64",
         "type": "float"
        },
        {
         "name": "29367",
         "rawType": "float64",
         "type": "float"
        },
        {
         "name": "589437",
         "rawType": "float64",
         "type": "float"
        },
        {
         "name": "28131",
         "rawType": "float64",
         "type": "float"
        },
        {
         "name": "1692",
         "rawType": "float64",
         "type": "float"
        },
        {
         "name": "36849",
         "rawType": "float64",
         "type": "float"
        },
        {
         "name": "68274",
         "rawType": "float64",
         "type": "float"
        },
        {
         "name": "40091",
         "rawType": "float64",
         "type": "float"
        },
        {
         "name": "1393",
         "rawType": "float64",
         "type": "float"
        },
        {
         "name": "28133",
         "rawType": "float64",
         "type": "float"
        },
        {
         "name": "305719",
         "rawType": "float64",
         "type": "float"
        },
        {
         "name": "183",
         "rawType": "float64",
         "type": "float"
        },
        {
         "name": "58180",
         "rawType": "float64",
         "type": "float"
        },
        {
         "name": "29346",
         "rawType": "float64",
         "type": "float"
        },
        {
         "name": "349096",
         "rawType": "float64",
         "type": "float"
        },
        {
         "name": "199",
         "rawType": "float64",
         "type": "float"
        },
        {
         "name": "425941",
         "rawType": "float64",
         "type": "float"
        },
        {
         "name": "394340",
         "rawType": "float64",
         "type": "float"
        },
        {
         "name": "103621",
         "rawType": "float64",
         "type": "float"
        },
        {
         "name": "1596",
         "rawType": "float64",
         "type": "float"
        },
        {
         "name": "638619",
         "rawType": "float64",
         "type": "float"
        },
        {
         "name": "1244",
         "rawType": "float64",
         "type": "float"
        },
        {
         "name": "78346",
         "rawType": "float64",
         "type": "float"
        },
        {
         "name": "592978",
         "rawType": "float64",
         "type": "float"
        },
        {
         "name": "86958",
         "rawType": "float64",
         "type": "float"
        },
        {
         "name": "626947",
         "rawType": "float64",
         "type": "float"
        },
        {
         "name": "bipolar",
         "rawType": "float64",
         "type": "float"
        },
        {
         "name": "Bipolar",
         "rawType": "float64",
         "type": "float"
        }
       ],
       "ref": "17bfda88-efcd-490a-a357-f88ae846ccb6",
       "rows": [
        [
         "0",
         "0.148811523978777",
         "0.0011939643294465",
         "0.0034733493995453",
         "0.0061869107182324",
         "0.0153044623590954",
         "0.0057527325762328",
         "0.0424400566118539",
         "0.054054052099235",
         "0.0092261009098911",
         "0.0002170852841772",
         "0.1797460775699395",
         "0.0028220916536023",
         "0.0613264555077486",
         "0.0033648190646301",
         "0.0109627756096637",
         "0.0096602601177778",
         "0.0005427122637374",
         "0.0077065058140618",
         "0.0215998466099046",
         "0.0008683373498863",
         "0.0047758648914312",
         "0.0037989782725168",
         "0.0033648190646301",
         "0.0021708528417722",
         "0.0164984285819533",
         "0.0009768809386805",
         "0.0",
         "0.0",
         "0.0069466987990907",
         "0.0016281348978009",
         "0.0002170852841772",
         "0.0005427122637374",
         "0.0067296191951473",
         "0.0015195913090067",
         "0.0",
         "0.0001085422634063",
         "0.0028220916536023",
         "0.0",
         "0.0",
         "0.0",
         "0.0",
         "0.0006512539591203",
         "0.0",
         "0.0278954391359552",
         "0.0003256269795601",
         "0.0067296191951473",
         "0.047975633847692",
         "0.0",
         "0.0",
         "0.0",
         "0.0081406650219485",
         "0.0004341686749431",
         "0.0007597956545033",
         "0.0",
         "0.0005427122637374",
         "0.0008683373498863",
         "0.0003256269795601",
         "0.0041246071454883",
         "0.0224681650256781",
         "0.0347334939954535",
         "0.0005427122637374",
         "0.0001085422634063",
         "0.0064039903221758",
         "0.0002170852841772",
         "0.0199717022450472",
         "0.0004341686749431",
         "0.0001085422634063",
         "0.0002170852841772",
         "0.0003256269795601",
         "0.0",
         "0.0027135613186871",
         "0.0001085422634063",
         "0.0",
         "0.0",
         "0.0002170852841772",
         "0.0081406650219485",
         "0.0",
         "0.0",
         "0.0",
         "0.0",
         "0.0",
         "0.0",
         "0.0001085422634063",
         "0.0002170852841772",
         "0.0",
         "0.0005427122637374",
         "0.0",
         "0.0",
         "0.0",
         "0.0",
         "0.0006512539591203",
         "0.0",
         "0.0",
         "0.0",
         "0.0",
         "0.0024964627806309",
         "0.0001085422634063",
         "0.0",
         "0.0",
         "0.0001085422634063",
         "0.0018452182885669",
         "0.0009768809386805",
         "0.0001085422634063",
         "0.0",
         "0.0",
         "0.0",
         "0.0",
         "0.0",
         "0.0",
         "0.0",
         "0.0",
         "0.0057527325762328",
         "0.0001085422634063",
         "0.0014110496136237",
         "0.0031477205265738",
         "0.0589384851938072",
         "0.0004341686749431",
         "0.0007597956545033",
         "0.0",
         "0.0",
         "0.0",
         "0.0",
         "0.0001085422634063",
         "0.0",
         "0.0",
         "0.0004341686749431",
         "0.0055356529722895",
         "0.0",
         "0.0",
         "0.0034733493995453",
         "0.0",
         "0.0013025079182407",
         "0.0003256269795601",
         "0.0218170208844123",
         "0.0",
         "0.0001085422634063",
         "0.0",
         "0.0001085422634063",
         "0.0",
         "0.0",
         "0.0009768809386805",
         "0.0018452182885669",
         "0.0",
         "0.0010854226340635",
         "0.0",
         "0.0",
         "0.0014110496136237",
         "0.0",
         "0.0004341686749431",
         "0.0002170852841772",
         "0.0",
         "0.0",
         "0.0001085422634063",
         "0.0032562697956019",
         "0.0",
         "0.0001085422634063",
         "0.0001085422634063",
         "0.0003256269795601",
         "0.0",
         "0.0",
         "0.0",
         "0.0002170852841772",
         "0.0",
         "0.0",
         "0.0002170852841772",
         "0.0",
         "0.0",
         "0.0001085422634063",
         "0.0",
         "0.0",
         "0.0",
         "0.0",
         "0.0090090023718348",
         "0.0001085422634063",
         "0.0",
         "0.0074894072760055",
         "0.0004341686749431",
         "0.0",
         "0.0",
         "0.0",
         "0.0",
         "0.0",
         "0.0",
         "0.0",
         "0.0",
         "0.0",
         "0.0",
         "0.0009768809386805",
         "0.0",
         "0.0",
         "0.0030391901916586",
         "0.0001085422634063",
         "0.0005427122637374",
         "0.0",
         "0.0",
         "0.0",
         "0.0014110496136237",
         "0.0",
         "0.0009768809386805",
         "0.0001085422634063",
         "0.0",
         "0.0",
         "0.0",
         "0.0",
         "0.0",
         "0.0",
         "0.0",
         "0.0",
         "0.0",
         "0.0",
         "0.0053185733683461",
         "0.0004341686749431",
         "0.0",
         "0.0002170852841772",
         "0.0",
         "0.0",
         "0.0001085422634063",
         "0.0",
         "0.0",
         "0.0",
         "0.0",
         "0.0",
         "0.0",
         "0.0",
         "0.0",
         "0.0",
         "0.0",
         "0.0007597956545033",
         "0.0",
         "0.0",
         "0.0",
         "0.0",
         "0.0",
         "0.0005427122637374",
         "0.0001085422634063",
         "0.0",
         "0.0",
         "0.0002170852841772",
         "0.0",
         "0.0",
         "0.0002170852841772",
         "0.0",
         "0.0",
         "0.0",
         "0.0001085422634063",
         "0.0004341686749431",
         "0.0",
         "0.0",
         "0.0",
         "0.0",
         "0.0",
         "0.0",
         "0.0",
         "0.0001085422634063",
         "0.0",
         "0.0001085422634063",
         "0.0",
         "0.0001085422634063",
         "0.0",
         "0.0",
         "0.0001085422634063",
         "0.0006512539591203",
         "0.0",
         "0.0",
         "0.0004341686749431",
         "0.0",
         "0.0",
         "0.0001085422634063",
         "0.0",
         "0.0",
         "0.0",
         "0.0",
         "0.0",
         "0.0",
         "0.0",
         "0.0",
         "0.0",
         "0.0003256269795601",
         "0.0",
         "0.0",
         "0.0",
         "0.0",
         "0.0",
         "0.0",
         "0.0",
         "0.0",
         "0.0",
         "0.0",
         "0.0001085422634063",
         "0.0",
         "0.0001085422634063",
         "0.0",
         "0.0072723276720622",
         "0.0",
         "0.0",
         "0.0",
         "0.0",
         "0.0",
         "0.0",
         "0.0",
         "0.0",
         "0.0",
         "0.0",
         "0.0",
         "0.0",
         "0.0",
         "0.0",
         "0.0001085422634063",
         "0.0",
         "0.0020623035727441",
         "0.0002170852841772",
         "0.0",
         "0.0",
         "0.0",
         "0.0",
         "0.0",
         "0.0",
         "0.0",
         "0.0",
         "0.0",
         "0.0",
         "0.0",
         "0.0",
         "0.0001085422634063",
         "0.0",
         "0.0",
         "0.0",
         "0.0",
         "0.0",
         "0.0",
         "0.0",
         "0.0",
         "0.0",
         "0.0",
         "0.0",
         "0.0",
         "0.0",
         "0.0",
         "0.0",
         "0.0",
         "0.0",
         "0.0",
         "0.0",
         "0.0",
         "0.0001085422634063",
         "0.0",
         "0.0",
         "0.0",
         "0.0",
         "0.0003256269795601",
         "0.0",
         "0.0",
         "0.0",
         "0.0",
         "0.0",
         "0.0",
         "0.0",
         "0.0",
         "0.0",
         "0.0",
         "0.0",
         "0.0",
         "0.0001085422634063",
         "0.0",
         "0.0001085422634063",
         "0.0",
         "0.0",
         "0.0",
         "0.0",
         "0.0",
         "0.0",
         "0.0",
         "0.0",
         "0.0",
         "0.0",
         "0.0",
         "0.0",
         "0.0",
         "0.0",
         "0.0",
         "0.0",
         "0.0002170852841772",
         "0.0",
         "0.0",
         "0.0",
         "0.0",
         "0.0",
         "0.0",
         "0.0",
         "0.0",
         "0.0",
         "0.0",
         "0.0",
         "0.0",
         "0.0",
         "0.0",
         "0.0",
         "0.0001085422634063",
         "0.0",
         "0.0",
         "0.0",
         "0.0",
         "0.0",
         "0.0001085422634063",
         "0.0",
         "0.0",
         "0.0",
         "0.0",
         "0.0",
         "0.0",
         "0.0",
         "0.0",
         "0.0",
         "0.0",
         "0.0",
         "0.0",
         "0.0",
         "0.0",
         "0.0",
         "0.0",
         "0.0",
         "0.0",
         "0.0",
         "0.0",
         "0.0",
         "0.0",
         "0.0",
         "0.0",
         "0.0",
         "0.0",
         "0.0",
         "0.0",
         "0.0",
         "0.0",
         "0.0",
         "0.0001085422634063",
         "0.0",
         "0.0",
         "0.0",
         "0.0",
         "0.0",
         "0.0",
         "0.0",
         "0.0",
         "0.0",
         "0.0",
         "0.0",
         "0.0",
         "0.0",
         "0.0",
         "0.0",
         "0.0",
         "0.0",
         "0.0",
         "0.0",
         "0.0",
         "0.0",
         "0.0",
         "0.0",
         "0.0",
         "0.0",
         "0.0",
         "0.0",
         "0.0",
         "0.0",
         "0.0",
         "0.0",
         "0.0",
         "0.0",
         "0.0",
         "0.0",
         "0.0",
         "0.0",
         "0.0",
         "0.0",
         "0.0",
         "0.0",
         "0.0",
         "0.0",
         "0.0",
         "0.0",
         "0.0",
         "0.0",
         "0.0",
         "0.0",
         "0.0",
         "0.0",
         "0.0",
         "0.0",
         "0.0",
         "0.0",
         "0.0",
         "0.0",
         "0.0",
         "0.0",
         "0.0",
         "0.0",
         "0.0",
         "0.0",
         "0.0",
         "0.0",
         "0.0",
         "0.0",
         "0.0",
         "0.0",
         "0.0",
         "0.0",
         "0.0",
         "0.0",
         "0.0",
         "0.0",
         "0.0",
         "0.0",
         "0.0",
         "0.0",
         "0.0",
         "0.0",
         "0.0",
         "0.0",
         "0.0",
         "0.0",
         "0.0",
         "0.0",
         "0.0",
         "0.0"
        ],
        [
         "1",
         "0.0978445905792687",
         "0.0087067353919354",
         "0.0131131912704258",
         "0.0",
         "0.0046188086085812",
         "0.0115204960750698",
         "0.0124230200377932",
         "0.0561690621574798",
         "0.001592695195356",
         "0.0024952191580794",
         "0.2736782196980531",
         "0.0004778085586068",
         "0.0082289168893936",
         "0.0",
         "0.0071140401965793",
         "0.0247398885703783",
         "0.0007432569291715",
         "0.0006370780781424",
         "0.0013272418528238",
         "0.0014865188303105",
         "0.0080165641593028",
         "0.0108834130249599",
         "0.0049373501336362",
         "0.0028137606831343",
         "0.0002654496135566",
         "0.0016988715604014",
         "0.0",
         "0.0001061795968242",
         "0.0016988715604014",
         "0.0001061795968242",
         "0.0013272418528238",
         "5.3089798412138655e-05",
         "0.0156614488913534",
         "0.006370780781424",
         "5.3089798412138655e-05",
         "0.0",
         "0.0173603701714294",
         "0.0",
         "0.0013272418528238",
         "0.0010087065427281",
         "0.0018050479254468",
         "0.0003185390390712",
         "0.0014334306477878",
         "0.0090783526695944",
         "0.0001061795968242",
         "0.0019643249029336",
         "0.0319069796597245",
         "5.3089798412138655e-05",
         "5.3089798412138655e-05",
         "5.3089798412138655e-05",
         "0.0014334306477878",
         "0.0006370780781424",
         "0.0001592695195356",
         "5.3089798412138655e-05",
         "0.0003716284645857",
         "0.0004778085586068",
         "0.0001061795968242",
         "0.0010617959682427",
         "0.0001592695195356",
         "0.0061584156214145",
         "0.0005308979841213",
         "0.0",
         "0.0142811064260882",
         "0.0",
         "0.0193246702145258",
         "0.0012210654877783",
         "0.0",
         "0.0",
         "0.003185390390712",
         "0.0",
         "0.0030792140256666",
         "0.0",
         "0.0",
         "5.3089798412138655e-05",
         "0.0013272418528238",
         "0.0",
         "0.0",
         "0.0",
         "0.0",
         "0.0",
         "0.0",
         "5.3089798412138655e-05",
         "0.0004247191330922",
         "0.0001061795968242",
         "0.0",
         "0.0029199370481798",
         "0.0001592695195356",
         "0.0",
         "0.0",
         "0.0",
         "0.0028668488656571",
         "0.0",
         "5.3089798412138655e-05",
         "0.0",
         "0.0",
         "0.0049904383161589",
         "0.0001061795968242",
         "5.3089798412138655e-05",
         "0.0",
         "5.3089798412138655e-05",
         "0.0007432569291715",
         "0.0003716284645857",
         "0.0",
         "5.3089798412138655e-05",
         "0.0",
         "0.0",
         "0.0",
         "0.0",
         "5.3089798412138655e-05",
         "5.3089798412138655e-05",
         "0.0001061795968242",
         "0.0013803300353465",
         "0.0",
         "0.0",
         "5.3089798412138655e-05",
         "0.0187407126366946",
         "0.0006370780781424",
         "0.0",
         "0.0",
         "0.0",
         "0.0002123589450501",
         "0.0",
         "0.0001061795968242",
         "0.0124761579399905",
         "0.0001592695195356",
         "0.0003716284645857",
         "0.00398173798839",
         "0.0",
         "0.0002123589450501",
         "0.0150244155609181",
         "0.0011148866367492",
         "0.0029730252307025",
         "0.0002123589450501",
         "0.0010087065427281",
         "0.0002654496135566",
         "0.0001592695195356",
         "0.0019112367204109",
         "0.0",
         "0.0001061795968242",
         "0.001274153670301",
         "0.0126353851978027",
         "0.0001592695195356",
         "5.3089798412138655e-05",
         "0.0004247191330922",
         "0.0",
         "5.3089798412138655e-05",
         "0.0001592695195356",
         "0.0145996852408991",
         "0.0001592695195356",
         "0.0001592695195356",
         "0.0",
         "5.3089798412138655e-05",
         "0.0",
         "0.0",
         "0.0001592695195356",
         "0.0",
         "0.0",
         "0.0",
         "0.0015396070128333",
         "0.0",
         "0.0",
         "0.0001061795968242",
         "0.0",
         "0.0025483073406021",
         "0.0001061795968242",
         "0.0",
         "0.0",
         "0.0056275213662687",
         "0.0",
         "0.0",
         "0.0001592695195356",
         "0.0010087065427281",
         "0.0014865188303105",
         "0.0",
         "5.3089798412138655e-05",
         "0.010564871499905",
         "0.0001592695195356",
         "0.0006901675036569",
         "0.0",
         "5.3089798412138655e-05",
         "0.0",
         "0.0001592695195356",
         "0.0184221338218837",
         "0.0",
         "0.0001061795968242",
         "5.3089798412138655e-05",
         "0.0001592695195356",
         "0.0004778085586068",
         "0.0",
         "0.0",
         "0.013697148848257",
         "0.0001592695195356",
         "5.3089798412138655e-05",
         "0.0",
         "0.0",
         "0.0010087065427281",
         "0.001274153670301",
         "0.0",
         "0.0001592695195356",
         "0.0010617959682427",
         "0.0",
         "0.0",
         "0.0002654496135566",
         "0.0006901675036569",
         "0.0",
         "0.0",
         "0.0",
         "0.0",
         "0.0",
         "0.0",
         "0.0003185390390712",
         "0.0",
         "0.0",
         "0.0",
         "0.0",
         "0.0",
         "0.0",
         "0.0",
         "0.0",
         "0.0",
         "0.0",
         "0.0",
         "0.0",
         "0.0",
         "0.0005839874096359",
         "0.0",
         "0.0005308979841213",
         "0.0",
         "0.0004247191330922",
         "0.0",
         "0.0",
         "0.0061584156214145",
         "0.005892974708801",
         "0.0003185390390712",
         "0.0",
         "0.0",
         "0.0002654496135566",
         "0.0002654496135566",
         "5.3089798412138655e-05",
         "0.0001061795968242",
         "0.0001592695195356",
         "0.0",
         "0.003185390390712",
         "5.3089798412138655e-05",
         "5.3089798412138655e-05",
         "0.0001592695195356",
         "0.0",
         "0.0068485868540471",
         "5.3089798412138655e-05",
         "0.0",
         "0.0",
         "0.0",
         "0.0001592695195356",
         "5.3089798412138655e-05",
         "0.0",
         "0.0001061795968242",
         "0.0001592695195356",
         "0.0",
         "0.0",
         "0.0",
         "0.0",
         "0.0",
         "0.0",
         "0.0",
         "0.0",
         "0.0",
         "0.0",
         "0.0",
         "0.0",
         "0.0",
         "0.0",
         "0.0",
         "0.0",
         "0.0",
         "0.0013803300353465",
         "0.0",
         "0.0",
         "0.0034508437332442",
         "0.0",
         "0.0126884609504068",
         "5.3089798412138655e-05",
         "0.0",
         "5.3089798412138655e-05",
         "0.0",
         "0.0",
         "0.0",
         "0.0",
         "0.0",
         "5.3089798412138655e-05",
         "5.3089798412138655e-05",
         "0.0",
         "0.0",
         "0.0",
         "5.3089798412138655e-05",
         "0.0",
         "0.0",
         "0.0",
         "5.3089798412138655e-05",
         "5.3089798412138655e-05",
         "5.3089798412138655e-05",
         "0.0",
         "0.0",
         "0.0",
         "0.0",
         "0.0",
         "0.0",
         "0.0",
         "0.0",
         "0.0",
         "0.0029199370481798",
         "5.3089798412138655e-05",
         "0.0001061795968242",
         "0.0",
         "0.0",
         "0.0",
         "0.0",
         "0.0",
         "0.0",
         "0.0",
         "0.0001061795968242",
         "0.0",
         "5.3089798412138655e-05",
         "5.3089798412138655e-05",
         "5.3089798412138655e-05",
         "0.0",
         "0.0",
         "0.0",
         "0.0",
         "0.0",
         "0.0",
         "0.0",
         "0.0",
         "0.0",
         "0.0",
         "0.0",
         "0.0",
         "0.0598853592332563",
         "0.0",
         "0.0",
         "0.0",
         "0.0",
         "0.0",
         "0.0",
         "0.0",
         "0.0",
         "0.0",
         "0.0009025264487071",
         "0.0",
         "0.0003716284645857",
         "5.3089798412138655e-05",
         "0.0039286498058673",
         "0.0002123589450501",
         "0.0",
         "0.0",
         "0.0",
         "0.0",
         "0.0",
         "0.0",
         "5.3089798412138655e-05",
         "0.0",
         "0.0",
         "0.0",
         "0.0",
         "0.0001061795968242",
         "0.0",
         "5.3089798412138655e-05",
         "0.0",
         "0.0",
         "0.0",
         "0.0",
         "0.0",
         "0.0",
         "0.0",
         "0.0",
         "0.0",
         "0.0",
         "0.0",
         "0.0",
         "0.0",
         "0.0",
         "0.0",
         "0.0",
         "0.0137502246008611",
         "0.0",
         "0.0",
         "0.0",
         "0.0041410025359582",
         "0.0",
         "0.0014334306477878",
         "0.0",
         "0.0",
         "0.0",
         "0.0",
         "0.0",
         "0.0",
         "0.0",
         "0.0",
         "0.0",
         "5.3089798412138655e-05",
         "5.3089798412138655e-05",
         "0.0",
         "0.0",
         "0.0",
         "0.0",
         "5.3089798412138655e-05",
         "0.0",
         "0.0001061795968242",
         "0.0",
         "0.0",
         "0.0",
         "0.0",
         "0.0",
         "5.3089798412138655e-05",
         "0.0",
         "0.0",
         "0.0",
         "0.0",
         "0.0",
         "0.0",
         "0.0",
         "0.0",
         "0.0",
         "5.3089798412138655e-05",
         "0.0",
         "0.0",
         "0.0",
         "0.0",
         "0.0",
         "5.3089798412138655e-05",
         "0.0",
         "0.0",
         "5.3089798412138655e-05",
         "0.0",
         "0.0",
         "0.0",
         "0.0",
         "0.0",
         "0.0",
         "0.0",
         "0.0",
         "0.0",
         "0.0",
         "0.0",
         "0.0",
         "0.0",
         "0.0",
         "0.0",
         "0.0",
         "0.0",
         "0.0",
         "0.0",
         "0.0",
         "0.0",
         "0.0",
         "0.0",
         "0.0",
         "0.0",
         "0.0",
         "0.0",
         "0.0",
         "0.0",
         "0.0",
         "0.0",
         "0.0",
         "0.0",
         "0.0",
         "0.0",
         "0.0",
         "0.0",
         "0.0",
         "0.0",
         "0.0",
         "0.0",
         "0.0",
         "0.0",
         "0.0",
         "5.3089798412138655e-05",
         "0.0",
         "0.0",
         "0.0",
         "0.0",
         "0.0",
         "0.0",
         "0.0",
         "0.0",
         "0.0",
         "5.3089798412138655e-05",
         "5.3089798412138655e-05",
         "0.0",
         "0.0",
         "0.0",
         "0.0",
         "0.0",
         "0.0",
         "0.0",
         "0.0",
         "0.0",
         "0.0",
         "0.0",
         "0.0",
         "0.0",
         "5.3089798412138655e-05",
         "0.0",
         "0.0001592695195356",
         "5.3089798412138655e-05",
         "0.0",
         "0.0",
         "0.0",
         "0.0",
         "0.0",
         "0.0",
         "0.0",
         "0.0",
         "0.0",
         "0.0",
         "0.0",
         "0.0",
         "0.0",
         "0.0",
         "0.0",
         "0.0",
         "0.0",
         "0.0",
         "0.0",
         "0.0"
        ],
        [
         "2",
         "0.0134039330275685",
         "0.0099288493921464",
         "0.0066192259271595",
         "0.0004137008328419",
         "0.0206023535625079",
         "0.0011583661124639",
         "0.0033096234649869",
         "0.0123283159028548",
         "0.0033923535502044",
         "0.0003309623464986",
         "0.0",
         "8.274037659653037e-05",
         "0.002233985337459",
         "0.0076121129666556",
         "0.0006619225927159",
         "0.038474215259366",
         "0.0",
         "0.0005791820060912",
         "0.0004964414194666",
         "0.0023994665107083",
         "0.0009101443525899",
         "0.0004137008328419",
         "8.274037659653037e-05",
         "0.0014065857720565",
         "0.000165480753193",
         "0.0",
         "0.0",
         "8.274037659653037e-05",
         "0.0040542782432018",
         "0.0057090899756952",
         "0.0029786611184882",
         "0.0041370083284194",
         "0.0",
         "0.0046334518481674",
         "0.000248221759874",
         "0.0004964414194666",
         "8.274037659653037e-05",
         "0.0",
         "0.0",
         "0.000248221759874",
         "0.000248221759874",
         "0.0",
         "0.0",
         "0.0788514955153209",
         "0.0",
         "0.0083567677448705",
         "0.0865465065897079",
         "0.0",
         "0.0004137008328419",
         "0.0",
         "0.0019030292918046",
         "8.274037659653037e-05",
         "0.0",
         "8.274037659653037e-05",
         "0.0055436088024459",
         "0.0",
         "0.0003309623464986",
         "0.0024822175987401",
         "0.033758033325981",
         "0.0028959100304564",
         "0.0003309623464986",
         "0.0",
         "8.274037659653037e-05",
         "0.0",
         "0.0206023535625079",
         "0.0040542782432018",
         "0.0",
         "0.0004137008328419",
         "0.0014065857720565",
         "0.0",
         "0.000248221759874",
         "0.0",
         "0.0",
         "0.0",
         "0.0025649476839577",
         "8.274037659653037e-05",
         "0.0",
         "0.0",
         "8.274037659653037e-05",
         "0.0004137008328419",
         "0.0110044665168601",
         "0.0",
         "0.0",
         "0.0",
         "0.0",
         "0.0",
         "0.0",
         "0.0",
         "0.0",
         "0.0",
         "0.0",
         "0.0",
         "0.0",
         "0.0009928849392146",
         "0.0",
         "0.0057918200609128",
         "0.0",
         "0.0006619225927159",
         "0.0",
         "0.0",
         "0.000165480753193",
         "0.0",
         "8.274037659653037e-05",
         "0.0",
         "0.0",
         "0.000165480753193",
         "0.0",
         "0.0",
         "0.0",
         "0.2822274163796675",
         "0.0",
         "0.0187820606567651",
         "0.0",
         "0.0",
         "0.0111699476901094",
         "8.274037659653037e-05",
         "0.0005791820060912",
         "0.0",
         "0.0",
         "0.000165480753193",
         "0.0",
         "0.0",
         "0.0",
         "0.0",
         "0.0",
         "0.000165480753193",
         "0.0029786611184882",
         "0.0",
         "0.0",
         "0.0003309623464986",
         "0.0",
         "0.0",
         "0.0004137008328419",
         "8.274037659653037e-05",
         "0.000248221759874",
         "0.0",
         "0.000248221759874",
         "0.0",
         "0.0",
         "0.0",
         "0.0",
         "0.0",
         "0.0",
         "0.0",
         "0.0",
         "0.0",
         "0.0026476987719895",
         "0.0",
         "0.0",
         "8.274037659653037e-05",
         "0.0",
         "0.0003309623464986",
         "0.0",
         "0.0",
         "0.0",
         "0.0",
         "0.0351645917943791",
         "0.0",
         "8.274037659653037e-05",
         "0.0",
         "0.0",
         "0.0",
         "0.0",
         "0.0",
         "0.0",
         "0.0",
         "0.0",
         "0.0",
         "0.0",
         "0.0",
         "0.0",
         "0.0",
         "0.000165480753193",
         "0.0523747178235679",
         "0.0",
         "0.0072811506201569",
         "8.274037659653037e-05",
         "0.0",
         "0.0",
         "0.0",
         "0.0",
         "0.0",
         "0.0",
         "0.0",
         "0.0",
         "0.0",
         "0.0005791820060912",
         "0.0029786611184882",
         "0.000165480753193",
         "0.0",
         "0.0003309623464986",
         "8.274037659653037e-05",
         "0.0",
         "0.0",
         "0.0",
         "0.000165480753193",
         "0.002730428857207",
         "0.0",
         "0.002233985337459",
         "8.274037659653037e-05",
         "0.0",
         "0.0005791820060912",
         "0.0",
         "0.0",
         "0.000248221759874",
         "0.0",
         "0.0",
         "0.0",
         "8.274037659653037e-05",
         "0.0",
         "0.0397152715517006",
         "0.0",
         "0.0",
         "8.274037659653037e-05",
         "0.0",
         "0.0",
         "0.0",
         "0.0",
         "0.0",
         "8.274037659653037e-05",
         "0.000165480753193",
         "0.0",
         "0.0",
         "0.0",
         "0.0",
         "0.0",
         "8.274037659653037e-05",
         "0.0",
         "0.000165480753193",
         "0.0",
         "0.0",
         "0.0348337974703942",
         "0.0190302929180462",
         "0.0",
         "0.0",
         "0.0006619225927159",
         "0.0",
         "0.0",
         "0.0043852405897005",
         "0.0189475418300144",
         "0.0",
         "0.0",
         "0.0",
         "0.0",
         "0.0",
         "0.0",
         "0.0",
         "0.0004964414194666",
         "0.0",
         "0.0",
         "0.0",
         "0.0",
         "0.0",
         "0.0004964414194666",
         "0.0019030292918046",
         "0.0",
         "0.0",
         "0.0",
         "0.0",
         "0.0",
         "0.0",
         "0.0196921966082294",
         "0.0",
         "0.0",
         "0.0",
         "0.0",
         "8.274037659653037e-05",
         "0.0",
         "0.0",
         "0.0",
         "8.274037659653037e-05",
         "0.0",
         "0.0",
         "0.0",
         "0.002730428857207",
         "8.274037659653037e-05",
         "0.0",
         "0.0",
         "0.0",
         "0.0",
         "0.0",
         "0.0",
         "0.0",
         "0.0",
         "0.0",
         "0.0",
         "0.0",
         "0.0",
         "0.0",
         "0.0",
         "0.0",
         "0.0",
         "0.0",
         "0.0",
         "0.0",
         "0.0",
         "0.0",
         "0.0",
         "0.0",
         "0.0",
         "0.0",
         "0.0",
         "0.0",
         "0.0",
         "0.0",
         "0.0",
         "0.0",
         "0.0",
         "0.0",
         "0.0",
         "0.0",
         "0.0",
         "0.0",
         "0.0",
         "0.0007446631793406",
         "0.0",
         "0.0",
         "0.0",
         "0.0",
         "0.0",
         "0.0",
         "0.0",
         "0.0",
         "0.0",
         "0.0",
         "0.0",
         "0.0",
         "0.0",
         "0.0",
         "0.0",
         "0.000165480753193",
         "0.0",
         "8.274037659653037e-05",
         "0.0",
         "0.0",
         "0.0",
         "0.0",
         "0.0",
         "0.0",
         "0.0",
         "0.0",
         "0.0",
         "0.000165480753193",
         "0.0",
         "0.0",
         "0.0",
         "0.0",
         "0.0",
         "0.0",
         "8.274037659653037e-05",
         "0.0",
         "0.0",
         "0.0",
         "0.0",
         "0.0",
         "0.0",
         "0.0",
         "0.0",
         "0.0",
         "0.0",
         "8.274037659653037e-05",
         "0.0",
         "0.0",
         "0.0",
         "0.0",
         "0.0003309623464986",
         "0.0",
         "0.0",
         "0.0",
         "0.0",
         "0.0",
         "0.0",
         "0.0013238451854319",
         "8.274037659653037e-05",
         "0.0",
         "0.0",
         "0.0",
         "0.0",
         "0.0",
         "0.0",
         "0.0",
         "8.274037659653037e-05",
         "0.0",
         "0.0",
         "8.274037659653037e-05",
         "0.0",
         "0.0",
         "0.0",
         "0.0",
         "0.0",
         "0.0",
         "0.000165480753193",
         "8.274037659653037e-05",
         "0.0",
         "0.0009101443525899",
         "0.0",
         "0.0",
         "0.0003309623464986",
         "0.0",
         "0.0",
         "0.0",
         "0.0",
         "0.0",
         "0.0",
         "0.0",
         "0.0",
         "0.0",
         "0.0",
         "0.0",
         "0.0",
         "0.0",
         "0.0",
         "0.0",
         "0.0",
         "0.0",
         "0.0",
         "0.0",
         "0.0",
         "0.0",
         "0.0",
         "0.0037233158967031",
         "0.0",
         "0.0014893263586812",
         "0.0",
         "0.0",
         "0.0",
         "0.0",
         "0.0",
         "0.0",
         "0.0",
         "0.0",
         "0.0",
         "0.0",
         "0.0",
         "0.0",
         "0.0",
         "0.0",
         "0.0",
         "0.0",
         "0.0",
         "0.0",
         "0.0",
         "0.0",
         "0.0",
         "0.0",
         "0.0",
         "0.0",
         "0.0",
         "0.0",
         "0.0",
         "0.0",
         "0.0",
         "0.0",
         "0.0",
         "0.0",
         "0.0",
         "0.0",
         "0.0",
         "0.0",
         "8.274037659653037e-05",
         "0.0",
         "0.0",
         "0.0",
         "0.0",
         "0.0",
         "0.0",
         "0.0",
         "0.0",
         "0.0",
         "0.0",
         "0.0",
         "0.0",
         "0.0",
         "0.0",
         "0.0",
         "0.0",
         "0.0",
         "0.0",
         "0.0",
         "0.0",
         "0.0",
         "0.0",
         "0.0",
         "0.0",
         "0.0",
         "0.0",
         "0.0",
         "0.0",
         "0.0",
         "0.0",
         "0.0",
         "0.0",
         "0.0",
         "0.0",
         "0.0",
         "0.0",
         "0.0",
         "0.0",
         "0.0",
         "0.0",
         "0.0",
         "0.0",
         "0.0",
         "0.0",
         "0.0",
         "0.0",
         "0.0",
         "0.0",
         "0.0",
         "0.0",
         "0.0",
         "0.0",
         "0.0",
         "0.0",
         "0.0",
         "0.0",
         "0.0",
         "0.0",
         "0.0",
         "0.0",
         "0.0",
         "0.0",
         "0.0",
         "0.0",
         "0.0"
        ],
        [
         "3",
         "0.0823565779733351",
         "0.0032695883164519",
         "0.0033312753226555",
         "0.0",
         "0.0172733147474908",
         "0.0053670554428581",
         "0.0101172135948093",
         "0.005613817082108",
         "0.0037631115949516",
         "0.0001233806834805",
         "0.065576786504344",
         "0.0002467616392498",
         "0.0046884575313122",
         "0.008204807487014",
         "0.0023442287656561",
         "0.0260950603687177",
         "0.0001233806834805",
         "0.0218383710375252",
         "0.0355953494437494",
         "0.0001233806834805",
         "0.0025293033987023",
         "0.0207279776969889",
         "0.000863664375931",
         "0.0008019746468403",
         "0.0146823515714553",
         "0.003701424588748",
         "0.0",
         "0.0",
         "0.0003084513683405",
         "0.0006169027366811",
         "0.0",
         "6.169027366811451e-05",
         "0.0179518582012956",
         "0.0040715602404052",
         "0.0",
         "0.0003701424588748",
         "0.0065391766329038",
         "0.0",
         "0.0121529937150119",
         "0.0003084513683405",
         "0.0003084513683405",
         "0.0019124061077953",
         "0.0036397239681091",
         "0.0179518582012956",
         "0.0003701424588748",
         "0.0053053684366545",
         "0.0238741375432925",
         "6.169027366811451e-05",
         "0.0002467616392498",
         "6.169027366811451e-05",
         "0.0010487349246466",
         "6.169027366811451e-05",
         "0.0008019746468403",
         "0.0",
         "0.0003084513683405",
         "0.001727331474749",
         "6.169027366811451e-05",
         "0.0003701424588748",
         "0.0325107268448616",
         "6.169027366811451e-05",
         "0.0006169027366811",
         "0.0",
         "6.169027366811451e-05",
         "0.0",
         "0.024491007605329",
         "0.0",
         "0.0",
         "0.0003701424588748",
         "0.0014188828292955",
         "0.0",
         "0.0",
         "0.0",
         "0.0",
         "6.169027366811451e-05",
         "0.0002467616392498",
         "0.0004935219170562",
         "6.169027366811451e-05",
         "0.0",
         "0.0",
         "6.169027366811451e-05",
         "0.0",
         "0.0",
         "0.0003084513683405",
         "0.0001850705487156",
         "0.0",
         "0.0",
         "0.0",
         "0.0",
         "0.0",
         "0.0",
         "0.0072177609300145",
         "6.169027366811451e-05",
         "0.0",
         "0.0",
         "0.0",
         "0.0",
         "0.0",
         "0.0",
         "0.0",
         "0.0001850705487156",
         "0.0006169027366811",
         "0.0",
         "0.0001850705487156",
         "0.0",
         "0.0",
         "0.0",
         "6.169027366811451e-05",
         "0.0001233806834805",
         "0.0",
         "6.169027366811451e-05",
         "0.0031462006896093",
         "0.0163479415822597",
         "0.0",
         "0.0",
         "0.0001850705487156",
         "0.0022825417594524",
         "0.0",
         "0.0006169027366811",
         "0.0",
         "0.0001850705487156",
         "0.0011104260151808",
         "0.0",
         "0.0067242376515148",
         "0.026465100719328",
         "0.0",
         "6.169027366811451e-05",
         "0.0025909904049059",
         "0.0",
         "0.0",
         "0.0035163499557018",
         "0.0072794615506534",
         "0.0006169027366811",
         "0.0002467616392498",
         "0.0",
         "0.0010487349246466",
         "0.0",
         "0.0074028355630607",
         "0.0",
         "0.0",
         "0.0",
         "0.0001850705487156",
         "0.0",
         "0.0",
         "6.169027366811451e-05",
         "0.0",
         "0.0",
         "0.0097470643287169",
         "0.03837133279509",
         "0.0",
         "0.0",
         "0.0",
         "6.169027366811451e-05",
         "0.0",
         "0.0028994390503595",
         "0.0025909904049059",
         "0.0",
         "0.0001850705487156",
         "0.0",
         "0.0",
         "0.0",
         "0.0",
         "0.0",
         "0.0",
         "0.0040715602404052",
         "0.0",
         "0.0",
         "0.0",
         "0.0",
         "0.0",
         "0.0",
         "0.0",
         "0.005613817082108",
         "0.0053670554428581",
         "6.169027366811451e-05",
         "0.0",
         "0.0020357801202026",
         "0.0001850705487156",
         "0.0004318321879655",
         "0.0",
         "0.0",
         "0.0",
         "0.0",
         "0.0051819808098119",
         "0.0",
         "0.0",
         "0.0001233806834805",
         "0.0001233806834805",
         "6.169027366811451e-05",
         "0.0",
         "0.0",
         "0.0",
         "0.0018507054871563",
         "0.0",
         "0.0",
         "0.0",
         "0.0207279776969889",
         "0.012584829987308",
         "0.0",
         "0.01079579789192",
         "0.0022208547532488",
         "0.0",
         "0.0",
         "0.0006785938272153",
         "0.0006169027366811",
         "0.0001233806834805",
         "0.0",
         "6.169027366811451e-05",
         "0.0",
         "0.0",
         "0.0",
         "0.0051819808098119",
         "0.0",
         "0.0",
         "0.0003701424588748",
         "0.0",
         "0.0001233806834805",
         "0.0",
         "6.169027366811451e-05",
         "0.0001233806834805",
         "0.0",
         "6.169027366811451e-05",
         "0.0",
         "0.0",
         "0.0",
         "0.0",
         "0.0",
         "6.169027366811451e-05",
         "0.0",
         "6.169027366811451e-05",
         "0.0",
         "0.0",
         "0.0",
         "0.0022208547532488",
         "0.0001850705487156",
         "0.0",
         "0.0072177609300145",
         "0.0001233806834805",
         "0.0002467616392498",
         "6.169027366811451e-05",
         "0.0",
         "0.0003084513683405",
         "0.0",
         "0.0112276341642161",
         "0.0",
         "0.0",
         "0.0",
         "0.0",
         "0.0074645225692644",
         "0.0",
         "0.0",
         "0.0",
         "0.0",
         "0.0002467616392498",
         "0.0002467616392498",
         "0.0",
         "0.0001850705487156",
         "0.0091918540440135",
         "0.0",
         "0.0",
         "0.0",
         "0.0",
         "0.0046267705251085",
         "0.0006785938272153",
         "0.0",
         "0.0",
         "0.0",
         "0.0",
         "0.0006169027366811",
         "0.0",
         "0.0",
         "0.0",
         "0.0",
         "0.0",
         "0.0",
         "0.0068476252783574",
         "0.0",
         "6.169027366811451e-05",
         "0.0073411485568571",
         "0.0",
         "0.0156693981284548",
         "0.0",
         "0.0",
         "0.0",
         "0.0",
         "0.0",
         "0.0",
         "0.0",
         "0.0",
         "0.0",
         "0.0001233806834805",
         "0.0",
         "0.0",
         "0.0",
         "0.0",
         "0.0",
         "0.0",
         "0.0",
         "0.0",
         "0.0002467616392498",
         "6.169027366811451e-05",
         "0.0",
         "0.0",
         "0.0",
         "0.0",
         "0.0002467616392498",
         "0.0",
         "0.0",
         "0.0002467616392498",
         "0.0",
         "0.0033312753226555",
         "0.0005552130075904",
         "0.0004935219170562",
         "0.0",
         "0.0",
         "0.0",
         "0.0",
         "0.0",
         "0.0",
         "0.0",
         "0.0001850705487156",
         "0.000740283556306",
         "0.0",
         "0.0",
         "0.0",
         "0.0",
         "0.0",
         "0.0",
         "6.169027366811451e-05",
         "0.0",
         "0.0002467616392498",
         "0.0",
         "0.0",
         "0.0",
         "0.0001850705487156",
         "0.0",
         "0.0",
         "0.0101172135948093",
         "0.0",
         "0.0",
         "0.0",
         "0.0",
         "0.0",
         "0.0",
         "0.0",
         "0.0",
         "0.0",
         "0.0272671271010223",
         "0.0",
         "0.0",
         "0.0",
         "0.0144355218600291",
         "0.1139420677973183",
         "0.0",
         "0.0",
         "0.0",
         "0.0",
         "0.0",
         "6.169027366811451e-05",
         "0.0",
         "0.0",
         "6.169027366811451e-05",
         "0.0",
         "0.0",
         "6.169027366811451e-05",
         "0.0001233806834805",
         "0.0",
         "0.0",
         "0.0",
         "6.169027366811451e-05",
         "0.0",
         "0.0",
         "0.0",
         "0.0",
         "0.0",
         "0.0",
         "6.169027366811451e-05",
         "0.0",
         "0.0",
         "0.0",
         "0.0",
         "0.0",
         "0.0",
         "0.0109808725249662",
         "0.0",
         "0.0",
         "0.0",
         "0.0004935219170562",
         "0.0",
         "0.0013571862929872",
         "0.0",
         "0.0",
         "0.0",
         "0.0",
         "0.0",
         "0.0",
         "0.0",
         "0.0002467616392498",
         "0.0",
         "0.0",
         "0.0",
         "6.169027366811451e-05",
         "0.0",
         "0.0",
         "0.0",
         "0.0",
         "0.0",
         "0.0001850705487156",
         "0.0",
         "0.0",
         "0.0",
         "0.0",
         "0.0",
         "6.169027366811451e-05",
         "0.0002467616392498",
         "0.0",
         "0.0",
         "6.169027366811451e-05",
         "0.0",
         "0.0",
         "0.0",
         "0.0",
         "0.0",
         "0.0",
         "0.0",
         "0.0",
         "0.0",
         "6.169027366811451e-05",
         "0.0",
         "0.0",
         "0.0",
         "0.0",
         "0.0",
         "0.0",
         "0.0",
         "0.0",
         "0.0",
         "0.0",
         "0.0",
         "0.0",
         "0.0",
         "0.0",
         "0.0",
         "0.0",
         "0.0",
         "0.0",
         "0.0",
         "0.0",
         "0.0",
         "0.0",
         "0.0",
         "0.0",
         "0.0",
         "0.0",
         "0.0",
         "0.0",
         "0.0",
         "0.0",
         "0.0",
         "0.0",
         "0.0",
         "0.0",
         "0.0",
         "0.0",
         "0.0",
         "0.0",
         "0.0",
         "0.0",
         "6.169027366811451e-05",
         "0.0",
         "0.0",
         "0.0",
         "0.0",
         "0.0",
         "0.0",
         "0.0002467616392498",
         "0.0",
         "0.015484241808797",
         "0.0",
         "0.0",
         "0.0",
         "0.0",
         "0.0",
         "0.0",
         "6.169027366811451e-05",
         "0.0",
         "0.0",
         "0.0",
         "0.0",
         "0.0",
         "0.0",
         "0.0002467616392498",
         "0.0",
         "0.0",
         "0.0",
         "6.169027366811451e-05",
         "0.0",
         "6.169027366811451e-05",
         "0.0",
         "0.0",
         "0.0",
         "0.0",
         "6.169027366811451e-05",
         "0.0",
         "0.0",
         "0.0",
         "0.0",
         "6.169027366811451e-05",
         "0.0",
         "0.0",
         "0.0",
         "0.0",
         "0.0",
         "0.0",
         "0.0",
         "0.0",
         "0.0",
         "0.0",
         "0.0",
         "0.0",
         "0.0",
         "0.0",
         "0.0",
         "0.0",
         "0.0",
         "0.0"
        ],
        [
         "4",
         "0.0092740916215622",
         "8.431002821196706e-05",
         "0.0029508436062912",
         "0.0116347730675975",
         "0.0103701234645433",
         "0.272152017209061",
         "0.0631481712726741",
         "0.0013489601233413",
         "0.0005058598412216",
         "0.0",
         "0.0",
         "0.0059860124951248",
         "0.0006744792415453",
         "0.0",
         "0.0043841109694185",
         "0.0028665347262546",
         "0.0",
         "0.0004215493209345",
         "0.0060703213751613",
         "0.0010117196824433",
         "0.0005901703615088",
         "0.0",
         "0.001180339082767",
         "0.0005058598412216",
         "0.0",
         "0.0001686194003237",
         "0.0",
         "0.0",
         "0.0014332690033779",
         "0.0002529299206108",
         "0.0001686194003237",
         "0.0002529299206108",
         "0.0004215493209345",
         "0.0007587897618325",
         "0.0001686194003237",
         "0.0004215493209345",
         "0.0004215493209345",
         "0.0",
         "0.0",
         "0.0002529299206108",
         "0.0008431002821196",
         "0.0",
         "8.431002821196706e-05",
         "0.0010117196824433",
         "0.0",
         "0.0030351524863277",
         "0.1261277247852751",
         "0.0",
         "0.001517579523665",
         "8.431002821196706e-05",
         "0.0005058598412216",
         "0.0",
         "0.0",
         "0.0",
         "0.0051429072922534",
         "8.431002821196706e-05",
         "0.0",
         "0.0004215493209345",
         "0.0008431002821196",
         "0.001517579523665",
         "0.0004215493209345",
         "0.0",
         "0.0003372404408979",
         "0.0",
         "0.0104544323445799",
         "0.0001686194003237",
         "0.0",
         "8.431002821196706e-05",
         "0.0007587897618325",
         "0.0",
         "0.002023445925889",
         "0.0007587897618325",
         "0.0",
         "8.431002821196706e-05",
         "0.0028665347262546",
         "0.0048056717721071",
         "0.0",
         "0.0001686194003237",
         "8.431002821196706e-05",
         "0.0",
         "0.0307730692634605",
         "8.431002821196706e-05",
         "0.0",
         "0.0",
         "0.0",
         "0.0001686194003237",
         "0.0",
         "0.0210775480592563",
         "0.0",
         "0.0",
         "0.0",
         "0.0",
         "0.0001686194003237",
         "0.0025292992061084",
         "0.0",
         "0.0005901703615088",
         "0.0",
         "0.0",
         "0.0",
         "0.0",
         "0.0017705028832735",
         "0.0002529299206108",
         "0.0002529299206108",
         "0.0",
         "8.431002821196706e-05",
         "0.0009274091621562",
         "0.0",
         "0.0",
         "0.0",
         "0.0005058598412216",
         "0.0",
         "0.0004215493209345",
         "0.0",
         "0.0",
         "0.0058173947350517",
         "0.0031194613663643",
         "0.0",
         "0.0",
         "0.0",
         "0.0005058598412216",
         "0.0006744792415453",
         "0.0",
         "0.0",
         "0.001517579523665",
         "0.0004215493209345",
         "0.0",
         "0.0123092605103959",
         "0.0",
         "0.0",
         "0.0041311843293088",
         "0.0",
         "0.0",
         "0.0",
         "0.0004215493209345",
         "0.0",
         "0.0",
         "0.0060703213751613",
         "0.0",
         "0.0",
         "0.0006744792415453",
         "0.0",
         "8.431002821196706e-05",
         "0.0002529299206108",
         "0.0",
         "0.0",
         "0.0",
         "0.0",
         "0.0002529299206108",
         "0.0",
         "8.431002821196706e-05",
         "0.0",
         "8.431002821196706e-05",
         "0.0",
         "0.0",
         "0.0004215493209345",
         "8.431002821196706e-05",
         "0.007250662098179",
         "8.431002821196706e-05",
         "0.0007587897618325",
         "0.0",
         "0.0",
         "0.0",
         "0.0",
         "0.0009274091621562",
         "0.0",
         "0.0",
         "0.0",
         "0.0",
         "0.0",
         "0.0003372404408979",
         "0.0",
         "0.0",
         "0.0",
         "0.0005901703615088",
         "0.0",
         "0.0",
         "0.0",
         "0.0010960302027305",
         "0.0316163220888845",
         "0.0",
         "0.0",
         "0.0",
         "0.0",
         "0.0",
         "0.0",
         "0.0",
         "0.0003372404408979",
         "0.004637054012034",
         "0.0008431002821196",
         "0.0",
         "0.0",
         "0.0",
         "0.0",
         "8.431002821196706e-05",
         "0.0",
         "0.0017705028832735",
         "0.0",
         "0.0",
         "8.431002821196706e-05",
         "0.0",
         "0.0",
         "0.0002529299206108",
         "0.0",
         "8.431002821196706e-05",
         "0.0001686194003237",
         "0.0",
         "0.0",
         "0.0",
         "0.0145013077938522",
         "0.0",
         "0.0005901703615088",
         "0.0",
         "0.0",
         "0.0",
         "0.0",
         "0.0",
         "0.0",
         "0.0",
         "0.0",
         "0.0",
         "0.0001686194003237",
         "0.0",
         "0.0",
         "0.0",
         "8.431002821196706e-05",
         "0.0",
         "0.0010117196824433",
         "0.0",
         "8.431002821196706e-05",
         "0.0",
         "0.0",
         "0.0493213509216201",
         "0.0",
         "0.0",
         "0.0",
         "0.0",
         "0.0",
         "0.0",
         "0.0",
         "0.0",
         "0.0",
         "0.0",
         "0.0001686194003237",
         "0.0",
         "0.0",
         "0.0",
         "0.0",
         "0.0003372404408979",
         "0.0003372404408979",
         "0.0",
         "0.0",
         "0.0",
         "0.0",
         "0.0",
         "8.431002821196706e-05",
         "0.0004215493209345",
         "0.0",
         "0.0",
         "8.431002821196706e-05",
         "8.431002821196706e-05",
         "0.0",
         "0.0004215493209345",
         "0.0",
         "0.0",
         "0.0",
         "0.0",
         "0.0019391370458525",
         "0.0",
         "0.0",
         "0.0",
         "0.0",
         "0.0",
         "0.0",
         "0.0",
         "0.0085996205812698",
         "0.0",
         "0.0",
         "0.0",
         "0.0",
         "0.0",
         "0.0",
         "0.0001686194003237",
         "0.0",
         "0.0",
         "0.0",
         "0.0002529299206108",
         "0.0",
         "0.0",
         "0.0",
         "0.0",
         "0.0",
         "8.431002821196706e-05",
         "0.0",
         "0.0",
         "0.0",
         "8.431002821196706e-05",
         "0.0002529299206108",
         "0.0",
         "0.0",
         "0.0",
         "0.0",
         "0.0",
         "0.0",
         "8.431002821196706e-05",
         "0.0",
         "0.0",
         "0.0003372404408979",
         "0.0",
         "0.0",
         "0.0",
         "0.0",
         "0.0",
         "0.0",
         "0.0",
         "0.0001686194003237",
         "0.0",
         "0.0",
         "0.0",
         "0.0",
         "8.431002821196706e-05",
         "0.0",
         "0.0",
         "0.0",
         "0.0",
         "0.0",
         "0.0",
         "8.431002821196706e-05",
         "0.0",
         "0.0",
         "0.0",
         "0.0",
         "0.0",
         "0.0",
         "0.0",
         "0.0",
         "0.0",
         "0.0",
         "0.0",
         "0.0",
         "0.0",
         "0.0",
         "0.0",
         "0.0009274091621562",
         "0.0",
         "0.0",
         "0.0029508436062912",
         "0.0018548117633101",
         "8.431002821196706e-05",
         "0.0004215493209345",
         "0.0",
         "0.0",
         "0.0",
         "0.0",
         "0.0",
         "0.0",
         "0.0",
         "8.431002821196706e-05",
         "0.0",
         "0.0",
         "0.0",
         "0.0017705028832735",
         "0.0087682383413429",
         "0.0",
         "0.0001686194003237",
         "0.0",
         "0.0004215493209345",
         "0.0001686194003237",
         "8.431002821196706e-05",
         "8.431002821196706e-05",
         "0.0",
         "0.0",
         "0.0",
         "0.0001686194003237",
         "0.0",
         "0.0",
         "0.0",
         "0.0",
         "0.0",
         "0.0",
         "0.0",
         "0.0",
         "0.0",
         "0.0026136080861449",
         "0.0",
         "0.0",
         "0.0010117196824433",
         "0.0",
         "0.0",
         "0.0",
         "0.0001686194003237",
         "0.0",
         "0.0",
         "0.0",
         "0.0",
         "0.0",
         "0.0",
         "0.0",
         "0.0",
         "0.0",
         "0.0",
         "0.0",
         "0.0",
         "0.0",
         "0.0",
         "8.431002821196706e-05",
         "0.0",
         "0.0",
         "0.0",
         "0.0",
         "0.0",
         "0.0",
         "0.0",
         "0.0",
         "0.0",
         "8.431002821196706e-05",
         "8.431002821196706e-05",
         "0.0",
         "0.0",
         "0.0",
         "0.0",
         "0.0",
         "0.0",
         "0.0",
         "0.0",
         "0.0",
         "0.0",
         "8.431002821196706e-05",
         "0.0",
         "0.0",
         "0.0001686194003237",
         "0.0",
         "0.0",
         "0.0",
         "0.0",
         "0.0",
         "0.0",
         "0.0",
         "0.0",
         "8.431002821196706e-05",
         "0.0",
         "0.1041227790456166",
         "0.064497113353259",
         "0.0001686194003237",
         "0.0014332690033779",
         "8.431002821196706e-05",
         "0.0008431002821196",
         "0.0",
         "0.0022763725659987",
         "0.0004215493209345",
         "0.0008431002821196",
         "0.0038782576891991",
         "0.0001686194003237",
         "0.0",
         "0.0048056717721071",
         "0.0002529299206108",
         "0.0",
         "0.0024449903260718",
         "0.0",
         "0.0",
         "0.0",
         "0.0",
         "0.0",
         "0.0",
         "0.0",
         "0.0",
         "0.0",
         "0.0",
         "0.0",
         "0.0",
         "0.0",
         "0.0",
         "0.0",
         "0.0",
         "0.0",
         "0.0",
         "0.0",
         "0.0",
         "0.0",
         "0.0",
         "0.0",
         "0.0",
         "0.0",
         "0.0",
         "0.0",
         "0.0",
         "0.0",
         "0.0",
         "0.0",
         "0.0",
         "0.0",
         "0.0",
         "0.0",
         "0.0",
         "0.0",
         "0.0",
         "0.0",
         "0.0",
         "0.0",
         "0.0",
         "0.0",
         "0.0",
         "0.0",
         "0.0",
         "0.0",
         "0.0",
         "0.0",
         "0.0",
         "0.0",
         "0.0",
         "0.0",
         "0.0",
         "0.0",
         "0.0",
         "0.0",
         "0.0",
         "0.0",
         "0.0",
         "0.0",
         "0.0",
         "0.0",
         "0.0",
         "0.0",
         "0.0",
         "0.0",
         "1.0"
        ]
       ],
       "shape": {
        "columns": 525,
        "rows": 5
       }
      },
      "text/html": [
       "<div>\n",
       "<style scoped>\n",
       "    .dataframe tbody tr th:only-of-type {\n",
       "        vertical-align: middle;\n",
       "    }\n",
       "\n",
       "    .dataframe tbody tr th {\n",
       "        vertical-align: top;\n",
       "    }\n",
       "\n",
       "    .dataframe thead th {\n",
       "        text-align: right;\n",
       "    }\n",
       "</style>\n",
       "<table border=\"1\" class=\"dataframe\">\n",
       "  <thead>\n",
       "    <tr style=\"text-align: right;\">\n",
       "      <th></th>\n",
       "      <th>821</th>\n",
       "      <th>328813</th>\n",
       "      <th>823</th>\n",
       "      <th>817</th>\n",
       "      <th>818</th>\n",
       "      <th>239935</th>\n",
       "      <th>28116</th>\n",
       "      <th>351091</th>\n",
       "      <th>28118</th>\n",
       "      <th>1161942</th>\n",
       "      <th>...</th>\n",
       "      <th>103621</th>\n",
       "      <th>1596</th>\n",
       "      <th>638619</th>\n",
       "      <th>1244</th>\n",
       "      <th>78346</th>\n",
       "      <th>592978</th>\n",
       "      <th>86958</th>\n",
       "      <th>626947</th>\n",
       "      <th>bipolar</th>\n",
       "      <th>Bipolar</th>\n",
       "    </tr>\n",
       "  </thead>\n",
       "  <tbody>\n",
       "    <tr>\n",
       "      <th>0</th>\n",
       "      <td>0.148812</td>\n",
       "      <td>0.001194</td>\n",
       "      <td>0.003473</td>\n",
       "      <td>0.006187</td>\n",
       "      <td>0.015304</td>\n",
       "      <td>0.005753</td>\n",
       "      <td>0.042440</td>\n",
       "      <td>0.054054</td>\n",
       "      <td>0.009226</td>\n",
       "      <td>0.000217</td>\n",
       "      <td>...</td>\n",
       "      <td>0.0</td>\n",
       "      <td>0.0</td>\n",
       "      <td>0.0</td>\n",
       "      <td>0.0</td>\n",
       "      <td>0.0</td>\n",
       "      <td>0.0</td>\n",
       "      <td>0.0</td>\n",
       "      <td>0.0</td>\n",
       "      <td>0.0</td>\n",
       "      <td>0.0</td>\n",
       "    </tr>\n",
       "    <tr>\n",
       "      <th>1</th>\n",
       "      <td>0.097845</td>\n",
       "      <td>0.008707</td>\n",
       "      <td>0.013113</td>\n",
       "      <td>0.000000</td>\n",
       "      <td>0.004619</td>\n",
       "      <td>0.011520</td>\n",
       "      <td>0.012423</td>\n",
       "      <td>0.056169</td>\n",
       "      <td>0.001593</td>\n",
       "      <td>0.002495</td>\n",
       "      <td>...</td>\n",
       "      <td>0.0</td>\n",
       "      <td>0.0</td>\n",
       "      <td>0.0</td>\n",
       "      <td>0.0</td>\n",
       "      <td>0.0</td>\n",
       "      <td>0.0</td>\n",
       "      <td>0.0</td>\n",
       "      <td>0.0</td>\n",
       "      <td>0.0</td>\n",
       "      <td>0.0</td>\n",
       "    </tr>\n",
       "    <tr>\n",
       "      <th>2</th>\n",
       "      <td>0.013404</td>\n",
       "      <td>0.009929</td>\n",
       "      <td>0.006619</td>\n",
       "      <td>0.000414</td>\n",
       "      <td>0.020602</td>\n",
       "      <td>0.001158</td>\n",
       "      <td>0.003310</td>\n",
       "      <td>0.012328</td>\n",
       "      <td>0.003392</td>\n",
       "      <td>0.000331</td>\n",
       "      <td>...</td>\n",
       "      <td>0.0</td>\n",
       "      <td>0.0</td>\n",
       "      <td>0.0</td>\n",
       "      <td>0.0</td>\n",
       "      <td>0.0</td>\n",
       "      <td>0.0</td>\n",
       "      <td>0.0</td>\n",
       "      <td>0.0</td>\n",
       "      <td>0.0</td>\n",
       "      <td>0.0</td>\n",
       "    </tr>\n",
       "    <tr>\n",
       "      <th>3</th>\n",
       "      <td>0.082357</td>\n",
       "      <td>0.003270</td>\n",
       "      <td>0.003331</td>\n",
       "      <td>0.000000</td>\n",
       "      <td>0.017273</td>\n",
       "      <td>0.005367</td>\n",
       "      <td>0.010117</td>\n",
       "      <td>0.005614</td>\n",
       "      <td>0.003763</td>\n",
       "      <td>0.000123</td>\n",
       "      <td>...</td>\n",
       "      <td>0.0</td>\n",
       "      <td>0.0</td>\n",
       "      <td>0.0</td>\n",
       "      <td>0.0</td>\n",
       "      <td>0.0</td>\n",
       "      <td>0.0</td>\n",
       "      <td>0.0</td>\n",
       "      <td>0.0</td>\n",
       "      <td>0.0</td>\n",
       "      <td>0.0</td>\n",
       "    </tr>\n",
       "    <tr>\n",
       "      <th>4</th>\n",
       "      <td>0.009274</td>\n",
       "      <td>0.000084</td>\n",
       "      <td>0.002951</td>\n",
       "      <td>0.011635</td>\n",
       "      <td>0.010370</td>\n",
       "      <td>0.272152</td>\n",
       "      <td>0.063148</td>\n",
       "      <td>0.001349</td>\n",
       "      <td>0.000506</td>\n",
       "      <td>0.000000</td>\n",
       "      <td>...</td>\n",
       "      <td>0.0</td>\n",
       "      <td>0.0</td>\n",
       "      <td>0.0</td>\n",
       "      <td>0.0</td>\n",
       "      <td>0.0</td>\n",
       "      <td>0.0</td>\n",
       "      <td>0.0</td>\n",
       "      <td>0.0</td>\n",
       "      <td>0.0</td>\n",
       "      <td>1.0</td>\n",
       "    </tr>\n",
       "  </tbody>\n",
       "</table>\n",
       "<p>5 rows × 525 columns</p>\n",
       "</div>"
      ],
      "text/plain": [
       "        821    328813       823       817       818    239935     28116  \\\n",
       "0  0.148812  0.001194  0.003473  0.006187  0.015304  0.005753  0.042440   \n",
       "1  0.097845  0.008707  0.013113  0.000000  0.004619  0.011520  0.012423   \n",
       "2  0.013404  0.009929  0.006619  0.000414  0.020602  0.001158  0.003310   \n",
       "3  0.082357  0.003270  0.003331  0.000000  0.017273  0.005367  0.010117   \n",
       "4  0.009274  0.000084  0.002951  0.011635  0.010370  0.272152  0.063148   \n",
       "\n",
       "     351091     28118   1161942  ...  103621  1596  638619  1244  78346  \\\n",
       "0  0.054054  0.009226  0.000217  ...     0.0   0.0     0.0   0.0    0.0   \n",
       "1  0.056169  0.001593  0.002495  ...     0.0   0.0     0.0   0.0    0.0   \n",
       "2  0.012328  0.003392  0.000331  ...     0.0   0.0     0.0   0.0    0.0   \n",
       "3  0.005614  0.003763  0.000123  ...     0.0   0.0     0.0   0.0    0.0   \n",
       "4  0.001349  0.000506  0.000000  ...     0.0   0.0     0.0   0.0    0.0   \n",
       "\n",
       "   592978  86958  626947  bipolar  Bipolar  \n",
       "0     0.0    0.0     0.0      0.0      0.0  \n",
       "1     0.0    0.0     0.0      0.0      0.0  \n",
       "2     0.0    0.0     0.0      0.0      0.0  \n",
       "3     0.0    0.0     0.0      0.0      0.0  \n",
       "4     0.0    0.0     0.0      0.0      1.0  \n",
       "\n",
       "[5 rows x 525 columns]"
      ]
     },
     "execution_count": 24,
     "metadata": {},
     "output_type": "execute_result"
    }
   ],
   "source": [
    "\n",
    "data = pd.read_csv('Data/Final_data/final_bipolar_one_scaled_2')\n",
    "\n",
    "data = data.iloc[:, 1:]\n",
    "data.head()"
   ]
  },
  {
   "cell_type": "code",
   "execution_count": 25,
   "id": "1e5f2aa6",
   "metadata": {},
   "outputs": [
    {
     "name": "stdout",
     "output_type": "stream",
     "text": [
      "Empty DataFrame\n",
      "Columns: [ncbi_taxon_id, scientific_name]\n",
      "Index: []\n"
     ]
    }
   ],
   "source": [
    "filtered_df = df[df['ncbi_taxon_id'].isin(three_folds_2)]\n",
    "\n",
    "print(filtered_df)"
   ]
  },
  {
   "cell_type": "code",
   "execution_count": 26,
   "id": "61103097",
   "metadata": {},
   "outputs": [
    {
     "name": "stdout",
     "output_type": "stream",
     "text": [
      "['634771', '415956', '1495', '255723', '392736', '29346', '99807', '395922', '66219', '736', '53972', '232270']\n"
     ]
    }
   ],
   "source": [
    "arrays = [five_folds, five_folds_2]\n",
    "test = features_in_k_arrays(arrays, 2)\n",
    "print(test)"
   ]
  },
  {
   "cell_type": "code",
   "execution_count": 27,
   "id": "c438d9a6",
   "metadata": {},
   "outputs": [
    {
     "name": "stdout",
     "output_type": "stream",
     "text": [
      "['1350067', '395922', '118967', '1692', '634771', '376805', '99807', '53972', '392736', '415956', '36850', '255723', '1501', '29346', '40091', '66219', '232270', '156974', '831', '58180', '736', '1495', '339862']\n"
     ]
    }
   ],
   "source": [
    "arrays = [four_folds, four_folds_2]\n",
    "test_2= features_in_k_arrays(arrays, 2)\n",
    "print(test_2)"
   ]
  }
 ],
 "metadata": {
  "kernelspec": {
   "display_name": "base",
   "language": "python",
   "name": "python3"
  },
  "language_info": {
   "codemirror_mode": {
    "name": "ipython",
    "version": 3
   },
   "file_extension": ".py",
   "mimetype": "text/x-python",
   "name": "python",
   "nbconvert_exporter": "python",
   "pygments_lexer": "ipython3",
   "version": "3.11.4"
  }
 },
 "nbformat": 4,
 "nbformat_minor": 5
}
