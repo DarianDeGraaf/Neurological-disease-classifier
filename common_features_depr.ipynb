{
 "cells": [
  {
   "cell_type": "code",
   "execution_count": 1,
   "id": "fee2ed17",
   "metadata": {},
   "outputs": [],
   "source": [
    "import os\n",
    "import json\n",
    "import pandas as pd\n",
    "import requests\n",
    "from pandas.core.frame import DataFrame\n",
    "\n",
    "import numpy as np\n",
    "from sklearn.preprocessing import FunctionTransformer, StandardScaler\n",
    "from sklearn.pipeline import Pipeline"
   ]
  },
  {
   "cell_type": "code",
   "execution_count": 2,
   "id": "425ee33e",
   "metadata": {},
   "outputs": [
    {
     "data": {
      "application/vnd.microsoft.datawrangler.viewer.v0+json": {
       "columns": [
        {
         "name": "index",
         "rawType": "object",
         "type": "string"
        },
        {
         "name": "nr. reads sequenced",
         "rawType": "float64",
         "type": "float"
        },
        {
         "name": "host age",
         "rawType": "float64",
         "type": "float"
        },
        {
         "name": "BMI",
         "rawType": "float64",
         "type": "float"
        },
        {
         "name": "longitude",
         "rawType": "float64",
         "type": "float"
        },
        {
         "name": "lattitude",
         "rawType": "float64",
         "type": "float"
        },
        {
         "name": "QC status",
         "rawType": "float64",
         "type": "float"
        }
       ],
       "ref": "fb634ad0-1a7a-4eb5-a825-3943f8e1642d",
       "rows": [
        [
         "count",
         "14461.0",
         "14461.0",
         "14461.0",
         "14461.0",
         "14461.0",
         "14459.0"
        ],
        [
         "mean",
         "32905.29811216375",
         "45.10683908443399",
         "43.83569808450315",
         "-56.134105525205726",
         "37.71669317474588",
         "0.5409779376167093"
        ],
        [
         "std",
         "39187.68457901751",
         "18.45643057131903",
         "566.1170041961095",
         "64.91897711111147",
         "18.576356107766834",
         "0.49833521243327256"
        ],
        [
         "min",
         "0.0",
         "0.0",
         "0.0",
         "-166.5",
         "-45.9",
         "0.0"
        ],
        [
         "25%",
         "16246.0",
         "34.0",
         "20.78",
         "-110.7",
         "34.1",
         "0.0"
        ],
        [
         "50%",
         "24507.0",
         "47.0",
         "23.4",
         "-76.9",
         "40.7",
         "1.0"
        ],
        [
         "75%",
         "35872.0",
         "60.0",
         "26.5",
         "-1.0",
         "50.9",
         "1.0"
        ],
        [
         "max",
         "1545243.0",
         "96.0",
         "42500.0",
         "175.7",
         "64.9",
         "1.0"
        ]
       ],
       "shape": {
        "columns": 6,
        "rows": 8
       }
      },
      "text/html": [
       "<div>\n",
       "<style scoped>\n",
       "    .dataframe tbody tr th:only-of-type {\n",
       "        vertical-align: middle;\n",
       "    }\n",
       "\n",
       "    .dataframe tbody tr th {\n",
       "        vertical-align: top;\n",
       "    }\n",
       "\n",
       "    .dataframe thead th {\n",
       "        text-align: right;\n",
       "    }\n",
       "</style>\n",
       "<table border=\"1\" class=\"dataframe\">\n",
       "  <thead>\n",
       "    <tr style=\"text-align: right;\">\n",
       "      <th></th>\n",
       "      <th>nr. reads sequenced</th>\n",
       "      <th>host age</th>\n",
       "      <th>BMI</th>\n",
       "      <th>longitude</th>\n",
       "      <th>lattitude</th>\n",
       "      <th>QC status</th>\n",
       "    </tr>\n",
       "  </thead>\n",
       "  <tbody>\n",
       "    <tr>\n",
       "      <th>count</th>\n",
       "      <td>1.446100e+04</td>\n",
       "      <td>14461.000000</td>\n",
       "      <td>14461.000000</td>\n",
       "      <td>14461.000000</td>\n",
       "      <td>14461.000000</td>\n",
       "      <td>14459.000000</td>\n",
       "    </tr>\n",
       "    <tr>\n",
       "      <th>mean</th>\n",
       "      <td>3.290530e+04</td>\n",
       "      <td>45.106839</td>\n",
       "      <td>43.835698</td>\n",
       "      <td>-56.134106</td>\n",
       "      <td>37.716693</td>\n",
       "      <td>0.540978</td>\n",
       "    </tr>\n",
       "    <tr>\n",
       "      <th>std</th>\n",
       "      <td>3.918768e+04</td>\n",
       "      <td>18.456431</td>\n",
       "      <td>566.117004</td>\n",
       "      <td>64.918977</td>\n",
       "      <td>18.576356</td>\n",
       "      <td>0.498335</td>\n",
       "    </tr>\n",
       "    <tr>\n",
       "      <th>min</th>\n",
       "      <td>0.000000e+00</td>\n",
       "      <td>0.000000</td>\n",
       "      <td>0.000000</td>\n",
       "      <td>-166.500000</td>\n",
       "      <td>-45.900000</td>\n",
       "      <td>0.000000</td>\n",
       "    </tr>\n",
       "    <tr>\n",
       "      <th>25%</th>\n",
       "      <td>1.624600e+04</td>\n",
       "      <td>34.000000</td>\n",
       "      <td>20.780000</td>\n",
       "      <td>-110.700000</td>\n",
       "      <td>34.100000</td>\n",
       "      <td>0.000000</td>\n",
       "    </tr>\n",
       "    <tr>\n",
       "      <th>50%</th>\n",
       "      <td>2.450700e+04</td>\n",
       "      <td>47.000000</td>\n",
       "      <td>23.400000</td>\n",
       "      <td>-76.900000</td>\n",
       "      <td>40.700000</td>\n",
       "      <td>1.000000</td>\n",
       "    </tr>\n",
       "    <tr>\n",
       "      <th>75%</th>\n",
       "      <td>3.587200e+04</td>\n",
       "      <td>60.000000</td>\n",
       "      <td>26.500000</td>\n",
       "      <td>-1.000000</td>\n",
       "      <td>50.900000</td>\n",
       "      <td>1.000000</td>\n",
       "    </tr>\n",
       "    <tr>\n",
       "      <th>max</th>\n",
       "      <td>1.545243e+06</td>\n",
       "      <td>96.000000</td>\n",
       "      <td>42500.000000</td>\n",
       "      <td>175.700000</td>\n",
       "      <td>64.900000</td>\n",
       "      <td>1.000000</td>\n",
       "    </tr>\n",
       "  </tbody>\n",
       "</table>\n",
       "</div>"
      ],
      "text/plain": [
       "       nr. reads sequenced      host age           BMI     longitude  \\\n",
       "count         1.446100e+04  14461.000000  14461.000000  14461.000000   \n",
       "mean          3.290530e+04     45.106839     43.835698    -56.134106   \n",
       "std           3.918768e+04     18.456431    566.117004     64.918977   \n",
       "min           0.000000e+00      0.000000      0.000000   -166.500000   \n",
       "25%           1.624600e+04     34.000000     20.780000   -110.700000   \n",
       "50%           2.450700e+04     47.000000     23.400000    -76.900000   \n",
       "75%           3.587200e+04     60.000000     26.500000     -1.000000   \n",
       "max           1.545243e+06     96.000000  42500.000000    175.700000   \n",
       "\n",
       "          lattitude     QC status  \n",
       "count  14461.000000  14459.000000  \n",
       "mean      37.716693      0.540978  \n",
       "std       18.576356      0.498335  \n",
       "min      -45.900000      0.000000  \n",
       "25%       34.100000      0.000000  \n",
       "50%       40.700000      1.000000  \n",
       "75%       50.900000      1.000000  \n",
       "max       64.900000      1.000000  "
      ]
     },
     "execution_count": 2,
     "metadata": {},
     "output_type": "execute_result"
    }
   ],
   "source": [
    "df_pr1 = pd.read_csv('Data/all_runs_in_project_PRJEB11419.tsv', sep=\"\t\" , index_col=False)\n",
    "df_pr1.describe()"
   ]
  },
  {
   "cell_type": "code",
   "execution_count": 3,
   "id": "19ca63a9",
   "metadata": {},
   "outputs": [
    {
     "data": {
      "application/vnd.microsoft.datawrangler.viewer.v0+json": {
       "columns": [
        {
         "name": "index",
         "rawType": "int64",
         "type": "integer"
        },
        {
         "name": "project ID",
         "rawType": "object",
         "type": "string"
        },
        {
         "name": "run ID",
         "rawType": "object",
         "type": "string"
        },
        {
         "name": "experiment type",
         "rawType": "object",
         "type": "string"
        },
        {
         "name": "instrument model",
         "rawType": "object",
         "type": "string"
        },
        {
         "name": "nr. reads sequenced",
         "rawType": "int64",
         "type": "integer"
        },
        {
         "name": "host age",
         "rawType": "int64",
         "type": "integer"
        },
        {
         "name": "sex",
         "rawType": "object",
         "type": "string"
        },
        {
         "name": "BMI",
         "rawType": "float64",
         "type": "float"
        },
        {
         "name": "country",
         "rawType": "object",
         "type": "string"
        },
        {
         "name": "longitude",
         "rawType": "float64",
         "type": "float"
        },
        {
         "name": "lattitude",
         "rawType": "float64",
         "type": "float"
        },
        {
         "name": "associated phenotype",
         "rawType": "object",
         "type": "string"
        },
        {
         "name": "QC status",
         "rawType": "float64",
         "type": "float"
        }
       ],
       "ref": "5c3aa6b7-e8ef-4b66-9a82-5e75b3e0e8bf",
       "rows": [
        [
         "1",
         "PRJEB11419",
         "ERR1072629",
         "Amplicon",
         "Illumina MiSeq",
         "23830",
         "64",
         "Male",
         "17.67",
         "United States of America",
         "-70.3",
         "41.6",
         "D003863",
         "1.0"
        ],
        [
         "42",
         "PRJEB11419",
         "ERR1072937",
         "Amplicon",
         "Illumina MiSeq",
         "27504",
         "53",
         "Male",
         "26.51",
         "United States of America",
         "-116.2",
         "43.6",
         "D003863",
         "1.0"
        ],
        [
         "50",
         "PRJEB11419",
         "ERR1073023",
         "Amplicon",
         "Illumina MiSeq",
         "24706",
         "35",
         "Female",
         "34.72",
         "United States of America",
         "-93.3",
         "45.0",
         "D003863",
         "1.0"
        ],
        [
         "81",
         "PRJEB11419",
         "ERR1073394",
         "Amplicon",
         "Illumina MiSeq",
         "43579",
         "27",
         "Female",
         "22.41",
         "United States of America",
         "-117.2",
         "32.8",
         "D003863",
         "1.0"
        ],
        [
         "88",
         "PRJEB11419",
         "ERR1073395",
         "Amplicon",
         "Illumina MiSeq",
         "45092",
         "27",
         "Female",
         "22.41",
         "United States of America",
         "-117.2",
         "32.8",
         "D003863",
         "1.0"
        ]
       ],
       "shape": {
        "columns": 13,
        "rows": 5
       }
      },
      "text/html": [
       "<div>\n",
       "<style scoped>\n",
       "    .dataframe tbody tr th:only-of-type {\n",
       "        vertical-align: middle;\n",
       "    }\n",
       "\n",
       "    .dataframe tbody tr th {\n",
       "        vertical-align: top;\n",
       "    }\n",
       "\n",
       "    .dataframe thead th {\n",
       "        text-align: right;\n",
       "    }\n",
       "</style>\n",
       "<table border=\"1\" class=\"dataframe\">\n",
       "  <thead>\n",
       "    <tr style=\"text-align: right;\">\n",
       "      <th></th>\n",
       "      <th>project ID</th>\n",
       "      <th>run ID</th>\n",
       "      <th>experiment type</th>\n",
       "      <th>instrument model</th>\n",
       "      <th>nr. reads sequenced</th>\n",
       "      <th>host age</th>\n",
       "      <th>sex</th>\n",
       "      <th>BMI</th>\n",
       "      <th>country</th>\n",
       "      <th>longitude</th>\n",
       "      <th>lattitude</th>\n",
       "      <th>associated phenotype</th>\n",
       "      <th>QC status</th>\n",
       "    </tr>\n",
       "  </thead>\n",
       "  <tbody>\n",
       "    <tr>\n",
       "      <th>1</th>\n",
       "      <td>PRJEB11419</td>\n",
       "      <td>ERR1072629</td>\n",
       "      <td>Amplicon</td>\n",
       "      <td>Illumina MiSeq</td>\n",
       "      <td>23830</td>\n",
       "      <td>64</td>\n",
       "      <td>Male</td>\n",
       "      <td>17.67</td>\n",
       "      <td>United States of America</td>\n",
       "      <td>-70.3</td>\n",
       "      <td>41.6</td>\n",
       "      <td>D003863</td>\n",
       "      <td>1.0</td>\n",
       "    </tr>\n",
       "    <tr>\n",
       "      <th>42</th>\n",
       "      <td>PRJEB11419</td>\n",
       "      <td>ERR1072937</td>\n",
       "      <td>Amplicon</td>\n",
       "      <td>Illumina MiSeq</td>\n",
       "      <td>27504</td>\n",
       "      <td>53</td>\n",
       "      <td>Male</td>\n",
       "      <td>26.51</td>\n",
       "      <td>United States of America</td>\n",
       "      <td>-116.2</td>\n",
       "      <td>43.6</td>\n",
       "      <td>D003863</td>\n",
       "      <td>1.0</td>\n",
       "    </tr>\n",
       "    <tr>\n",
       "      <th>50</th>\n",
       "      <td>PRJEB11419</td>\n",
       "      <td>ERR1073023</td>\n",
       "      <td>Amplicon</td>\n",
       "      <td>Illumina MiSeq</td>\n",
       "      <td>24706</td>\n",
       "      <td>35</td>\n",
       "      <td>Female</td>\n",
       "      <td>34.72</td>\n",
       "      <td>United States of America</td>\n",
       "      <td>-93.3</td>\n",
       "      <td>45.0</td>\n",
       "      <td>D003863</td>\n",
       "      <td>1.0</td>\n",
       "    </tr>\n",
       "    <tr>\n",
       "      <th>81</th>\n",
       "      <td>PRJEB11419</td>\n",
       "      <td>ERR1073394</td>\n",
       "      <td>Amplicon</td>\n",
       "      <td>Illumina MiSeq</td>\n",
       "      <td>43579</td>\n",
       "      <td>27</td>\n",
       "      <td>Female</td>\n",
       "      <td>22.41</td>\n",
       "      <td>United States of America</td>\n",
       "      <td>-117.2</td>\n",
       "      <td>32.8</td>\n",
       "      <td>D003863</td>\n",
       "      <td>1.0</td>\n",
       "    </tr>\n",
       "    <tr>\n",
       "      <th>88</th>\n",
       "      <td>PRJEB11419</td>\n",
       "      <td>ERR1073395</td>\n",
       "      <td>Amplicon</td>\n",
       "      <td>Illumina MiSeq</td>\n",
       "      <td>45092</td>\n",
       "      <td>27</td>\n",
       "      <td>Female</td>\n",
       "      <td>22.41</td>\n",
       "      <td>United States of America</td>\n",
       "      <td>-117.2</td>\n",
       "      <td>32.8</td>\n",
       "      <td>D003863</td>\n",
       "      <td>1.0</td>\n",
       "    </tr>\n",
       "  </tbody>\n",
       "</table>\n",
       "</div>"
      ],
      "text/plain": [
       "    project ID      run ID experiment type instrument model  \\\n",
       "1   PRJEB11419  ERR1072629        Amplicon   Illumina MiSeq   \n",
       "42  PRJEB11419  ERR1072937        Amplicon   Illumina MiSeq   \n",
       "50  PRJEB11419  ERR1073023        Amplicon   Illumina MiSeq   \n",
       "81  PRJEB11419  ERR1073394        Amplicon   Illumina MiSeq   \n",
       "88  PRJEB11419  ERR1073395        Amplicon   Illumina MiSeq   \n",
       "\n",
       "    nr. reads sequenced  host age     sex    BMI                   country  \\\n",
       "1                 23830        64    Male  17.67  United States of America   \n",
       "42                27504        53    Male  26.51  United States of America   \n",
       "50                24706        35  Female  34.72  United States of America   \n",
       "81                43579        27  Female  22.41  United States of America   \n",
       "88                45092        27  Female  22.41  United States of America   \n",
       "\n",
       "    longitude  lattitude associated phenotype  QC status  \n",
       "1       -70.3       41.6              D003863        1.0  \n",
       "42     -116.2       43.6              D003863        1.0  \n",
       "50      -93.3       45.0              D003863        1.0  \n",
       "81     -117.2       32.8              D003863        1.0  \n",
       "88     -117.2       32.8              D003863        1.0  "
      ]
     },
     "execution_count": 3,
     "metadata": {},
     "output_type": "execute_result"
    }
   ],
   "source": [
    "df_QC1 = df_pr1.loc[df_pr1['QC status'] == 1.0]\n",
    "df_phen_depr = df_QC1.loc[df_QC1['associated phenotype'] == 'D003863'] #depr\n",
    "df_phen_depr.head()"
   ]
  },
  {
   "cell_type": "code",
   "execution_count": 4,
   "id": "2bc96232",
   "metadata": {},
   "outputs": [
    {
     "data": {
      "application/vnd.microsoft.datawrangler.viewer.v0+json": {
       "columns": [
        {
         "name": "index",
         "rawType": "object",
         "type": "string"
        },
        {
         "name": "run ID",
         "rawType": "object",
         "type": "unknown"
        }
       ],
       "ref": "46a1005f-2744-493a-92a7-4ddf939cbc32",
       "rows": [
        [
         "count",
         "354"
        ],
        [
         "unique",
         "354"
        ],
        [
         "top",
         "ERR1072629"
        ],
        [
         "freq",
         "1"
        ]
       ],
       "shape": {
        "columns": 1,
        "rows": 4
       }
      },
      "text/plain": [
       "count            354\n",
       "unique           354\n",
       "top       ERR1072629\n",
       "freq               1\n",
       "Name: run ID, dtype: object"
      ]
     },
     "execution_count": 4,
     "metadata": {},
     "output_type": "execute_result"
    }
   ],
   "source": [
    "df_runs = df_phen_depr['run ID']\n",
    "df_runs.describe()"
   ]
  },
  {
   "cell_type": "code",
   "execution_count": 5,
   "id": "9fd11e49",
   "metadata": {},
   "outputs": [],
   "source": [
    "df_only_runs = pd.DataFrame({'Runs': df_runs.values})"
   ]
  },
  {
   "cell_type": "code",
   "execution_count": 6,
   "id": "9c839582",
   "metadata": {},
   "outputs": [
    {
     "data": {
      "application/vnd.microsoft.datawrangler.viewer.v0+json": {
       "columns": [
        {
         "name": "index",
         "rawType": "object",
         "type": "string"
        },
        {
         "name": "Runs",
         "rawType": "object",
         "type": "unknown"
        }
       ],
       "ref": "a1662559-f945-442f-8bbd-2001e6740ae2",
       "rows": [
        [
         "count",
         "354"
        ],
        [
         "unique",
         "354"
        ],
        [
         "top",
         "ERR1072629"
        ],
        [
         "freq",
         "1"
        ]
       ],
       "shape": {
        "columns": 1,
        "rows": 4
       }
      },
      "text/html": [
       "<div>\n",
       "<style scoped>\n",
       "    .dataframe tbody tr th:only-of-type {\n",
       "        vertical-align: middle;\n",
       "    }\n",
       "\n",
       "    .dataframe tbody tr th {\n",
       "        vertical-align: top;\n",
       "    }\n",
       "\n",
       "    .dataframe thead th {\n",
       "        text-align: right;\n",
       "    }\n",
       "</style>\n",
       "<table border=\"1\" class=\"dataframe\">\n",
       "  <thead>\n",
       "    <tr style=\"text-align: right;\">\n",
       "      <th></th>\n",
       "      <th>Runs</th>\n",
       "    </tr>\n",
       "  </thead>\n",
       "  <tbody>\n",
       "    <tr>\n",
       "      <th>count</th>\n",
       "      <td>354</td>\n",
       "    </tr>\n",
       "    <tr>\n",
       "      <th>unique</th>\n",
       "      <td>354</td>\n",
       "    </tr>\n",
       "    <tr>\n",
       "      <th>top</th>\n",
       "      <td>ERR1072629</td>\n",
       "    </tr>\n",
       "    <tr>\n",
       "      <th>freq</th>\n",
       "      <td>1</td>\n",
       "    </tr>\n",
       "  </tbody>\n",
       "</table>\n",
       "</div>"
      ],
      "text/plain": [
       "              Runs\n",
       "count          354\n",
       "unique         354\n",
       "top     ERR1072629\n",
       "freq             1"
      ]
     },
     "execution_count": 6,
     "metadata": {},
     "output_type": "execute_result"
    }
   ],
   "source": [
    "df_only_runs.describe()"
   ]
  },
  {
   "cell_type": "code",
   "execution_count": 7,
   "id": "4f4290a9",
   "metadata": {},
   "outputs": [],
   "source": [
    "all_flattened_runs = []"
   ]
  },
  {
   "cell_type": "code",
   "execution_count": 9,
   "id": "e11b94f8",
   "metadata": {},
   "outputs": [
    {
     "name": "stdout",
     "output_type": "stream",
     "text": [
      "Error processing run {'project_id': 'PRJEB11419', 'original_sample_description': 'American Gut Project Stool Sample which has Depression,Bipolar Disorder,Schizophrenia,Irritable Bowel Syndrome,Diarrhea', 'run_id': 'ERR1089710', 'experiment_type': 'Amplicon', 'instrument_model': 'Illumina MiSeq', 'nr_reads_sequenced': 37941, 'host_age': 63, 'sex': 'Female', 'BMI': 9.4, 'country': 'United States of America', 'longitude': -82.3, 'latitude': 36.3, 'loaded_uid': 38457, 'QCStatus': 1, 'QCMessage': '', 'Original_Project_description': 'The American Gut project is the largest crowdsourced citizen science project to date. Fecal, oral, skin, and other body site samples collected from thousands of participants represent the largest human microbiome cohort in existence. Detailed health and lifestyle and diet data associated with each sample is enabling us to deeply examine associations between the human microbiome and factors such as diet (from vegan to near carnivore and everything in between), season, amount of sleep, and disease states such as IBD, diabetes, or autism spectrum disorder-as well as many other factors not listed here. The American Gut project also encompasses the British Gut and Australian Gut projects, widening the cohort beyond North America. As the project continues to grow, we will be able to identify significant associations that would not be possible with smaller, geographically and health/disease status-limited cohorts.'}: HTTPSConnectionPool(host='gmrepo.humangut.info', port=443): Max retries exceeded with url: /api/getFullTaxonomicProfileByRunID (Caused by ConnectTimeoutError(<urllib3.connection.HTTPSConnection object at 0x000001EEEE9BB890>, 'Connection to gmrepo.humangut.info timed out. (connect timeout=None)'))\n",
      "Error processing run {'project_id': 'PRJEB11419', 'original_sample_description': 'American Gut Project Stool Sample which has Autoimmune Diseases,Depression,Bipolar Disorder,Schizophrenia,Diabetes Mellitus,Fungal overgrowth', 'run_id': 'ERR1089833', 'experiment_type': 'Amplicon', 'instrument_model': 'Illumina MiSeq', 'nr_reads_sequenced': 32783, 'host_age': 59, 'sex': 'Female', 'BMI': 20.82, 'country': 'United States of America', 'longitude': -105.2, 'latitude': 40, 'loaded_uid': 34079, 'QCStatus': 1, 'QCMessage': '', 'Original_Project_description': 'The American Gut project is the largest crowdsourced citizen science project to date. Fecal, oral, skin, and other body site samples collected from thousands of participants represent the largest human microbiome cohort in existence. Detailed health and lifestyle and diet data associated with each sample is enabling us to deeply examine associations between the human microbiome and factors such as diet (from vegan to near carnivore and everything in between), season, amount of sleep, and disease states such as IBD, diabetes, or autism spectrum disorder-as well as many other factors not listed here. The American Gut project also encompasses the British Gut and Australian Gut projects, widening the cohort beyond North America. As the project continues to grow, we will be able to identify significant associations that would not be possible with smaller, geographically and health/disease status-limited cohorts.'}: HTTPSConnectionPool(host='gmrepo.humangut.info', port=443): Max retries exceeded with url: /api/getFullTaxonomicProfileByRunID (Caused by ConnectTimeoutError(<urllib3.connection.HTTPSConnection object at 0x000001EEEEA08B90>, 'Connection to gmrepo.humangut.info timed out. (connect timeout=None)'))\n"
     ]
    }
   ],
   "source": [
    "\n",
    "\n",
    "for index, run_id in df_only_runs[\"Runs\"].items():\n",
    "    try:\n",
    "        query = {\"run_id\":run_id}  \n",
    "        url = 'https://gmrepo.humangut.info/api/getFullTaxonomicProfileByRunID'\n",
    "        data = requests.post(url, data=json.dumps(query)).json()\n",
    "\n",
    "        ## --get run List\n",
    "        run = data.get(\"run\")\n",
    "\n",
    "        ## --get DataFrames\n",
    "        species = DataFrame(data.get(\"species\"))\n",
    "        species = species.drop(columns = ['taxon_rank_level', 'relative_abundance']) #drop useless info\n",
    "\n",
    "        #species = species[species['ncbi_taxon_id'] != -1]   #drop missing taxons\n",
    "        flat = species.set_index('ncbi_taxon_id')['scientific_name'].T\n",
    "        flat = flat.rename_axis(None).to_frame().T\n",
    "        flat.insert(0, 'Run', run_id)\n",
    "        all_flattened_runs.append(species)\n",
    "    except Exception as e:\n",
    "        print(f\"Error processing run {run}: {e}\")\n",
    "\n"
   ]
  },
  {
   "cell_type": "code",
   "execution_count": 10,
   "id": "40676138",
   "metadata": {},
   "outputs": [],
   "source": [
    "final_df = pd.concat(all_flattened_runs, ignore_index=True)\n"
   ]
  },
  {
   "cell_type": "code",
   "execution_count": 11,
   "id": "8e5f98b0",
   "metadata": {},
   "outputs": [
    {
     "data": {
      "application/vnd.microsoft.datawrangler.viewer.v0+json": {
       "columns": [
        {
         "name": "index",
         "rawType": "int64",
         "type": "integer"
        },
        {
         "name": "ncbi_taxon_id",
         "rawType": "int64",
         "type": "integer"
        },
        {
         "name": "scientific_name",
         "rawType": "object",
         "type": "string"
        }
       ],
       "ref": "370a8cd3-af0d-48a9-88de-693f38b9c9b4",
       "rows": [
        [
         "0",
         "821",
         "Bacteroides vulgatus"
        ],
        [
         "1",
         "328813",
         "Alistipes onderdonkii"
        ],
        [
         "2",
         "823",
         "Parabacteroides distasonis"
        ],
        [
         "3",
         "817",
         "Bacteroides fragilis"
        ],
        [
         "4",
         "818",
         "Bacteroides thetaiotaomicron"
        ]
       ],
       "shape": {
        "columns": 2,
        "rows": 5
       }
      },
      "text/html": [
       "<div>\n",
       "<style scoped>\n",
       "    .dataframe tbody tr th:only-of-type {\n",
       "        vertical-align: middle;\n",
       "    }\n",
       "\n",
       "    .dataframe tbody tr th {\n",
       "        vertical-align: top;\n",
       "    }\n",
       "\n",
       "    .dataframe thead th {\n",
       "        text-align: right;\n",
       "    }\n",
       "</style>\n",
       "<table border=\"1\" class=\"dataframe\">\n",
       "  <thead>\n",
       "    <tr style=\"text-align: right;\">\n",
       "      <th></th>\n",
       "      <th>ncbi_taxon_id</th>\n",
       "      <th>scientific_name</th>\n",
       "    </tr>\n",
       "  </thead>\n",
       "  <tbody>\n",
       "    <tr>\n",
       "      <th>0</th>\n",
       "      <td>821</td>\n",
       "      <td>Bacteroides vulgatus</td>\n",
       "    </tr>\n",
       "    <tr>\n",
       "      <th>1</th>\n",
       "      <td>328813</td>\n",
       "      <td>Alistipes onderdonkii</td>\n",
       "    </tr>\n",
       "    <tr>\n",
       "      <th>2</th>\n",
       "      <td>823</td>\n",
       "      <td>Parabacteroides distasonis</td>\n",
       "    </tr>\n",
       "    <tr>\n",
       "      <th>3</th>\n",
       "      <td>817</td>\n",
       "      <td>Bacteroides fragilis</td>\n",
       "    </tr>\n",
       "    <tr>\n",
       "      <th>4</th>\n",
       "      <td>818</td>\n",
       "      <td>Bacteroides thetaiotaomicron</td>\n",
       "    </tr>\n",
       "  </tbody>\n",
       "</table>\n",
       "</div>"
      ],
      "text/plain": [
       "   ncbi_taxon_id               scientific_name\n",
       "0            821          Bacteroides vulgatus\n",
       "1         328813         Alistipes onderdonkii\n",
       "2            823    Parabacteroides distasonis\n",
       "3            817          Bacteroides fragilis\n",
       "4            818  Bacteroides thetaiotaomicron"
      ]
     },
     "execution_count": 11,
     "metadata": {},
     "output_type": "execute_result"
    }
   ],
   "source": [
    "final_df.head()"
   ]
  },
  {
   "cell_type": "code",
   "execution_count": 12,
   "id": "c10b1940",
   "metadata": {},
   "outputs": [],
   "source": [
    "df = final_df.drop_duplicates(subset='ncbi_taxon_id', keep='first')"
   ]
  },
  {
   "cell_type": "code",
   "execution_count": 13,
   "id": "6f9d98be",
   "metadata": {},
   "outputs": [
    {
     "data": {
      "application/vnd.microsoft.datawrangler.viewer.v0+json": {
       "columns": [
        {
         "name": "index",
         "rawType": "int64",
         "type": "integer"
        },
        {
         "name": "ncbi_taxon_id",
         "rawType": "int64",
         "type": "integer"
        },
        {
         "name": "scientific_name",
         "rawType": "object",
         "type": "string"
        }
       ],
       "ref": "7f41a089-606c-4578-b335-c0e1019596f4",
       "rows": [
        [
         "0",
         "821",
         "Bacteroides vulgatus"
        ],
        [
         "1",
         "328813",
         "Alistipes onderdonkii"
        ],
        [
         "2",
         "823",
         "Parabacteroides distasonis"
        ],
        [
         "3",
         "817",
         "Bacteroides fragilis"
        ],
        [
         "4",
         "818",
         "Bacteroides thetaiotaomicron"
        ]
       ],
       "shape": {
        "columns": 2,
        "rows": 5
       }
      },
      "text/html": [
       "<div>\n",
       "<style scoped>\n",
       "    .dataframe tbody tr th:only-of-type {\n",
       "        vertical-align: middle;\n",
       "    }\n",
       "\n",
       "    .dataframe tbody tr th {\n",
       "        vertical-align: top;\n",
       "    }\n",
       "\n",
       "    .dataframe thead th {\n",
       "        text-align: right;\n",
       "    }\n",
       "</style>\n",
       "<table border=\"1\" class=\"dataframe\">\n",
       "  <thead>\n",
       "    <tr style=\"text-align: right;\">\n",
       "      <th></th>\n",
       "      <th>ncbi_taxon_id</th>\n",
       "      <th>scientific_name</th>\n",
       "    </tr>\n",
       "  </thead>\n",
       "  <tbody>\n",
       "    <tr>\n",
       "      <th>0</th>\n",
       "      <td>821</td>\n",
       "      <td>Bacteroides vulgatus</td>\n",
       "    </tr>\n",
       "    <tr>\n",
       "      <th>1</th>\n",
       "      <td>328813</td>\n",
       "      <td>Alistipes onderdonkii</td>\n",
       "    </tr>\n",
       "    <tr>\n",
       "      <th>2</th>\n",
       "      <td>823</td>\n",
       "      <td>Parabacteroides distasonis</td>\n",
       "    </tr>\n",
       "    <tr>\n",
       "      <th>3</th>\n",
       "      <td>817</td>\n",
       "      <td>Bacteroides fragilis</td>\n",
       "    </tr>\n",
       "    <tr>\n",
       "      <th>4</th>\n",
       "      <td>818</td>\n",
       "      <td>Bacteroides thetaiotaomicron</td>\n",
       "    </tr>\n",
       "  </tbody>\n",
       "</table>\n",
       "</div>"
      ],
      "text/plain": [
       "   ncbi_taxon_id               scientific_name\n",
       "0            821          Bacteroides vulgatus\n",
       "1         328813         Alistipes onderdonkii\n",
       "2            823    Parabacteroides distasonis\n",
       "3            817          Bacteroides fragilis\n",
       "4            818  Bacteroides thetaiotaomicron"
      ]
     },
     "execution_count": 13,
     "metadata": {},
     "output_type": "execute_result"
    }
   ],
   "source": [
    "df.head()"
   ]
  },
  {
   "cell_type": "code",
   "execution_count": 20,
   "id": "c59e0ef1",
   "metadata": {},
   "outputs": [],
   "source": [
    "from collections import Counter\n",
    "\n",
    "def features_in_k_arrays(arrays, k):\n",
    "    if not arrays:\n",
    "        return []\n",
    "\n",
    "    counter = Counter()\n",
    "    \n",
    "    for array in arrays:\n",
    "        unique_strings = set(array)  \n",
    "        counter.update(unique_strings)\n",
    "    \n",
    "    return [string for string, count in counter.items() if count >= k]"
   ]
  },
  {
   "cell_type": "code",
   "execution_count": 14,
   "id": "c78afb7f",
   "metadata": {},
   "outputs": [],
   "source": [
    "five_folds = ['1692', '1536', '66219', '1580', '78344', '831', '947013', '1495', '339862', '45076', '1304158', '392736', '255723'] \n",
    "\n",
    "four_folds =  ['36854', '40091', '1692', '1536', '66219', '1309', '1580', '47877', '232270', '78344', '40324', '831', '658457', '947013', '544645', '1670', '183', '1495', '863', '314319', '339862', '45076', '1304158', '395922', '392736', '363832', '255723', '36842'] \n",
    "\n",
    "three_folds = ['36854', '29346', '40091', '1692', '1536', '66219', '1309', '1580', '47877', '232270', '78344', '1776082', '40324', '831', '658457', '947013', '46506', '544645', '332163', '156974', '1670', '52769', '183', '1495', '863', '53462', '314319', '745368', '28108', '339862', '45076', '216940', '1304158', '371601', '395922', '392736', '68274', '363832', '255723', '28038', '1717', '2137', '736', '234908', '1724', '587', '46867', '1530', '36842', '148814', '1586267'] \n",
    "\n",
    "\n",
    "\n",
    "five_folds_2 = ['831', '339862', '376805', '66219', '947013', '78344', '40091', '36842', '36854', '392736', '1495', '1692', '1736'] \n",
    "\n",
    "four_folds_2 = ['85831', '831', '339862', '376805', '66219', '148814', '947013', '78344', '40091', '36842', '28134', '36854', '183', '392736', '1343', '1309', '1495', '255723', '1692', '1736', '1530', '1586267', '1304158', '1776082', '45076', '232270'] \n",
    "\n",
    "three_folds_2 = ['68274', '53462', '85831', '831', '339862', '47246', '376805', '1670', '66219', '148814', '947013', '78344', '2137', '40091', '36842', '28134', '36854', '183', '392736', '1343', '1309', '363832', '29346', '1495', '216940', '255723', '1692', '1736', '1530', '1453594', '1586267', '46867', '1304158', '1776082', '45076', '310298', '232270', '28133', '745368', '47877', '863'] \n"
   ]
  },
  {
   "cell_type": "code",
   "execution_count": null,
   "id": "195f7621",
   "metadata": {},
   "outputs": [],
   "source": []
  },
  {
   "cell_type": "code",
   "execution_count": 17,
   "id": "befc1591",
   "metadata": {},
   "outputs": [
    {
     "name": "stdout",
     "output_type": "stream",
     "text": [
      "Empty DataFrame\n",
      "Columns: [ncbi_taxon_id, scientific_name]\n",
      "Index: []\n"
     ]
    }
   ],
   "source": [
    "filtered_df = df[df['ncbi_taxon_id'].isin(five_folds)]\n",
    "\n",
    "print(filtered_df)"
   ]
  },
  {
   "cell_type": "code",
   "execution_count": 27,
   "id": "56044a77",
   "metadata": {},
   "outputs": [
    {
     "name": "stdout",
     "output_type": "stream",
     "text": [
      "      ncbi_taxon_id                    scientific_name\n",
      "90            36842             Clostridium halophilum\n",
      "230          658457               Pseudomonas composti\n",
      "241           40324       Stenotrophomonas maltophilia\n",
      "379          339862         Desulfosporosinus youngiae\n",
      "418           36854    Desulfitobacterium dehalogenans\n",
      "908          232270             Effusibacillus pohliae\n",
      "919            1495         Clostridium cylindrosporum\n",
      "920          363832               Solirubrobacter soli\n",
      "922             863              Syntrophomonas wolfei\n",
      "952          314319       Prolixibacter bellariivorans\n",
      "957          392736     Uliginosibacterium gangwonense\n",
      "1046         395922       Coraliomargarita akajimensis\n",
      "1180           1580               Lactobacillus brevis\n",
      "1294          47877               Pseudomonas amygdali\n",
      "1312          45076            Legionella worsleiensis\n",
      "1494           1309               Streptococcus mutans\n",
      "1879           1670               Arthrobacter citreus\n",
      "2308         255723                 Slackia faecicanis\n",
      "2672        1304158            Salinisphaera halophila\n",
      "3212            831          Butyrivibrio fibrisolvens\n",
      "3392          66219  Lachnoclostridium phytofermentans\n",
      "3538          40091                 Helcococcus kunzii\n",
      "4432           1536                   Hathewaya limosa\n",
      "5094          78344         Bifidobacterium gallinarum\n",
      "5407           1692             Bifidobacterium magnum\n",
      "5931            183                   Leptonema illini\n",
      "7729         947013               Chryseolinea serpens\n",
      "22419        544645               Butyricimonas virosa\n"
     ]
    }
   ],
   "source": [
    "filtered_df = df[df['ncbi_taxon_id'].isin(four_folds)]\n",
    "\n",
    "print(filtered_df)"
   ]
  },
  {
   "cell_type": "code",
   "execution_count": 29,
   "id": "ffc99634",
   "metadata": {},
   "outputs": [
    {
     "name": "stdout",
     "output_type": "stream",
     "text": [
      "      ncbi_taxon_id                    scientific_name\n",
      "33           371601          Bacteroides xylanisolvens\n",
      "59            46506              Bacteroides stercoris\n",
      "90            36842             Clostridium halophilum\n",
      "205           28038             Lactobacillus curvatus\n",
      "208             736   Haemophilus paraphrohaemolyticus\n",
      "230          658457               Pseudomonas composti\n",
      "241           40324       Stenotrophomonas maltophilia\n",
      "347           46867               Clostridium chauvoei\n",
      "379          339862         Desulfosporosinus youngiae\n",
      "391           29346            [Clostridium] paradoxum\n",
      "418           36854    Desulfitobacterium dehalogenans\n",
      "589           28108              Alteromonas macleodii\n",
      "906          148814              Lactobacillus kunkeei\n",
      "908          232270             Effusibacillus pohliae\n",
      "919            1495         Clostridium cylindrosporum\n",
      "920          363832               Solirubrobacter soli\n",
      "922             863              Syntrophomonas wolfei\n",
      "952          314319       Prolixibacter bellariivorans\n",
      "957          392736     Uliginosibacterium gangwonense\n",
      "970           52769           Actinomyces gerencseriae\n",
      "1046         395922       Coraliomargarita akajimensis\n",
      "1180           1580               Lactobacillus brevis\n",
      "1294          47877               Pseudomonas amygdali\n",
      "1312          45076            Legionella worsleiensis\n",
      "1439        1776082               Shigella sp. SF-2015\n",
      "1494           1309               Streptococcus mutans\n",
      "1619         216940          Spiroplasma lampyridicola\n",
      "1685           2137                   Spiroplasma apis\n",
      "1765          53462          Mycobacterium mageritense\n",
      "1773          68274              Streptomyces tauricus\n",
      "1879           1670               Arthrobacter citreus\n",
      "2308         255723                 Slackia faecicanis\n",
      "2630           1717        Corynebacterium diphtheriae\n",
      "2672        1304158            Salinisphaera halophila\n",
      "2673           1724             Corynebacterium renale\n",
      "3212            831          Butyrivibrio fibrisolvens\n",
      "3392          66219  Lachnoclostridium phytofermentans\n",
      "3538          40091                 Helcococcus kunzii\n",
      "4432           1536                   Hathewaya limosa\n",
      "4990         332163     Candidatus Solibacter usitatus\n",
      "5094          78344         Bifidobacterium gallinarum\n",
      "5407           1692             Bifidobacterium magnum\n",
      "5931            183                   Leptonema illini\n",
      "7418        1586267                 Apibacter mensalis\n",
      "7729         947013               Chryseolinea serpens\n",
      "8349         156974                 Dysgonomonas gadei\n",
      "22419        544645               Butyricimonas virosa\n",
      "22638        745368                Gemmiger formicilis\n",
      "22843        234908           Sutterella stercoricanis\n",
      "22998          1530                 Clostridium carnis\n",
      "23590           587               Providencia rettgeri\n"
     ]
    }
   ],
   "source": [
    "filtered_df = df[df['ncbi_taxon_id'].isin(three_folds)]\n",
    "\n",
    "print(filtered_df)"
   ]
  },
  {
   "cell_type": "code",
   "execution_count": 22,
   "id": "4415e537",
   "metadata": {},
   "outputs": [
    {
     "name": "stdout",
     "output_type": "stream",
     "text": [
      "['66219', '78344', '831', '1495', '392736', '947013', '339862', '1692']\n"
     ]
    }
   ],
   "source": [
    "arrays = [five_folds, five_folds_2]\n",
    "test = features_in_k_arrays(arrays, 2)\n",
    "print(test)"
   ]
  },
  {
   "cell_type": "code",
   "execution_count": 24,
   "id": "923622ee",
   "metadata": {},
   "outputs": [
    {
     "name": "stdout",
     "output_type": "stream",
     "text": [
      "['36854', '1692', '831', '947013', '183', '339862', '1495', '45076', '36842', '40091', '1304158', '66219', '78344', '255723', '392736', '232270', '1309']\n"
     ]
    }
   ],
   "source": [
    "arrays = [four_folds, four_folds_2]\n",
    "test_2= features_in_k_arrays(arrays, 2)\n",
    "print(test_2)"
   ]
  }
 ],
 "metadata": {
  "kernelspec": {
   "display_name": "base",
   "language": "python",
   "name": "python3"
  },
  "language_info": {
   "codemirror_mode": {
    "name": "ipython",
    "version": 3
   },
   "file_extension": ".py",
   "mimetype": "text/x-python",
   "name": "python",
   "nbconvert_exporter": "python",
   "pygments_lexer": "ipython3",
   "version": "3.11.4"
  }
 },
 "nbformat": 4,
 "nbformat_minor": 5
}
