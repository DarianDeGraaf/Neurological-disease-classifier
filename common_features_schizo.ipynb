{
 "cells": [
  {
   "cell_type": "code",
   "execution_count": 10,
   "id": "fee2ed17",
   "metadata": {},
   "outputs": [],
   "source": [
    "import os\n",
    "import json\n",
    "import pandas as pd\n",
    "import requests\n",
    "from pandas.core.frame import DataFrame\n",
    "\n",
    "import numpy as np\n",
    "from sklearn.preprocessing import FunctionTransformer, StandardScaler\n",
    "from sklearn.pipeline import Pipeline"
   ]
  },
  {
   "cell_type": "code",
   "execution_count": 11,
   "id": "425ee33e",
   "metadata": {},
   "outputs": [
    {
     "data": {
      "application/vnd.microsoft.datawrangler.viewer.v0+json": {
       "columns": [
        {
         "name": "index",
         "rawType": "object",
         "type": "string"
        },
        {
         "name": "nr. reads sequenced",
         "rawType": "float64",
         "type": "float"
        },
        {
         "name": "host age",
         "rawType": "float64",
         "type": "float"
        },
        {
         "name": "BMI",
         "rawType": "float64",
         "type": "float"
        },
        {
         "name": "longitude",
         "rawType": "float64",
         "type": "float"
        },
        {
         "name": "lattitude",
         "rawType": "float64",
         "type": "float"
        },
        {
         "name": "QC status",
         "rawType": "float64",
         "type": "float"
        }
       ],
       "ref": "bd3a6708-f6b7-4a35-a098-f61452191526",
       "rows": [
        [
         "count",
         "14461.0",
         "14461.0",
         "14461.0",
         "14461.0",
         "14461.0",
         "14459.0"
        ],
        [
         "mean",
         "32905.29811216375",
         "45.10683908443399",
         "43.83569808450315",
         "-56.134105525205726",
         "37.71669317474588",
         "0.5409779376167093"
        ],
        [
         "std",
         "39187.68457901751",
         "18.45643057131903",
         "566.1170041961095",
         "64.91897711111147",
         "18.576356107766834",
         "0.49833521243327256"
        ],
        [
         "min",
         "0.0",
         "0.0",
         "0.0",
         "-166.5",
         "-45.9",
         "0.0"
        ],
        [
         "25%",
         "16246.0",
         "34.0",
         "20.78",
         "-110.7",
         "34.1",
         "0.0"
        ],
        [
         "50%",
         "24507.0",
         "47.0",
         "23.4",
         "-76.9",
         "40.7",
         "1.0"
        ],
        [
         "75%",
         "35872.0",
         "60.0",
         "26.5",
         "-1.0",
         "50.9",
         "1.0"
        ],
        [
         "max",
         "1545243.0",
         "96.0",
         "42500.0",
         "175.7",
         "64.9",
         "1.0"
        ]
       ],
       "shape": {
        "columns": 6,
        "rows": 8
       }
      },
      "text/html": [
       "<div>\n",
       "<style scoped>\n",
       "    .dataframe tbody tr th:only-of-type {\n",
       "        vertical-align: middle;\n",
       "    }\n",
       "\n",
       "    .dataframe tbody tr th {\n",
       "        vertical-align: top;\n",
       "    }\n",
       "\n",
       "    .dataframe thead th {\n",
       "        text-align: right;\n",
       "    }\n",
       "</style>\n",
       "<table border=\"1\" class=\"dataframe\">\n",
       "  <thead>\n",
       "    <tr style=\"text-align: right;\">\n",
       "      <th></th>\n",
       "      <th>nr. reads sequenced</th>\n",
       "      <th>host age</th>\n",
       "      <th>BMI</th>\n",
       "      <th>longitude</th>\n",
       "      <th>lattitude</th>\n",
       "      <th>QC status</th>\n",
       "    </tr>\n",
       "  </thead>\n",
       "  <tbody>\n",
       "    <tr>\n",
       "      <th>count</th>\n",
       "      <td>1.446100e+04</td>\n",
       "      <td>14461.000000</td>\n",
       "      <td>14461.000000</td>\n",
       "      <td>14461.000000</td>\n",
       "      <td>14461.000000</td>\n",
       "      <td>14459.000000</td>\n",
       "    </tr>\n",
       "    <tr>\n",
       "      <th>mean</th>\n",
       "      <td>3.290530e+04</td>\n",
       "      <td>45.106839</td>\n",
       "      <td>43.835698</td>\n",
       "      <td>-56.134106</td>\n",
       "      <td>37.716693</td>\n",
       "      <td>0.540978</td>\n",
       "    </tr>\n",
       "    <tr>\n",
       "      <th>std</th>\n",
       "      <td>3.918768e+04</td>\n",
       "      <td>18.456431</td>\n",
       "      <td>566.117004</td>\n",
       "      <td>64.918977</td>\n",
       "      <td>18.576356</td>\n",
       "      <td>0.498335</td>\n",
       "    </tr>\n",
       "    <tr>\n",
       "      <th>min</th>\n",
       "      <td>0.000000e+00</td>\n",
       "      <td>0.000000</td>\n",
       "      <td>0.000000</td>\n",
       "      <td>-166.500000</td>\n",
       "      <td>-45.900000</td>\n",
       "      <td>0.000000</td>\n",
       "    </tr>\n",
       "    <tr>\n",
       "      <th>25%</th>\n",
       "      <td>1.624600e+04</td>\n",
       "      <td>34.000000</td>\n",
       "      <td>20.780000</td>\n",
       "      <td>-110.700000</td>\n",
       "      <td>34.100000</td>\n",
       "      <td>0.000000</td>\n",
       "    </tr>\n",
       "    <tr>\n",
       "      <th>50%</th>\n",
       "      <td>2.450700e+04</td>\n",
       "      <td>47.000000</td>\n",
       "      <td>23.400000</td>\n",
       "      <td>-76.900000</td>\n",
       "      <td>40.700000</td>\n",
       "      <td>1.000000</td>\n",
       "    </tr>\n",
       "    <tr>\n",
       "      <th>75%</th>\n",
       "      <td>3.587200e+04</td>\n",
       "      <td>60.000000</td>\n",
       "      <td>26.500000</td>\n",
       "      <td>-1.000000</td>\n",
       "      <td>50.900000</td>\n",
       "      <td>1.000000</td>\n",
       "    </tr>\n",
       "    <tr>\n",
       "      <th>max</th>\n",
       "      <td>1.545243e+06</td>\n",
       "      <td>96.000000</td>\n",
       "      <td>42500.000000</td>\n",
       "      <td>175.700000</td>\n",
       "      <td>64.900000</td>\n",
       "      <td>1.000000</td>\n",
       "    </tr>\n",
       "  </tbody>\n",
       "</table>\n",
       "</div>"
      ],
      "text/plain": [
       "       nr. reads sequenced      host age           BMI     longitude  \\\n",
       "count         1.446100e+04  14461.000000  14461.000000  14461.000000   \n",
       "mean          3.290530e+04     45.106839     43.835698    -56.134106   \n",
       "std           3.918768e+04     18.456431    566.117004     64.918977   \n",
       "min           0.000000e+00      0.000000      0.000000   -166.500000   \n",
       "25%           1.624600e+04     34.000000     20.780000   -110.700000   \n",
       "50%           2.450700e+04     47.000000     23.400000    -76.900000   \n",
       "75%           3.587200e+04     60.000000     26.500000     -1.000000   \n",
       "max           1.545243e+06     96.000000  42500.000000    175.700000   \n",
       "\n",
       "          lattitude     QC status  \n",
       "count  14461.000000  14459.000000  \n",
       "mean      37.716693      0.540978  \n",
       "std       18.576356      0.498335  \n",
       "min      -45.900000      0.000000  \n",
       "25%       34.100000      0.000000  \n",
       "50%       40.700000      1.000000  \n",
       "75%       50.900000      1.000000  \n",
       "max       64.900000      1.000000  "
      ]
     },
     "execution_count": 11,
     "metadata": {},
     "output_type": "execute_result"
    }
   ],
   "source": [
    "df_pr1 = pd.read_csv('Data/all_runs_in_project_PRJEB11419.tsv', sep=\"\t\" , index_col=False)\n",
    "df_pr1.describe()"
   ]
  },
  {
   "cell_type": "code",
   "execution_count": 12,
   "id": "19ca63a9",
   "metadata": {},
   "outputs": [
    {
     "data": {
      "application/vnd.microsoft.datawrangler.viewer.v0+json": {
       "columns": [
        {
         "name": "index",
         "rawType": "int64",
         "type": "integer"
        },
        {
         "name": "project ID",
         "rawType": "object",
         "type": "string"
        },
        {
         "name": "run ID",
         "rawType": "object",
         "type": "string"
        },
        {
         "name": "experiment type",
         "rawType": "object",
         "type": "string"
        },
        {
         "name": "instrument model",
         "rawType": "object",
         "type": "string"
        },
        {
         "name": "nr. reads sequenced",
         "rawType": "int64",
         "type": "integer"
        },
        {
         "name": "host age",
         "rawType": "int64",
         "type": "integer"
        },
        {
         "name": "sex",
         "rawType": "object",
         "type": "string"
        },
        {
         "name": "BMI",
         "rawType": "float64",
         "type": "float"
        },
        {
         "name": "country",
         "rawType": "object",
         "type": "string"
        },
        {
         "name": "longitude",
         "rawType": "float64",
         "type": "float"
        },
        {
         "name": "lattitude",
         "rawType": "float64",
         "type": "float"
        },
        {
         "name": "associated phenotype",
         "rawType": "object",
         "type": "string"
        },
        {
         "name": "QC status",
         "rawType": "float64",
         "type": "float"
        }
       ],
       "ref": "c3428632-d3ef-4f18-b109-a79a68161441",
       "rows": [
        [
         "4",
         "PRJEB11419",
         "ERR1072629",
         "Amplicon",
         "Illumina MiSeq",
         "23830",
         "64",
         "Male",
         "17.67",
         "United States of America",
         "-70.3",
         "41.6",
         "D012559",
         "1.0"
        ],
        [
         "43",
         "PRJEB11419",
         "ERR1072937",
         "Amplicon",
         "Illumina MiSeq",
         "27504",
         "53",
         "Male",
         "26.51",
         "United States of America",
         "-116.2",
         "43.6",
         "D012559",
         "1.0"
        ],
        [
         "51",
         "PRJEB11419",
         "ERR1073023",
         "Amplicon",
         "Illumina MiSeq",
         "24706",
         "35",
         "Female",
         "34.72",
         "United States of America",
         "-93.3",
         "45.0",
         "D012559",
         "1.0"
        ],
        [
         "84",
         "PRJEB11419",
         "ERR1073394",
         "Amplicon",
         "Illumina MiSeq",
         "43579",
         "27",
         "Female",
         "22.41",
         "United States of America",
         "-117.2",
         "32.8",
         "D012559",
         "1.0"
        ],
        [
         "91",
         "PRJEB11419",
         "ERR1073395",
         "Amplicon",
         "Illumina MiSeq",
         "45092",
         "27",
         "Female",
         "22.41",
         "United States of America",
         "-117.2",
         "32.8",
         "D012559",
         "1.0"
        ]
       ],
       "shape": {
        "columns": 13,
        "rows": 5
       }
      },
      "text/html": [
       "<div>\n",
       "<style scoped>\n",
       "    .dataframe tbody tr th:only-of-type {\n",
       "        vertical-align: middle;\n",
       "    }\n",
       "\n",
       "    .dataframe tbody tr th {\n",
       "        vertical-align: top;\n",
       "    }\n",
       "\n",
       "    .dataframe thead th {\n",
       "        text-align: right;\n",
       "    }\n",
       "</style>\n",
       "<table border=\"1\" class=\"dataframe\">\n",
       "  <thead>\n",
       "    <tr style=\"text-align: right;\">\n",
       "      <th></th>\n",
       "      <th>project ID</th>\n",
       "      <th>run ID</th>\n",
       "      <th>experiment type</th>\n",
       "      <th>instrument model</th>\n",
       "      <th>nr. reads sequenced</th>\n",
       "      <th>host age</th>\n",
       "      <th>sex</th>\n",
       "      <th>BMI</th>\n",
       "      <th>country</th>\n",
       "      <th>longitude</th>\n",
       "      <th>lattitude</th>\n",
       "      <th>associated phenotype</th>\n",
       "      <th>QC status</th>\n",
       "    </tr>\n",
       "  </thead>\n",
       "  <tbody>\n",
       "    <tr>\n",
       "      <th>4</th>\n",
       "      <td>PRJEB11419</td>\n",
       "      <td>ERR1072629</td>\n",
       "      <td>Amplicon</td>\n",
       "      <td>Illumina MiSeq</td>\n",
       "      <td>23830</td>\n",
       "      <td>64</td>\n",
       "      <td>Male</td>\n",
       "      <td>17.67</td>\n",
       "      <td>United States of America</td>\n",
       "      <td>-70.3</td>\n",
       "      <td>41.6</td>\n",
       "      <td>D012559</td>\n",
       "      <td>1.0</td>\n",
       "    </tr>\n",
       "    <tr>\n",
       "      <th>43</th>\n",
       "      <td>PRJEB11419</td>\n",
       "      <td>ERR1072937</td>\n",
       "      <td>Amplicon</td>\n",
       "      <td>Illumina MiSeq</td>\n",
       "      <td>27504</td>\n",
       "      <td>53</td>\n",
       "      <td>Male</td>\n",
       "      <td>26.51</td>\n",
       "      <td>United States of America</td>\n",
       "      <td>-116.2</td>\n",
       "      <td>43.6</td>\n",
       "      <td>D012559</td>\n",
       "      <td>1.0</td>\n",
       "    </tr>\n",
       "    <tr>\n",
       "      <th>51</th>\n",
       "      <td>PRJEB11419</td>\n",
       "      <td>ERR1073023</td>\n",
       "      <td>Amplicon</td>\n",
       "      <td>Illumina MiSeq</td>\n",
       "      <td>24706</td>\n",
       "      <td>35</td>\n",
       "      <td>Female</td>\n",
       "      <td>34.72</td>\n",
       "      <td>United States of America</td>\n",
       "      <td>-93.3</td>\n",
       "      <td>45.0</td>\n",
       "      <td>D012559</td>\n",
       "      <td>1.0</td>\n",
       "    </tr>\n",
       "    <tr>\n",
       "      <th>84</th>\n",
       "      <td>PRJEB11419</td>\n",
       "      <td>ERR1073394</td>\n",
       "      <td>Amplicon</td>\n",
       "      <td>Illumina MiSeq</td>\n",
       "      <td>43579</td>\n",
       "      <td>27</td>\n",
       "      <td>Female</td>\n",
       "      <td>22.41</td>\n",
       "      <td>United States of America</td>\n",
       "      <td>-117.2</td>\n",
       "      <td>32.8</td>\n",
       "      <td>D012559</td>\n",
       "      <td>1.0</td>\n",
       "    </tr>\n",
       "    <tr>\n",
       "      <th>91</th>\n",
       "      <td>PRJEB11419</td>\n",
       "      <td>ERR1073395</td>\n",
       "      <td>Amplicon</td>\n",
       "      <td>Illumina MiSeq</td>\n",
       "      <td>45092</td>\n",
       "      <td>27</td>\n",
       "      <td>Female</td>\n",
       "      <td>22.41</td>\n",
       "      <td>United States of America</td>\n",
       "      <td>-117.2</td>\n",
       "      <td>32.8</td>\n",
       "      <td>D012559</td>\n",
       "      <td>1.0</td>\n",
       "    </tr>\n",
       "  </tbody>\n",
       "</table>\n",
       "</div>"
      ],
      "text/plain": [
       "    project ID      run ID experiment type instrument model  \\\n",
       "4   PRJEB11419  ERR1072629        Amplicon   Illumina MiSeq   \n",
       "43  PRJEB11419  ERR1072937        Amplicon   Illumina MiSeq   \n",
       "51  PRJEB11419  ERR1073023        Amplicon   Illumina MiSeq   \n",
       "84  PRJEB11419  ERR1073394        Amplicon   Illumina MiSeq   \n",
       "91  PRJEB11419  ERR1073395        Amplicon   Illumina MiSeq   \n",
       "\n",
       "    nr. reads sequenced  host age     sex    BMI                   country  \\\n",
       "4                 23830        64    Male  17.67  United States of America   \n",
       "43                27504        53    Male  26.51  United States of America   \n",
       "51                24706        35  Female  34.72  United States of America   \n",
       "84                43579        27  Female  22.41  United States of America   \n",
       "91                45092        27  Female  22.41  United States of America   \n",
       "\n",
       "    longitude  lattitude associated phenotype  QC status  \n",
       "4       -70.3       41.6              D012559        1.0  \n",
       "43     -116.2       43.6              D012559        1.0  \n",
       "51      -93.3       45.0              D012559        1.0  \n",
       "84     -117.2       32.8              D012559        1.0  \n",
       "91     -117.2       32.8              D012559        1.0  "
      ]
     },
     "execution_count": 12,
     "metadata": {},
     "output_type": "execute_result"
    }
   ],
   "source": [
    "df_QC1 = df_pr1.loc[df_pr1['QC status'] == 1.0]\n",
    "df_phen_depr = df_QC1.loc[df_QC1['associated phenotype'] == 'D012559'] #schizo\n",
    "df_phen_depr.head()"
   ]
  },
  {
   "cell_type": "code",
   "execution_count": 13,
   "id": "2bc96232",
   "metadata": {},
   "outputs": [
    {
     "data": {
      "application/vnd.microsoft.datawrangler.viewer.v0+json": {
       "columns": [
        {
         "name": "index",
         "rawType": "object",
         "type": "string"
        },
        {
         "name": "run ID",
         "rawType": "object",
         "type": "unknown"
        }
       ],
       "ref": "ba17eb89-4c87-4b5e-80cd-e2523a44189c",
       "rows": [
        [
         "count",
         "354"
        ],
        [
         "unique",
         "354"
        ],
        [
         "top",
         "ERR1072629"
        ],
        [
         "freq",
         "1"
        ]
       ],
       "shape": {
        "columns": 1,
        "rows": 4
       }
      },
      "text/plain": [
       "count            354\n",
       "unique           354\n",
       "top       ERR1072629\n",
       "freq               1\n",
       "Name: run ID, dtype: object"
      ]
     },
     "execution_count": 13,
     "metadata": {},
     "output_type": "execute_result"
    }
   ],
   "source": [
    "df_runs = df_phen_depr['run ID']\n",
    "df_runs.describe()"
   ]
  },
  {
   "cell_type": "code",
   "execution_count": 14,
   "id": "9fd11e49",
   "metadata": {},
   "outputs": [],
   "source": [
    "df_only_runs = pd.DataFrame({'Runs': df_runs.values})"
   ]
  },
  {
   "cell_type": "code",
   "execution_count": 15,
   "id": "9c839582",
   "metadata": {},
   "outputs": [
    {
     "data": {
      "application/vnd.microsoft.datawrangler.viewer.v0+json": {
       "columns": [
        {
         "name": "index",
         "rawType": "object",
         "type": "string"
        },
        {
         "name": "Runs",
         "rawType": "object",
         "type": "unknown"
        }
       ],
       "ref": "2a3fa4fd-cc4a-4e0b-b4a9-9720c0d33425",
       "rows": [
        [
         "count",
         "354"
        ],
        [
         "unique",
         "354"
        ],
        [
         "top",
         "ERR1072629"
        ],
        [
         "freq",
         "1"
        ]
       ],
       "shape": {
        "columns": 1,
        "rows": 4
       }
      },
      "text/html": [
       "<div>\n",
       "<style scoped>\n",
       "    .dataframe tbody tr th:only-of-type {\n",
       "        vertical-align: middle;\n",
       "    }\n",
       "\n",
       "    .dataframe tbody tr th {\n",
       "        vertical-align: top;\n",
       "    }\n",
       "\n",
       "    .dataframe thead th {\n",
       "        text-align: right;\n",
       "    }\n",
       "</style>\n",
       "<table border=\"1\" class=\"dataframe\">\n",
       "  <thead>\n",
       "    <tr style=\"text-align: right;\">\n",
       "      <th></th>\n",
       "      <th>Runs</th>\n",
       "    </tr>\n",
       "  </thead>\n",
       "  <tbody>\n",
       "    <tr>\n",
       "      <th>count</th>\n",
       "      <td>354</td>\n",
       "    </tr>\n",
       "    <tr>\n",
       "      <th>unique</th>\n",
       "      <td>354</td>\n",
       "    </tr>\n",
       "    <tr>\n",
       "      <th>top</th>\n",
       "      <td>ERR1072629</td>\n",
       "    </tr>\n",
       "    <tr>\n",
       "      <th>freq</th>\n",
       "      <td>1</td>\n",
       "    </tr>\n",
       "  </tbody>\n",
       "</table>\n",
       "</div>"
      ],
      "text/plain": [
       "              Runs\n",
       "count          354\n",
       "unique         354\n",
       "top     ERR1072629\n",
       "freq             1"
      ]
     },
     "execution_count": 15,
     "metadata": {},
     "output_type": "execute_result"
    }
   ],
   "source": [
    "df_only_runs.describe()"
   ]
  },
  {
   "cell_type": "code",
   "execution_count": 16,
   "id": "4f4290a9",
   "metadata": {},
   "outputs": [],
   "source": [
    "all_flattened_runs = []"
   ]
  },
  {
   "cell_type": "code",
   "execution_count": 17,
   "id": "e11b94f8",
   "metadata": {},
   "outputs": [
    {
     "name": "stdout",
     "output_type": "stream",
     "text": [
      "Error processing run {'project_id': 'PRJEB11419', 'original_sample_description': 'American Gut Project Stool Sample which has Attention Deficit Disorder with Hyperactivity,Depression,Bipolar Disorder,Schizophrenia', 'run_id': 'ERR1089866', 'experiment_type': 'Amplicon', 'instrument_model': 'Illumina MiSeq', 'nr_reads_sequenced': 25756, 'host_age': 0, 'sex': 'Male', 'BMI': 0, 'country': 'United States of America', 'longitude': 0, 'latitude': 0, 'loaded_uid': 38181, 'QCStatus': 1, 'QCMessage': '', 'Original_Project_description': 'The American Gut project is the largest crowdsourced citizen science project to date. Fecal, oral, skin, and other body site samples collected from thousands of participants represent the largest human microbiome cohort in existence. Detailed health and lifestyle and diet data associated with each sample is enabling us to deeply examine associations between the human microbiome and factors such as diet (from vegan to near carnivore and everything in between), season, amount of sleep, and disease states such as IBD, diabetes, or autism spectrum disorder-as well as many other factors not listed here. The American Gut project also encompasses the British Gut and Australian Gut projects, widening the cohort beyond North America. As the project continues to grow, we will be able to identify significant associations that would not be possible with smaller, geographically and health/disease status-limited cohorts.'}: HTTPSConnectionPool(host='gmrepo.humangut.info', port=443): Max retries exceeded with url: /api/getFullTaxonomicProfileByRunID (Caused by ConnectTimeoutError(<urllib3.connection.HTTPSConnection object at 0x0000021939494DD0>, 'Connection to gmrepo.humangut.info timed out. (connect timeout=None)'))\n",
      "Error processing run {'project_id': 'PRJEB11419', 'original_sample_description': 'American Gut Project Stool Sample which has Attention Deficit Disorder with Hyperactivity,Depression,Bipolar Disorder,Schizophrenia', 'run_id': 'ERR1089866', 'experiment_type': 'Amplicon', 'instrument_model': 'Illumina MiSeq', 'nr_reads_sequenced': 25756, 'host_age': 0, 'sex': 'Male', 'BMI': 0, 'country': 'United States of America', 'longitude': 0, 'latitude': 0, 'loaded_uid': 38181, 'QCStatus': 1, 'QCMessage': '', 'Original_Project_description': 'The American Gut project is the largest crowdsourced citizen science project to date. Fecal, oral, skin, and other body site samples collected from thousands of participants represent the largest human microbiome cohort in existence. Detailed health and lifestyle and diet data associated with each sample is enabling us to deeply examine associations between the human microbiome and factors such as diet (from vegan to near carnivore and everything in between), season, amount of sleep, and disease states such as IBD, diabetes, or autism spectrum disorder-as well as many other factors not listed here. The American Gut project also encompasses the British Gut and Australian Gut projects, widening the cohort beyond North America. As the project continues to grow, we will be able to identify significant associations that would not be possible with smaller, geographically and health/disease status-limited cohorts.'}: HTTPSConnectionPool(host='gmrepo.humangut.info', port=443): Max retries exceeded with url: /api/getFullTaxonomicProfileByRunID (Caused by ConnectTimeoutError(<urllib3.connection.HTTPSConnection object at 0x00000219393EB2D0>, 'Connection to gmrepo.humangut.info timed out. (connect timeout=None)'))\n"
     ]
    }
   ],
   "source": [
    "\n",
    "\n",
    "for index, run_id in df_only_runs[\"Runs\"].items():\n",
    "    try:\n",
    "        query = {\"run_id\":run_id}  \n",
    "        url = 'https://gmrepo.humangut.info/api/getFullTaxonomicProfileByRunID'\n",
    "        data = requests.post(url, data=json.dumps(query)).json()\n",
    "\n",
    "        ## --get run List\n",
    "        run = data.get(\"run\")\n",
    "\n",
    "        ## --get DataFrames\n",
    "        species = DataFrame(data.get(\"species\"))\n",
    "        species = species.drop(columns = ['taxon_rank_level', 'relative_abundance']) #drop useless info\n",
    "\n",
    "        #species = species[species['ncbi_taxon_id'] != -1]   #drop missing taxons\n",
    "        flat = species.set_index('ncbi_taxon_id')['scientific_name'].T\n",
    "        flat = flat.rename_axis(None).to_frame().T\n",
    "        flat.insert(0, 'Run', run_id)\n",
    "        all_flattened_runs.append(species)\n",
    "    except Exception as e:\n",
    "        print(f\"Error processing run {run}: {e}\")\n",
    "\n"
   ]
  },
  {
   "cell_type": "code",
   "execution_count": 18,
   "id": "40676138",
   "metadata": {},
   "outputs": [],
   "source": [
    "final_df = pd.concat(all_flattened_runs, ignore_index=True)\n"
   ]
  },
  {
   "cell_type": "code",
   "execution_count": 19,
   "id": "8e5f98b0",
   "metadata": {},
   "outputs": [
    {
     "data": {
      "application/vnd.microsoft.datawrangler.viewer.v0+json": {
       "columns": [
        {
         "name": "index",
         "rawType": "int64",
         "type": "integer"
        },
        {
         "name": "ncbi_taxon_id",
         "rawType": "int64",
         "type": "integer"
        },
        {
         "name": "scientific_name",
         "rawType": "object",
         "type": "string"
        }
       ],
       "ref": "89807e58-0c59-49ac-a0e6-4fa4ebcb990c",
       "rows": [
        [
         "0",
         "821",
         "Bacteroides vulgatus"
        ],
        [
         "1",
         "328813",
         "Alistipes onderdonkii"
        ],
        [
         "2",
         "823",
         "Parabacteroides distasonis"
        ],
        [
         "3",
         "817",
         "Bacteroides fragilis"
        ],
        [
         "4",
         "818",
         "Bacteroides thetaiotaomicron"
        ]
       ],
       "shape": {
        "columns": 2,
        "rows": 5
       }
      },
      "text/html": [
       "<div>\n",
       "<style scoped>\n",
       "    .dataframe tbody tr th:only-of-type {\n",
       "        vertical-align: middle;\n",
       "    }\n",
       "\n",
       "    .dataframe tbody tr th {\n",
       "        vertical-align: top;\n",
       "    }\n",
       "\n",
       "    .dataframe thead th {\n",
       "        text-align: right;\n",
       "    }\n",
       "</style>\n",
       "<table border=\"1\" class=\"dataframe\">\n",
       "  <thead>\n",
       "    <tr style=\"text-align: right;\">\n",
       "      <th></th>\n",
       "      <th>ncbi_taxon_id</th>\n",
       "      <th>scientific_name</th>\n",
       "    </tr>\n",
       "  </thead>\n",
       "  <tbody>\n",
       "    <tr>\n",
       "      <th>0</th>\n",
       "      <td>821</td>\n",
       "      <td>Bacteroides vulgatus</td>\n",
       "    </tr>\n",
       "    <tr>\n",
       "      <th>1</th>\n",
       "      <td>328813</td>\n",
       "      <td>Alistipes onderdonkii</td>\n",
       "    </tr>\n",
       "    <tr>\n",
       "      <th>2</th>\n",
       "      <td>823</td>\n",
       "      <td>Parabacteroides distasonis</td>\n",
       "    </tr>\n",
       "    <tr>\n",
       "      <th>3</th>\n",
       "      <td>817</td>\n",
       "      <td>Bacteroides fragilis</td>\n",
       "    </tr>\n",
       "    <tr>\n",
       "      <th>4</th>\n",
       "      <td>818</td>\n",
       "      <td>Bacteroides thetaiotaomicron</td>\n",
       "    </tr>\n",
       "  </tbody>\n",
       "</table>\n",
       "</div>"
      ],
      "text/plain": [
       "   ncbi_taxon_id               scientific_name\n",
       "0            821          Bacteroides vulgatus\n",
       "1         328813         Alistipes onderdonkii\n",
       "2            823    Parabacteroides distasonis\n",
       "3            817          Bacteroides fragilis\n",
       "4            818  Bacteroides thetaiotaomicron"
      ]
     },
     "execution_count": 19,
     "metadata": {},
     "output_type": "execute_result"
    }
   ],
   "source": [
    "final_df.head()"
   ]
  },
  {
   "cell_type": "code",
   "execution_count": 20,
   "id": "c10b1940",
   "metadata": {},
   "outputs": [],
   "source": [
    "df = final_df.drop_duplicates(subset='ncbi_taxon_id', keep='first')"
   ]
  },
  {
   "cell_type": "code",
   "execution_count": 21,
   "id": "6f9d98be",
   "metadata": {},
   "outputs": [
    {
     "data": {
      "application/vnd.microsoft.datawrangler.viewer.v0+json": {
       "columns": [
        {
         "name": "index",
         "rawType": "int64",
         "type": "integer"
        },
        {
         "name": "ncbi_taxon_id",
         "rawType": "int64",
         "type": "integer"
        },
        {
         "name": "scientific_name",
         "rawType": "object",
         "type": "string"
        }
       ],
       "ref": "e37a4e73-42ce-4138-ace1-47f2593a4a2e",
       "rows": [
        [
         "0",
         "821",
         "Bacteroides vulgatus"
        ],
        [
         "1",
         "328813",
         "Alistipes onderdonkii"
        ],
        [
         "2",
         "823",
         "Parabacteroides distasonis"
        ],
        [
         "3",
         "817",
         "Bacteroides fragilis"
        ],
        [
         "4",
         "818",
         "Bacteroides thetaiotaomicron"
        ]
       ],
       "shape": {
        "columns": 2,
        "rows": 5
       }
      },
      "text/html": [
       "<div>\n",
       "<style scoped>\n",
       "    .dataframe tbody tr th:only-of-type {\n",
       "        vertical-align: middle;\n",
       "    }\n",
       "\n",
       "    .dataframe tbody tr th {\n",
       "        vertical-align: top;\n",
       "    }\n",
       "\n",
       "    .dataframe thead th {\n",
       "        text-align: right;\n",
       "    }\n",
       "</style>\n",
       "<table border=\"1\" class=\"dataframe\">\n",
       "  <thead>\n",
       "    <tr style=\"text-align: right;\">\n",
       "      <th></th>\n",
       "      <th>ncbi_taxon_id</th>\n",
       "      <th>scientific_name</th>\n",
       "    </tr>\n",
       "  </thead>\n",
       "  <tbody>\n",
       "    <tr>\n",
       "      <th>0</th>\n",
       "      <td>821</td>\n",
       "      <td>Bacteroides vulgatus</td>\n",
       "    </tr>\n",
       "    <tr>\n",
       "      <th>1</th>\n",
       "      <td>328813</td>\n",
       "      <td>Alistipes onderdonkii</td>\n",
       "    </tr>\n",
       "    <tr>\n",
       "      <th>2</th>\n",
       "      <td>823</td>\n",
       "      <td>Parabacteroides distasonis</td>\n",
       "    </tr>\n",
       "    <tr>\n",
       "      <th>3</th>\n",
       "      <td>817</td>\n",
       "      <td>Bacteroides fragilis</td>\n",
       "    </tr>\n",
       "    <tr>\n",
       "      <th>4</th>\n",
       "      <td>818</td>\n",
       "      <td>Bacteroides thetaiotaomicron</td>\n",
       "    </tr>\n",
       "  </tbody>\n",
       "</table>\n",
       "</div>"
      ],
      "text/plain": [
       "   ncbi_taxon_id               scientific_name\n",
       "0            821          Bacteroides vulgatus\n",
       "1         328813         Alistipes onderdonkii\n",
       "2            823    Parabacteroides distasonis\n",
       "3            817          Bacteroides fragilis\n",
       "4            818  Bacteroides thetaiotaomicron"
      ]
     },
     "execution_count": 21,
     "metadata": {},
     "output_type": "execute_result"
    }
   ],
   "source": [
    "df.head()"
   ]
  },
  {
   "cell_type": "code",
   "execution_count": 22,
   "id": "eca06864",
   "metadata": {},
   "outputs": [],
   "source": [
    "from collections import Counter\n",
    "\n",
    "def features_in_k_arrays(arrays, k):\n",
    "    if not arrays:\n",
    "        return []\n",
    "\n",
    "    counter = Counter()\n",
    "    \n",
    "    for array in arrays:\n",
    "        unique_strings = set(array)  \n",
    "        counter.update(unique_strings)\n",
    "    \n",
    "    return [string for string, count in counter.items() if count >= k]"
   ]
  },
  {
   "cell_type": "code",
   "execution_count": 23,
   "id": "c78afb7f",
   "metadata": {},
   "outputs": [],
   "source": [
    "five_folds = ['376805', '392736', '1586267', '66219', '339862', '1495', '78344'] \n",
    "\n",
    "\n",
    "four_folds = ['40091', '376805', '632', '232270', '28133', '68274', '48466', '47246', '392736', '1586267', '66219', '28108', '36854', '339862', '1495', '78344', '1692', '183', '47880', '46867', '1453594'] \n",
    "\n",
    "\n",
    "three_folds = ['40091', '863', '376805', '658457', '632', '47884', '1580', '745368', '232270', '28133', '156974', '68274', '48466', '736', '47246', '392736', '1586267', '47877', '1536', '467976', '66219', '202611', '28108', '36854', '314319', '339862', '544645', '255723', '831', '29346', '1670', '947013', '1495', '999468', '78344', '1692', '183', '47880', '587', '40214', '46867', '1453594', '1613', '40324', '28038', '1304158', '2702', '36842', '930124', '384638', '106648'] \n"
   ]
  },
  {
   "cell_type": "code",
   "execution_count": 24,
   "id": "5ce761d1",
   "metadata": {},
   "outputs": [],
   "source": [
    "five_folds_2 = ['183', '45076', '1692', '78344', '255723', '36854'] \n",
    "\n",
    "\n",
    "four_folds_2 = ['183', '53462', '1586267', '853', '45076', '68274', '392736', '831', '36842', '1670', '204038', '1692', '78344', '255723', '1536', '216940', '36854', '1495', '863', '376805', '339862'] \n",
    "\n",
    "\n",
    "three_folds_2 = ['183', '53462', '40324', '1586267', '584', '1304158', '853', '45076', '46206', '232270', '68274', '28038', '392736', '582', '47877', '831', '1453594', '36842', '1670', '1309', '52769', '204038', '196024', '1692', '78344', '255723', '1536', '216940', '1646377', '36854', '587', '1495', '863', '376805', '339862', '40091', '395922', '66219', '106648', '1343', '147802', '85831', '43997'] \n"
   ]
  },
  {
   "cell_type": "code",
   "execution_count": 28,
   "id": "9b53a28d",
   "metadata": {},
   "outputs": [
    {
     "data": {
      "application/vnd.microsoft.datawrangler.viewer.v0+json": {
       "columns": [
        {
         "name": "index",
         "rawType": "int64",
         "type": "integer"
        },
        {
         "name": "821",
         "rawType": "float64",
         "type": "float"
        },
        {
         "name": "328813",
         "rawType": "float64",
         "type": "float"
        },
        {
         "name": "823",
         "rawType": "float64",
         "type": "float"
        },
        {
         "name": "817",
         "rawType": "float64",
         "type": "float"
        },
        {
         "name": "818",
         "rawType": "float64",
         "type": "float"
        },
        {
         "name": "239935",
         "rawType": "float64",
         "type": "float"
        },
        {
         "name": "28116",
         "rawType": "float64",
         "type": "float"
        },
        {
         "name": "351091",
         "rawType": "float64",
         "type": "float"
        },
        {
         "name": "28118",
         "rawType": "float64",
         "type": "float"
        },
        {
         "name": "1161942",
         "rawType": "float64",
         "type": "float"
        },
        {
         "name": "1755626",
         "rawType": "float64",
         "type": "float"
        },
        {
         "name": "291645",
         "rawType": "float64",
         "type": "float"
        },
        {
         "name": "39485",
         "rawType": "float64",
         "type": "float"
        },
        {
         "name": "437898",
         "rawType": "float64",
         "type": "float"
        },
        {
         "name": "69825",
         "rawType": "float64",
         "type": "float"
        },
        {
         "name": "28117",
         "rawType": "float64",
         "type": "float"
        },
        {
         "name": "29370",
         "rawType": "float64",
         "type": "float"
        },
        {
         "name": "166486",
         "rawType": "float64",
         "type": "float"
        },
        {
         "name": "301301",
         "rawType": "float64",
         "type": "float"
        },
        {
         "name": "1465754",
         "rawType": "float64",
         "type": "float"
        },
        {
         "name": "39496",
         "rawType": "float64",
         "type": "float"
        },
        {
         "name": "44749",
         "rawType": "float64",
         "type": "float"
        },
        {
         "name": "84030",
         "rawType": "float64",
         "type": "float"
        },
        {
         "name": "169435",
         "rawType": "float64",
         "type": "float"
        },
        {
         "name": "208479",
         "rawType": "float64",
         "type": "float"
        },
        {
         "name": "1264",
         "rawType": "float64",
         "type": "float"
        },
        {
         "name": "29354",
         "rawType": "float64",
         "type": "float"
        },
        {
         "name": "100884",
         "rawType": "float64",
         "type": "float"
        },
        {
         "name": "28446",
         "rawType": "float64",
         "type": "float"
        },
        {
         "name": "36835",
         "rawType": "float64",
         "type": "float"
        },
        {
         "name": "626937",
         "rawType": "float64",
         "type": "float"
        },
        {
         "name": "536633",
         "rawType": "float64",
         "type": "float"
        },
        {
         "name": "1535",
         "rawType": "float64",
         "type": "float"
        },
        {
         "name": "371601",
         "rawType": "float64",
         "type": "float"
        },
        {
         "name": "39484",
         "rawType": "float64",
         "type": "float"
        },
        {
         "name": "115979",
         "rawType": "float64",
         "type": "float"
        },
        {
         "name": "358742",
         "rawType": "float64",
         "type": "float"
        },
        {
         "name": "1547",
         "rawType": "float64",
         "type": "float"
        },
        {
         "name": "143393",
         "rawType": "float64",
         "type": "float"
        },
        {
         "name": "1681",
         "rawType": "float64",
         "type": "float"
        },
        {
         "name": "1532",
         "rawType": "float64",
         "type": "float"
        },
        {
         "name": "52787",
         "rawType": "float64",
         "type": "float"
        },
        {
         "name": "261299",
         "rawType": "float64",
         "type": "float"
        },
        {
         "name": "204516",
         "rawType": "float64",
         "type": "float"
        },
        {
         "name": "1522",
         "rawType": "float64",
         "type": "float"
        },
        {
         "name": "165179",
         "rawType": "float64",
         "type": "float"
        },
        {
         "name": "1755607",
         "rawType": "float64",
         "type": "float"
        },
        {
         "name": "47678",
         "rawType": "float64",
         "type": "float"
        },
        {
         "name": "820",
         "rawType": "float64",
         "type": "float"
        },
        {
         "name": "1265",
         "rawType": "float64",
         "type": "float"
        },
        {
         "name": "376804",
         "rawType": "float64",
         "type": "float"
        },
        {
         "name": "40518",
         "rawType": "float64",
         "type": "float"
        },
        {
         "name": "671267",
         "rawType": "float64",
         "type": "float"
        },
        {
         "name": "626930",
         "rawType": "float64",
         "type": "float"
        },
        {
         "name": "650643",
         "rawType": "float64",
         "type": "float"
        },
        {
         "name": "357276",
         "rawType": "float64",
         "type": "float"
        },
        {
         "name": "84026",
         "rawType": "float64",
         "type": "float"
        },
        {
         "name": "392838",
         "rawType": "float64",
         "type": "float"
        },
        {
         "name": "1515",
         "rawType": "float64",
         "type": "float"
        },
        {
         "name": "36847",
         "rawType": "float64",
         "type": "float"
        },
        {
         "name": "46506",
         "rawType": "float64",
         "type": "float"
        },
        {
         "name": "246787",
         "rawType": "float64",
         "type": "float"
        },
        {
         "name": "61171",
         "rawType": "float64",
         "type": "float"
        },
        {
         "name": "29348",
         "rawType": "float64",
         "type": "float"
        },
        {
         "name": "122355",
         "rawType": "float64",
         "type": "float"
        },
        {
         "name": "876",
         "rawType": "float64",
         "type": "float"
        },
        {
         "name": "732242",
         "rawType": "float64",
         "type": "float"
        },
        {
         "name": "1512",
         "rawType": "float64",
         "type": "float"
        },
        {
         "name": "410072",
         "rawType": "float64",
         "type": "float"
        },
        {
         "name": "649724",
         "rawType": "float64",
         "type": "float"
        },
        {
         "name": "100176",
         "rawType": "float64",
         "type": "float"
        },
        {
         "name": "40520",
         "rawType": "float64",
         "type": "float"
        },
        {
         "name": "328812",
         "rawType": "float64",
         "type": "float"
        },
        {
         "name": "338188",
         "rawType": "float64",
         "type": "float"
        },
        {
         "name": "35517",
         "rawType": "float64",
         "type": "float"
        },
        {
         "name": "487175",
         "rawType": "float64",
         "type": "float"
        },
        {
         "name": "29356",
         "rawType": "float64",
         "type": "float"
        },
        {
         "name": "83661",
         "rawType": "float64",
         "type": "float"
        },
        {
         "name": "291644",
         "rawType": "float64",
         "type": "float"
        },
        {
         "name": "28112",
         "rawType": "float64",
         "type": "float"
        },
        {
         "name": "36842",
         "rawType": "float64",
         "type": "float"
        },
        {
         "name": "214856",
         "rawType": "float64",
         "type": "float"
        },
        {
         "name": "847",
         "rawType": "float64",
         "type": "float"
        },
        {
         "name": "310297",
         "rawType": "float64",
         "type": "float"
        },
        {
         "name": "33069",
         "rawType": "float64",
         "type": "float"
        },
        {
         "name": "151276",
         "rawType": "float64",
         "type": "float"
        },
        {
         "name": "1308",
         "rawType": "float64",
         "type": "float"
        },
        {
         "name": "29375",
         "rawType": "float64",
         "type": "float"
        },
        {
         "name": "28111",
         "rawType": "float64",
         "type": "float"
        },
        {
         "name": "28454",
         "rawType": "float64",
         "type": "float"
        },
        {
         "name": "1133319",
         "rawType": "float64",
         "type": "float"
        },
        {
         "name": "185300",
         "rawType": "float64",
         "type": "float"
        },
        {
         "name": "1350067",
         "rawType": "float64",
         "type": "float"
        },
        {
         "name": "2173",
         "rawType": "float64",
         "type": "float"
        },
        {
         "name": "572036",
         "rawType": "float64",
         "type": "float"
        },
        {
         "name": "562",
         "rawType": "float64",
         "type": "float"
        },
        {
         "name": "106588",
         "rawType": "float64",
         "type": "float"
        },
        {
         "name": "28025",
         "rawType": "float64",
         "type": "float"
        },
        {
         "name": "1297750",
         "rawType": "float64",
         "type": "float"
        },
        {
         "name": "376806",
         "rawType": "float64",
         "type": "float"
        },
        {
         "name": "1404",
         "rawType": "float64",
         "type": "float"
        },
        {
         "name": "97253",
         "rawType": "float64",
         "type": "float"
        },
        {
         "name": "317",
         "rawType": "float64",
         "type": "float"
        },
        {
         "name": "397865",
         "rawType": "float64",
         "type": "float"
        },
        {
         "name": "591197",
         "rawType": "float64",
         "type": "float"
        },
        {
         "name": "287",
         "rawType": "float64",
         "type": "float"
        },
        {
         "name": "282125",
         "rawType": "float64",
         "type": "float"
        },
        {
         "name": "626932",
         "rawType": "float64",
         "type": "float"
        },
        {
         "name": "219748",
         "rawType": "float64",
         "type": "float"
        },
        {
         "name": "882211",
         "rawType": "float64",
         "type": "float"
        },
        {
         "name": "310298",
         "rawType": "float64",
         "type": "float"
        },
        {
         "name": "729",
         "rawType": "float64",
         "type": "float"
        },
        {
         "name": "328814",
         "rawType": "float64",
         "type": "float"
        },
        {
         "name": "1630",
         "rawType": "float64",
         "type": "float"
        },
        {
         "name": "294",
         "rawType": "float64",
         "type": "float"
        },
        {
         "name": "329854",
         "rawType": "float64",
         "type": "float"
        },
        {
         "name": "39492",
         "rawType": "float64",
         "type": "float"
        },
        {
         "name": "1303",
         "rawType": "float64",
         "type": "float"
        },
        {
         "name": "587753",
         "rawType": "float64",
         "type": "float"
        },
        {
         "name": "33039",
         "rawType": "float64",
         "type": "float"
        },
        {
         "name": "243924",
         "rawType": "float64",
         "type": "float"
        },
        {
         "name": "290053",
         "rawType": "float64",
         "type": "float"
        },
        {
         "name": "502558",
         "rawType": "float64",
         "type": "float"
        },
        {
         "name": "47880",
         "rawType": "float64",
         "type": "float"
        },
        {
         "name": "47884",
         "rawType": "float64",
         "type": "float"
        },
        {
         "name": "84032",
         "rawType": "float64",
         "type": "float"
        },
        {
         "name": "1260",
         "rawType": "float64",
         "type": "float"
        },
        {
         "name": "1304",
         "rawType": "float64",
         "type": "float"
        },
        {
         "name": "28037",
         "rawType": "float64",
         "type": "float"
        },
        {
         "name": "39486",
         "rawType": "float64",
         "type": "float"
        },
        {
         "name": "303",
         "rawType": "float64",
         "type": "float"
        },
        {
         "name": "626931",
         "rawType": "float64",
         "type": "float"
        },
        {
         "name": "39490",
         "rawType": "float64",
         "type": "float"
        },
        {
         "name": "29524",
         "rawType": "float64",
         "type": "float"
        },
        {
         "name": "33035",
         "rawType": "float64",
         "type": "float"
        },
        {
         "name": "39778",
         "rawType": "float64",
         "type": "float"
        },
        {
         "name": "288965",
         "rawType": "float64",
         "type": "float"
        },
        {
         "name": "28038",
         "rawType": "float64",
         "type": "float"
        },
        {
         "name": "29466",
         "rawType": "float64",
         "type": "float"
        },
        {
         "name": "37734",
         "rawType": "float64",
         "type": "float"
        },
        {
         "name": "28127",
         "rawType": "float64",
         "type": "float"
        },
        {
         "name": "43675",
         "rawType": "float64",
         "type": "float"
        },
        {
         "name": "1352",
         "rawType": "float64",
         "type": "float"
        },
        {
         "name": "281920",
         "rawType": "float64",
         "type": "float"
        },
        {
         "name": "187327",
         "rawType": "float64",
         "type": "float"
        },
        {
         "name": "1267",
         "rawType": "float64",
         "type": "float"
        },
        {
         "name": "839",
         "rawType": "float64",
         "type": "float"
        },
        {
         "name": "290055",
         "rawType": "float64",
         "type": "float"
        },
        {
         "name": "155617",
         "rawType": "float64",
         "type": "float"
        },
        {
         "name": "658457",
         "rawType": "float64",
         "type": "float"
        },
        {
         "name": "1313",
         "rawType": "float64",
         "type": "float"
        },
        {
         "name": "1680",
         "rawType": "float64",
         "type": "float"
        },
        {
         "name": "33029",
         "rawType": "float64",
         "type": "float"
        },
        {
         "name": "35785",
         "rawType": "float64",
         "type": "float"
        },
        {
         "name": "1307",
         "rawType": "float64",
         "type": "float"
        },
        {
         "name": "1590",
         "rawType": "float64",
         "type": "float"
        },
        {
         "name": "387090",
         "rawType": "float64",
         "type": "float"
        },
        {
         "name": "1168034",
         "rawType": "float64",
         "type": "float"
        },
        {
         "name": "41976",
         "rawType": "float64",
         "type": "float"
        },
        {
         "name": "1177728",
         "rawType": "float64",
         "type": "float"
        },
        {
         "name": "871325",
         "rawType": "float64",
         "type": "float"
        },
        {
         "name": "39491",
         "rawType": "float64",
         "type": "float"
        },
        {
         "name": "28901",
         "rawType": "float64",
         "type": "float"
        },
        {
         "name": "28123",
         "rawType": "float64",
         "type": "float"
        },
        {
         "name": "1408",
         "rawType": "float64",
         "type": "float"
        },
        {
         "name": "990",
         "rawType": "float64",
         "type": "float"
        },
        {
         "name": "146817",
         "rawType": "float64",
         "type": "float"
        },
        {
         "name": "1113650",
         "rawType": "float64",
         "type": "float"
        },
        {
         "name": "33037",
         "rawType": "float64",
         "type": "float"
        },
        {
         "name": "1544",
         "rawType": "float64",
         "type": "float"
        },
        {
         "name": "1078480",
         "rawType": "float64",
         "type": "float"
        },
        {
         "name": "58138",
         "rawType": "float64",
         "type": "float"
        },
        {
         "name": "341225",
         "rawType": "float64",
         "type": "float"
        },
        {
         "name": "58172",
         "rawType": "float64",
         "type": "float"
        },
        {
         "name": "40324",
         "rawType": "float64",
         "type": "float"
        },
        {
         "name": "29347",
         "rawType": "float64",
         "type": "float"
        },
        {
         "name": "35519",
         "rawType": "float64",
         "type": "float"
        },
        {
         "name": "39497",
         "rawType": "float64",
         "type": "float"
        },
        {
         "name": "454154",
         "rawType": "float64",
         "type": "float"
        },
        {
         "name": "574375",
         "rawType": "float64",
         "type": "float"
        },
        {
         "name": "40519",
         "rawType": "float64",
         "type": "float"
        },
        {
         "name": "35833",
         "rawType": "float64",
         "type": "float"
        },
        {
         "name": "1559",
         "rawType": "float64",
         "type": "float"
        },
        {
         "name": "1520",
         "rawType": "float64",
         "type": "float"
        },
        {
         "name": "1077256",
         "rawType": "float64",
         "type": "float"
        },
        {
         "name": "84031",
         "rawType": "float64",
         "type": "float"
        },
        {
         "name": "310300",
         "rawType": "float64",
         "type": "float"
        },
        {
         "name": "84109",
         "rawType": "float64",
         "type": "float"
        },
        {
         "name": "36874",
         "rawType": "float64",
         "type": "float"
        },
        {
         "name": "1736",
         "rawType": "float64",
         "type": "float"
        },
        {
         "name": "626935",
         "rawType": "float64",
         "type": "float"
        },
        {
         "name": "885581",
         "rawType": "float64",
         "type": "float"
        },
        {
         "name": "39488",
         "rawType": "float64",
         "type": "float"
        },
        {
         "name": "46228",
         "rawType": "float64",
         "type": "float"
        },
        {
         "name": "29363",
         "rawType": "float64",
         "type": "float"
        },
        {
         "name": "1502",
         "rawType": "float64",
         "type": "float"
        },
        {
         "name": "33043",
         "rawType": "float64",
         "type": "float"
        },
        {
         "name": "216816",
         "rawType": "float64",
         "type": "float"
        },
        {
         "name": "33038",
         "rawType": "float64",
         "type": "float"
        },
        {
         "name": "33953",
         "rawType": "float64",
         "type": "float"
        },
        {
         "name": "29360",
         "rawType": "float64",
         "type": "float"
        },
        {
         "name": "39493",
         "rawType": "float64",
         "type": "float"
        },
        {
         "name": "218538",
         "rawType": "float64",
         "type": "float"
        },
        {
         "name": "118748",
         "rawType": "float64",
         "type": "float"
        },
        {
         "name": "78342",
         "rawType": "float64",
         "type": "float"
        },
        {
         "name": "28130",
         "rawType": "float64",
         "type": "float"
        },
        {
         "name": "1685",
         "rawType": "float64",
         "type": "float"
        },
        {
         "name": "47246",
         "rawType": "float64",
         "type": "float"
        },
        {
         "name": "39483",
         "rawType": "float64",
         "type": "float"
        },
        {
         "name": "36745",
         "rawType": "float64",
         "type": "float"
        },
        {
         "name": "871324",
         "rawType": "float64",
         "type": "float"
        },
        {
         "name": "471189",
         "rawType": "float64",
         "type": "float"
        },
        {
         "name": "1358",
         "rawType": "float64",
         "type": "float"
        },
        {
         "name": "1280",
         "rawType": "float64",
         "type": "float"
        },
        {
         "name": "74426",
         "rawType": "float64",
         "type": "float"
        },
        {
         "name": "1114008",
         "rawType": "float64",
         "type": "float"
        },
        {
         "name": "1646",
         "rawType": "float64",
         "type": "float"
        },
        {
         "name": "871327",
         "rawType": "float64",
         "type": "float"
        },
        {
         "name": "2052",
         "rawType": "float64",
         "type": "float"
        },
        {
         "name": "1504",
         "rawType": "float64",
         "type": "float"
        },
        {
         "name": "332249",
         "rawType": "float64",
         "type": "float"
        },
        {
         "name": "29355",
         "rawType": "float64",
         "type": "float"
        },
        {
         "name": "46503",
         "rawType": "float64",
         "type": "float"
        },
        {
         "name": "36854",
         "rawType": "float64",
         "type": "float"
        },
        {
         "name": "180164",
         "rawType": "float64",
         "type": "float"
        },
        {
         "name": "147207",
         "rawType": "float64",
         "type": "float"
        },
        {
         "name": "89153",
         "rawType": "float64",
         "type": "float"
        },
        {
         "name": "1510",
         "rawType": "float64",
         "type": "float"
        },
        {
         "name": "1527",
         "rawType": "float64",
         "type": "float"
        },
        {
         "name": "1428",
         "rawType": "float64",
         "type": "float"
        },
        {
         "name": "114702",
         "rawType": "float64",
         "type": "float"
        },
        {
         "name": "999468",
         "rawType": "float64",
         "type": "float"
        },
        {
         "name": "178214",
         "rawType": "float64",
         "type": "float"
        },
        {
         "name": "574930",
         "rawType": "float64",
         "type": "float"
        },
        {
         "name": "477666",
         "rawType": "float64",
         "type": "float"
        },
        {
         "name": "84112",
         "rawType": "float64",
         "type": "float"
        },
        {
         "name": "66851",
         "rawType": "float64",
         "type": "float"
        },
        {
         "name": "387661",
         "rawType": "float64",
         "type": "float"
        },
        {
         "name": "28026",
         "rawType": "float64",
         "type": "float"
        },
        {
         "name": "645466",
         "rawType": "float64",
         "type": "float"
        },
        {
         "name": "28126",
         "rawType": "float64",
         "type": "float"
        },
        {
         "name": "76517",
         "rawType": "float64",
         "type": "float"
        },
        {
         "name": "1671366",
         "rawType": "float64",
         "type": "float"
        },
        {
         "name": "105841",
         "rawType": "float64",
         "type": "float"
        },
        {
         "name": "158787",
         "rawType": "float64",
         "type": "float"
        },
        {
         "name": "1686",
         "rawType": "float64",
         "type": "float"
        },
        {
         "name": "33032",
         "rawType": "float64",
         "type": "float"
        },
        {
         "name": "78448",
         "rawType": "float64",
         "type": "float"
        },
        {
         "name": "166501",
         "rawType": "float64",
         "type": "float"
        },
        {
         "name": "1506",
         "rawType": "float64",
         "type": "float"
        },
        {
         "name": "39482",
         "rawType": "float64",
         "type": "float"
        },
        {
         "name": "58134",
         "rawType": "float64",
         "type": "float"
        },
        {
         "name": "312279",
         "rawType": "float64",
         "type": "float"
        },
        {
         "name": "167964",
         "rawType": "float64",
         "type": "float"
        },
        {
         "name": "69824",
         "rawType": "float64",
         "type": "float"
        },
        {
         "name": "90730",
         "rawType": "float64",
         "type": "float"
        },
        {
         "name": "33031",
         "rawType": "float64",
         "type": "float"
        },
        {
         "name": "28135",
         "rawType": "float64",
         "type": "float"
        },
        {
         "name": "1071880",
         "rawType": "float64",
         "type": "float"
        },
        {
         "name": "28108",
         "rawType": "float64",
         "type": "float"
        },
        {
         "name": "35760",
         "rawType": "float64",
         "type": "float"
        },
        {
         "name": "43143",
         "rawType": "float64",
         "type": "float"
        },
        {
         "name": "106648",
         "rawType": "float64",
         "type": "float"
        },
        {
         "name": "1689",
         "rawType": "float64",
         "type": "float"
        },
        {
         "name": "61435",
         "rawType": "float64",
         "type": "float"
        },
        {
         "name": "2741",
         "rawType": "float64",
         "type": "float"
        },
        {
         "name": "52773",
         "rawType": "float64",
         "type": "float"
        },
        {
         "name": "31971",
         "rawType": "float64",
         "type": "float"
        },
        {
         "name": "78343",
         "rawType": "float64",
         "type": "float"
        },
        {
         "name": "582",
         "rawType": "float64",
         "type": "float"
        },
        {
         "name": "2047",
         "rawType": "float64",
         "type": "float"
        },
        {
         "name": "589436",
         "rawType": "float64",
         "type": "float"
        },
        {
         "name": "189722",
         "rawType": "float64",
         "type": "float"
        },
        {
         "name": "1735",
         "rawType": "float64",
         "type": "float"
        },
        {
         "name": "356829",
         "rawType": "float64",
         "type": "float"
        },
        {
         "name": "28119",
         "rawType": "float64",
         "type": "float"
        },
        {
         "name": "901",
         "rawType": "float64",
         "type": "float"
        },
        {
         "name": "881",
         "rawType": "float64",
         "type": "float"
        },
        {
         "name": "863643",
         "rawType": "float64",
         "type": "float"
        },
        {
         "name": "319644",
         "rawType": "float64",
         "type": "float"
        },
        {
         "name": "1725",
         "rawType": "float64",
         "type": "float"
        },
        {
         "name": "28128",
         "rawType": "float64",
         "type": "float"
        },
        {
         "name": "46206",
         "rawType": "float64",
         "type": "float"
        },
        {
         "name": "191493",
         "rawType": "float64",
         "type": "float"
        },
        {
         "name": "137732",
         "rawType": "float64",
         "type": "float"
        },
        {
         "name": "1827099",
         "rawType": "float64",
         "type": "float"
        },
        {
         "name": "1563",
         "rawType": "float64",
         "type": "float"
        },
        {
         "name": "488",
         "rawType": "float64",
         "type": "float"
        },
        {
         "name": "483",
         "rawType": "float64",
         "type": "float"
        },
        {
         "name": "1487956",
         "rawType": "float64",
         "type": "float"
        },
        {
         "name": "88431",
         "rawType": "float64",
         "type": "float"
        },
        {
         "name": "28132",
         "rawType": "float64",
         "type": "float"
        },
        {
         "name": "851",
         "rawType": "float64",
         "type": "float"
        },
        {
         "name": "863",
         "rawType": "float64",
         "type": "float"
        },
        {
         "name": "28136",
         "rawType": "float64",
         "type": "float"
        },
        {
         "name": "363832",
         "rawType": "float64",
         "type": "float"
        },
        {
         "name": "53374",
         "rawType": "float64",
         "type": "float"
        },
        {
         "name": "29317",
         "rawType": "float64",
         "type": "float"
        },
        {
         "name": "45254",
         "rawType": "float64",
         "type": "float"
        },
        {
         "name": "762211",
         "rawType": "float64",
         "type": "float"
        },
        {
         "name": "267818",
         "rawType": "float64",
         "type": "float"
        },
        {
         "name": "52561",
         "rawType": "float64",
         "type": "float"
        },
        {
         "name": "1519",
         "rawType": "float64",
         "type": "float"
        },
        {
         "name": "54911",
         "rawType": "float64",
         "type": "float"
        },
        {
         "name": "44742",
         "rawType": "float64",
         "type": "float"
        },
        {
         "name": "237258",
         "rawType": "float64",
         "type": "float"
        },
        {
         "name": "316",
         "rawType": "float64",
         "type": "float"
        },
        {
         "name": "1223514",
         "rawType": "float64",
         "type": "float"
        },
        {
         "name": "1379",
         "rawType": "float64",
         "type": "float"
        },
        {
         "name": "860",
         "rawType": "float64",
         "type": "float"
        },
        {
         "name": "52769",
         "rawType": "float64",
         "type": "float"
        },
        {
         "name": "187145",
         "rawType": "float64",
         "type": "float"
        },
        {
         "name": "1747",
         "rawType": "float64",
         "type": "float"
        },
        {
         "name": "47770",
         "rawType": "float64",
         "type": "float"
        },
        {
         "name": "1582",
         "rawType": "float64",
         "type": "float"
        },
        {
         "name": "45851",
         "rawType": "float64",
         "type": "float"
        },
        {
         "name": "1282",
         "rawType": "float64",
         "type": "float"
        },
        {
         "name": "1718",
         "rawType": "float64",
         "type": "float"
        },
        {
         "name": "1755629",
         "rawType": "float64",
         "type": "float"
        },
        {
         "name": "762210",
         "rawType": "float64",
         "type": "float"
        },
        {
         "name": "270498",
         "rawType": "float64",
         "type": "float"
        },
        {
         "name": "28139",
         "rawType": "float64",
         "type": "float"
        },
        {
         "name": "28091",
         "rawType": "float64",
         "type": "float"
        },
        {
         "name": "467976",
         "rawType": "float64",
         "type": "float"
        },
        {
         "name": "879",
         "rawType": "float64",
         "type": "float"
        },
        {
         "name": "584",
         "rawType": "float64",
         "type": "float"
        },
        {
         "name": "1311",
         "rawType": "float64",
         "type": "float"
        },
        {
         "name": "40214",
         "rawType": "float64",
         "type": "float"
        },
        {
         "name": "253245",
         "rawType": "float64",
         "type": "float"
        },
        {
         "name": "61635",
         "rawType": "float64",
         "type": "float"
        },
        {
         "name": "588",
         "rawType": "float64",
         "type": "float"
        },
        {
         "name": "905",
         "rawType": "float64",
         "type": "float"
        },
        {
         "name": "1660",
         "rawType": "float64",
         "type": "float"
        },
        {
         "name": "1503",
         "rawType": "float64",
         "type": "float"
        },
        {
         "name": "470565",
         "rawType": "float64",
         "type": "float"
        },
        {
         "name": "415956",
         "rawType": "float64",
         "type": "float"
        },
        {
         "name": "1531",
         "rawType": "float64",
         "type": "float"
        },
        {
         "name": "1755610",
         "rawType": "float64",
         "type": "float"
        },
        {
         "name": "185293",
         "rawType": "float64",
         "type": "float"
        },
        {
         "name": "840",
         "rawType": "float64",
         "type": "float"
        },
        {
         "name": "228603",
         "rawType": "float64",
         "type": "float"
        },
        {
         "name": "45076",
         "rawType": "float64",
         "type": "float"
        },
        {
         "name": "564835",
         "rawType": "float64",
         "type": "float"
        },
        {
         "name": "634771",
         "rawType": "float64",
         "type": "float"
        },
        {
         "name": "454155",
         "rawType": "float64",
         "type": "float"
        },
        {
         "name": "47877",
         "rawType": "float64",
         "type": "float"
        },
        {
         "name": "43770",
         "rawType": "float64",
         "type": "float"
        },
        {
         "name": "341220",
         "rawType": "float64",
         "type": "float"
        },
        {
         "name": "76853",
         "rawType": "float64",
         "type": "float"
        },
        {
         "name": "218284",
         "rawType": "float64",
         "type": "float"
        },
        {
         "name": "136857",
         "rawType": "float64",
         "type": "float"
        },
        {
         "name": "1776082",
         "rawType": "float64",
         "type": "float"
        },
        {
         "name": "39777",
         "rawType": "float64",
         "type": "float"
        },
        {
         "name": "1727",
         "rawType": "float64",
         "type": "float"
        },
        {
         "name": "1309",
         "rawType": "float64",
         "type": "float"
        },
        {
         "name": "29389",
         "rawType": "float64",
         "type": "float"
        },
        {
         "name": "43131",
         "rawType": "float64",
         "type": "float"
        },
        {
         "name": "1349",
         "rawType": "float64",
         "type": "float"
        },
        {
         "name": "1328",
         "rawType": "float64",
         "type": "float"
        },
        {
         "name": "358743",
         "rawType": "float64",
         "type": "float"
        },
        {
         "name": "1338",
         "rawType": "float64",
         "type": "float"
        },
        {
         "name": "1655",
         "rawType": "float64",
         "type": "float"
        },
        {
         "name": "29552",
         "rawType": "float64",
         "type": "float"
        },
        {
         "name": "38986",
         "rawType": "float64",
         "type": "float"
        },
        {
         "name": "1539",
         "rawType": "float64",
         "type": "float"
        },
        {
         "name": "386414",
         "rawType": "float64",
         "type": "float"
        },
        {
         "name": "184870",
         "rawType": "float64",
         "type": "float"
        },
        {
         "name": "309120",
         "rawType": "float64",
         "type": "float"
        },
        {
         "name": "48256",
         "rawType": "float64",
         "type": "float"
        },
        {
         "name": "1501",
         "rawType": "float64",
         "type": "float"
        },
        {
         "name": "53443",
         "rawType": "float64",
         "type": "float"
        },
        {
         "name": "1491",
         "rawType": "float64",
         "type": "float"
        },
        {
         "name": "214853",
         "rawType": "float64",
         "type": "float"
        },
        {
         "name": "54006",
         "rawType": "float64",
         "type": "float"
        },
        {
         "name": "38304",
         "rawType": "float64",
         "type": "float"
        },
        {
         "name": "47715",
         "rawType": "float64",
         "type": "float"
        },
        {
         "name": "53462",
         "rawType": "float64",
         "type": "float"
        },
        {
         "name": "2736",
         "rawType": "float64",
         "type": "float"
        },
        {
         "name": "726",
         "rawType": "float64",
         "type": "float"
        },
        {
         "name": "884684",
         "rawType": "float64",
         "type": "float"
        },
        {
         "name": "1121298",
         "rawType": "float64",
         "type": "float"
        },
        {
         "name": "28137",
         "rawType": "float64",
         "type": "float"
        },
        {
         "name": "1584",
         "rawType": "float64",
         "type": "float"
        },
        {
         "name": "691816",
         "rawType": "float64",
         "type": "float"
        },
        {
         "name": "36834",
         "rawType": "float64",
         "type": "float"
        },
        {
         "name": "1670",
         "rawType": "float64",
         "type": "float"
        },
        {
         "name": "1507",
         "rawType": "float64",
         "type": "float"
        },
        {
         "name": "202611",
         "rawType": "float64",
         "type": "float"
        },
        {
         "name": "552810",
         "rawType": "float64",
         "type": "float"
        },
        {
         "name": "1492",
         "rawType": "float64",
         "type": "float"
        },
        {
         "name": "133453",
         "rawType": "float64",
         "type": "float"
        },
        {
         "name": "70775",
         "rawType": "float64",
         "type": "float"
        },
        {
         "name": "28129",
         "rawType": "float64",
         "type": "float"
        },
        {
         "name": "282402",
         "rawType": "float64",
         "type": "float"
        },
        {
         "name": "185294",
         "rawType": "float64",
         "type": "float"
        },
        {
         "name": "147802",
         "rawType": "float64",
         "type": "float"
        },
        {
         "name": "77095",
         "rawType": "float64",
         "type": "float"
        },
        {
         "name": "33033",
         "rawType": "float64",
         "type": "float"
        },
        {
         "name": "29367",
         "rawType": "float64",
         "type": "float"
        },
        {
         "name": "35825",
         "rawType": "float64",
         "type": "float"
        },
        {
         "name": "228604",
         "rawType": "float64",
         "type": "float"
        },
        {
         "name": "28125",
         "rawType": "float64",
         "type": "float"
        },
        {
         "name": "1648",
         "rawType": "float64",
         "type": "float"
        },
        {
         "name": "1382",
         "rawType": "float64",
         "type": "float"
        },
        {
         "name": "36849",
         "rawType": "float64",
         "type": "float"
        },
        {
         "name": "53972",
         "rawType": "float64",
         "type": "float"
        },
        {
         "name": "589437",
         "rawType": "float64",
         "type": "float"
        },
        {
         "name": "1364",
         "rawType": "float64",
         "type": "float"
        },
        {
         "name": "363277",
         "rawType": "float64",
         "type": "float"
        },
        {
         "name": "1646377",
         "rawType": "float64",
         "type": "float"
        },
        {
         "name": "907",
         "rawType": "float64",
         "type": "float"
        },
        {
         "name": "39950",
         "rawType": "float64",
         "type": "float"
        },
        {
         "name": "1597",
         "rawType": "float64",
         "type": "float"
        },
        {
         "name": "28134",
         "rawType": "float64",
         "type": "float"
        },
        {
         "name": "33034",
         "rawType": "float64",
         "type": "float"
        },
        {
         "name": "341694",
         "rawType": "float64",
         "type": "float"
        },
        {
         "name": "2702",
         "rawType": "float64",
         "type": "float"
        },
        {
         "name": "114527",
         "rawType": "float64",
         "type": "float"
        },
        {
         "name": "827",
         "rawType": "float64",
         "type": "float"
        },
        {
         "name": "701529",
         "rawType": "float64",
         "type": "float"
        },
        {
         "name": "1258",
         "rawType": "float64",
         "type": "float"
        },
        {
         "name": "1859291",
         "rawType": "float64",
         "type": "float"
        },
        {
         "name": "242750",
         "rawType": "float64",
         "type": "float"
        },
        {
         "name": "1717",
         "rawType": "float64",
         "type": "float"
        },
        {
         "name": "38286",
         "rawType": "float64",
         "type": "float"
        },
        {
         "name": "29385",
         "rawType": "float64",
         "type": "float"
        },
        {
         "name": "39029",
         "rawType": "float64",
         "type": "float"
        },
        {
         "name": "1304158",
         "rawType": "float64",
         "type": "float"
        },
        {
         "name": "1724",
         "rawType": "float64",
         "type": "float"
        },
        {
         "name": "633701",
         "rawType": "float64",
         "type": "float"
        },
        {
         "name": "38301",
         "rawType": "float64",
         "type": "float"
        },
        {
         "name": "472113",
         "rawType": "float64",
         "type": "float"
        },
        {
         "name": "48467",
         "rawType": "float64",
         "type": "float"
        },
        {
         "name": "1613",
         "rawType": "float64",
         "type": "float"
        },
        {
         "name": "1659",
         "rawType": "float64",
         "type": "float"
        },
        {
         "name": "133926",
         "rawType": "float64",
         "type": "float"
        },
        {
         "name": "1254",
         "rawType": "float64",
         "type": "float"
        },
        {
         "name": "102684",
         "rawType": "float64",
         "type": "float"
        },
        {
         "name": "99807",
         "rawType": "float64",
         "type": "float"
        },
        {
         "name": "1134405",
         "rawType": "float64",
         "type": "float"
        },
        {
         "name": "46124",
         "rawType": "float64",
         "type": "float"
        },
        {
         "name": "930124",
         "rawType": "float64",
         "type": "float"
        },
        {
         "name": "77768",
         "rawType": "float64",
         "type": "float"
        },
        {
         "name": "42256",
         "rawType": "float64",
         "type": "float"
        },
        {
         "name": "982",
         "rawType": "float64",
         "type": "float"
        },
        {
         "name": "33905",
         "rawType": "float64",
         "type": "float"
        },
        {
         "name": "461876",
         "rawType": "float64",
         "type": "float"
        },
        {
         "name": "831",
         "rawType": "float64",
         "type": "float"
        },
        {
         "name": "66219",
         "rawType": "float64",
         "type": "float"
        },
        {
         "name": "2088",
         "rawType": "float64",
         "type": "float"
        },
        {
         "name": "43997",
         "rawType": "float64",
         "type": "float"
        },
        {
         "name": "118967",
         "rawType": "float64",
         "type": "float"
        },
        {
         "name": "264463",
         "rawType": "float64",
         "type": "float"
        },
        {
         "name": "1541",
         "rawType": "float64",
         "type": "float"
        },
        {
         "name": "86664",
         "rawType": "float64",
         "type": "float"
        },
        {
         "name": "1336",
         "rawType": "float64",
         "type": "float"
        },
        {
         "name": "57706",
         "rawType": "float64",
         "type": "float"
        },
        {
         "name": "1113741",
         "rawType": "float64",
         "type": "float"
        },
        {
         "name": "52226",
         "rawType": "float64",
         "type": "float"
        },
        {
         "name": "1402",
         "rawType": "float64",
         "type": "float"
        },
        {
         "name": "196024",
         "rawType": "float64",
         "type": "float"
        },
        {
         "name": "1599",
         "rawType": "float64",
         "type": "float"
        },
        {
         "name": "1453594",
         "rawType": "float64",
         "type": "float"
        },
        {
         "name": "1566358",
         "rawType": "float64",
         "type": "float"
        },
        {
         "name": "103892",
         "rawType": "float64",
         "type": "float"
        },
        {
         "name": "762212",
         "rawType": "float64",
         "type": "float"
        },
        {
         "name": "173480",
         "rawType": "float64",
         "type": "float"
        },
        {
         "name": "1691",
         "rawType": "float64",
         "type": "float"
        },
        {
         "name": "332163",
         "rawType": "float64",
         "type": "float"
        },
        {
         "name": "40215",
         "rawType": "float64",
         "type": "float"
        },
        {
         "name": "1598",
         "rawType": "float64",
         "type": "float"
        },
        {
         "name": "58180",
         "rawType": "float64",
         "type": "float"
        },
        {
         "name": "1343",
         "rawType": "float64",
         "type": "float"
        },
        {
         "name": "1694",
         "rawType": "float64",
         "type": "float"
        },
        {
         "name": "983706",
         "rawType": "float64",
         "type": "float"
        },
        {
         "name": "253239",
         "rawType": "float64",
         "type": "float"
        },
        {
         "name": "38284",
         "rawType": "float64",
         "type": "float"
        },
        {
         "name": "78257",
         "rawType": "float64",
         "type": "float"
        },
        {
         "name": "97084",
         "rawType": "float64",
         "type": "float"
        },
        {
         "name": "467210",
         "rawType": "float64",
         "type": "float"
        },
        {
         "name": "1114067",
         "rawType": "float64",
         "type": "float"
        },
        {
         "name": "151781",
         "rawType": "float64",
         "type": "float"
        },
        {
         "name": "48466",
         "rawType": "float64",
         "type": "float"
        },
        {
         "name": "1586267",
         "rawType": "float64",
         "type": "float"
        },
        {
         "name": "108980",
         "rawType": "float64",
         "type": "float"
        },
        {
         "name": "166485",
         "rawType": "float64",
         "type": "float"
        },
        {
         "name": "947013",
         "rawType": "float64",
         "type": "float"
        },
        {
         "name": "1476",
         "rawType": "float64",
         "type": "float"
        },
        {
         "name": "36850",
         "rawType": "float64",
         "type": "float"
        },
        {
         "name": "294710",
         "rawType": "float64",
         "type": "float"
        },
        {
         "name": "138595",
         "rawType": "float64",
         "type": "float"
        },
        {
         "name": "157692",
         "rawType": "float64",
         "type": "float"
        },
        {
         "name": "652716",
         "rawType": "float64",
         "type": "float"
        },
        {
         "name": "305719",
         "rawType": "float64",
         "type": "float"
        },
        {
         "name": "1015",
         "rawType": "float64",
         "type": "float"
        },
        {
         "name": "264027",
         "rawType": "float64",
         "type": "float"
        },
        {
         "name": "853",
         "rawType": "float64",
         "type": "float"
        },
        {
         "name": "85831",
         "rawType": "float64",
         "type": "float"
        },
        {
         "name": "544645",
         "rawType": "float64",
         "type": "float"
        },
        {
         "name": "204038",
         "rawType": "float64",
         "type": "float"
        },
        {
         "name": "89014",
         "rawType": "float64",
         "type": "float"
        },
        {
         "name": "214858",
         "rawType": "float64",
         "type": "float"
        },
        {
         "name": "28114",
         "rawType": "float64",
         "type": "float"
        },
        {
         "name": "755171",
         "rawType": "float64",
         "type": "float"
        },
        {
         "name": "727",
         "rawType": "float64",
         "type": "float"
        },
        {
         "name": "1124188",
         "rawType": "float64",
         "type": "float"
        },
        {
         "name": "1322",
         "rawType": "float64",
         "type": "float"
        },
        {
         "name": "180311",
         "rawType": "float64",
         "type": "float"
        },
        {
         "name": "308994",
         "rawType": "float64",
         "type": "float"
        },
        {
         "name": "745368",
         "rawType": "float64",
         "type": "float"
        },
        {
         "name": "78345",
         "rawType": "float64",
         "type": "float"
        },
        {
         "name": "1590651",
         "rawType": "float64",
         "type": "float"
        },
        {
         "name": "360807",
         "rawType": "float64",
         "type": "float"
        },
        {
         "name": "102148",
         "rawType": "float64",
         "type": "float"
        },
        {
         "name": "301302",
         "rawType": "float64",
         "type": "float"
        },
        {
         "name": "632",
         "rawType": "float64",
         "type": "float"
        },
        {
         "name": "392412",
         "rawType": "float64",
         "type": "float"
        },
        {
         "name": "234908",
         "rawType": "float64",
         "type": "float"
        },
        {
         "name": "156980",
         "rawType": "float64",
         "type": "float"
        },
        {
         "name": "54005",
         "rawType": "float64",
         "type": "float"
        },
        {
         "name": "1530",
         "rawType": "float64",
         "type": "float"
        },
        {
         "name": "587",
         "rawType": "float64",
         "type": "float"
        },
        {
         "name": "83771",
         "rawType": "float64",
         "type": "float"
        },
        {
         "name": "46867",
         "rawType": "float64",
         "type": "float"
        },
        {
         "name": "395922",
         "rawType": "float64",
         "type": "float"
        },
        {
         "name": "1536",
         "rawType": "float64",
         "type": "float"
        },
        {
         "name": "255723",
         "rawType": "float64",
         "type": "float"
        },
        {
         "name": "59310",
         "rawType": "float64",
         "type": "float"
        },
        {
         "name": "37930",
         "rawType": "float64",
         "type": "float"
        },
        {
         "name": "314319",
         "rawType": "float64",
         "type": "float"
        },
        {
         "name": "736",
         "rawType": "float64",
         "type": "float"
        },
        {
         "name": "216940",
         "rawType": "float64",
         "type": "float"
        },
        {
         "name": "1495",
         "rawType": "float64",
         "type": "float"
        },
        {
         "name": "1580",
         "rawType": "float64",
         "type": "float"
        },
        {
         "name": "38289",
         "rawType": "float64",
         "type": "float"
        },
        {
         "name": "38303",
         "rawType": "float64",
         "type": "float"
        },
        {
         "name": "2137",
         "rawType": "float64",
         "type": "float"
        },
        {
         "name": "216947",
         "rawType": "float64",
         "type": "float"
        },
        {
         "name": "384638",
         "rawType": "float64",
         "type": "float"
        },
        {
         "name": "148814",
         "rawType": "float64",
         "type": "float"
        },
        {
         "name": "339862",
         "rawType": "float64",
         "type": "float"
        },
        {
         "name": "392736",
         "rawType": "float64",
         "type": "float"
        },
        {
         "name": "232270",
         "rawType": "float64",
         "type": "float"
        },
        {
         "name": "376805",
         "rawType": "float64",
         "type": "float"
        },
        {
         "name": "156974",
         "rawType": "float64",
         "type": "float"
        },
        {
         "name": "1623",
         "rawType": "float64",
         "type": "float"
        },
        {
         "name": "28131",
         "rawType": "float64",
         "type": "float"
        },
        {
         "name": "78344",
         "rawType": "float64",
         "type": "float"
        },
        {
         "name": "1692",
         "rawType": "float64",
         "type": "float"
        },
        {
         "name": "68274",
         "rawType": "float64",
         "type": "float"
        },
        {
         "name": "40091",
         "rawType": "float64",
         "type": "float"
        },
        {
         "name": "1393",
         "rawType": "float64",
         "type": "float"
        },
        {
         "name": "28133",
         "rawType": "float64",
         "type": "float"
        },
        {
         "name": "183",
         "rawType": "float64",
         "type": "float"
        },
        {
         "name": "29346",
         "rawType": "float64",
         "type": "float"
        },
        {
         "name": "349096",
         "rawType": "float64",
         "type": "float"
        },
        {
         "name": "Schizophrenia",
         "rawType": "int64",
         "type": "integer"
        }
       ],
       "ref": "0a76af5a-b42c-4942-b2f0-754c17aa0dc2",
       "rows": [
        [
         "0",
         "0.2249720145638998",
         "0.0021624203570613",
         "0.0018420659104421",
         "0.0008008972535007",
         "0.0025628634153353",
         "8.00897253500706e-05",
         "0.0386031841381032",
         "0.0027230545598358",
         "0.0024026861920257",
         "0.0",
         "0.1391158534899202",
         "0.0008008972535007",
         "0.1034759340618534",
         "0.0258689139095085",
         "0.0036040432092295",
         "0.0190613123128962",
         "0.0002402686192025",
         "0.0639116308991288",
         "0.0579849622671463",
         "0.0002402686192025",
         "0.0027230545598358",
         "0.0014416089309772",
         "0.0052859179751711",
         "0.0007208072497268",
         "8.00897253500706e-05",
         "0.0",
         "8.00897253500706e-05",
         "0.0",
         "0.000560627242179",
         "8.00897253500706e-05",
         "0.0004805386305242",
         "0.0444498059220037",
         "0.0004004486267503",
         "0.0006407172459529",
         "0.0078487953116974",
         "0.0",
         "8.00897253500706e-05",
         "0.0",
         "0.0",
         "0.0",
         "0.0",
         "0.0",
         "0.0006407172459529",
         "0.0003203586229764",
         "0.0002402686192025",
         "0.0004805386305242",
         "8.00897253500706e-05",
         "0.003443852064729",
         "0.0276309190506778",
         "0.000560627242179",
         "0.0",
         "0.0025628634153353",
         "8.00897253500706e-05",
         "0.0008809872572745",
         "0.0",
         "0.0004805386305242",
         "0.0",
         "0.0",
         "0.0016018000754778",
         "0.0001601800075477",
         "0.000560627242179",
         "0.003443852064729",
         "0.0",
         "0.0126541676957489",
         "8.00897253500706e-05",
         "0.0",
         "0.0",
         "0.0012814344919058",
         "0.0037642204325391",
         "0.0",
         "0.0",
         "0.0609482269771827",
         "0.0",
         "0.0",
         "0.0",
         "8.00897253500706e-05",
         "0.0",
         "0.0",
         "0.0072881611089229",
         "0.0",
         "0.0",
         "8.00897253500706e-05",
         "0.0",
         "8.00897253500706e-05",
         "0.0",
         "8.00897253500706e-05",
         "0.0004805386305242",
         "0.0008809872572745",
         "0.0",
         "0.0",
         "0.0",
         "0.0",
         "0.0",
         "0.0",
         "0.0",
         "0.0",
         "0.0",
         "8.00897253500706e-05",
         "0.0",
         "0.0",
         "0.0",
         "0.0002402686192025",
         "0.0",
         "0.0017619772987873",
         "0.0",
         "0.0",
         "0.0002402686192025",
         "0.0004004486267503",
         "0.0",
         "8.00897253500706e-05",
         "0.0",
         "0.0014416089309772",
         "0.0008809872572745",
         "0.0",
         "0.0",
         "0.0002402686192025",
         "0.0128944474519042",
         "8.00897253500706e-05",
         "0.0",
         "0.0002402686192025",
         "0.0",
         "0.0001601800075477",
         "0.0001601800075477",
         "0.0",
         "0.0",
         "0.0",
         "0.0074483383322325",
         "0.0",
         "0.0001601800075477",
         "0.0024827748036805",
         "0.0",
         "0.0",
         "0.0029633203948002",
         "0.0",
         "0.0009610758689293",
         "0.0001601800075477",
         "0.0",
         "0.0",
         "0.0",
         "0.0",
         "0.0",
         "0.0",
         "0.0",
         "0.0",
         "0.0044850179374322",
         "0.0",
         "8.00897253500706e-05",
         "0.0",
         "0.0",
         "0.0",
         "0.0",
         "0.0092103156310199",
         "0.0011212558764771",
         "8.00897253500706e-05",
         "0.0",
         "0.0",
         "0.0",
         "0.0",
         "0.0",
         "0.0",
         "0.0",
         "0.0004004486267503",
         "0.0",
         "0.0",
         "0.0",
         "0.0",
         "0.0002402686192025",
         "0.0",
         "0.0",
         "0.0",
         "0.0",
         "0.0",
         "0.0010411658727032",
         "8.00897253500706e-05",
         "0.0",
         "0.0",
         "0.0",
         "0.0071279838856133",
         "0.0",
         "0.0",
         "0.0",
         "0.0002402686192025",
         "0.0006407172459529",
         "0.0002402686192025",
         "0.0",
         "0.0003203586229764",
         "0.0",
         "0.0",
         "0.0",
         "0.0",
         "0.0001601800075477",
         "0.0",
         "0.0001601800075477",
         "0.0008008972535007",
         "0.0",
         "0.0",
         "8.00897253500706e-05",
         "0.0135351563451426",
         "0.001201345880251",
         "0.0",
         "8.00897253500706e-05",
         "0.0",
         "0.0001601800075477",
         "0.0",
         "0.0022425089687161",
         "0.0001601800075477",
         "0.0108121157064977",
         "0.0",
         "0.0",
         "8.00897253500706e-05",
         "8.00897253500706e-05",
         "0.0",
         "0.0",
         "0.0001601800075477",
         "0.0",
         "0.0002402686192025",
         "0.0001601800075477",
         "0.0",
         "0.0",
         "0.0",
         "0.0",
         "0.0",
         "0.0046452090819328",
         "0.0",
         "0.0",
         "0.0",
         "0.0001601800075477",
         "0.0",
         "0.0004004486267503",
         "0.0",
         "0.0",
         "8.00897253500706e-05",
         "0.0001601800075477",
         "0.0",
         "8.00897253500706e-05",
         "0.0010411658727032",
         "0.0",
         "0.0",
         "8.00897253500706e-05",
         "0.0018420659104421",
         "0.0",
         "0.0",
         "0.0",
         "0.003043409006455",
         "0.0002402686192025",
         "0.0",
         "0.0",
         "0.0",
         "8.00897253500706e-05",
         "0.0",
         "0.0",
         "0.0",
         "0.0",
         "0.0",
         "8.00897253500706e-05",
         "0.0",
         "8.00897253500706e-05",
         "0.0",
         "0.0",
         "0.0",
         "0.000560627242179",
         "0.0",
         "0.0",
         "8.00897253500706e-05",
         "0.0004004486267503",
         "0.0",
         "0.0",
         "0.0",
         "0.0003203586229764",
         "0.0",
         "0.0",
         "8.00897253500706e-05",
         "0.0",
         "0.0",
         "0.0004805386305242",
         "0.0",
         "0.0",
         "0.0",
         "0.0",
         "0.0",
         "0.0",
         "0.0",
         "0.0",
         "0.0",
         "0.0",
         "0.0008008972535007",
         "0.0",
         "0.0",
         "0.0",
         "0.0",
         "0.0",
         "0.0",
         "0.0",
         "0.0",
         "0.0",
         "0.0",
         "8.00897253500706e-05",
         "0.0",
         "0.0",
         "0.0002402686192025",
         "0.0",
         "0.0",
         "0.0",
         "0.0001601800075477",
         "0.0",
         "0.0",
         "0.0",
         "0.0",
         "0.0",
         "0.0",
         "0.0",
         "0.0",
         "0.0",
         "0.0",
         "0.0",
         "0.0004004486267503",
         "0.0",
         "0.0",
         "0.0",
         "0.000560627242179",
         "0.0",
         "0.0",
         "0.0",
         "0.0",
         "0.0",
         "0.0",
         "0.0008008972535007",
         "0.0",
         "0.0",
         "0.0",
         "0.0",
         "0.0",
         "0.0",
         "0.0",
         "0.0",
         "0.0",
         "0.0",
         "0.0",
         "0.0",
         "0.0",
         "0.0",
         "0.0",
         "0.0",
         "0.0",
         "0.0",
         "0.0",
         "0.0008809872572745",
         "0.0",
         "0.0",
         "0.0",
         "0.0",
         "0.0",
         "0.0",
         "0.0",
         "0.0",
         "0.0",
         "0.0",
         "0.0",
         "0.0001601800075477",
         "0.0",
         "0.0",
         "0.0",
         "0.0",
         "0.0",
         "0.0",
         "8.00897253500706e-05",
         "0.0002402686192025",
         "0.0",
         "0.0",
         "0.0",
         "0.0",
         "0.0001601800075477",
         "0.0",
         "0.0",
         "8.00897253500706e-05",
         "0.0",
         "0.0",
         "0.0",
         "8.00897253500706e-05",
         "0.0",
         "0.0",
         "0.0",
         "0.0",
         "0.0",
         "0.0",
         "0.0",
         "0.0",
         "0.0",
         "0.0",
         "0.0",
         "0.0",
         "0.0",
         "0.0",
         "0.0",
         "0.0",
         "0.0",
         "0.0",
         "0.0",
         "0.0",
         "0.0",
         "0.0",
         "0.001521697542632",
         "0.0",
         "0.0",
         "0.0",
         "0.0",
         "0.0",
         "0.0",
         "0.0",
         "0.0",
         "0.0",
         "0.0",
         "0.0",
         "0.0",
         "0.0009610758689293",
         "0.0003203586229764",
         "0.0",
         "0.0",
         "0.0",
         "8.00897253500706e-05",
         "0.0",
         "0.0",
         "0.0",
         "0.0",
         "0.0",
         "0.0",
         "0.0029633203948002",
         "0.0",
         "0.0",
         "0.0",
         "0.0",
         "0.0",
         "0.0",
         "0.0",
         "0.0",
         "0.0",
         "8.00897253500706e-05",
         "0.0",
         "0.0",
         "0.0",
         "0.0",
         "0.0",
         "0.0",
         "0.0",
         "0.0",
         "0.0",
         "0.0",
         "0.0",
         "0.0",
         "0.0",
         "0.0",
         "0.0",
         "0.0",
         "0.0",
         "0.0",
         "0.0",
         "0.0",
         "0.0",
         "0.0",
         "0.0",
         "0.0",
         "0.0",
         "0.0",
         "0.0",
         "0.0",
         "0.0",
         "0.0",
         "0.0",
         "0.0",
         "0.0",
         "0.0",
         "0.0",
         "0.0",
         "0.0",
         "0.0",
         "0.0",
         "0.0",
         "0.0",
         "0.0",
         "0.0",
         "0.0",
         "0.0",
         "0.0",
         "0.0",
         "0.0",
         "0.0",
         "0.0",
         "0.0",
         "8.00897253500706e-05",
         "0.0",
         "0.0",
         "0.0",
         "8.00897253500706e-05",
         "0.0",
         "0.0",
         "0.0",
         "0.0",
         "0.0",
         "0.0",
         "0.0",
         "0.0",
         "0.0",
         "0.0",
         "0.0",
         "0.0",
         "0.0",
         "0.0",
         "0.0",
         "0.0",
         "0.0",
         "0.0",
         "0.0",
         "0.0",
         "0.0",
         "0.0",
         "0.0",
         "0.0",
         "0.0",
         "0.0",
         "0.0",
         "0.0",
         "0.0",
         "0.0",
         "0.0002402686192025",
         "0.0",
         "0.0",
         "8.00897253500706e-05",
         "0.0",
         "0.0",
         "0.0",
         "8.00897253500706e-05",
         "0.0",
         "0.0",
         "0.0",
         "0.0",
         "0.0",
         "0.0",
         "0.0",
         "0.0",
         "0.0",
         "0.0",
         "0.0",
         "0.0",
         "0.0",
         "0.0",
         "0.0",
         "0.0",
         "0.0",
         "0.0",
         "0.0",
         "8.00897253500706e-05",
         "0.0",
         "0.0",
         "0.0",
         "0.0",
         "8.00897253500706e-05",
         "0"
        ],
        [
         "1",
         "0.0099632668500928",
         "8.166606119547114e-05",
         "0.0188648269070498",
         "8.166606119547114e-05",
         "0.003021647956355",
         "0.0050633031783645",
         "0.006369960157492",
         "0.018374808387141",
         "0.0004083310444018",
         "0.0349530298861896",
         "0.3127803867178016",
         "0.0",
         "0.0079216116280833",
         "0.0006533284895637",
         "0.0044916296736282",
         "0.0005716631667928",
         "0.0005716631667928",
         "0.003756646199237",
         "0.0045732994269463",
         "0.0008166606119547",
         "0.0013883223018984",
         "0.0122499165635659",
         "0.0080032666129108",
         "0.0017149909772275",
         "0.0001633321223909",
         "0.002613313958255",
         "0.0004899963671728",
         "0.0",
         "0.0007349952891837",
         "0.0002449989220109",
         "0.0086566098709652",
         "0.010698250324484",
         "0.0022866497134731",
         "0.0002449989220109",
         "0.0151081659393222",
         "8.166606119547114e-05",
         "0.0",
         "0.0",
         "0.0004899963671728",
         "0.0",
         "8.166606119547114e-05",
         "8.166606119547114e-05",
         "0.0005716631667928",
         "0.0032666424478188",
         "0.0",
         "8.166606119547114e-05",
         "0.0",
         "0.0042466351821644",
         "0.0129032302846391",
         "0.0189464966603679",
         "0.0006533284895637",
         "0.0024499744516188",
         "8.166606119547114e-05",
         "8.166606119547114e-05",
         "0.0",
         "0.0001633321223909",
         "0.0010616580571165",
         "0.0",
         "0.0048182939184101",
         "0.0004083310444018",
         "0.0",
         "0.0045732994269463",
         "0.0005716631667928",
         "0.0066966244022739",
         "0.0",
         "0.0011433248567365",
         "0.0",
         "0.0017149909772275",
         "0.0031849726945007",
         "0.0",
         "8.166606119547114e-05",
         "0.0307881678367779",
         "0.0015516514705912",
         "0.0",
         "0.0001633321223909",
         "0.0001633321223909",
         "0.0",
         "0.0005716631667928",
         "0.0",
         "0.0",
         "0.0",
         "0.0",
         "8.166606119547114e-05",
         "0.0279297264706431",
         "0.0",
         "8.166606119547114e-05",
         "8.166606119547114e-05",
         "0.0002449989220109",
         "0.0013066569791275",
         "0.0",
         "0.0",
         "0.0",
         "0.0",
         "0.0013883223018984",
         "0.0",
         "0.0",
         "0.0",
         "8.166606119547114e-05",
         "0.0",
         "0.0",
         "0.0",
         "0.0001633321223909",
         "0.0",
         "0.0343813416129627",
         "0.0",
         "0.0",
         "0.0",
         "8.166606119547114e-05",
         "0.0",
         "0.0",
         "0.0216414508349598",
         "0.0004899963671728",
         "8.166606119547114e-05",
         "0.0",
         "0.0",
         "0.0003266642447818",
         "0.0413229752751911",
         "0.0006533284895637",
         "0.0",
         "0.0005716631667928",
         "0.0",
         "0.0002449989220109",
         "0.0005716631667928",
         "0.0",
         "0.0",
         "0.0007349952891837",
         "0.0002449989220109",
         "0.0",
         "8.166606119547114e-05",
         "0.0013883223018984",
         "0.0",
         "0.0",
         "0.003756646199237",
         "0.0",
         "0.0008983274115747",
         "0.0007349952891837",
         "0.0003266642447818",
         "8.166606119547114e-05",
         "0.0001633321223909",
         "0.0001633321223909",
         "8.166606119547114e-05",
         "0.0004083310444018",
         "0.0001633321223909",
         "0.0",
         "0.0",
         "0.014454896523721",
         "0.0002449989220109",
         "0.0",
         "0.0005716631667928",
         "0.0",
         "0.0",
         "0.0075132776299833",
         "0.0001633321223909",
         "0.0003266642447818",
         "0.0",
         "0.0",
         "0.0",
         "0.0002449989220109",
         "0.0",
         "0.0",
         "0.0",
         "0.0004899963671728",
         "8.166606119547114e-05",
         "0.0",
         "0.0",
         "0.0",
         "0.0",
         "0.0",
         "0.0",
         "0.0",
         "0.0",
         "0.0",
         "0.0012249901795075",
         "8.166606119547114e-05",
         "0.0",
         "0.0",
         "0.0",
         "0.0009799927343456",
         "0.0069416188937377",
         "0.0001633321223909",
         "0.0081666061195471",
         "0.002613313958255",
         "0.0001633321223909",
         "0.0",
         "0.0",
         "8.166606119547114e-05",
         "8.166606119547114e-05",
         "8.166606119547114e-05",
         "0.0",
         "0.0",
         "0.0",
         "0.0",
         "0.0002449989220109",
         "0.0004899963671728",
         "0.0",
         "0.0",
         "0.0138015680341572",
         "0.0124132413017116",
         "0.0004083310444018",
         "0.0",
         "0.0",
         "0.0",
         "0.0120049073036115",
         "0.0",
         "0.0008983274115747",
         "0.0",
         "0.0082482758728652",
         "0.0",
         "0.0",
         "0.0001633321223909",
         "8.166606119547114e-05",
         "0.0",
         "0.0",
         "0.0",
         "0.0",
         "8.166606119547114e-05",
         "0.0",
         "8.166606119547114e-05",
         "0.0",
         "0.0",
         "0.0",
         "8.166606119547114e-05",
         "0.0083299456261833",
         "0.0",
         "8.166606119547114e-05",
         "0.0",
         "0.0003266642447818",
         "8.166606119547114e-05",
         "8.166606119547114e-05",
         "0.0",
         "0.0",
         "0.0",
         "0.0",
         "0.0",
         "0.0",
         "0.0",
         "0.0",
         "0.0",
         "0.0",
         "0.0",
         "0.0",
         "0.0",
         "0.0",
         "0.0",
         "0.0",
         "0.0",
         "0.0",
         "0.0",
         "0.0001633321223909",
         "0.0001633321223909",
         "0.0",
         "0.0",
         "0.0",
         "0.0",
         "0.0",
         "0.0",
         "0.0",
         "8.166606119547114e-05",
         "0.0",
         "0.0",
         "0.0009799927343456",
         "0.0",
         "0.0",
         "0.0",
         "8.166606119547114e-05",
         "0.0",
         "0.0",
         "0.0",
         "0.0004083310444018",
         "0.0",
         "0.0002449989220109",
         "8.166606119547114e-05",
         "0.0338098010246423",
         "0.0023683194667913",
         "0.0005716631667928",
         "0.0",
         "0.0169865702656393",
         "0.0008166606119547",
         "0.0002449989220109",
         "0.0",
         "0.0",
         "8.166606119547114e-05",
         "0.0",
         "0.0",
         "0.0",
         "0.0",
         "0.0001633321223909",
         "0.0",
         "0.0",
         "0.0",
         "8.166606119547114e-05",
         "0.0",
         "0.0",
         "0.0",
         "0.0",
         "0.0",
         "0.0",
         "0.0",
         "0.0",
         "0.0",
         "0.0",
         "0.0",
         "0.0",
         "8.166606119547114e-05",
         "8.166606119547114e-05",
         "0.0",
         "0.0",
         "0.0",
         "0.0",
         "0.0",
         "0.0",
         "0.0001633321223909",
         "0.0",
         "0.0",
         "0.0",
         "0.0806860241556535",
         "8.166606119547114e-05",
         "0.0",
         "0.0019599854686913",
         "0.0019599854686913",
         "0.0",
         "0.0",
         "0.0",
         "8.166606119547114e-05",
         "8.166606119547114e-05",
         "8.166606119547114e-05",
         "0.0",
         "0.0",
         "0.0",
         "0.0001633321223909",
         "0.0",
         "0.0",
         "0.0",
         "0.0",
         "0.0",
         "0.0",
         "0.0",
         "0.0",
         "0.0026949837115732",
         "8.166606119547114e-05",
         "0.0",
         "0.0",
         "0.0",
         "0.0",
         "0.0008166606119547",
         "0.0",
         "8.166606119547114e-05",
         "0.0",
         "0.0",
         "0.0",
         "0.0",
         "0.0",
         "0.0",
         "0.0",
         "0.0",
         "0.0",
         "8.166606119547114e-05",
         "0.0",
         "0.0",
         "0.0",
         "0.0",
         "0.0",
         "0.005553292161292",
         "0.0002449989220109",
         "0.0",
         "0.0",
         "0.0",
         "0.0021233102068369",
         "0.0",
         "8.166606119547114e-05",
         "0.0",
         "8.166606119547114e-05",
         "0.0",
         "0.0",
         "0.0001633321223909",
         "0.0",
         "0.0",
         "0.0",
         "0.0",
         "0.0",
         "0.0",
         "0.0",
         "8.166606119547114e-05",
         "8.166606119547114e-05",
         "0.0",
         "8.166606119547114e-05",
         "0.0",
         "0.0",
         "0.0",
         "0.0",
         "0.0",
         "0.0",
         "0.0",
         "0.0",
         "0.0",
         "0.0",
         "8.166606119547114e-05",
         "0.0",
         "0.0",
         "0.0",
         "0.0",
         "0.0",
         "0.0",
         "0.0",
         "0.0001633321223909",
         "0.0",
         "0.0",
         "0.0",
         "0.0",
         "0.0",
         "0.0",
         "0.0",
         "0.0",
         "0.0",
         "8.166606119547114e-05",
         "0.0",
         "0.0",
         "0.0",
         "0.0",
         "0.0",
         "0.0",
         "0.0",
         "0.0",
         "0.0",
         "0.0001633321223909",
         "0.0",
         "0.0",
         "0.0",
         "0.0",
         "0.0",
         "0.0",
         "0.0",
         "0.0",
         "0.0",
         "0.0",
         "0.0",
         "0.0",
         "0.0",
         "0.0",
         "0.0",
         "8.166606119547114e-05",
         "0.0",
         "0.0",
         "0.0",
         "0.0",
         "8.166606119547114e-05",
         "0.0",
         "0.0",
         "0.0003266642447818",
         "8.166606119547114e-05",
         "0.0",
         "0.0",
         "8.166606119547114e-05",
         "0.0",
         "0.0",
         "0.0",
         "0.0",
         "0.0",
         "0.0",
         "0.0",
         "0.0",
         "8.166606119547114e-05",
         "0.0",
         "0.0001633321223909",
         "0.0",
         "0.0",
         "0.0",
         "0.0",
         "0.0",
         "0.0",
         "0.0",
         "0.0001633321223909",
         "0.0",
         "8.166606119547114e-05",
         "0.0",
         "0.0",
         "0.0",
         "8.166606119547114e-05",
         "0.0",
         "0.0",
         "0.0",
         "8.166606119547114e-05",
         "0.0",
         "0.0",
         "8.166606119547114e-05",
         "0.0",
         "0.0",
         "0.0",
         "0.0",
         "0.0",
         "0.0",
         "0.0",
         "0.0",
         "0.0",
         "0.0",
         "0.0",
         "0.0",
         "0.0",
         "0.0",
         "0.0",
         "0.0",
         "0.0",
         "0.0",
         "0.0",
         "0.0",
         "0.0",
         "0.0",
         "0.0",
         "0.0",
         "0.0",
         "0.0",
         "0.0",
         "0.0",
         "0.0",
         "0.0",
         "0.0",
         "0.0",
         "0.0",
         "0.0",
         "0.0",
         "0.0",
         "0.0",
         "0.0",
         "0.0",
         "0.0",
         "0.0",
         "0.0",
         "0.0",
         "0.0",
         "0.0",
         "0.0",
         "0.0",
         "0.0",
         "0.0",
         "0.0",
         "0.0",
         "0.0",
         "0.0",
         "0.0",
         "0.0",
         "0.0",
         "0.0",
         "0.0",
         "0.0",
         "0.0",
         "0.0",
         "0.0",
         "0.0",
         "0.0",
         "0.0",
         "0.0",
         "0.0",
         "0.0",
         "0.0",
         "0.0",
         "0.0",
         "1"
        ],
        [
         "2",
         "0.1316896964650164",
         "0.0186008636851288",
         "9.26954794867076e-05",
         "0.0055617309161537",
         "0.0131627434878439",
         "0.0093622425693769",
         "0.2154862776688024",
         "0.009794821044258",
         "0.0021011031171053",
         "0.0001853913883636",
         "0.0033988385417484",
         "0.0001235935432586",
         "6.179698632447174e-05",
         "0.0",
         "0.009733031786958",
         "0.0107835994476452",
         "0.0032752385576359",
         "3.089849316223587e-05",
         "0.0096403264314955",
         "0.0001235935432586",
         "0.0013904300453493",
         "0.0002780860090698",
         "0.0045420793536291",
         "0.0013595354166993",
         "0.0088060748451397",
         "0.0",
         "0.0011123461832307",
         "0.0006488687857972",
         "0.0009887515664964",
         "0.0002780860090698",
         "0.0003398838541748",
         "0.015511078777443",
         "0.0046656686029853",
         "0.002039303125049",
         "6.179698632447174e-05",
         "0.0",
         "0.0001544924658111",
         "3.089849316223587e-05",
         "0.0005870709406922",
         "0.0",
         "0.0002780860090698",
         "0.0006179698632447",
         "0.0011123461832307",
         "0.0003398838541748",
         "9.26954794867076e-05",
         "0.0003707817032517",
         "0.0002780860090698",
         "0.0111234618323074",
         "0.3607404122026502",
         "0.0",
         "0.0",
         "0.0",
         "0.0",
         "0.0024718815999301",
         "0.0",
         "0.0010814515545807",
         "0.000432578474881",
         "3.089849316223587e-05",
         "0.0001544924658111",
         "3.089849316223587e-05",
         "0.0006179698632447",
         "0.0196823903830037",
         "0.0008342591006852",
         "0.0014522300374055",
         "3.089849316223587e-05",
         "0.0",
         "9.26954794867076e-05",
         "0.0005561730916153",
         "0.0",
         "3.089849316223587e-05",
         "0.0",
         "0.0008960569457902",
         "0.0",
         "0.0001235935432586",
         "0.0002162892374405",
         "0.0156964680188555",
         "0.0",
         "6.179698632447174e-05",
         "6.179698632447174e-05",
         "0.0",
         "0.0",
         "0.0",
         "0.0",
         "6.179698632447174e-05",
         "0.0",
         "9.26954794867076e-05",
         "0.0006488687857972",
         "0.0008960569457902",
         "0.0001235935432586",
         "0.0",
         "0.0",
         "9.26954794867076e-05",
         "0.0",
         "0.0",
         "3.089849316223587e-05",
         "0.0",
         "0.0",
         "0.0",
         "0.0",
         "3.089849316223587e-05",
         "0.0",
         "0.0",
         "0.0",
         "3.089849316223587e-05",
         "3.089849316223587e-05",
         "0.0",
         "0.0",
         "0.0",
         "0.0",
         "0.0",
         "0.0",
         "0.0",
         "0.000494376319986",
         "0.0",
         "0.0",
         "0.000926954794867",
         "0.0012977354246431",
         "3.089849316223587e-05",
         "0.0",
         "3.089849316223587e-05",
         "0.0",
         "9.26954794867076e-05",
         "9.26954794867076e-05",
         "0.0",
         "0.0",
         "0.0005870709406922",
         "0.0001544924658111",
         "3.089849316223587e-05",
         "0.0001235935432586",
         "3.089849316223587e-05",
         "0.0",
         "0.0005252741690628",
         "0.0",
         "0.0",
         "0.0001544924658111",
         "3.089849316223587e-05",
         "3.089849316223587e-05",
         "0.0",
         "0.0",
         "0.0",
         "0.0",
         "3.089849316223587e-05",
         "0.0",
         "0.0",
         "0.079007484372789",
         "0.0",
         "0.0002162892374405",
         "0.0",
         "0.0",
         "0.0",
         "0.0",
         "0.000247188159993",
         "0.0001544924658111",
         "0.0",
         "0.0",
         "0.0",
         "0.0",
         "0.0",
         "0.0",
         "0.0",
         "3.089849316223587e-05",
         "3.089849316223587e-05",
         "0.0",
         "0.0",
         "0.0",
         "0.0",
         "0.0001235935432586",
         "3.089849316223587e-05",
         "6.179698632447174e-05",
         "0.0",
         "0.0",
         "0.0",
         "3.089849316223587e-05",
         "0.0",
         "0.0",
         "9.26954794867076e-05",
         "0.0",
         "0.0",
         "0.0",
         "9.26954794867076e-05",
         "3.089849316223587e-05",
         "0.0",
         "0.0",
         "0.0",
         "0.0",
         "0.0",
         "0.0",
         "0.0",
         "0.0002780860090698",
         "0.0",
         "3.089849316223587e-05",
         "3.089849316223587e-05",
         "0.0",
         "0.0",
         "0.0",
         "0.0",
         "0.0",
         "0.000432578474881",
         "0.0001235935432586",
         "0.0",
         "0.0",
         "0.0",
         "0.0",
         "0.0",
         "3.089849316223587e-05",
         "0.0",
         "0.0003398838541748",
         "0.0",
         "0.0003089849316223",
         "3.089849316223587e-05",
         "0.0001235935432586",
         "0.0",
         "6.179698632447174e-05",
         "0.0",
         "0.0",
         "3.089849316223587e-05",
         "0.0",
         "0.0",
         "0.0",
         "0.0",
         "0.0",
         "0.0",
         "6.179698632447174e-05",
         "0.0",
         "3.089849316223587e-05",
         "0.0018848085122866",
         "0.0",
         "0.0",
         "6.179698632447174e-05",
         "3.089849316223587e-05",
         "0.0",
         "3.089849316223587e-05",
         "0.0",
         "0.0",
         "0.0",
         "3.089849316223587e-05",
         "0.0",
         "0.0",
         "0.0",
         "0.0001235935432586",
         "0.0",
         "0.0",
         "9.26954794867076e-05",
         "6.179698632447174e-05",
         "0.0",
         "0.0",
         "0.0002162892374405",
         "0.0",
         "0.0",
         "0.0",
         "0.0",
         "0.0",
         "0.0",
         "0.0",
         "0.0",
         "0.0",
         "0.0",
         "3.089849316223587e-05",
         "0.0",
         "0.0",
         "3.089849316223587e-05",
         "0.0",
         "0.0",
         "0.0",
         "3.089849316223587e-05",
         "0.0",
         "0.0",
         "0.0",
         "0.0",
         "0.0",
         "0.0",
         "9.26954794867076e-05",
         "0.0",
         "0.0",
         "0.0",
         "0.0",
         "0.0",
         "0.0",
         "0.0003089849316223",
         "0.0",
         "3.089849316223587e-05",
         "0.0",
         "3.089849316223587e-05",
         "0.0",
         "0.0",
         "0.0001235935432586",
         "3.089849316223587e-05",
         "0.0",
         "0.0",
         "0.0",
         "0.0",
         "0.0",
         "0.0",
         "0.0",
         "0.0",
         "0.0",
         "0.0",
         "0.0",
         "0.0",
         "0.0",
         "0.0",
         "0.0",
         "0.0",
         "0.0",
         "0.0",
         "0.0",
         "0.0",
         "6.179698632447174e-05",
         "0.0",
         "0.0",
         "0.0",
         "0.0",
         "0.0",
         "3.089849316223587e-05",
         "0.0",
         "0.0",
         "3.089849316223587e-05",
         "0.0",
         "0.0",
         "0.0",
         "0.0",
         "0.0",
         "0.0",
         "0.0",
         "0.0",
         "0.0",
         "0.0",
         "0.0",
         "0.0",
         "0.0",
         "0.0",
         "0.0004016806258041",
         "6.179698632447174e-05",
         "0.0",
         "0.0",
         "0.0",
         "0.0",
         "0.0",
         "0.0",
         "0.0",
         "0.0",
         "0.0",
         "0.0",
         "0.0",
         "0.0",
         "0.0",
         "0.0",
         "9.26954794867076e-05",
         "0.0",
         "0.0",
         "0.0",
         "0.0",
         "0.0",
         "0.0",
         "0.0",
         "0.0",
         "0.0007106655574265",
         "0.0",
         "0.0",
         "0.0001235935432586",
         "0.0",
         "0.0",
         "3.089849316223587e-05",
         "0.0",
         "0.0",
         "0.0",
         "0.0",
         "0.0",
         "0.0",
         "0.0",
         "0.0",
         "0.0",
         "3.089849316223587e-05",
         "0.0",
         "0.0",
         "0.0",
         "0.0",
         "0.0",
         "0.0",
         "0.0",
         "3.089849316223587e-05",
         "0.0",
         "0.0",
         "0.0",
         "0.0",
         "0.0",
         "0.0001235935432586",
         "0.0",
         "0.0",
         "0.0",
         "0.0",
         "0.0",
         "0.0",
         "0.0",
         "0.0",
         "0.0",
         "0.0",
         "0.0",
         "9.26954794867076e-05",
         "0.0",
         "0.0",
         "3.089849316223587e-05",
         "0.0",
         "0.0",
         "0.0",
         "0.0",
         "0.0",
         "0.0",
         "0.0",
         "0.0",
         "3.089849316223587e-05",
         "0.0",
         "0.0",
         "0.0",
         "0.0002780860090698",
         "6.179698632447174e-05",
         "0.0",
         "0.0",
         "0.0",
         "0.0",
         "3.089849316223587e-05",
         "0.0",
         "0.0",
         "0.0",
         "0.0",
         "0.0",
         "0.0",
         "0.0",
         "0.0",
         "0.0",
         "0.0",
         "0.0",
         "0.0",
         "0.0",
         "0.0",
         "0.0",
         "0.0",
         "0.0",
         "0.0",
         "0.0",
         "0.0",
         "0.0",
         "0.0",
         "0.0",
         "0.0",
         "0.0",
         "0.0",
         "0.0",
         "0.0",
         "0.0",
         "0.0",
         "0.0",
         "0.0",
         "0.0",
         "0.0",
         "0.0",
         "0.0",
         "0.0",
         "3.089849316223587e-05",
         "0.0",
         "0.0",
         "0.0",
         "0.0",
         "0.0",
         "0.0",
         "0.0",
         "0.0",
         "0.0",
         "0.0",
         "0.0",
         "0.0",
         "0.0",
         "0.0",
         "0.0",
         "0.0",
         "0.0",
         "0.0",
         "0.0",
         "0.0",
         "0.0",
         "0.0",
         "0.0",
         "0.0",
         "0.0",
         "0.0",
         "0.0",
         "0.0",
         "0.0",
         "0.0",
         "0.0",
         "0.0",
         "0.0",
         "0.0",
         "0.0",
         "0.0",
         "0.0",
         "0.0",
         "0.0",
         "0.0",
         "0.0",
         "0.0",
         "0.0",
         "0.0",
         "0.0",
         "0.0",
         "0.0",
         "0.0",
         "0.0",
         "0.0",
         "0.0",
         "0.0",
         "0.0",
         "0.0",
         "0.0",
         "0.0",
         "0.0",
         "0.0",
         "0.0",
         "0.0",
         "0.0",
         "0.0",
         "0.0",
         "0.0",
         "0.0",
         "0.0",
         "0.0",
         "0.0",
         "0.0",
         "0.0",
         "0.0",
         "0.0",
         "0.0",
         "0.0",
         "0.0",
         "0.0",
         "0.0",
         "0.0",
         "0.0",
         "0.0",
         "0.0",
         "0.0",
         "3.089849316223587e-05",
         "0.0",
         "0.0",
         "0.0",
         "0.0001235935432586",
         "0.0",
         "0.0",
         "0.0",
         "0.0",
         "0.0",
         "0.0",
         "0.0",
         "0.0",
         "3.089849316223587e-05",
         "0.0",
         "0"
        ],
        [
         "3",
         "0.1064482110716594",
         "0.0036274948121985",
         "0.0028769802946029",
         "0.0003752584553707",
         "0.0212020770021294",
         "6.25429562378295e-05",
         "0.0394020720024166",
         "0.0604791071259567",
         "0.0007505157141685",
         "0.0001250861517902",
         "0.0073800793659062",
         "0.0013759512594118",
         "0.0018137533889642",
         "0.0",
         "0.0010632316919307",
         "0.0079429592712379",
         "0.0025642679065598",
         "0.0",
         "0.0018137533889642",
         "0.0002501723035805",
         "0.0002501723035805",
         "0.0290824674711527",
         "0.0018762862939888",
         "0.0056914157184512",
         "0.0066295648483107",
         "0.0087560186595881",
         "0.0",
         "0.0011257741695393",
         "0.0013134063886572",
         "0.0",
         "0.0007505157141685",
         "0.0098192575309568",
         "0.006066672977249",
         "0.0004378009329794",
         "0.0004378009329794",
         "0.0",
         "6.25429562378295e-05",
         "0.0",
         "0.0037525845537077",
         "0.0",
         "0.0002501723035805",
         "0.0080680490127472",
         "0.0005628870847696",
         "0.0326474174125966",
         "0.0001250861517902",
         "0.0001876286293988",
         "6.25429562378295e-05",
         "0.1931950869988605",
         "0.0790543474193117",
         "0.0002501723035805",
         "0.0001876286293988",
         "0.0008756018659588",
         "0.0003127147811891",
         "0.0278941508240047",
         "0.0",
         "0.002189010647762",
         "0.0010632316919307",
         "6.25429562378295e-05",
         "0.000500344607161",
         "0.0003752584553707",
         "0.0271436602378692",
         "0.0014384841644364",
         "0.0006254295623782",
         "0.0011257741695393",
         "0.0001876286293988",
         "0.0012508615179025",
         "0.0002501723035805",
         "0.0005628870847696",
         "0.0007505157141685",
         "0.0002501723035805",
         "0.0",
         "0.009944335306736",
         "0.0012508615179025",
         "0.0001250861517902",
         "0.0002501723035805",
         "0.0232660457713022",
         "0.0",
         "0.0",
         "0.0",
         "0.0012508615179025",
         "0.0",
         "0.0053787033304081",
         "0.0",
         "0.0003127147811891",
         "0.0001250861517902",
         "0.0005628870847696",
         "0.0008130593883501",
         "0.0003752584553707",
         "0.0692351497170049",
         "0.0",
         "0.0",
         "0.0001250861517902",
         "0.0",
         "0.0",
         "0.0",
         "0.0",
         "0.0003752584553707",
         "0.0",
         "0.0",
         "0.0001876286293988",
         "0.0001250861517902",
         "6.25429562378295e-05",
         "0.0",
         "0.0",
         "6.25429562378295e-05",
         "0.0",
         "0.0",
         "0.0026268008115844",
         "0.0",
         "6.25429562378295e-05",
         "0.0",
         "0.0",
         "0.0002501723035805",
         "0.0",
         "0.0",
         "0.004378009329794",
         "6.25429562378295e-05",
         "6.25429562378295e-05",
         "0.0",
         "0.0005628870847696",
         "0.0",
         "0.0003127147811891",
         "0.0",
         "0.0",
         "0.0",
         "0.0011257741695393",
         "0.0001250861517902",
         "0.0",
         "0.0001250861517902",
         "0.0027518905530936",
         "0.0",
         "0.0002501723035805",
         "0.0004378009329794",
         "0.0",
         "0.001000688017749",
         "6.25429562378295e-05",
         "0.0003752584553707",
         "0.0",
         "0.0",
         "0.0",
         "0.0009381455401404",
         "0.0",
         "0.0",
         "0.0006254295623782",
         "0.0327725789484859",
         "0.0",
         "0.0003127147811891",
         "0.0",
         "0.0",
         "0.0",
         "0.0",
         "0.0",
         "0.0",
         "0.0001876286293988",
         "6.25429562378295e-05",
         "0.0",
         "6.25429562378295e-05",
         "0.0001876286293988",
         "0.0",
         "0.0",
         "0.0001250861517902",
         "6.25429562378295e-05",
         "0.0",
         "0.0008130593883501",
         "6.25429562378295e-05",
         "0.0",
         "0.0",
         "0.0",
         "6.25429562378295e-05",
         "0.0",
         "0.0",
         "0.0",
         "0.0",
         "0.0",
         "0.0",
         "0.0001876286293988",
         "0.0",
         "0.0",
         "0.0",
         "0.0",
         "0.0008130593883501",
         "0.0008756018659588",
         "0.0",
         "0.0",
         "0.0",
         "0.0",
         "0.0002501723035805",
         "0.0",
         "0.0015010290351911",
         "0.0",
         "0.0",
         "0.0002501723035805",
         "0.001000688017749",
         "0.0",
         "0.0",
         "0.0",
         "0.0",
         "0.0",
         "0.0002501723035805",
         "0.0",
         "0.0",
         "0.0001250861517902",
         "0.0098192575309568",
         "6.25429562378295e-05",
         "6.25429562378295e-05",
         "0.0",
         "0.0",
         "0.0",
         "0.0",
         "0.0",
         "0.0003127147811891",
         "0.0",
         "0.0",
         "0.0",
         "0.0",
         "0.0",
         "0.0",
         "0.0",
         "0.0",
         "0.0",
         "0.0",
         "0.0",
         "0.0437800932979406",
         "0.0",
         "0.0001250861517902",
         "0.000500344607161",
         "0.0",
         "0.0",
         "6.25429562378295e-05",
         "6.25429562378295e-05",
         "6.25429562378295e-05",
         "0.0",
         "0.0",
         "0.0003127147811891",
         "0.0",
         "0.0",
         "0.0",
         "6.25429562378295e-05",
         "0.0",
         "6.25429562378295e-05",
         "0.0",
         "0.0",
         "0.0",
         "0.0",
         "0.0",
         "0.0",
         "0.0",
         "0.0",
         "0.0001250861517902",
         "0.0",
         "0.0001250861517902",
         "0.0",
         "6.25429562378295e-05",
         "0.0003127147811891",
         "0.0",
         "0.0",
         "0.0",
         "0.0",
         "0.0",
         "0.0",
         "0.0",
         "0.0",
         "0.0",
         "0.0",
         "0.0001876286293988",
         "0.0",
         "0.0",
         "0.0001876286293988",
         "0.0",
         "0.0",
         "0.0",
         "0.0001250861517902",
         "0.0",
         "0.0",
         "0.0",
         "0.0002501723035805",
         "0.0",
         "0.0023766332942959",
         "0.0",
         "6.25429562378295e-05",
         "0.0",
         "0.0069422772363538",
         "0.0",
         "0.0",
         "0.0",
         "6.25429562378295e-05",
         "6.25429562378295e-05",
         "6.25429562378295e-05",
         "0.0",
         "0.0",
         "0.0",
         "0.0",
         "6.25429562378295e-05",
         "0.0",
         "6.25429562378295e-05",
         "0.0",
         "0.0",
         "0.0",
         "0.0",
         "0.0",
         "0.0",
         "0.0",
         "0.0",
         "6.25429562378295e-05",
         "0.0",
         "0.0",
         "0.0",
         "0.0",
         "0.0",
         "0.0",
         "0.0",
         "0.0",
         "0.0",
         "0.0",
         "0.0",
         "0.0",
         "0.0",
         "0.0",
         "0.0",
         "0.0",
         "0.0",
         "0.0001876286293988",
         "0.0",
         "0.0",
         "0.0",
         "0.0",
         "0.0001250861517902",
         "0.0002501723035805",
         "0.0",
         "0.0",
         "0.0",
         "0.0002501723035805",
         "6.25429562378295e-05",
         "0.0",
         "0.0",
         "6.25429562378295e-05",
         "0.0",
         "0.0",
         "6.25429562378295e-05",
         "0.0",
         "0.0",
         "0.0",
         "0.0",
         "0.0",
         "0.0030646029411368",
         "0.0",
         "0.0",
         "0.0",
         "0.0",
         "0.0",
         "0.0",
         "0.0",
         "0.0",
         "0.0",
         "0.0",
         "0.0",
         "0.0013134063886572",
         "0.0",
         "0.0",
         "6.25429562378295e-05",
         "0.0",
         "0.0",
         "0.0",
         "0.0",
         "0.0",
         "0.0",
         "0.0",
         "0.0011883178437209",
         "0.0",
         "0.0",
         "0.0",
         "0.0",
         "0.0",
         "0.0",
         "0.0",
         "0.0",
         "0.0",
         "0.0",
         "0.0",
         "6.25429562378295e-05",
         "0.0",
         "6.25429562378295e-05",
         "0.0",
         "6.25429562378295e-05",
         "0.0",
         "0.0",
         "6.25429562378295e-05",
         "0.0",
         "6.25429562378295e-05",
         "0.0",
         "6.25429562378295e-05",
         "0.0",
         "0.0",
         "0.0",
         "0.0",
         "0.0",
         "0.0",
         "0.0",
         "0.0",
         "0.0001250861517902",
         "0.0",
         "0.0",
         "0.0",
         "0.0",
         "0.0",
         "0.0",
         "0.0",
         "0.0",
         "0.0",
         "0.0",
         "0.038151294244624",
         "0.0",
         "0.0",
         "0.0",
         "0.0",
         "0.0",
         "0.0",
         "0.0",
         "0.0006879732365599",
         "6.25429562378295e-05",
         "0.0",
         "0.0",
         "0.0",
         "0.0",
         "0.0",
         "0.0",
         "6.25429562378295e-05",
         "0.0",
         "0.0",
         "0.0",
         "0.0",
         "0.0",
         "0.0",
         "0.0",
         "0.0",
         "0.0001876286293988",
         "0.0",
         "0.0",
         "0.0",
         "0.0",
         "0.0",
         "0.0",
         "0.0",
         "0.0",
         "0.0",
         "0.0",
         "0.0",
         "0.0",
         "0.0",
         "0.0",
         "0.0",
         "0.0",
         "0.0",
         "0.0",
         "6.25429562378295e-05",
         "0.0",
         "0.0",
         "0.0",
         "0.0",
         "0.0",
         "0.0",
         "0.0",
         "0.0",
         "0.0",
         "0.0",
         "0.0",
         "0.0",
         "0.0",
         "0.0",
         "0.0",
         "0.0",
         "0.0",
         "0.0",
         "0.0",
         "0.0",
         "0.0",
         "0.0",
         "0.0",
         "0.0",
         "0.0",
         "6.25429562378295e-05",
         "0.0",
         "0.0",
         "0.0",
         "0.0",
         "0.0",
         "0.0",
         "0.0",
         "0.0",
         "0.0",
         "0.0",
         "0.0",
         "0.0",
         "0.0",
         "0.0",
         "0.0",
         "0.0",
         "0.0",
         "0.0",
         "0.0",
         "0.0",
         "0.0",
         "0.0",
         "0.0",
         "0.0",
         "0.0",
         "0.0",
         "0.0",
         "0.0",
         "0.0",
         "0.0",
         "0.0",
         "0.0",
         "0.0",
         "0.0",
         "0.0",
         "0.0",
         "0.0",
         "0.0",
         "0.0",
         "0.0",
         "0.0",
         "0.0",
         "0.0",
         "0.0",
         "0.0",
         "0.0",
         "0.0",
         "0.0",
         "0.0",
         "0.0",
         "0.0",
         "0.0",
         "6.25429562378295e-05",
         "0.0",
         "0.0",
         "0.0",
         "0.0",
         "6.25429562378295e-05",
         "0.0",
         "0.0",
         "0.0",
         "0.0",
         "0.0",
         "0.0",
         "6.25429562378295e-05",
         "0.0",
         "0.0",
         "0.0",
         "0.0",
         "0.0",
         "0.0",
         "0.0",
         "0.0",
         "0.0",
         "0.0",
         "0"
        ],
        [
         "4",
         "0.1752037038432027",
         "0.0031352329657091",
         "0.0100050705212672",
         "0.0039190315701103",
         "0.0185808287331658",
         "0.0209322630944738",
         "0.0451841604361821",
         "0.0126792296116386",
         "0.004610635958433",
         "0.0026741719397394",
         "0.1961366094060813",
         "0.0010143393968805",
         "0.045599195025637",
         "0.0",
         "0.0082530334828352",
         "0.0280786961476357",
         "0.0005993819036342",
         "0.0210705222951714",
         "0.0215316861160859",
         "0.0005532758010372",
         "0.0013370795451856",
         "0.0021669945316783",
         "0.0019364640186935",
         "0.0009682320093467",
         "0.0005071696984402",
         "0.0267417193973948",
         "0.0",
         "4.610635958433003e-05",
         "4.610635958433003e-05",
         "0.0007838075989588",
         "0.0002305317979216",
         "0.0104661315472369",
         "0.0120798579874988",
         "0.0007377014963619",
         "0.0016137264402619",
         "0.0003227440031155",
         "0.0001383183077909",
         "9.221259067497912e-05",
         "0.0005532758010372",
         "0.0",
         "9.221259067497912e-05",
         "0.0001844256953246",
         "0.0017059335057086",
         "0.0006454880062311",
         "0.0",
         "0.0002305317979216",
         "0.0003688501057125",
         "0.0008760198041528",
         "0.0395130918276396",
         "0.0273871431567855",
         "0.0",
         "0.0124948154807452",
         "0.0",
         "0.0002305317979216",
         "0.0",
         "0.0016598299729853",
         "0.0001844256953246",
         "9.221259067497912e-05",
         "0.0005071696984402",
         "0.0002766379005186",
         "0.0005993819036342",
         "0.0005071696984402",
         "0.0004610635958433",
         "0.007745856074774",
         "0.0",
         "0.0",
         "0.0001383183077909",
         "0.0015676100581705",
         "0.0017059335057086",
         "0.0",
         "0.0",
         "0.0113882535991762",
         "0.0",
         "4.610635958433003e-05",
         "4.610635958433003e-05",
         "0.006500983595035",
         "0.0119415345399607",
         "0.0",
         "0.0",
         "0.0",
         "0.0",
         "0.0178892757423156",
         "0.0",
         "4.610635958433003e-05",
         "0.0",
         "0.0002305317979216",
         "0.0003688501057125",
         "0.0007838075989588",
         "4.610635958433003e-05",
         "0.0",
         "9.221259067497912e-05",
         "4.610635958433003e-05",
         "4.610635958433003e-05",
         "0.0",
         "4.610635958433003e-05",
         "0.0",
         "0.0",
         "0.0011526577046714",
         "0.0",
         "4.610635958433003e-05",
         "0.0",
         "9.221259067497912e-05",
         "0.0",
         "4.610635958433003e-05",
         "0.0002766379005186",
         "0.0",
         "0.0",
         "0.0024436285773865",
         "9.221259067497912e-05",
         "0.0",
         "4.610635958433003e-05",
         "0.0069620574703728",
         "0.0002766379005186",
         "0.0",
         "0.0",
         "0.0419567846518667",
         "0.0",
         "0.0001844256953246",
         "0.0",
         "0.0",
         "0.0",
         "0.0001383183077909",
         "9.221259067497912e-05",
         "0.0",
         "0.0",
         "0.0019364640186935",
         "0.0",
         "0.0",
         "0.0003227440031155",
         "0.0010604454994775",
         "0.0",
         "0.0002305317979216",
         "0.0015215065254471",
         "0.0",
         "0.0009221259067497",
         "9.221259067497912e-05",
         "0.0001844256953246",
         "0.0",
         "4.610635958433003e-05",
         "0.0",
         "0.0",
         "0.0",
         "0.0",
         "0.0",
         "4.610635958433003e-05",
         "0.0",
         "0.0002305317979216",
         "0.0",
         "0.0",
         "0.0",
         "0.0",
         "0.0130020185875425",
         "0.0",
         "4.610635958433003e-05",
         "9.221259067497912e-05",
         "4.610635958433003e-05",
         "0.0",
         "9.221259067497912e-05",
         "0.0",
         "0.0",
         "0.0",
         "0.0004149562083095",
         "0.0",
         "0.0",
         "0.0",
         "0.0",
         "0.0",
         "0.0",
         "0.0",
         "0.0",
         "0.0",
         "0.0",
         "0.0002766379005186",
         "4.610635958433003e-05",
         "0.0",
         "0.0",
         "0.0",
         "0.0034118670114173",
         "0.0",
         "0.0",
         "0.0021669945316783",
         "0.0",
         "9.221259067497912e-05",
         "0.0001844256953246",
         "0.0",
         "0.0",
         "0.0",
         "0.0",
         "9.221259067497912e-05",
         "0.0",
         "0.0",
         "0.0",
         "0.0001844256953246",
         "0.0001383183077909",
         "0.0003227440031155",
         "0.0",
         "0.0074231184963425",
         "0.0217622037797026",
         "0.0001383183077909",
         "0.0",
         "4.610635958433003e-05",
         "0.0",
         "0.0099128506064524",
         "0.0",
         "0.0031813364984325",
         "0.0",
         "0.0129097601246234",
         "0.0",
         "0.0010143393968805",
         "0.0",
         "9.221259067497912e-05",
         "0.0",
         "0.0001383183077909",
         "0.0",
         "0.0",
         "0.0",
         "4.610635958433003e-05",
         "0.0",
         "0.0",
         "0.0",
         "4.610635958433003e-05",
         "0.0",
         "0.0184425695324682",
         "0.0",
         "0.0",
         "0.0",
         "0.0",
         "4.610635958433003e-05",
         "4.610635958433003e-05",
         "0.0",
         "0.0",
         "0.0",
         "0.0",
         "0.0",
         "0.0",
         "0.0001383183077909",
         "0.0",
         "9.221259067497912e-05",
         "0.0024436285773865",
         "0.0004610635958433",
         "0.0",
         "4.610635958433003e-05",
         "9.221259067497912e-05",
         "0.0005993819036342",
         "0.0001844256953246",
         "0.0",
         "0.0",
         "4.610635958433003e-05",
         "9.221259067497912e-05",
         "0.0002766379005186",
         "0.0",
         "0.0",
         "0.0",
         "9.221259067497912e-05",
         "0.0",
         "4.610635958433003e-05",
         "9.221259067497912e-05",
         "0.0",
         "4.610635958433003e-05",
         "0.0",
         "0.0013370795451856",
         "0.0",
         "0.0",
         "4.610635958433003e-05",
         "0.0002305317979216",
         "0.0",
         "0.0",
         "0.0",
         "0.0008760198041528",
         "0.0",
         "0.0",
         "0.0",
         "0.0",
         "0.0",
         "0.0005993819036342",
         "4.610635958433003e-05",
         "0.0",
         "0.0",
         "0.0",
         "4.610635958433003e-05",
         "0.0",
         "0.0",
         "0.0",
         "0.0",
         "0.0",
         "0.0",
         "0.0",
         "0.0",
         "0.0",
         "0.0",
         "0.0",
         "0.0",
         "0.0001383183077909",
         "0.0",
         "0.0",
         "0.0",
         "0.0",
         "0.0",
         "0.0",
         "4.610635958433003e-05",
         "0.0",
         "0.0",
         "0.0",
         "4.610635958433003e-05",
         "0.0",
         "0.0",
         "0.0",
         "0.0",
         "0.0",
         "0.0",
         "0.0",
         "9.221259067497912e-05",
         "0.0",
         "0.0",
         "0.0",
         "0.0",
         "0.0",
         "0.0",
         "0.0",
         "0.0024897449594779",
         "0.0004610635958433",
         "4.610635958433003e-05",
         "0.0",
         "0.0",
         "0.0",
         "0.0",
         "0.0",
         "0.0",
         "0.0",
         "0.0",
         "0.0",
         "0.0",
         "0.0",
         "0.0",
         "0.0",
         "9.221259067497912e-05",
         "0.0",
         "4.610635958433003e-05",
         "0.0",
         "0.0",
         "0.0",
         "0.0",
         "0.0",
         "0.0",
         "0.0",
         "0.0",
         "0.0",
         "0.0",
         "0.0",
         "0.0",
         "0.0",
         "0.0",
         "0.0",
         "0.0",
         "0.0",
         "4.610635958433003e-05",
         "0.0",
         "0.0",
         "0.0",
         "9.221259067497912e-05",
         "0.0",
         "0.0",
         "0.0",
         "0.0",
         "0.0",
         "0.0",
         "0.0",
         "0.0011987638072684",
         "0.0",
         "0.0",
         "0.0",
         "9.221259067497912e-05",
         "0.0",
         "0.0",
         "0.0",
         "0.0",
         "0.0",
         "4.610635958433003e-05",
         "0.0",
         "4.610635958433003e-05",
         "0.0",
         "4.610635958433003e-05",
         "0.0",
         "4.610635958433003e-05",
         "0.0",
         "0.0",
         "0.0002305317979216",
         "0.0",
         "0.0",
         "0.0002305317979216",
         "0.0",
         "0.0",
         "0.0",
         "0.0",
         "0.0",
         "0.0",
         "0.0",
         "0.0",
         "0.0",
         "0.0",
         "0.0",
         "0.0",
         "0.0",
         "9.221259067497912e-05",
         "4.610635958433003e-05",
         "0.0",
         "0.0",
         "0.0",
         "0.0",
         "0.0",
         "0.0",
         "0.0",
         "0.0",
         "0.0",
         "0.0",
         "0.0",
         "0.0",
         "0.0",
         "0.0",
         "0.0",
         "0.0",
         "0.0",
         "0.0",
         "0.0",
         "0.0",
         "0.0",
         "0.0",
         "0.0",
         "0.0",
         "0.0",
         "0.0",
         "0.0",
         "0.0",
         "0.0",
         "0.0",
         "0.0",
         "0.0",
         "0.0",
         "4.610635958433003e-05",
         "4.610635958433003e-05",
         "0.0",
         "0.0",
         "0.0",
         "0.0",
         "4.610635958433003e-05",
         "9.221259067497912e-05",
         "0.0",
         "0.0",
         "0.0",
         "0.0",
         "4.610635958433003e-05",
         "0.0",
         "0.0001383183077909",
         "0.0",
         "0.0",
         "0.0",
         "0.0",
         "0.0",
         "0.0",
         "0.0",
         "0.0",
         "0.0",
         "0.0",
         "0.0",
         "0.0",
         "4.610635958433003e-05",
         "0.0",
         "0.0",
         "0.0",
         "0.0",
         "0.0",
         "0.0",
         "0.0",
         "0.0001844256953246",
         "0.0",
         "0.0",
         "0.0",
         "0.0001383183077909",
         "9.221259067497912e-05",
         "0.0",
         "0.0",
         "0.0",
         "0.0",
         "0.0",
         "0.0",
         "0.0",
         "0.0",
         "0.0",
         "0.0",
         "0.0",
         "0.0",
         "0.0",
         "0.0",
         "0.0",
         "0.0",
         "0.0",
         "0.0",
         "0.0",
         "0.0",
         "0.0",
         "0.0",
         "0.0",
         "0.0",
         "0.0",
         "4.610635958433003e-05",
         "0.0",
         "0.0",
         "0.0",
         "0.0",
         "0.0",
         "0.0",
         "0.0",
         "0.0",
         "0.0",
         "0.0",
         "0.0",
         "0.0",
         "0.0",
         "0.0",
         "0.0",
         "0.0",
         "0.0",
         "0.0",
         "0.0",
         "0.0",
         "0.0",
         "0.0",
         "0.0",
         "0.0",
         "0.0",
         "0.0",
         "0.0",
         "0.0",
         "0.0",
         "0.0",
         "0.0",
         "0.0",
         "0.0",
         "0.0",
         "0.0",
         "0.0",
         "0.0",
         "0.0",
         "0.0",
         "0.0",
         "0.0",
         "0.0",
         "0.0",
         "0.0",
         "0.0",
         "0.0",
         "0.0",
         "0.0",
         "0.0",
         "0.0",
         "0.0",
         "1"
        ]
       ],
       "shape": {
        "columns": 557,
        "rows": 5
       }
      },
      "text/html": [
       "<div>\n",
       "<style scoped>\n",
       "    .dataframe tbody tr th:only-of-type {\n",
       "        vertical-align: middle;\n",
       "    }\n",
       "\n",
       "    .dataframe tbody tr th {\n",
       "        vertical-align: top;\n",
       "    }\n",
       "\n",
       "    .dataframe thead th {\n",
       "        text-align: right;\n",
       "    }\n",
       "</style>\n",
       "<table border=\"1\" class=\"dataframe\">\n",
       "  <thead>\n",
       "    <tr style=\"text-align: right;\">\n",
       "      <th></th>\n",
       "      <th>821</th>\n",
       "      <th>328813</th>\n",
       "      <th>823</th>\n",
       "      <th>817</th>\n",
       "      <th>818</th>\n",
       "      <th>239935</th>\n",
       "      <th>28116</th>\n",
       "      <th>351091</th>\n",
       "      <th>28118</th>\n",
       "      <th>1161942</th>\n",
       "      <th>...</th>\n",
       "      <th>78344</th>\n",
       "      <th>1692</th>\n",
       "      <th>68274</th>\n",
       "      <th>40091</th>\n",
       "      <th>1393</th>\n",
       "      <th>28133</th>\n",
       "      <th>183</th>\n",
       "      <th>29346</th>\n",
       "      <th>349096</th>\n",
       "      <th>Schizophrenia</th>\n",
       "    </tr>\n",
       "  </thead>\n",
       "  <tbody>\n",
       "    <tr>\n",
       "      <th>0</th>\n",
       "      <td>0.224972</td>\n",
       "      <td>0.002162</td>\n",
       "      <td>0.001842</td>\n",
       "      <td>0.000801</td>\n",
       "      <td>0.002563</td>\n",
       "      <td>0.000080</td>\n",
       "      <td>0.038603</td>\n",
       "      <td>0.002723</td>\n",
       "      <td>0.002403</td>\n",
       "      <td>0.000000</td>\n",
       "      <td>...</td>\n",
       "      <td>0.0</td>\n",
       "      <td>0.0</td>\n",
       "      <td>0.0</td>\n",
       "      <td>0.00008</td>\n",
       "      <td>0.0</td>\n",
       "      <td>0.0</td>\n",
       "      <td>0.0</td>\n",
       "      <td>0.000000</td>\n",
       "      <td>0.00008</td>\n",
       "      <td>0</td>\n",
       "    </tr>\n",
       "    <tr>\n",
       "      <th>1</th>\n",
       "      <td>0.009963</td>\n",
       "      <td>0.000082</td>\n",
       "      <td>0.018865</td>\n",
       "      <td>0.000082</td>\n",
       "      <td>0.003022</td>\n",
       "      <td>0.005063</td>\n",
       "      <td>0.006370</td>\n",
       "      <td>0.018375</td>\n",
       "      <td>0.000408</td>\n",
       "      <td>0.034953</td>\n",
       "      <td>...</td>\n",
       "      <td>0.0</td>\n",
       "      <td>0.0</td>\n",
       "      <td>0.0</td>\n",
       "      <td>0.00000</td>\n",
       "      <td>0.0</td>\n",
       "      <td>0.0</td>\n",
       "      <td>0.0</td>\n",
       "      <td>0.000000</td>\n",
       "      <td>0.00000</td>\n",
       "      <td>1</td>\n",
       "    </tr>\n",
       "    <tr>\n",
       "      <th>2</th>\n",
       "      <td>0.131690</td>\n",
       "      <td>0.018601</td>\n",
       "      <td>0.000093</td>\n",
       "      <td>0.005562</td>\n",
       "      <td>0.013163</td>\n",
       "      <td>0.009362</td>\n",
       "      <td>0.215486</td>\n",
       "      <td>0.009795</td>\n",
       "      <td>0.002101</td>\n",
       "      <td>0.000185</td>\n",
       "      <td>...</td>\n",
       "      <td>0.0</td>\n",
       "      <td>0.0</td>\n",
       "      <td>0.0</td>\n",
       "      <td>0.00000</td>\n",
       "      <td>0.0</td>\n",
       "      <td>0.0</td>\n",
       "      <td>0.0</td>\n",
       "      <td>0.000031</td>\n",
       "      <td>0.00000</td>\n",
       "      <td>0</td>\n",
       "    </tr>\n",
       "    <tr>\n",
       "      <th>3</th>\n",
       "      <td>0.106448</td>\n",
       "      <td>0.003627</td>\n",
       "      <td>0.002877</td>\n",
       "      <td>0.000375</td>\n",
       "      <td>0.021202</td>\n",
       "      <td>0.000063</td>\n",
       "      <td>0.039402</td>\n",
       "      <td>0.060479</td>\n",
       "      <td>0.000751</td>\n",
       "      <td>0.000125</td>\n",
       "      <td>...</td>\n",
       "      <td>0.0</td>\n",
       "      <td>0.0</td>\n",
       "      <td>0.0</td>\n",
       "      <td>0.00000</td>\n",
       "      <td>0.0</td>\n",
       "      <td>0.0</td>\n",
       "      <td>0.0</td>\n",
       "      <td>0.000000</td>\n",
       "      <td>0.00000</td>\n",
       "      <td>0</td>\n",
       "    </tr>\n",
       "    <tr>\n",
       "      <th>4</th>\n",
       "      <td>0.175204</td>\n",
       "      <td>0.003135</td>\n",
       "      <td>0.010005</td>\n",
       "      <td>0.003919</td>\n",
       "      <td>0.018581</td>\n",
       "      <td>0.020932</td>\n",
       "      <td>0.045184</td>\n",
       "      <td>0.012679</td>\n",
       "      <td>0.004611</td>\n",
       "      <td>0.002674</td>\n",
       "      <td>...</td>\n",
       "      <td>0.0</td>\n",
       "      <td>0.0</td>\n",
       "      <td>0.0</td>\n",
       "      <td>0.00000</td>\n",
       "      <td>0.0</td>\n",
       "      <td>0.0</td>\n",
       "      <td>0.0</td>\n",
       "      <td>0.000000</td>\n",
       "      <td>0.00000</td>\n",
       "      <td>1</td>\n",
       "    </tr>\n",
       "  </tbody>\n",
       "</table>\n",
       "<p>5 rows × 557 columns</p>\n",
       "</div>"
      ],
      "text/plain": [
       "        821    328813       823       817       818    239935     28116  \\\n",
       "0  0.224972  0.002162  0.001842  0.000801  0.002563  0.000080  0.038603   \n",
       "1  0.009963  0.000082  0.018865  0.000082  0.003022  0.005063  0.006370   \n",
       "2  0.131690  0.018601  0.000093  0.005562  0.013163  0.009362  0.215486   \n",
       "3  0.106448  0.003627  0.002877  0.000375  0.021202  0.000063  0.039402   \n",
       "4  0.175204  0.003135  0.010005  0.003919  0.018581  0.020932  0.045184   \n",
       "\n",
       "     351091     28118   1161942  ...  78344  1692  68274    40091  1393  \\\n",
       "0  0.002723  0.002403  0.000000  ...    0.0   0.0    0.0  0.00008   0.0   \n",
       "1  0.018375  0.000408  0.034953  ...    0.0   0.0    0.0  0.00000   0.0   \n",
       "2  0.009795  0.002101  0.000185  ...    0.0   0.0    0.0  0.00000   0.0   \n",
       "3  0.060479  0.000751  0.000125  ...    0.0   0.0    0.0  0.00000   0.0   \n",
       "4  0.012679  0.004611  0.002674  ...    0.0   0.0    0.0  0.00000   0.0   \n",
       "\n",
       "   28133  183     29346   349096  Schizophrenia  \n",
       "0    0.0  0.0  0.000000  0.00008              0  \n",
       "1    0.0  0.0  0.000000  0.00000              1  \n",
       "2    0.0  0.0  0.000031  0.00000              0  \n",
       "3    0.0  0.0  0.000000  0.00000              0  \n",
       "4    0.0  0.0  0.000000  0.00000              1  \n",
       "\n",
       "[5 rows x 557 columns]"
      ]
     },
     "execution_count": 28,
     "metadata": {},
     "output_type": "execute_result"
    }
   ],
   "source": [
    "data = pd.read_csv('Data/Final_data/final_schizo_one_scaled_2')\n",
    "\n",
    "data = data.iloc[:, 1:]\n",
    "data.head()"
   ]
  },
  {
   "cell_type": "code",
   "execution_count": 29,
   "id": "3e635043",
   "metadata": {},
   "outputs": [
    {
     "name": "stdout",
     "output_type": "stream",
     "text": [
      "Empty DataFrame\n",
      "Columns: [ncbi_taxon_id, scientific_name]\n",
      "Index: []\n"
     ]
    }
   ],
   "source": [
    "filtered_df = df[df['ncbi_taxon_id'].isin(three_folds_2)]\n",
    "\n",
    "print(filtered_df)"
   ]
  },
  {
   "cell_type": "code",
   "execution_count": 30,
   "id": "bec71dff",
   "metadata": {},
   "outputs": [
    {
     "name": "stdout",
     "output_type": "stream",
     "text": [
      "['78344']\n"
     ]
    }
   ],
   "source": [
    "arrays = [five_folds, five_folds_2]\n",
    "test = features_in_k_arrays(arrays, 2)\n",
    "print(test)"
   ]
  },
  {
   "cell_type": "code",
   "execution_count": 31,
   "id": "928f3d33",
   "metadata": {},
   "outputs": [
    {
     "name": "stdout",
     "output_type": "stream",
     "text": [
      "['1495', '78344', '339862', '183', '392736', '68274', '36854', '376805', '1586267', '1692']\n"
     ]
    }
   ],
   "source": [
    "arrays = [four_folds, four_folds_2]\n",
    "test_2= features_in_k_arrays(arrays, 2)\n",
    "print(test_2)"
   ]
  }
 ],
 "metadata": {
  "kernelspec": {
   "display_name": "base",
   "language": "python",
   "name": "python3"
  },
  "language_info": {
   "codemirror_mode": {
    "name": "ipython",
    "version": 3
   },
   "file_extension": ".py",
   "mimetype": "text/x-python",
   "name": "python",
   "nbconvert_exporter": "python",
   "pygments_lexer": "ipython3",
   "version": "3.11.4"
  }
 },
 "nbformat": 4,
 "nbformat_minor": 5
}
