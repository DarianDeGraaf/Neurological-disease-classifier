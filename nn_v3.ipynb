{
 "cells": [
  {
   "cell_type": "code",
   "execution_count": 43,
   "id": "7581f6b5",
   "metadata": {},
   "outputs": [
    {
     "name": "stdout",
     "output_type": "stream",
     "text": [
      "torch module path: c:\\Users\\Daria\\anaconda3\\Lib\\site-packages\\torch\\__init__.py\n",
      "False\n"
     ]
    }
   ],
   "source": [
    "import torch\n",
    "print(\"torch module path:\", torch.__file__)\n",
    "print(torch.cuda.is_available())\n",
    "from torch import nn\n",
    "import torch.nn.functional as F\n",
    "from torch.utils.data import DataLoader\n",
    "from torchvision import datasets, transforms\n",
    "import numpy as np\n",
    "import pandas as pd\n",
    "import random\n",
    "from sklearn.model_selection import train_test_split\n",
    "from sklearn.model_selection import GridSearchCV\n",
    "from sklearn.base import BaseEstimator, ClassifierMixin\n",
    "from sklearn.metrics import make_scorer, accuracy_score, roc_auc_score, log_loss\n",
    "\n",
    "from sklearn.model_selection import KFold\n",
    "from sklearn.metrics import accuracy_score\n",
    "from torch.utils.data import TensorDataset, DataLoader, random_split\n",
    "from sklearn.metrics import confusion_matrix, roc_auc_score, accuracy_score\n",
    "import matplotlib.pyplot as plt\n",
    "from sklearn.metrics import roc_curve\n",
    "from collections import Counter\n",
    "from sklearn.preprocessing import StandardScaler\n"
   ]
  },
  {
   "cell_type": "code",
   "execution_count": 44,
   "id": "bad6cd6b",
   "metadata": {},
   "outputs": [
    {
     "data": {
      "application/vnd.microsoft.datawrangler.viewer.v0+json": {
       "columns": [
        {
         "name": "index",
         "rawType": "int64",
         "type": "integer"
        },
        {
         "name": "821",
         "rawType": "float64",
         "type": "float"
        },
        {
         "name": "328813",
         "rawType": "float64",
         "type": "float"
        },
        {
         "name": "823",
         "rawType": "float64",
         "type": "float"
        },
        {
         "name": "817",
         "rawType": "float64",
         "type": "float"
        },
        {
         "name": "818",
         "rawType": "float64",
         "type": "float"
        },
        {
         "name": "239935",
         "rawType": "float64",
         "type": "float"
        },
        {
         "name": "28116",
         "rawType": "float64",
         "type": "float"
        },
        {
         "name": "351091",
         "rawType": "float64",
         "type": "float"
        },
        {
         "name": "28118",
         "rawType": "float64",
         "type": "float"
        },
        {
         "name": "1161942",
         "rawType": "float64",
         "type": "float"
        },
        {
         "name": "1755626",
         "rawType": "float64",
         "type": "float"
        },
        {
         "name": "291645",
         "rawType": "float64",
         "type": "float"
        },
        {
         "name": "39485",
         "rawType": "float64",
         "type": "float"
        },
        {
         "name": "437898",
         "rawType": "float64",
         "type": "float"
        },
        {
         "name": "69825",
         "rawType": "float64",
         "type": "float"
        },
        {
         "name": "28117",
         "rawType": "float64",
         "type": "float"
        },
        {
         "name": "29370",
         "rawType": "float64",
         "type": "float"
        },
        {
         "name": "166486",
         "rawType": "float64",
         "type": "float"
        },
        {
         "name": "301301",
         "rawType": "float64",
         "type": "float"
        },
        {
         "name": "1465754",
         "rawType": "float64",
         "type": "float"
        },
        {
         "name": "39496",
         "rawType": "float64",
         "type": "float"
        },
        {
         "name": "44749",
         "rawType": "float64",
         "type": "float"
        },
        {
         "name": "84030",
         "rawType": "float64",
         "type": "float"
        },
        {
         "name": "169435",
         "rawType": "float64",
         "type": "float"
        },
        {
         "name": "1264",
         "rawType": "float64",
         "type": "float"
        },
        {
         "name": "208479",
         "rawType": "float64",
         "type": "float"
        },
        {
         "name": "29354",
         "rawType": "float64",
         "type": "float"
        },
        {
         "name": "100884",
         "rawType": "float64",
         "type": "float"
        },
        {
         "name": "28446",
         "rawType": "float64",
         "type": "float"
        },
        {
         "name": "36835",
         "rawType": "float64",
         "type": "float"
        },
        {
         "name": "626937",
         "rawType": "float64",
         "type": "float"
        },
        {
         "name": "371601",
         "rawType": "float64",
         "type": "float"
        },
        {
         "name": "536633",
         "rawType": "float64",
         "type": "float"
        },
        {
         "name": "1535",
         "rawType": "float64",
         "type": "float"
        },
        {
         "name": "115979",
         "rawType": "float64",
         "type": "float"
        },
        {
         "name": "358742",
         "rawType": "float64",
         "type": "float"
        },
        {
         "name": "39484",
         "rawType": "float64",
         "type": "float"
        },
        {
         "name": "1681",
         "rawType": "float64",
         "type": "float"
        },
        {
         "name": "1547",
         "rawType": "float64",
         "type": "float"
        },
        {
         "name": "143393",
         "rawType": "float64",
         "type": "float"
        },
        {
         "name": "1532",
         "rawType": "float64",
         "type": "float"
        },
        {
         "name": "52787",
         "rawType": "float64",
         "type": "float"
        },
        {
         "name": "261299",
         "rawType": "float64",
         "type": "float"
        },
        {
         "name": "204516",
         "rawType": "float64",
         "type": "float"
        },
        {
         "name": "1755607",
         "rawType": "float64",
         "type": "float"
        },
        {
         "name": "47678",
         "rawType": "float64",
         "type": "float"
        },
        {
         "name": "820",
         "rawType": "float64",
         "type": "float"
        },
        {
         "name": "1522",
         "rawType": "float64",
         "type": "float"
        },
        {
         "name": "165179",
         "rawType": "float64",
         "type": "float"
        },
        {
         "name": "376804",
         "rawType": "float64",
         "type": "float"
        },
        {
         "name": "40518",
         "rawType": "float64",
         "type": "float"
        },
        {
         "name": "1265",
         "rawType": "float64",
         "type": "float"
        },
        {
         "name": "626930",
         "rawType": "float64",
         "type": "float"
        },
        {
         "name": "650643",
         "rawType": "float64",
         "type": "float"
        },
        {
         "name": "357276",
         "rawType": "float64",
         "type": "float"
        },
        {
         "name": "84026",
         "rawType": "float64",
         "type": "float"
        },
        {
         "name": "671267",
         "rawType": "float64",
         "type": "float"
        },
        {
         "name": "36847",
         "rawType": "float64",
         "type": "float"
        },
        {
         "name": "46506",
         "rawType": "float64",
         "type": "float"
        },
        {
         "name": "246787",
         "rawType": "float64",
         "type": "float"
        },
        {
         "name": "61171",
         "rawType": "float64",
         "type": "float"
        },
        {
         "name": "392838",
         "rawType": "float64",
         "type": "float"
        },
        {
         "name": "1515",
         "rawType": "float64",
         "type": "float"
        },
        {
         "name": "100176",
         "rawType": "float64",
         "type": "float"
        },
        {
         "name": "40520",
         "rawType": "float64",
         "type": "float"
        },
        {
         "name": "328812",
         "rawType": "float64",
         "type": "float"
        },
        {
         "name": "338188",
         "rawType": "float64",
         "type": "float"
        },
        {
         "name": "35517",
         "rawType": "float64",
         "type": "float"
        },
        {
         "name": "487175",
         "rawType": "float64",
         "type": "float"
        },
        {
         "name": "29356",
         "rawType": "float64",
         "type": "float"
        },
        {
         "name": "29348",
         "rawType": "float64",
         "type": "float"
        },
        {
         "name": "122355",
         "rawType": "float64",
         "type": "float"
        },
        {
         "name": "876",
         "rawType": "float64",
         "type": "float"
        },
        {
         "name": "732242",
         "rawType": "float64",
         "type": "float"
        },
        {
         "name": "1512",
         "rawType": "float64",
         "type": "float"
        },
        {
         "name": "410072",
         "rawType": "float64",
         "type": "float"
        },
        {
         "name": "649724",
         "rawType": "float64",
         "type": "float"
        },
        {
         "name": "562",
         "rawType": "float64",
         "type": "float"
        },
        {
         "name": "106588",
         "rawType": "float64",
         "type": "float"
        },
        {
         "name": "28025",
         "rawType": "float64",
         "type": "float"
        },
        {
         "name": "1297750",
         "rawType": "float64",
         "type": "float"
        },
        {
         "name": "376806",
         "rawType": "float64",
         "type": "float"
        },
        {
         "name": "1404",
         "rawType": "float64",
         "type": "float"
        },
        {
         "name": "97253",
         "rawType": "float64",
         "type": "float"
        },
        {
         "name": "317",
         "rawType": "float64",
         "type": "float"
        },
        {
         "name": "397865",
         "rawType": "float64",
         "type": "float"
        },
        {
         "name": "591197",
         "rawType": "float64",
         "type": "float"
        },
        {
         "name": "287",
         "rawType": "float64",
         "type": "float"
        },
        {
         "name": "282125",
         "rawType": "float64",
         "type": "float"
        },
        {
         "name": "626932",
         "rawType": "float64",
         "type": "float"
        },
        {
         "name": "219748",
         "rawType": "float64",
         "type": "float"
        },
        {
         "name": "83661",
         "rawType": "float64",
         "type": "float"
        },
        {
         "name": "291644",
         "rawType": "float64",
         "type": "float"
        },
        {
         "name": "28112",
         "rawType": "float64",
         "type": "float"
        },
        {
         "name": "36842",
         "rawType": "float64",
         "type": "float"
        },
        {
         "name": "214856",
         "rawType": "float64",
         "type": "float"
        },
        {
         "name": "847",
         "rawType": "float64",
         "type": "float"
        },
        {
         "name": "310297",
         "rawType": "float64",
         "type": "float"
        },
        {
         "name": "33069",
         "rawType": "float64",
         "type": "float"
        },
        {
         "name": "151276",
         "rawType": "float64",
         "type": "float"
        },
        {
         "name": "1308",
         "rawType": "float64",
         "type": "float"
        },
        {
         "name": "29375",
         "rawType": "float64",
         "type": "float"
        },
        {
         "name": "28111",
         "rawType": "float64",
         "type": "float"
        },
        {
         "name": "28454",
         "rawType": "float64",
         "type": "float"
        },
        {
         "name": "1133319",
         "rawType": "float64",
         "type": "float"
        },
        {
         "name": "185300",
         "rawType": "float64",
         "type": "float"
        },
        {
         "name": "1350067",
         "rawType": "float64",
         "type": "float"
        },
        {
         "name": "2173",
         "rawType": "float64",
         "type": "float"
        },
        {
         "name": "572036",
         "rawType": "float64",
         "type": "float"
        },
        {
         "name": "882211",
         "rawType": "float64",
         "type": "float"
        },
        {
         "name": "310298",
         "rawType": "float64",
         "type": "float"
        },
        {
         "name": "729",
         "rawType": "float64",
         "type": "float"
        },
        {
         "name": "328814",
         "rawType": "float64",
         "type": "float"
        },
        {
         "name": "1630",
         "rawType": "float64",
         "type": "float"
        },
        {
         "name": "294",
         "rawType": "float64",
         "type": "float"
        },
        {
         "name": "329854",
         "rawType": "float64",
         "type": "float"
        },
        {
         "name": "39492",
         "rawType": "float64",
         "type": "float"
        },
        {
         "name": "1303",
         "rawType": "float64",
         "type": "float"
        },
        {
         "name": "587753",
         "rawType": "float64",
         "type": "float"
        },
        {
         "name": "33039",
         "rawType": "float64",
         "type": "float"
        },
        {
         "name": "243924",
         "rawType": "float64",
         "type": "float"
        },
        {
         "name": "290053",
         "rawType": "float64",
         "type": "float"
        },
        {
         "name": "502558",
         "rawType": "float64",
         "type": "float"
        },
        {
         "name": "47880",
         "rawType": "float64",
         "type": "float"
        },
        {
         "name": "47884",
         "rawType": "float64",
         "type": "float"
        },
        {
         "name": "84032",
         "rawType": "float64",
         "type": "float"
        },
        {
         "name": "1260",
         "rawType": "float64",
         "type": "float"
        },
        {
         "name": "1304",
         "rawType": "float64",
         "type": "float"
        },
        {
         "name": "28037",
         "rawType": "float64",
         "type": "float"
        },
        {
         "name": "39486",
         "rawType": "float64",
         "type": "float"
        },
        {
         "name": "303",
         "rawType": "float64",
         "type": "float"
        },
        {
         "name": "626931",
         "rawType": "float64",
         "type": "float"
        },
        {
         "name": "39490",
         "rawType": "float64",
         "type": "float"
        },
        {
         "name": "29524",
         "rawType": "float64",
         "type": "float"
        },
        {
         "name": "33035",
         "rawType": "float64",
         "type": "float"
        },
        {
         "name": "39778",
         "rawType": "float64",
         "type": "float"
        },
        {
         "name": "288965",
         "rawType": "float64",
         "type": "float"
        },
        {
         "name": "28038",
         "rawType": "float64",
         "type": "float"
        },
        {
         "name": "29466",
         "rawType": "float64",
         "type": "float"
        },
        {
         "name": "37734",
         "rawType": "float64",
         "type": "float"
        },
        {
         "name": "28127",
         "rawType": "float64",
         "type": "float"
        },
        {
         "name": "43675",
         "rawType": "float64",
         "type": "float"
        },
        {
         "name": "1352",
         "rawType": "float64",
         "type": "float"
        },
        {
         "name": "281920",
         "rawType": "float64",
         "type": "float"
        },
        {
         "name": "187327",
         "rawType": "float64",
         "type": "float"
        },
        {
         "name": "1267",
         "rawType": "float64",
         "type": "float"
        },
        {
         "name": "839",
         "rawType": "float64",
         "type": "float"
        },
        {
         "name": "290055",
         "rawType": "float64",
         "type": "float"
        },
        {
         "name": "155617",
         "rawType": "float64",
         "type": "float"
        },
        {
         "name": "658457",
         "rawType": "float64",
         "type": "float"
        },
        {
         "name": "1313",
         "rawType": "float64",
         "type": "float"
        },
        {
         "name": "1680",
         "rawType": "float64",
         "type": "float"
        },
        {
         "name": "33029",
         "rawType": "float64",
         "type": "float"
        },
        {
         "name": "35785",
         "rawType": "float64",
         "type": "float"
        },
        {
         "name": "1307",
         "rawType": "float64",
         "type": "float"
        },
        {
         "name": "1590",
         "rawType": "float64",
         "type": "float"
        },
        {
         "name": "387090",
         "rawType": "float64",
         "type": "float"
        },
        {
         "name": "1168034",
         "rawType": "float64",
         "type": "float"
        },
        {
         "name": "41976",
         "rawType": "float64",
         "type": "float"
        },
        {
         "name": "1177728",
         "rawType": "float64",
         "type": "float"
        },
        {
         "name": "871325",
         "rawType": "float64",
         "type": "float"
        },
        {
         "name": "39491",
         "rawType": "float64",
         "type": "float"
        },
        {
         "name": "28901",
         "rawType": "float64",
         "type": "float"
        },
        {
         "name": "28123",
         "rawType": "float64",
         "type": "float"
        },
        {
         "name": "1408",
         "rawType": "float64",
         "type": "float"
        },
        {
         "name": "990",
         "rawType": "float64",
         "type": "float"
        },
        {
         "name": "146817",
         "rawType": "float64",
         "type": "float"
        },
        {
         "name": "1113650",
         "rawType": "float64",
         "type": "float"
        },
        {
         "name": "33037",
         "rawType": "float64",
         "type": "float"
        },
        {
         "name": "1544",
         "rawType": "float64",
         "type": "float"
        },
        {
         "name": "1078480",
         "rawType": "float64",
         "type": "float"
        },
        {
         "name": "58138",
         "rawType": "float64",
         "type": "float"
        },
        {
         "name": "341225",
         "rawType": "float64",
         "type": "float"
        },
        {
         "name": "58172",
         "rawType": "float64",
         "type": "float"
        },
        {
         "name": "40324",
         "rawType": "float64",
         "type": "float"
        },
        {
         "name": "29347",
         "rawType": "float64",
         "type": "float"
        },
        {
         "name": "35519",
         "rawType": "float64",
         "type": "float"
        },
        {
         "name": "39497",
         "rawType": "float64",
         "type": "float"
        },
        {
         "name": "454154",
         "rawType": "float64",
         "type": "float"
        },
        {
         "name": "574375",
         "rawType": "float64",
         "type": "float"
        },
        {
         "name": "40519",
         "rawType": "float64",
         "type": "float"
        },
        {
         "name": "35833",
         "rawType": "float64",
         "type": "float"
        },
        {
         "name": "1559",
         "rawType": "float64",
         "type": "float"
        },
        {
         "name": "1077256",
         "rawType": "float64",
         "type": "float"
        },
        {
         "name": "1520",
         "rawType": "float64",
         "type": "float"
        },
        {
         "name": "84031",
         "rawType": "float64",
         "type": "float"
        },
        {
         "name": "310300",
         "rawType": "float64",
         "type": "float"
        },
        {
         "name": "84109",
         "rawType": "float64",
         "type": "float"
        },
        {
         "name": "36874",
         "rawType": "float64",
         "type": "float"
        },
        {
         "name": "1736",
         "rawType": "float64",
         "type": "float"
        },
        {
         "name": "885581",
         "rawType": "float64",
         "type": "float"
        },
        {
         "name": "626935",
         "rawType": "float64",
         "type": "float"
        },
        {
         "name": "39488",
         "rawType": "float64",
         "type": "float"
        },
        {
         "name": "46228",
         "rawType": "float64",
         "type": "float"
        },
        {
         "name": "29363",
         "rawType": "float64",
         "type": "float"
        },
        {
         "name": "1502",
         "rawType": "float64",
         "type": "float"
        },
        {
         "name": "33043",
         "rawType": "float64",
         "type": "float"
        },
        {
         "name": "33038",
         "rawType": "float64",
         "type": "float"
        },
        {
         "name": "33953",
         "rawType": "float64",
         "type": "float"
        },
        {
         "name": "29360",
         "rawType": "float64",
         "type": "float"
        },
        {
         "name": "39493",
         "rawType": "float64",
         "type": "float"
        },
        {
         "name": "218538",
         "rawType": "float64",
         "type": "float"
        },
        {
         "name": "216816",
         "rawType": "float64",
         "type": "float"
        },
        {
         "name": "28130",
         "rawType": "float64",
         "type": "float"
        },
        {
         "name": "1685",
         "rawType": "float64",
         "type": "float"
        },
        {
         "name": "78342",
         "rawType": "float64",
         "type": "float"
        },
        {
         "name": "118748",
         "rawType": "float64",
         "type": "float"
        },
        {
         "name": "47246",
         "rawType": "float64",
         "type": "float"
        },
        {
         "name": "39483",
         "rawType": "float64",
         "type": "float"
        },
        {
         "name": "36745",
         "rawType": "float64",
         "type": "float"
        },
        {
         "name": "871324",
         "rawType": "float64",
         "type": "float"
        },
        {
         "name": "871327",
         "rawType": "float64",
         "type": "float"
        },
        {
         "name": "1646",
         "rawType": "float64",
         "type": "float"
        },
        {
         "name": "2052",
         "rawType": "float64",
         "type": "float"
        },
        {
         "name": "1504",
         "rawType": "float64",
         "type": "float"
        },
        {
         "name": "332249",
         "rawType": "float64",
         "type": "float"
        },
        {
         "name": "46503",
         "rawType": "float64",
         "type": "float"
        },
        {
         "name": "29355",
         "rawType": "float64",
         "type": "float"
        },
        {
         "name": "36854",
         "rawType": "float64",
         "type": "float"
        },
        {
         "name": "180164",
         "rawType": "float64",
         "type": "float"
        },
        {
         "name": "147207",
         "rawType": "float64",
         "type": "float"
        },
        {
         "name": "89153",
         "rawType": "float64",
         "type": "float"
        },
        {
         "name": "1510",
         "rawType": "float64",
         "type": "float"
        },
        {
         "name": "1527",
         "rawType": "float64",
         "type": "float"
        },
        {
         "name": "1428",
         "rawType": "float64",
         "type": "float"
        },
        {
         "name": "114702",
         "rawType": "float64",
         "type": "float"
        },
        {
         "name": "999468",
         "rawType": "float64",
         "type": "float"
        },
        {
         "name": "574930",
         "rawType": "float64",
         "type": "float"
        },
        {
         "name": "477666",
         "rawType": "float64",
         "type": "float"
        },
        {
         "name": "178214",
         "rawType": "float64",
         "type": "float"
        },
        {
         "name": "84112",
         "rawType": "float64",
         "type": "float"
        },
        {
         "name": "66851",
         "rawType": "float64",
         "type": "float"
        },
        {
         "name": "471189",
         "rawType": "float64",
         "type": "float"
        },
        {
         "name": "1358",
         "rawType": "float64",
         "type": "float"
        },
        {
         "name": "1280",
         "rawType": "float64",
         "type": "float"
        },
        {
         "name": "74426",
         "rawType": "float64",
         "type": "float"
        },
        {
         "name": "1114008",
         "rawType": "float64",
         "type": "float"
        },
        {
         "name": "387661",
         "rawType": "float64",
         "type": "float"
        },
        {
         "name": "28026",
         "rawType": "float64",
         "type": "float"
        },
        {
         "name": "645466",
         "rawType": "float64",
         "type": "float"
        },
        {
         "name": "28126",
         "rawType": "float64",
         "type": "float"
        },
        {
         "name": "76517",
         "rawType": "float64",
         "type": "float"
        },
        {
         "name": "1671366",
         "rawType": "float64",
         "type": "float"
        },
        {
         "name": "105841",
         "rawType": "float64",
         "type": "float"
        },
        {
         "name": "158787",
         "rawType": "float64",
         "type": "float"
        },
        {
         "name": "1686",
         "rawType": "float64",
         "type": "float"
        },
        {
         "name": "39482",
         "rawType": "float64",
         "type": "float"
        },
        {
         "name": "58134",
         "rawType": "float64",
         "type": "float"
        },
        {
         "name": "33032",
         "rawType": "float64",
         "type": "float"
        },
        {
         "name": "78448",
         "rawType": "float64",
         "type": "float"
        },
        {
         "name": "166501",
         "rawType": "float64",
         "type": "float"
        },
        {
         "name": "1506",
         "rawType": "float64",
         "type": "float"
        },
        {
         "name": "90730",
         "rawType": "float64",
         "type": "float"
        },
        {
         "name": "33031",
         "rawType": "float64",
         "type": "float"
        },
        {
         "name": "28135",
         "rawType": "float64",
         "type": "float"
        },
        {
         "name": "1071880",
         "rawType": "float64",
         "type": "float"
        },
        {
         "name": "28108",
         "rawType": "float64",
         "type": "float"
        },
        {
         "name": "312279",
         "rawType": "float64",
         "type": "float"
        },
        {
         "name": "167964",
         "rawType": "float64",
         "type": "float"
        },
        {
         "name": "69824",
         "rawType": "float64",
         "type": "float"
        },
        {
         "name": "35760",
         "rawType": "float64",
         "type": "float"
        },
        {
         "name": "43143",
         "rawType": "float64",
         "type": "float"
        },
        {
         "name": "106648",
         "rawType": "float64",
         "type": "float"
        },
        {
         "name": "1689",
         "rawType": "float64",
         "type": "float"
        },
        {
         "name": "61435",
         "rawType": "float64",
         "type": "float"
        },
        {
         "name": "2741",
         "rawType": "float64",
         "type": "float"
        },
        {
         "name": "52773",
         "rawType": "float64",
         "type": "float"
        },
        {
         "name": "31971",
         "rawType": "float64",
         "type": "float"
        },
        {
         "name": "78343",
         "rawType": "float64",
         "type": "float"
        },
        {
         "name": "582",
         "rawType": "float64",
         "type": "float"
        },
        {
         "name": "2047",
         "rawType": "float64",
         "type": "float"
        },
        {
         "name": "589436",
         "rawType": "float64",
         "type": "float"
        },
        {
         "name": "189722",
         "rawType": "float64",
         "type": "float"
        },
        {
         "name": "1735",
         "rawType": "float64",
         "type": "float"
        },
        {
         "name": "356829",
         "rawType": "float64",
         "type": "float"
        },
        {
         "name": "28119",
         "rawType": "float64",
         "type": "float"
        },
        {
         "name": "901",
         "rawType": "float64",
         "type": "float"
        },
        {
         "name": "881",
         "rawType": "float64",
         "type": "float"
        },
        {
         "name": "863643",
         "rawType": "float64",
         "type": "float"
        },
        {
         "name": "319644",
         "rawType": "float64",
         "type": "float"
        },
        {
         "name": "1725",
         "rawType": "float64",
         "type": "float"
        },
        {
         "name": "28128",
         "rawType": "float64",
         "type": "float"
        },
        {
         "name": "46206",
         "rawType": "float64",
         "type": "float"
        },
        {
         "name": "191493",
         "rawType": "float64",
         "type": "float"
        },
        {
         "name": "137732",
         "rawType": "float64",
         "type": "float"
        },
        {
         "name": "488",
         "rawType": "float64",
         "type": "float"
        },
        {
         "name": "1827099",
         "rawType": "float64",
         "type": "float"
        },
        {
         "name": "1563",
         "rawType": "float64",
         "type": "float"
        },
        {
         "name": "851",
         "rawType": "float64",
         "type": "float"
        },
        {
         "name": "483",
         "rawType": "float64",
         "type": "float"
        },
        {
         "name": "1487956",
         "rawType": "float64",
         "type": "float"
        },
        {
         "name": "88431",
         "rawType": "float64",
         "type": "float"
        },
        {
         "name": "28132",
         "rawType": "float64",
         "type": "float"
        },
        {
         "name": "860",
         "rawType": "float64",
         "type": "float"
        },
        {
         "name": "52769",
         "rawType": "float64",
         "type": "float"
        },
        {
         "name": "187145",
         "rawType": "float64",
         "type": "float"
        },
        {
         "name": "1747",
         "rawType": "float64",
         "type": "float"
        },
        {
         "name": "47770",
         "rawType": "float64",
         "type": "float"
        },
        {
         "name": "1582",
         "rawType": "float64",
         "type": "float"
        },
        {
         "name": "45851",
         "rawType": "float64",
         "type": "float"
        },
        {
         "name": "1282",
         "rawType": "float64",
         "type": "float"
        },
        {
         "name": "1718",
         "rawType": "float64",
         "type": "float"
        },
        {
         "name": "363832",
         "rawType": "float64",
         "type": "float"
        },
        {
         "name": "863",
         "rawType": "float64",
         "type": "float"
        },
        {
         "name": "28136",
         "rawType": "float64",
         "type": "float"
        },
        {
         "name": "53374",
         "rawType": "float64",
         "type": "float"
        },
        {
         "name": "29317",
         "rawType": "float64",
         "type": "float"
        },
        {
         "name": "45254",
         "rawType": "float64",
         "type": "float"
        },
        {
         "name": "762211",
         "rawType": "float64",
         "type": "float"
        },
        {
         "name": "267818",
         "rawType": "float64",
         "type": "float"
        },
        {
         "name": "52561",
         "rawType": "float64",
         "type": "float"
        },
        {
         "name": "1519",
         "rawType": "float64",
         "type": "float"
        },
        {
         "name": "54911",
         "rawType": "float64",
         "type": "float"
        },
        {
         "name": "44742",
         "rawType": "float64",
         "type": "float"
        },
        {
         "name": "237258",
         "rawType": "float64",
         "type": "float"
        },
        {
         "name": "316",
         "rawType": "float64",
         "type": "float"
        },
        {
         "name": "1379",
         "rawType": "float64",
         "type": "float"
        },
        {
         "name": "1223514",
         "rawType": "float64",
         "type": "float"
        },
        {
         "name": "1755629",
         "rawType": "float64",
         "type": "float"
        },
        {
         "name": "762210",
         "rawType": "float64",
         "type": "float"
        },
        {
         "name": "270498",
         "rawType": "float64",
         "type": "float"
        },
        {
         "name": "28139",
         "rawType": "float64",
         "type": "float"
        },
        {
         "name": "28091",
         "rawType": "float64",
         "type": "float"
        },
        {
         "name": "1660",
         "rawType": "float64",
         "type": "float"
        },
        {
         "name": "1503",
         "rawType": "float64",
         "type": "float"
        },
        {
         "name": "470565",
         "rawType": "float64",
         "type": "float"
        },
        {
         "name": "415956",
         "rawType": "float64",
         "type": "float"
        },
        {
         "name": "1531",
         "rawType": "float64",
         "type": "float"
        },
        {
         "name": "467976",
         "rawType": "float64",
         "type": "float"
        },
        {
         "name": "879",
         "rawType": "float64",
         "type": "float"
        },
        {
         "name": "584",
         "rawType": "float64",
         "type": "float"
        },
        {
         "name": "1311",
         "rawType": "float64",
         "type": "float"
        },
        {
         "name": "40214",
         "rawType": "float64",
         "type": "float"
        },
        {
         "name": "253245",
         "rawType": "float64",
         "type": "float"
        },
        {
         "name": "61635",
         "rawType": "float64",
         "type": "float"
        },
        {
         "name": "588",
         "rawType": "float64",
         "type": "float"
        },
        {
         "name": "905",
         "rawType": "float64",
         "type": "float"
        },
        {
         "name": "1755610",
         "rawType": "float64",
         "type": "float"
        },
        {
         "name": "185293",
         "rawType": "float64",
         "type": "float"
        },
        {
         "name": "840",
         "rawType": "float64",
         "type": "float"
        },
        {
         "name": "228603",
         "rawType": "float64",
         "type": "float"
        },
        {
         "name": "47877",
         "rawType": "float64",
         "type": "float"
        },
        {
         "name": "45076",
         "rawType": "float64",
         "type": "float"
        },
        {
         "name": "564835",
         "rawType": "float64",
         "type": "float"
        },
        {
         "name": "634771",
         "rawType": "float64",
         "type": "float"
        },
        {
         "name": "454155",
         "rawType": "float64",
         "type": "float"
        },
        {
         "name": "43770",
         "rawType": "float64",
         "type": "float"
        },
        {
         "name": "341220",
         "rawType": "float64",
         "type": "float"
        },
        {
         "name": "76853",
         "rawType": "float64",
         "type": "float"
        },
        {
         "name": "218284",
         "rawType": "float64",
         "type": "float"
        },
        {
         "name": "136857",
         "rawType": "float64",
         "type": "float"
        },
        {
         "name": "1776082",
         "rawType": "float64",
         "type": "float"
        },
        {
         "name": "39777",
         "rawType": "float64",
         "type": "float"
        },
        {
         "name": "1727",
         "rawType": "float64",
         "type": "float"
        },
        {
         "name": "1309",
         "rawType": "float64",
         "type": "float"
        },
        {
         "name": "29389",
         "rawType": "float64",
         "type": "float"
        },
        {
         "name": "43131",
         "rawType": "float64",
         "type": "float"
        },
        {
         "name": "1349",
         "rawType": "float64",
         "type": "float"
        },
        {
         "name": "1328",
         "rawType": "float64",
         "type": "float"
        },
        {
         "name": "358743",
         "rawType": "float64",
         "type": "float"
        },
        {
         "name": "1338",
         "rawType": "float64",
         "type": "float"
        },
        {
         "name": "1655",
         "rawType": "float64",
         "type": "float"
        },
        {
         "name": "29552",
         "rawType": "float64",
         "type": "float"
        },
        {
         "name": "38986",
         "rawType": "float64",
         "type": "float"
        },
        {
         "name": "1539",
         "rawType": "float64",
         "type": "float"
        },
        {
         "name": "386414",
         "rawType": "float64",
         "type": "float"
        },
        {
         "name": "184870",
         "rawType": "float64",
         "type": "float"
        },
        {
         "name": "48256",
         "rawType": "float64",
         "type": "float"
        },
        {
         "name": "309120",
         "rawType": "float64",
         "type": "float"
        },
        {
         "name": "1501",
         "rawType": "float64",
         "type": "float"
        },
        {
         "name": "53443",
         "rawType": "float64",
         "type": "float"
        },
        {
         "name": "54006",
         "rawType": "float64",
         "type": "float"
        },
        {
         "name": "38304",
         "rawType": "float64",
         "type": "float"
        },
        {
         "name": "1491",
         "rawType": "float64",
         "type": "float"
        },
        {
         "name": "214853",
         "rawType": "float64",
         "type": "float"
        },
        {
         "name": "53462",
         "rawType": "float64",
         "type": "float"
        },
        {
         "name": "2736",
         "rawType": "float64",
         "type": "float"
        },
        {
         "name": "726",
         "rawType": "float64",
         "type": "float"
        },
        {
         "name": "884684",
         "rawType": "float64",
         "type": "float"
        },
        {
         "name": "1121298",
         "rawType": "float64",
         "type": "float"
        },
        {
         "name": "28137",
         "rawType": "float64",
         "type": "float"
        },
        {
         "name": "47715",
         "rawType": "float64",
         "type": "float"
        },
        {
         "name": "1584",
         "rawType": "float64",
         "type": "float"
        },
        {
         "name": "691816",
         "rawType": "float64",
         "type": "float"
        },
        {
         "name": "36834",
         "rawType": "float64",
         "type": "float"
        },
        {
         "name": "1670",
         "rawType": "float64",
         "type": "float"
        },
        {
         "name": "1507",
         "rawType": "float64",
         "type": "float"
        },
        {
         "name": "202611",
         "rawType": "float64",
         "type": "float"
        },
        {
         "name": "552810",
         "rawType": "float64",
         "type": "float"
        },
        {
         "name": "1492",
         "rawType": "float64",
         "type": "float"
        },
        {
         "name": "133453",
         "rawType": "float64",
         "type": "float"
        },
        {
         "name": "70775",
         "rawType": "float64",
         "type": "float"
        },
        {
         "name": "28129",
         "rawType": "float64",
         "type": "float"
        },
        {
         "name": "282402",
         "rawType": "float64",
         "type": "float"
        },
        {
         "name": "185294",
         "rawType": "float64",
         "type": "float"
        },
        {
         "name": "147802",
         "rawType": "float64",
         "type": "float"
        },
        {
         "name": "77095",
         "rawType": "float64",
         "type": "float"
        },
        {
         "name": "35825",
         "rawType": "float64",
         "type": "float"
        },
        {
         "name": "228604",
         "rawType": "float64",
         "type": "float"
        },
        {
         "name": "28125",
         "rawType": "float64",
         "type": "float"
        },
        {
         "name": "33033",
         "rawType": "float64",
         "type": "float"
        },
        {
         "name": "29367",
         "rawType": "float64",
         "type": "float"
        },
        {
         "name": "1382",
         "rawType": "float64",
         "type": "float"
        },
        {
         "name": "36849",
         "rawType": "float64",
         "type": "float"
        },
        {
         "name": "53972",
         "rawType": "float64",
         "type": "float"
        },
        {
         "name": "589437",
         "rawType": "float64",
         "type": "float"
        },
        {
         "name": "1364",
         "rawType": "float64",
         "type": "float"
        },
        {
         "name": "363277",
         "rawType": "float64",
         "type": "float"
        },
        {
         "name": "1648",
         "rawType": "float64",
         "type": "float"
        },
        {
         "name": "1646377",
         "rawType": "float64",
         "type": "float"
        },
        {
         "name": "1597",
         "rawType": "float64",
         "type": "float"
        },
        {
         "name": "28134",
         "rawType": "float64",
         "type": "float"
        },
        {
         "name": "907",
         "rawType": "float64",
         "type": "float"
        },
        {
         "name": "39950",
         "rawType": "float64",
         "type": "float"
        },
        {
         "name": "33034",
         "rawType": "float64",
         "type": "float"
        },
        {
         "name": "341694",
         "rawType": "float64",
         "type": "float"
        },
        {
         "name": "2702",
         "rawType": "float64",
         "type": "float"
        },
        {
         "name": "114527",
         "rawType": "float64",
         "type": "float"
        },
        {
         "name": "827",
         "rawType": "float64",
         "type": "float"
        },
        {
         "name": "701529",
         "rawType": "float64",
         "type": "float"
        },
        {
         "name": "1258",
         "rawType": "float64",
         "type": "float"
        },
        {
         "name": "1859291",
         "rawType": "float64",
         "type": "float"
        },
        {
         "name": "242750",
         "rawType": "float64",
         "type": "float"
        },
        {
         "name": "1717",
         "rawType": "float64",
         "type": "float"
        },
        {
         "name": "38286",
         "rawType": "float64",
         "type": "float"
        },
        {
         "name": "29385",
         "rawType": "float64",
         "type": "float"
        },
        {
         "name": "39029",
         "rawType": "float64",
         "type": "float"
        },
        {
         "name": "1304158",
         "rawType": "float64",
         "type": "float"
        },
        {
         "name": "1724",
         "rawType": "float64",
         "type": "float"
        },
        {
         "name": "633701",
         "rawType": "float64",
         "type": "float"
        },
        {
         "name": "38301",
         "rawType": "float64",
         "type": "float"
        },
        {
         "name": "472113",
         "rawType": "float64",
         "type": "float"
        },
        {
         "name": "48467",
         "rawType": "float64",
         "type": "float"
        },
        {
         "name": "1613",
         "rawType": "float64",
         "type": "float"
        },
        {
         "name": "1659",
         "rawType": "float64",
         "type": "float"
        },
        {
         "name": "133926",
         "rawType": "float64",
         "type": "float"
        },
        {
         "name": "1254",
         "rawType": "float64",
         "type": "float"
        },
        {
         "name": "102684",
         "rawType": "float64",
         "type": "float"
        },
        {
         "name": "99807",
         "rawType": "float64",
         "type": "float"
        },
        {
         "name": "1134405",
         "rawType": "float64",
         "type": "float"
        },
        {
         "name": "46124",
         "rawType": "float64",
         "type": "float"
        },
        {
         "name": "930124",
         "rawType": "float64",
         "type": "float"
        },
        {
         "name": "77768",
         "rawType": "float64",
         "type": "float"
        },
        {
         "name": "42256",
         "rawType": "float64",
         "type": "float"
        },
        {
         "name": "982",
         "rawType": "float64",
         "type": "float"
        },
        {
         "name": "33905",
         "rawType": "float64",
         "type": "float"
        },
        {
         "name": "461876",
         "rawType": "float64",
         "type": "float"
        },
        {
         "name": "831",
         "rawType": "float64",
         "type": "float"
        },
        {
         "name": "2088",
         "rawType": "float64",
         "type": "float"
        },
        {
         "name": "43997",
         "rawType": "float64",
         "type": "float"
        },
        {
         "name": "118967",
         "rawType": "float64",
         "type": "float"
        },
        {
         "name": "264463",
         "rawType": "float64",
         "type": "float"
        },
        {
         "name": "66219",
         "rawType": "float64",
         "type": "float"
        },
        {
         "name": "1541",
         "rawType": "float64",
         "type": "float"
        },
        {
         "name": "86664",
         "rawType": "float64",
         "type": "float"
        },
        {
         "name": "1336",
         "rawType": "float64",
         "type": "float"
        },
        {
         "name": "57706",
         "rawType": "float64",
         "type": "float"
        },
        {
         "name": "1113741",
         "rawType": "float64",
         "type": "float"
        },
        {
         "name": "52226",
         "rawType": "float64",
         "type": "float"
        },
        {
         "name": "1402",
         "rawType": "float64",
         "type": "float"
        },
        {
         "name": "196024",
         "rawType": "float64",
         "type": "float"
        },
        {
         "name": "1599",
         "rawType": "float64",
         "type": "float"
        },
        {
         "name": "1453594",
         "rawType": "float64",
         "type": "float"
        },
        {
         "name": "1566358",
         "rawType": "float64",
         "type": "float"
        },
        {
         "name": "103892",
         "rawType": "float64",
         "type": "float"
        },
        {
         "name": "762212",
         "rawType": "float64",
         "type": "float"
        },
        {
         "name": "173480",
         "rawType": "float64",
         "type": "float"
        },
        {
         "name": "1691",
         "rawType": "float64",
         "type": "float"
        },
        {
         "name": "332163",
         "rawType": "float64",
         "type": "float"
        },
        {
         "name": "40215",
         "rawType": "float64",
         "type": "float"
        },
        {
         "name": "58180",
         "rawType": "float64",
         "type": "float"
        },
        {
         "name": "1343",
         "rawType": "float64",
         "type": "float"
        },
        {
         "name": "1598",
         "rawType": "float64",
         "type": "float"
        },
        {
         "name": "1694",
         "rawType": "float64",
         "type": "float"
        },
        {
         "name": "983706",
         "rawType": "float64",
         "type": "float"
        },
        {
         "name": "78257",
         "rawType": "float64",
         "type": "float"
        },
        {
         "name": "253239",
         "rawType": "float64",
         "type": "float"
        },
        {
         "name": "38284",
         "rawType": "float64",
         "type": "float"
        },
        {
         "name": "97084",
         "rawType": "float64",
         "type": "float"
        },
        {
         "name": "467210",
         "rawType": "float64",
         "type": "float"
        },
        {
         "name": "1114067",
         "rawType": "float64",
         "type": "float"
        },
        {
         "name": "151781",
         "rawType": "float64",
         "type": "float"
        },
        {
         "name": "48466",
         "rawType": "float64",
         "type": "float"
        },
        {
         "name": "1586267",
         "rawType": "float64",
         "type": "float"
        },
        {
         "name": "108980",
         "rawType": "float64",
         "type": "float"
        },
        {
         "name": "947013",
         "rawType": "float64",
         "type": "float"
        },
        {
         "name": "1476",
         "rawType": "float64",
         "type": "float"
        },
        {
         "name": "166485",
         "rawType": "float64",
         "type": "float"
        },
        {
         "name": "36850",
         "rawType": "float64",
         "type": "float"
        },
        {
         "name": "294710",
         "rawType": "float64",
         "type": "float"
        },
        {
         "name": "138595",
         "rawType": "float64",
         "type": "float"
        },
        {
         "name": "157692",
         "rawType": "float64",
         "type": "float"
        },
        {
         "name": "652716",
         "rawType": "float64",
         "type": "float"
        },
        {
         "name": "305719",
         "rawType": "float64",
         "type": "float"
        },
        {
         "name": "1015",
         "rawType": "float64",
         "type": "float"
        },
        {
         "name": "264027",
         "rawType": "float64",
         "type": "float"
        },
        {
         "name": "853",
         "rawType": "float64",
         "type": "float"
        },
        {
         "name": "85831",
         "rawType": "float64",
         "type": "float"
        },
        {
         "name": "544645",
         "rawType": "float64",
         "type": "float"
        },
        {
         "name": "204038",
         "rawType": "float64",
         "type": "float"
        },
        {
         "name": "89014",
         "rawType": "float64",
         "type": "float"
        },
        {
         "name": "214858",
         "rawType": "float64",
         "type": "float"
        },
        {
         "name": "28114",
         "rawType": "float64",
         "type": "float"
        },
        {
         "name": "755171",
         "rawType": "float64",
         "type": "float"
        },
        {
         "name": "727",
         "rawType": "float64",
         "type": "float"
        },
        {
         "name": "1124188",
         "rawType": "float64",
         "type": "float"
        },
        {
         "name": "1322",
         "rawType": "float64",
         "type": "float"
        },
        {
         "name": "180311",
         "rawType": "float64",
         "type": "float"
        },
        {
         "name": "308994",
         "rawType": "float64",
         "type": "float"
        },
        {
         "name": "745368",
         "rawType": "float64",
         "type": "float"
        },
        {
         "name": "78345",
         "rawType": "float64",
         "type": "float"
        },
        {
         "name": "1590651",
         "rawType": "float64",
         "type": "float"
        },
        {
         "name": "360807",
         "rawType": "float64",
         "type": "float"
        },
        {
         "name": "632",
         "rawType": "float64",
         "type": "float"
        },
        {
         "name": "392412",
         "rawType": "float64",
         "type": "float"
        },
        {
         "name": "102148",
         "rawType": "float64",
         "type": "float"
        },
        {
         "name": "301302",
         "rawType": "float64",
         "type": "float"
        },
        {
         "name": "234908",
         "rawType": "float64",
         "type": "float"
        },
        {
         "name": "156980",
         "rawType": "float64",
         "type": "float"
        },
        {
         "name": "54005",
         "rawType": "float64",
         "type": "float"
        },
        {
         "name": "1530",
         "rawType": "float64",
         "type": "float"
        },
        {
         "name": "587",
         "rawType": "float64",
         "type": "float"
        },
        {
         "name": "83771",
         "rawType": "float64",
         "type": "float"
        },
        {
         "name": "46867",
         "rawType": "float64",
         "type": "float"
        },
        {
         "name": "395922",
         "rawType": "float64",
         "type": "float"
        },
        {
         "name": "1536",
         "rawType": "float64",
         "type": "float"
        },
        {
         "name": "255723",
         "rawType": "float64",
         "type": "float"
        },
        {
         "name": "59310",
         "rawType": "float64",
         "type": "float"
        },
        {
         "name": "37930",
         "rawType": "float64",
         "type": "float"
        },
        {
         "name": "314319",
         "rawType": "float64",
         "type": "float"
        },
        {
         "name": "736",
         "rawType": "float64",
         "type": "float"
        },
        {
         "name": "216940",
         "rawType": "float64",
         "type": "float"
        },
        {
         "name": "1495",
         "rawType": "float64",
         "type": "float"
        },
        {
         "name": "1580",
         "rawType": "float64",
         "type": "float"
        },
        {
         "name": "38289",
         "rawType": "float64",
         "type": "float"
        },
        {
         "name": "38303",
         "rawType": "float64",
         "type": "float"
        },
        {
         "name": "2137",
         "rawType": "float64",
         "type": "float"
        },
        {
         "name": "216947",
         "rawType": "float64",
         "type": "float"
        },
        {
         "name": "384638",
         "rawType": "float64",
         "type": "float"
        },
        {
         "name": "148814",
         "rawType": "float64",
         "type": "float"
        },
        {
         "name": "339862",
         "rawType": "float64",
         "type": "float"
        },
        {
         "name": "392736",
         "rawType": "float64",
         "type": "float"
        },
        {
         "name": "232270",
         "rawType": "float64",
         "type": "float"
        },
        {
         "name": "376805",
         "rawType": "float64",
         "type": "float"
        },
        {
         "name": "156974",
         "rawType": "float64",
         "type": "float"
        },
        {
         "name": "1623",
         "rawType": "float64",
         "type": "float"
        },
        {
         "name": "28131",
         "rawType": "float64",
         "type": "float"
        },
        {
         "name": "78344",
         "rawType": "float64",
         "type": "float"
        },
        {
         "name": "1692",
         "rawType": "float64",
         "type": "float"
        },
        {
         "name": "68274",
         "rawType": "float64",
         "type": "float"
        },
        {
         "name": "40091",
         "rawType": "float64",
         "type": "float"
        },
        {
         "name": "1393",
         "rawType": "float64",
         "type": "float"
        },
        {
         "name": "28133",
         "rawType": "float64",
         "type": "float"
        },
        {
         "name": "183",
         "rawType": "float64",
         "type": "float"
        },
        {
         "name": "29346",
         "rawType": "float64",
         "type": "float"
        },
        {
         "name": "349096",
         "rawType": "float64",
         "type": "float"
        },
        {
         "name": "Depression",
         "rawType": "int64",
         "type": "integer"
        }
       ],
       "ref": "4e41a163-a6f8-45ff-8fc0-a07afbeb740c",
       "rows": [
        [
         "0",
         "0.2249720145638998",
         "0.0021624203570613",
         "0.0018420659104421",
         "0.0008008972535007",
         "0.0025628634153353",
         "8.00897253500706e-05",
         "0.0386031841381032",
         "0.0027230545598358",
         "0.0024026861920257",
         "0.0",
         "0.1391158534899202",
         "0.0008008972535007",
         "0.1034759340618534",
         "0.0258689139095085",
         "0.0036040432092295",
         "0.0190613123128962",
         "0.0002402686192025",
         "0.0639116308991288",
         "0.0579849622671463",
         "0.0002402686192025",
         "0.0027230545598358",
         "0.0014416089309772",
         "0.0052859179751711",
         "0.0007208072497268",
         "0.0",
         "8.00897253500706e-05",
         "8.00897253500706e-05",
         "0.0",
         "0.000560627242179",
         "8.00897253500706e-05",
         "0.0004805386305242",
         "0.0006407172459529",
         "0.0444498059220037",
         "0.0004004486267503",
         "0.0",
         "8.00897253500706e-05",
         "0.0078487953116974",
         "0.0",
         "0.0",
         "0.0",
         "0.0",
         "0.0",
         "0.0006407172459529",
         "0.0003203586229764",
         "8.00897253500706e-05",
         "0.003443852064729",
         "0.0276309190506778",
         "0.0002402686192025",
         "0.0004805386305242",
         "0.0",
         "0.0025628634153353",
         "0.000560627242179",
         "0.0008809872572745",
         "0.0",
         "0.0004805386305242",
         "0.0",
         "8.00897253500706e-05",
         "0.0001601800075477",
         "0.000560627242179",
         "0.003443852064729",
         "0.0",
         "0.0",
         "0.0016018000754778",
         "0.0",
         "0.0609482269771827",
         "0.0",
         "0.0",
         "0.0",
         "8.00897253500706e-05",
         "0.0",
         "0.0126541676957489",
         "8.00897253500706e-05",
         "0.0",
         "0.0",
         "0.0012814344919058",
         "0.0037642204325391",
         "0.0",
         "0.0",
         "0.0",
         "8.00897253500706e-05",
         "0.0",
         "0.0",
         "0.0",
         "0.0002402686192025",
         "0.0",
         "0.0017619772987873",
         "0.0",
         "0.0",
         "0.0002402686192025",
         "0.0004004486267503",
         "0.0",
         "0.0",
         "0.0072881611089229",
         "0.0",
         "0.0",
         "8.00897253500706e-05",
         "0.0",
         "8.00897253500706e-05",
         "0.0",
         "8.00897253500706e-05",
         "0.0004805386305242",
         "0.0008809872572745",
         "0.0",
         "0.0",
         "0.0",
         "0.0",
         "0.0",
         "0.0",
         "0.0",
         "8.00897253500706e-05",
         "0.0",
         "0.0014416089309772",
         "0.0008809872572745",
         "0.0",
         "0.0",
         "0.0002402686192025",
         "0.0128944474519042",
         "8.00897253500706e-05",
         "0.0",
         "0.0002402686192025",
         "0.0",
         "0.0001601800075477",
         "0.0001601800075477",
         "0.0",
         "0.0",
         "0.0",
         "0.0074483383322325",
         "0.0",
         "0.0001601800075477",
         "0.0024827748036805",
         "0.0",
         "0.0",
         "0.0029633203948002",
         "0.0",
         "0.0009610758689293",
         "0.0001601800075477",
         "0.0",
         "0.0",
         "0.0",
         "0.0",
         "0.0",
         "0.0",
         "0.0",
         "0.0",
         "0.0044850179374322",
         "0.0",
         "8.00897253500706e-05",
         "0.0",
         "0.0",
         "0.0",
         "0.0",
         "0.0092103156310199",
         "0.0011212558764771",
         "8.00897253500706e-05",
         "0.0",
         "0.0",
         "0.0",
         "0.0",
         "0.0",
         "0.0",
         "0.0",
         "0.0004004486267503",
         "0.0",
         "0.0",
         "0.0",
         "0.0",
         "0.0002402686192025",
         "0.0",
         "0.0",
         "0.0",
         "0.0",
         "0.0",
         "0.0010411658727032",
         "8.00897253500706e-05",
         "0.0",
         "0.0",
         "0.0",
         "0.0071279838856133",
         "0.0",
         "0.0",
         "0.0",
         "0.0002402686192025",
         "0.0006407172459529",
         "0.0",
         "0.0002402686192025",
         "0.0003203586229764",
         "0.0",
         "0.0",
         "0.0",
         "0.0",
         "0.0",
         "0.0001601800075477",
         "0.0001601800075477",
         "0.0008008972535007",
         "0.0",
         "0.0",
         "8.00897253500706e-05",
         "0.001201345880251",
         "0.0",
         "8.00897253500706e-05",
         "0.0",
         "0.0001601800075477",
         "0.0135351563451426",
         "0.0001601800075477",
         "0.0108121157064977",
         "0.0022425089687161",
         "0.0",
         "0.0",
         "0.0",
         "8.00897253500706e-05",
         "8.00897253500706e-05",
         "0.0",
         "0.0001601800075477",
         "0.0",
         "0.0",
         "0.0",
         "0.0046452090819328",
         "0.0",
         "0.0",
         "0.0",
         "0.0",
         "0.0001601800075477",
         "0.0",
         "0.0004004486267503",
         "0.0",
         "0.0",
         "8.00897253500706e-05",
         "0.0",
         "8.00897253500706e-05",
         "0.0001601800075477",
         "0.0010411658727032",
         "0.0",
         "0.0",
         "0.0",
         "0.0001601800075477",
         "0.0",
         "0.0002402686192025",
         "0.0",
         "8.00897253500706e-05",
         "0.0018420659104421",
         "0.0",
         "0.0",
         "0.0",
         "0.003043409006455",
         "0.0002402686192025",
         "0.0",
         "0.0",
         "0.0",
         "0.0",
         "0.0",
         "8.00897253500706e-05",
         "0.0",
         "0.0",
         "8.00897253500706e-05",
         "0.0",
         "0.0",
         "0.0",
         "0.0",
         "0.0",
         "8.00897253500706e-05",
         "0.000560627242179",
         "0.0",
         "0.0",
         "8.00897253500706e-05",
         "0.0004004486267503",
         "0.0",
         "0.0",
         "0.0",
         "0.0003203586229764",
         "0.0",
         "0.0",
         "8.00897253500706e-05",
         "0.0",
         "0.0",
         "0.0004805386305242",
         "0.0",
         "0.0",
         "0.0",
         "0.0",
         "0.0",
         "0.0",
         "0.0",
         "0.0",
         "0.0",
         "0.0",
         "0.0",
         "0.0008008972535007",
         "0.0",
         "0.0",
         "0.0",
         "0.0",
         "0.0",
         "0.0",
         "0.0",
         "0.0",
         "0.0",
         "0.0",
         "0.0",
         "0.0",
         "0.0004004486267503",
         "0.0",
         "0.0",
         "0.0",
         "0.0",
         "0.0",
         "8.00897253500706e-05",
         "0.0",
         "0.0",
         "0.0002402686192025",
         "0.0",
         "0.0",
         "0.0",
         "0.0001601800075477",
         "0.0",
         "0.0",
         "0.0",
         "0.0",
         "0.0",
         "0.0",
         "0.000560627242179",
         "0.0",
         "0.0",
         "0.0",
         "0.0",
         "0.0",
         "0.0",
         "0.0",
         "0.0",
         "0.0",
         "0.0",
         "0.0",
         "0.0008008972535007",
         "0.0",
         "0.0",
         "0.0",
         "0.0",
         "0.0",
         "0.0",
         "0.0",
         "0.0",
         "0.0",
         "0.0",
         "0.0",
         "0.0",
         "0.0",
         "0.0",
         "0.0008809872572745",
         "0.0",
         "0.0",
         "0.0",
         "0.0",
         "0.0",
         "0.0",
         "0.0",
         "0.0",
         "0.0",
         "0.0",
         "0.0",
         "0.0001601800075477",
         "0.0",
         "0.0",
         "0.0",
         "0.0",
         "0.0",
         "0.0",
         "8.00897253500706e-05",
         "0.0002402686192025",
         "0.0",
         "0.0",
         "0.0",
         "0.0",
         "0.0",
         "8.00897253500706e-05",
         "0.0001601800075477",
         "0.0",
         "0.0",
         "0.0",
         "8.00897253500706e-05",
         "0.0",
         "0.0",
         "0.0",
         "0.0",
         "0.0",
         "0.0",
         "0.0",
         "0.0",
         "0.0",
         "0.0",
         "0.0",
         "0.0",
         "0.0",
         "0.0",
         "0.0",
         "0.0",
         "0.0",
         "0.0",
         "0.0",
         "0.0",
         "0.0",
         "0.001521697542632",
         "0.0",
         "0.0",
         "0.0",
         "0.0",
         "0.0",
         "0.0",
         "0.0",
         "0.0",
         "0.0",
         "0.0",
         "0.0",
         "0.0",
         "0.0",
         "0.0",
         "0.0009610758689293",
         "0.0003203586229764",
         "0.0",
         "0.0",
         "0.0",
         "8.00897253500706e-05",
         "0.0",
         "0.0",
         "0.0",
         "0.0",
         "0.0",
         "0.0",
         "0.0029633203948002",
         "0.0",
         "0.0",
         "0.0",
         "0.0",
         "0.0",
         "0.0",
         "0.0",
         "0.0",
         "0.0",
         "8.00897253500706e-05",
         "0.0",
         "0.0",
         "0.0",
         "0.0",
         "0.0",
         "0.0",
         "0.0",
         "0.0",
         "0.0",
         "0.0",
         "0.0",
         "0.0",
         "0.0",
         "0.0",
         "0.0",
         "0.0",
         "0.0",
         "0.0",
         "0.0",
         "0.0",
         "0.0",
         "0.0",
         "0.0",
         "0.0",
         "0.0",
         "0.0",
         "0.0",
         "0.0",
         "0.0",
         "0.0",
         "0.0",
         "0.0",
         "0.0",
         "0.0",
         "0.0",
         "0.0",
         "0.0",
         "0.0",
         "0.0",
         "0.0",
         "0.0",
         "0.0",
         "0.0",
         "0.0",
         "0.0",
         "0.0",
         "0.0",
         "0.0",
         "0.0",
         "0.0",
         "0.0",
         "8.00897253500706e-05",
         "0.0",
         "0.0",
         "0.0",
         "8.00897253500706e-05",
         "0.0",
         "0.0",
         "0.0",
         "0.0",
         "0.0",
         "0.0",
         "0.0",
         "0.0",
         "0.0",
         "0.0",
         "0.0",
         "0.0",
         "0.0",
         "0.0",
         "0.0",
         "0.0",
         "0.0",
         "0.0",
         "0.0",
         "0.0",
         "0.0",
         "0.0",
         "0.0",
         "0.0",
         "0.0",
         "0.0",
         "0.0",
         "0.0",
         "0.0",
         "0.0",
         "0.0002402686192025",
         "0.0",
         "0.0",
         "8.00897253500706e-05",
         "0.0",
         "0.0",
         "0.0",
         "8.00897253500706e-05",
         "0.0",
         "0.0",
         "0.0",
         "0.0",
         "0.0",
         "0.0",
         "0.0",
         "0.0",
         "0.0",
         "0.0",
         "0.0",
         "0.0",
         "0.0",
         "0.0",
         "0.0",
         "0.0",
         "0.0",
         "0.0",
         "0.0",
         "8.00897253500706e-05",
         "0.0",
         "0.0",
         "0.0",
         "0.0",
         "8.00897253500706e-05",
         "0"
        ],
        [
         "1",
         "0.0099632668500928",
         "8.166606119547118e-05",
         "0.0188648269070498",
         "8.166606119547118e-05",
         "0.003021647956355",
         "0.0050633031783645",
         "0.006369960157492",
         "0.018374808387141",
         "0.0004083310444018",
         "0.0349530298861897",
         "0.3127803867178018",
         "0.0",
         "0.0079216116280833",
         "0.0006533284895637",
         "0.0044916296736282",
         "0.0005716631667928",
         "0.0005716631667928",
         "0.003756646199237",
         "0.0045732994269463",
         "0.0008166606119547",
         "0.0013883223018984",
         "0.012249916563566",
         "0.0080032666129108",
         "0.0017149909772275",
         "0.002613313958255",
         "0.0001633321223909",
         "0.0004899963671728",
         "0.0",
         "0.0007349952891837",
         "0.0002449989220109",
         "0.0086566098709652",
         "0.0002449989220109",
         "0.010698250324484",
         "0.0022866497134731",
         "8.166606119547118e-05",
         "0.0",
         "0.0151081659393222",
         "0.0",
         "0.0",
         "0.0004899963671728",
         "8.166606119547118e-05",
         "8.166606119547118e-05",
         "0.0005716631667928",
         "0.0032666424478188",
         "0.0",
         "0.0042466351821645",
         "0.0129032302846391",
         "0.0",
         "8.166606119547118e-05",
         "0.0006533284895637",
         "0.0024499744516188",
         "0.018946496660368",
         "8.166606119547118e-05",
         "0.0",
         "0.0001633321223909",
         "0.0010616580571165",
         "8.166606119547118e-05",
         "0.0004083310444018",
         "0.0",
         "0.0045732994269463",
         "0.0005716631667928",
         "0.0",
         "0.0048182939184101",
         "8.166606119547118e-05",
         "0.0307881678367779",
         "0.0015516514705912",
         "0.0",
         "0.0001633321223909",
         "0.0001633321223909",
         "0.0",
         "0.0066966244022739",
         "0.0",
         "0.0011433248567365",
         "0.0",
         "0.0017149909772275",
         "0.0031849726945007",
         "0.0",
         "0.0",
         "0.0",
         "8.166606119547118e-05",
         "0.0",
         "0.0",
         "0.0",
         "0.0001633321223909",
         "0.0",
         "0.0343813416129627",
         "0.0",
         "0.0",
         "0.0",
         "8.166606119547118e-05",
         "0.0",
         "0.0005716631667928",
         "0.0",
         "0.0",
         "0.0",
         "0.0",
         "8.166606119547118e-05",
         "0.0279297264706431",
         "0.0",
         "8.166606119547118e-05",
         "8.166606119547118e-05",
         "0.0002449989220109",
         "0.0013066569791275",
         "0.0",
         "0.0",
         "0.0",
         "0.0",
         "0.0013883223018984",
         "0.0",
         "0.0",
         "0.0216414508349599",
         "0.0004899963671728",
         "8.166606119547118e-05",
         "0.0",
         "0.0",
         "0.0003266642447818",
         "0.0413229752751911",
         "0.0006533284895637",
         "0.0",
         "0.0005716631667928",
         "0.0",
         "0.0002449989220109",
         "0.0005716631667928",
         "0.0",
         "0.0",
         "0.0007349952891837",
         "0.0002449989220109",
         "0.0",
         "8.166606119547118e-05",
         "0.0013883223018984",
         "0.0",
         "0.0",
         "0.003756646199237",
         "0.0",
         "0.0008983274115747",
         "0.0007349952891837",
         "0.0003266642447818",
         "8.166606119547118e-05",
         "0.0001633321223909",
         "0.0001633321223909",
         "8.166606119547118e-05",
         "0.0004083310444018",
         "0.0001633321223909",
         "0.0",
         "0.0",
         "0.014454896523721",
         "0.0002449989220109",
         "0.0",
         "0.0005716631667928",
         "0.0",
         "0.0",
         "0.0075132776299833",
         "0.0001633321223909",
         "0.0003266642447818",
         "0.0",
         "0.0",
         "0.0",
         "0.0002449989220109",
         "0.0",
         "0.0",
         "0.0",
         "0.0004899963671728",
         "8.166606119547118e-05",
         "0.0",
         "0.0",
         "0.0",
         "0.0",
         "0.0",
         "0.0",
         "0.0",
         "0.0",
         "0.0",
         "0.0012249901795075",
         "8.166606119547118e-05",
         "0.0",
         "0.0",
         "0.0",
         "0.0009799927343456",
         "0.0069416188937377",
         "0.0001633321223909",
         "0.0081666061195471",
         "0.002613313958255",
         "0.0001633321223909",
         "0.0",
         "0.0",
         "8.166606119547118e-05",
         "8.166606119547118e-05",
         "8.166606119547118e-05",
         "0.0",
         "0.0",
         "0.0",
         "0.0",
         "0.0002449989220109",
         "0.0004899963671728",
         "0.0",
         "0.0",
         "0.0138015680341572",
         "0.0004083310444018",
         "0.0",
         "0.0",
         "0.0",
         "0.0120049073036115",
         "0.0124132413017116",
         "0.0",
         "0.0082482758728652",
         "0.0008983274115747",
         "0.0",
         "0.0",
         "0.0",
         "0.0001633321223909",
         "8.166606119547118e-05",
         "8.166606119547118e-05",
         "0.0",
         "0.0",
         "0.0",
         "0.0",
         "0.0083299456261833",
         "8.166606119547118e-05",
         "0.0",
         "8.166606119547118e-05",
         "0.0",
         "0.0003266642447818",
         "8.166606119547118e-05",
         "8.166606119547118e-05",
         "0.0",
         "0.0",
         "0.0",
         "0.0",
         "0.0",
         "0.0",
         "0.0",
         "0.0",
         "0.0",
         "0.0",
         "0.0",
         "0.0",
         "8.166606119547118e-05",
         "0.0",
         "0.0",
         "0.0",
         "0.0",
         "0.0",
         "0.0",
         "0.0",
         "0.0",
         "0.0",
         "0.0",
         "0.0",
         "0.0",
         "0.0",
         "0.0001633321223909",
         "0.0001633321223909",
         "0.0",
         "0.0",
         "8.166606119547118e-05",
         "0.0",
         "0.0",
         "0.0",
         "0.0",
         "0.0",
         "0.0009799927343456",
         "0.0",
         "0.0",
         "0.0",
         "8.166606119547118e-05",
         "0.0",
         "0.0",
         "0.0",
         "0.0004083310444018",
         "0.0",
         "0.0002449989220109",
         "8.166606119547118e-05",
         "0.0338098010246423",
         "0.0023683194667913",
         "0.0005716631667928",
         "0.0",
         "0.0169865702656393",
         "0.0008166606119547",
         "0.0002449989220109",
         "0.0",
         "0.0",
         "8.166606119547118e-05",
         "0.0",
         "0.0",
         "0.0",
         "0.0",
         "0.0",
         "0.0001633321223909",
         "0.0",
         "0.0",
         "0.0",
         "8.166606119547118e-05",
         "0.0",
         "0.0",
         "0.0",
         "0.0001633321223909",
         "0.0",
         "0.0",
         "0.0",
         "0.0806860241556535",
         "8.166606119547118e-05",
         "0.0",
         "0.0",
         "0.0",
         "0.0",
         "0.0",
         "0.0",
         "0.0",
         "0.0",
         "0.0",
         "0.0",
         "0.0",
         "8.166606119547118e-05",
         "8.166606119547118e-05",
         "0.0",
         "0.0",
         "0.0",
         "0.0",
         "0.0019599854686913",
         "0.0019599854686913",
         "0.0",
         "0.0",
         "0.0",
         "0.0",
         "0.0",
         "0.0",
         "0.0",
         "0.0",
         "8.166606119547118e-05",
         "8.166606119547118e-05",
         "8.166606119547118e-05",
         "0.0",
         "0.0",
         "0.0",
         "0.0001633321223909",
         "0.0",
         "0.0",
         "0.0",
         "0.0026949837115732",
         "8.166606119547118e-05",
         "0.0",
         "0.0",
         "0.0",
         "0.0",
         "0.0",
         "0.0008166606119547",
         "8.166606119547118e-05",
         "0.0",
         "0.0",
         "0.0",
         "0.0",
         "0.0",
         "0.0",
         "0.0",
         "0.0",
         "0.0",
         "8.166606119547118e-05",
         "0.0",
         "0.0",
         "0.0",
         "0.0",
         "0.0",
         "0.005553292161292",
         "0.0002449989220109",
         "0.0",
         "0.0",
         "0.0",
         "0.0",
         "0.0021233102068369",
         "8.166606119547118e-05",
         "0.0",
         "0.0",
         "0.0001633321223909",
         "8.166606119547118e-05",
         "0.0",
         "0.0",
         "0.0",
         "0.0",
         "0.0",
         "0.0",
         "0.0",
         "0.0",
         "8.166606119547118e-05",
         "8.166606119547118e-05",
         "0.0",
         "8.166606119547118e-05",
         "0.0",
         "0.0",
         "0.0",
         "0.0",
         "0.0",
         "0.0",
         "0.0",
         "0.0",
         "0.0",
         "0.0",
         "8.166606119547118e-05",
         "0.0",
         "0.0",
         "0.0",
         "0.0",
         "0.0",
         "0.0",
         "0.0001633321223909",
         "0.0",
         "0.0",
         "0.0",
         "0.0",
         "0.0",
         "0.0",
         "0.0",
         "0.0",
         "0.0",
         "0.0",
         "8.166606119547118e-05",
         "0.0",
         "0.0",
         "0.0",
         "0.0",
         "0.0",
         "0.0",
         "0.0",
         "0.0",
         "0.0",
         "0.0001633321223909",
         "0.0",
         "0.0",
         "0.0",
         "0.0",
         "0.0",
         "0.0",
         "0.0",
         "0.0",
         "0.0",
         "0.0",
         "0.0",
         "0.0",
         "0.0",
         "0.0",
         "0.0",
         "8.166606119547118e-05",
         "0.0",
         "0.0",
         "0.0",
         "0.0",
         "8.166606119547118e-05",
         "0.0",
         "0.0",
         "8.166606119547118e-05",
         "0.0",
         "0.0",
         "8.166606119547118e-05",
         "0.0003266642447818",
         "0.0",
         "0.0",
         "0.0",
         "0.0",
         "0.0",
         "0.0",
         "0.0",
         "0.0",
         "8.166606119547118e-05",
         "0.0",
         "0.0001633321223909",
         "0.0",
         "0.0",
         "0.0",
         "0.0",
         "0.0",
         "0.0",
         "0.0001633321223909",
         "0.0",
         "0.0",
         "8.166606119547118e-05",
         "0.0",
         "8.166606119547118e-05",
         "0.0",
         "0.0",
         "0.0",
         "0.0",
         "0.0",
         "8.166606119547118e-05",
         "0.0",
         "0.0",
         "8.166606119547118e-05",
         "0.0",
         "0.0",
         "0.0",
         "0.0",
         "0.0",
         "0.0",
         "0.0",
         "0.0",
         "0.0",
         "0.0",
         "0.0",
         "0.0",
         "0.0",
         "0.0",
         "0.0",
         "0.0",
         "0.0",
         "0.0",
         "0.0",
         "0.0",
         "0.0",
         "0.0",
         "0.0",
         "0.0",
         "0.0",
         "0.0",
         "0.0",
         "0.0",
         "0.0",
         "0.0",
         "0.0",
         "0.0",
         "0.0",
         "0.0",
         "0.0",
         "0.0",
         "0.0",
         "0.0",
         "0.0",
         "0.0",
         "0.0",
         "0.0",
         "0.0",
         "0.0",
         "0.0",
         "0.0",
         "0.0",
         "0.0",
         "0.0",
         "0.0",
         "0.0",
         "0.0",
         "0.0",
         "0.0",
         "0.0",
         "0.0",
         "0.0",
         "0.0",
         "0.0",
         "0.0",
         "0.0",
         "0.0",
         "0.0",
         "0.0",
         "0.0",
         "0.0",
         "0.0",
         "0.0",
         "0.0",
         "0.0",
         "0.0",
         "1"
        ],
        [
         "2",
         "0.1316896964650164",
         "0.0186008636851288",
         "9.26954794867076e-05",
         "0.0055617309161537",
         "0.0131627434878439",
         "0.0093622425693769",
         "0.2154862776688024",
         "0.009794821044258",
         "0.0021011031171053",
         "0.0001853913883636",
         "0.0033988385417484",
         "0.0001235935432586",
         "6.179698632447174e-05",
         "0.0",
         "0.009733031786958",
         "0.0107835994476452",
         "0.0032752385576359",
         "3.089849316223587e-05",
         "0.0096403264314955",
         "0.0001235935432586",
         "0.0013904300453493",
         "0.0002780860090698",
         "0.0045420793536291",
         "0.0013595354166993",
         "0.0",
         "0.0088060748451397",
         "0.0011123461832307",
         "0.0006488687857972",
         "0.0009887515664964",
         "0.0002780860090698",
         "0.0003398838541748",
         "0.002039303125049",
         "0.015511078777443",
         "0.0046656686029853",
         "0.0",
         "0.0001544924658111",
         "6.179698632447174e-05",
         "0.0",
         "3.089849316223587e-05",
         "0.0005870709406922",
         "0.0002780860090698",
         "0.0006179698632447",
         "0.0011123461832307",
         "0.0003398838541748",
         "0.0002780860090698",
         "0.0111234618323074",
         "0.3607404122026502",
         "9.26954794867076e-05",
         "0.0003707817032517",
         "0.0",
         "0.0",
         "0.0",
         "0.0024718815999301",
         "0.0",
         "0.0010814515545807",
         "0.000432578474881",
         "0.0",
         "3.089849316223587e-05",
         "0.0006179698632447",
         "0.0196823903830037",
         "0.0008342591006852",
         "3.089849316223587e-05",
         "0.0001544924658111",
         "0.0",
         "0.0008960569457902",
         "0.0",
         "0.0001235935432586",
         "0.0002162892374405",
         "0.0156964680188555",
         "0.0",
         "0.0014522300374055",
         "3.089849316223587e-05",
         "0.0",
         "9.26954794867076e-05",
         "0.0005561730916153",
         "0.0",
         "3.089849316223587e-05",
         "0.0",
         "0.0",
         "0.0",
         "0.0",
         "3.089849316223587e-05",
         "0.0",
         "0.0",
         "0.0",
         "3.089849316223587e-05",
         "3.089849316223587e-05",
         "0.0",
         "0.0",
         "0.0",
         "0.0",
         "6.179698632447174e-05",
         "6.179698632447174e-05",
         "0.0",
         "0.0",
         "0.0",
         "0.0",
         "6.179698632447174e-05",
         "0.0",
         "9.26954794867076e-05",
         "0.0006488687857972",
         "0.0008960569457902",
         "0.0001235935432586",
         "0.0",
         "0.0",
         "9.26954794867076e-05",
         "0.0",
         "0.0",
         "3.089849316223587e-05",
         "0.0",
         "0.0",
         "0.0",
         "0.000494376319986",
         "0.0",
         "0.0",
         "0.000926954794867",
         "0.0012977354246431",
         "3.089849316223587e-05",
         "0.0",
         "3.089849316223587e-05",
         "0.0",
         "9.26954794867076e-05",
         "9.26954794867076e-05",
         "0.0",
         "0.0",
         "0.0005870709406922",
         "0.0001544924658111",
         "3.089849316223587e-05",
         "0.0001235935432586",
         "3.089849316223587e-05",
         "0.0",
         "0.0005252741690628",
         "0.0",
         "0.0",
         "0.0001544924658111",
         "3.089849316223587e-05",
         "3.089849316223587e-05",
         "0.0",
         "0.0",
         "0.0",
         "0.0",
         "3.089849316223587e-05",
         "0.0",
         "0.0",
         "0.079007484372789",
         "0.0",
         "0.0002162892374405",
         "0.0",
         "0.0",
         "0.0",
         "0.0",
         "0.000247188159993",
         "0.0001544924658111",
         "0.0",
         "0.0",
         "0.0",
         "0.0",
         "0.0",
         "0.0",
         "0.0",
         "3.089849316223587e-05",
         "3.089849316223587e-05",
         "0.0",
         "0.0",
         "0.0",
         "0.0",
         "0.0001235935432586",
         "3.089849316223587e-05",
         "6.179698632447174e-05",
         "0.0",
         "0.0",
         "0.0",
         "3.089849316223587e-05",
         "0.0",
         "0.0",
         "9.26954794867076e-05",
         "0.0",
         "0.0",
         "0.0",
         "9.26954794867076e-05",
         "3.089849316223587e-05",
         "0.0",
         "0.0",
         "0.0",
         "0.0",
         "0.0",
         "0.0",
         "0.0",
         "0.0002780860090698",
         "0.0",
         "3.089849316223587e-05",
         "3.089849316223587e-05",
         "0.0",
         "0.0",
         "0.0",
         "0.0",
         "0.0",
         "0.0001235935432586",
         "0.0",
         "0.0",
         "0.0",
         "0.0",
         "0.000432578474881",
         "0.0",
         "0.0003398838541748",
         "3.089849316223587e-05",
         "0.0",
         "0.0",
         "0.0003089849316223",
         "3.089849316223587e-05",
         "0.0001235935432586",
         "0.0",
         "0.0",
         "0.0",
         "0.0",
         "0.0",
         "6.179698632447174e-05",
         "0.0",
         "0.0",
         "3.089849316223587e-05",
         "0.0018848085122866",
         "0.0",
         "0.0",
         "6.179698632447174e-05",
         "3.089849316223587e-05",
         "0.0",
         "3.089849316223587e-05",
         "0.0",
         "0.0",
         "0.0",
         "3.089849316223587e-05",
         "0.0",
         "0.0",
         "6.179698632447174e-05",
         "0.0",
         "0.0",
         "3.089849316223587e-05",
         "0.0",
         "0.0",
         "0.0001235935432586",
         "0.0",
         "0.0",
         "9.26954794867076e-05",
         "6.179698632447174e-05",
         "0.0",
         "0.0",
         "0.0",
         "0.0",
         "0.0002162892374405",
         "0.0",
         "0.0",
         "0.0",
         "0.0",
         "0.0",
         "3.089849316223587e-05",
         "0.0",
         "0.0",
         "0.0",
         "0.0",
         "0.0",
         "3.089849316223587e-05",
         "0.0",
         "0.0",
         "0.0",
         "3.089849316223587e-05",
         "0.0",
         "0.0",
         "0.0",
         "0.0",
         "0.0",
         "0.0",
         "9.26954794867076e-05",
         "0.0",
         "0.0",
         "0.0",
         "0.0",
         "0.0",
         "0.0",
         "0.0003089849316223",
         "0.0",
         "3.089849316223587e-05",
         "0.0",
         "3.089849316223587e-05",
         "0.0",
         "0.0",
         "0.0",
         "0.0001235935432586",
         "3.089849316223587e-05",
         "0.0",
         "0.0",
         "0.0",
         "0.0",
         "0.0",
         "0.0",
         "0.0",
         "0.0",
         "0.0",
         "3.089849316223587e-05",
         "0.0",
         "0.0",
         "3.089849316223587e-05",
         "0.0",
         "0.0",
         "0.0",
         "0.0",
         "0.0",
         "0.0",
         "0.0",
         "0.0",
         "0.0",
         "0.0",
         "0.0",
         "0.0",
         "0.0",
         "0.0",
         "0.0",
         "0.0",
         "6.179698632447174e-05",
         "0.0",
         "0.0",
         "0.0",
         "0.0",
         "0.0",
         "6.179698632447174e-05",
         "0.0",
         "0.0",
         "0.0",
         "0.0",
         "0.0",
         "0.0",
         "0.0",
         "0.0",
         "0.0",
         "0.0",
         "0.0",
         "0.0",
         "0.0004016806258041",
         "0.0",
         "0.0",
         "0.0",
         "0.0",
         "0.0",
         "0.0",
         "0.0",
         "0.0",
         "0.0",
         "0.0",
         "9.26954794867076e-05",
         "0.0",
         "0.0",
         "0.0",
         "0.0",
         "0.0",
         "0.0",
         "0.0",
         "0.0",
         "0.0007106655574265",
         "0.0",
         "0.0",
         "0.0001235935432586",
         "0.0",
         "0.0",
         "3.089849316223587e-05",
         "0.0",
         "0.0",
         "0.0",
         "0.0",
         "0.0",
         "0.0",
         "0.0",
         "0.0",
         "0.0",
         "0.0",
         "0.0",
         "3.089849316223587e-05",
         "0.0",
         "0.0",
         "0.0",
         "0.0",
         "3.089849316223587e-05",
         "0.0",
         "0.0",
         "0.0",
         "0.0",
         "0.0",
         "0.0",
         "0.0001235935432586",
         "0.0",
         "0.0",
         "0.0",
         "0.0",
         "0.0",
         "0.0",
         "0.0",
         "0.0",
         "0.0",
         "0.0",
         "0.0",
         "0.0",
         "3.089849316223587e-05",
         "0.0",
         "9.26954794867076e-05",
         "0.0",
         "0.0",
         "0.0",
         "0.0",
         "0.0",
         "0.0",
         "0.0",
         "0.0",
         "0.0",
         "0.0",
         "3.089849316223587e-05",
         "0.0",
         "0.0002780860090698",
         "6.179698632447174e-05",
         "0.0",
         "0.0",
         "0.0",
         "0.0",
         "3.089849316223587e-05",
         "0.0",
         "0.0",
         "0.0",
         "0.0",
         "0.0",
         "0.0",
         "0.0",
         "0.0",
         "0.0",
         "0.0",
         "0.0",
         "0.0",
         "0.0",
         "0.0",
         "0.0",
         "0.0",
         "0.0",
         "0.0",
         "0.0",
         "0.0",
         "0.0",
         "0.0",
         "0.0",
         "0.0",
         "0.0",
         "0.0",
         "0.0",
         "0.0",
         "0.0",
         "0.0",
         "0.0",
         "0.0",
         "0.0",
         "0.0",
         "0.0",
         "0.0",
         "0.0",
         "3.089849316223587e-05",
         "0.0",
         "0.0",
         "0.0",
         "0.0",
         "0.0",
         "0.0",
         "0.0",
         "0.0",
         "0.0",
         "0.0",
         "0.0",
         "0.0",
         "0.0",
         "0.0",
         "0.0",
         "0.0",
         "0.0",
         "0.0",
         "0.0",
         "0.0",
         "0.0",
         "0.0",
         "0.0",
         "0.0",
         "0.0",
         "0.0",
         "0.0",
         "0.0",
         "0.0",
         "0.0",
         "0.0",
         "0.0",
         "0.0",
         "0.0",
         "0.0",
         "0.0",
         "0.0",
         "0.0",
         "0.0",
         "0.0",
         "0.0",
         "0.0",
         "0.0",
         "0.0",
         "0.0",
         "0.0",
         "0.0",
         "0.0",
         "0.0",
         "0.0",
         "0.0",
         "0.0",
         "0.0",
         "0.0",
         "0.0",
         "0.0",
         "0.0",
         "0.0",
         "0.0",
         "0.0",
         "0.0",
         "0.0",
         "0.0",
         "0.0",
         "0.0",
         "0.0",
         "0.0",
         "0.0",
         "0.0",
         "0.0",
         "0.0",
         "0.0",
         "0.0",
         "0.0",
         "0.0",
         "0.0",
         "0.0",
         "0.0",
         "0.0",
         "0.0",
         "0.0",
         "0.0",
         "3.089849316223587e-05",
         "0.0",
         "0.0",
         "0.0",
         "0.0001235935432586",
         "0.0",
         "0.0",
         "0.0",
         "0.0",
         "0.0",
         "0.0",
         "0.0",
         "0.0",
         "3.089849316223587e-05",
         "0.0",
         "0"
        ],
        [
         "3",
         "0.1064482110716595",
         "0.0036274948121985",
         "0.0028769802946029",
         "0.0003752584553707",
         "0.0212020770021294",
         "6.254295623782952e-05",
         "0.0394020720024166",
         "0.0604791071259568",
         "0.0007505157141685",
         "0.0001250861517902",
         "0.0073800793659062",
         "0.0013759512594118",
         "0.0018137533889642",
         "0.0",
         "0.0010632316919307",
         "0.0079429592712379",
         "0.0025642679065598",
         "0.0",
         "0.0018137533889642",
         "0.0002501723035805",
         "0.0002501723035805",
         "0.0290824674711527",
         "0.0018762862939888",
         "0.0056914157184512",
         "0.0087560186595881",
         "0.0066295648483107",
         "0.0",
         "0.0011257741695393",
         "0.0013134063886572",
         "0.0",
         "0.0007505157141685",
         "0.0004378009329794",
         "0.0098192575309568",
         "0.006066672977249",
         "0.0",
         "6.254295623782952e-05",
         "0.0004378009329794",
         "0.0",
         "0.0",
         "0.0037525845537077",
         "0.0002501723035805",
         "0.0080680490127472",
         "0.0005628870847696",
         "0.0326474174125966",
         "6.254295623782952e-05",
         "0.1931950869988605",
         "0.0790543474193117",
         "0.0001250861517902",
         "0.0001876286293988",
         "0.0001876286293988",
         "0.0008756018659588",
         "0.0002501723035805",
         "0.0278941508240047",
         "0.0",
         "0.002189010647762",
         "0.0010632316919307",
         "0.0003127147811891",
         "0.0003752584553707",
         "0.0271436602378692",
         "0.0014384841644364",
         "0.0006254295623782",
         "6.254295623782952e-05",
         "0.000500344607161",
         "0.0",
         "0.009944335306736",
         "0.0012508615179025",
         "0.0001250861517902",
         "0.0002501723035805",
         "0.0232660457713022",
         "0.0",
         "0.0011257741695393",
         "0.0001876286293988",
         "0.0012508615179025",
         "0.0002501723035805",
         "0.0005628870847696",
         "0.0007505157141685",
         "0.0002501723035805",
         "0.0",
         "0.0003752584553707",
         "0.0",
         "0.0",
         "0.0001876286293988",
         "0.0001250861517902",
         "6.254295623782952e-05",
         "0.0",
         "0.0",
         "6.254295623782952e-05",
         "0.0",
         "0.0",
         "0.0026268008115844",
         "0.0",
         "0.0",
         "0.0",
         "0.0012508615179025",
         "0.0",
         "0.0053787033304081",
         "0.0",
         "0.0003127147811891",
         "0.0001250861517902",
         "0.0005628870847696",
         "0.0008130593883501",
         "0.0003752584553707",
         "0.0692351497170049",
         "0.0",
         "0.0",
         "0.0001250861517902",
         "0.0",
         "0.0",
         "0.0",
         "6.254295623782952e-05",
         "0.0",
         "0.0",
         "0.0002501723035805",
         "0.0",
         "0.0",
         "0.004378009329794",
         "6.254295623782952e-05",
         "6.254295623782952e-05",
         "0.0",
         "0.0005628870847696",
         "0.0",
         "0.0003127147811891",
         "0.0",
         "0.0",
         "0.0",
         "0.0011257741695393",
         "0.0001250861517902",
         "0.0",
         "0.0001250861517902",
         "0.0027518905530936",
         "0.0",
         "0.0002501723035805",
         "0.0004378009329794",
         "0.0",
         "0.001000688017749",
         "6.254295623782952e-05",
         "0.0003752584553707",
         "0.0",
         "0.0",
         "0.0",
         "0.0009381455401404",
         "0.0",
         "0.0",
         "0.0006254295623782",
         "0.0327725789484859",
         "0.0",
         "0.0003127147811891",
         "0.0",
         "0.0",
         "0.0",
         "0.0",
         "0.0",
         "0.0",
         "0.0001876286293988",
         "6.254295623782952e-05",
         "0.0",
         "6.254295623782952e-05",
         "0.0001876286293988",
         "0.0",
         "0.0",
         "0.0001250861517902",
         "6.254295623782952e-05",
         "0.0",
         "0.0008130593883501",
         "6.254295623782952e-05",
         "0.0",
         "0.0",
         "0.0",
         "6.254295623782952e-05",
         "0.0",
         "0.0",
         "0.0",
         "0.0",
         "0.0",
         "0.0",
         "0.0001876286293988",
         "0.0",
         "0.0",
         "0.0",
         "0.0",
         "0.0008130593883501",
         "0.0008756018659588",
         "0.0",
         "0.0",
         "0.0",
         "0.0",
         "0.0002501723035805",
         "0.0",
         "0.0015010290351911",
         "0.0",
         "0.0002501723035805",
         "0.0",
         "0.001000688017749",
         "0.0",
         "0.0",
         "0.0",
         "0.0",
         "0.0002501723035805",
         "0.0",
         "0.0",
         "0.0001250861517902",
         "0.0098192575309568",
         "0.0",
         "0.0",
         "0.0",
         "6.254295623782952e-05",
         "6.254295623782952e-05",
         "0.0",
         "0.0",
         "0.0",
         "0.0003127147811891",
         "0.0",
         "0.0",
         "0.0",
         "0.0",
         "0.0",
         "0.0437800932979406",
         "0.0",
         "0.0",
         "0.0001250861517902",
         "0.000500344607161",
         "0.0",
         "0.0",
         "6.254295623782952e-05",
         "6.254295623782952e-05",
         "6.254295623782952e-05",
         "0.0",
         "0.0003127147811891",
         "0.0",
         "0.0",
         "0.0",
         "0.0",
         "0.0",
         "0.0",
         "0.0",
         "0.0",
         "0.0",
         "6.254295623782952e-05",
         "0.0",
         "6.254295623782952e-05",
         "0.0",
         "0.0",
         "0.0",
         "0.0",
         "0.0",
         "0.0",
         "0.0001250861517902",
         "0.0",
         "0.0",
         "0.0",
         "0.0001250861517902",
         "0.0",
         "0.0",
         "0.0",
         "0.0",
         "0.0",
         "0.0",
         "6.254295623782952e-05",
         "0.0003127147811891",
         "0.0",
         "0.0",
         "0.0",
         "0.0",
         "0.0",
         "0.0001876286293988",
         "0.0",
         "0.0",
         "0.0001876286293988",
         "0.0",
         "0.0",
         "0.0",
         "0.0001250861517902",
         "0.0",
         "0.0",
         "0.0",
         "0.0002501723035805",
         "0.0",
         "0.0023766332942959",
         "0.0",
         "6.254295623782952e-05",
         "0.0",
         "0.0069422772363538",
         "0.0",
         "0.0",
         "0.0",
         "6.254295623782952e-05",
         "6.254295623782952e-05",
         "6.254295623782952e-05",
         "6.254295623782952e-05",
         "0.0",
         "0.0",
         "0.0",
         "0.0",
         "0.0",
         "0.0",
         "0.0",
         "0.0",
         "0.0",
         "0.0",
         "0.0",
         "0.0",
         "0.0",
         "0.0",
         "0.0",
         "6.254295623782952e-05",
         "0.0",
         "0.0",
         "0.0",
         "0.0",
         "0.0",
         "0.0",
         "0.0",
         "6.254295623782952e-05",
         "0.0",
         "0.0",
         "0.0",
         "0.0",
         "0.0",
         "0.0",
         "0.0",
         "0.0",
         "0.0001876286293988",
         "0.0",
         "6.254295623782952e-05",
         "0.0",
         "0.0",
         "6.254295623782952e-05",
         "0.0",
         "0.0",
         "0.0",
         "0.0",
         "0.0001250861517902",
         "0.0002501723035805",
         "0.0",
         "0.0",
         "0.0",
         "0.0002501723035805",
         "0.0",
         "6.254295623782952e-05",
         "0.0",
         "0.0",
         "0.0",
         "0.0",
         "0.0",
         "0.0",
         "0.0030646029411368",
         "0.0",
         "0.0",
         "0.0",
         "0.0",
         "0.0",
         "0.0",
         "0.0",
         "0.0",
         "0.0",
         "0.0",
         "0.0013134063886572",
         "0.0",
         "0.0",
         "6.254295623782952e-05",
         "0.0",
         "0.0",
         "0.0",
         "0.0",
         "0.0",
         "0.0",
         "0.0",
         "0.0",
         "0.0011883178437209",
         "0.0",
         "0.0",
         "0.0",
         "0.0",
         "0.0",
         "0.0",
         "0.0",
         "0.0",
         "0.0",
         "6.254295623782952e-05",
         "0.0",
         "6.254295623782952e-05",
         "0.0",
         "0.0",
         "6.254295623782952e-05",
         "0.0",
         "0.0",
         "6.254295623782952e-05",
         "0.0",
         "6.254295623782952e-05",
         "0.0",
         "6.254295623782952e-05",
         "0.0",
         "0.0",
         "0.0",
         "0.0",
         "0.0",
         "0.0",
         "0.0001250861517902",
         "0.0",
         "0.0",
         "0.0",
         "0.0",
         "0.0",
         "0.0",
         "0.0",
         "0.0",
         "0.0",
         "0.0",
         "0.0",
         "0.0",
         "0.0",
         "0.0",
         "0.038151294244624",
         "0.0",
         "0.0",
         "0.0",
         "0.0",
         "0.0",
         "0.0006879732365599",
         "6.254295623782952e-05",
         "0.0",
         "0.0",
         "0.0",
         "0.0",
         "0.0",
         "0.0",
         "6.254295623782952e-05",
         "0.0",
         "0.0",
         "0.0",
         "0.0",
         "0.0",
         "0.0",
         "0.0",
         "0.0",
         "0.0001876286293988",
         "0.0",
         "0.0",
         "0.0",
         "0.0",
         "0.0",
         "0.0",
         "0.0",
         "0.0",
         "0.0",
         "0.0",
         "0.0",
         "0.0",
         "0.0",
         "0.0",
         "0.0",
         "0.0",
         "0.0",
         "0.0",
         "6.254295623782952e-05",
         "0.0",
         "0.0",
         "0.0",
         "0.0",
         "0.0",
         "0.0",
         "0.0",
         "0.0",
         "0.0",
         "0.0",
         "0.0",
         "0.0",
         "0.0",
         "0.0",
         "0.0",
         "0.0",
         "0.0",
         "0.0",
         "0.0",
         "0.0",
         "0.0",
         "0.0",
         "0.0",
         "0.0",
         "0.0",
         "6.254295623782952e-05",
         "0.0",
         "0.0",
         "0.0",
         "0.0",
         "0.0",
         "0.0",
         "0.0",
         "0.0",
         "0.0",
         "0.0",
         "0.0",
         "0.0",
         "0.0",
         "0.0",
         "0.0",
         "0.0",
         "0.0",
         "0.0",
         "0.0",
         "0.0",
         "0.0",
         "0.0",
         "0.0",
         "0.0",
         "0.0",
         "0.0",
         "0.0",
         "0.0",
         "0.0",
         "0.0",
         "0.0",
         "0.0",
         "0.0",
         "0.0",
         "0.0",
         "0.0",
         "0.0",
         "0.0",
         "0.0",
         "0.0",
         "0.0",
         "0.0",
         "0.0",
         "0.0",
         "0.0",
         "0.0",
         "0.0",
         "0.0",
         "0.0",
         "0.0",
         "0.0",
         "0.0",
         "6.254295623782952e-05",
         "0.0",
         "0.0",
         "0.0",
         "0.0",
         "6.254295623782952e-05",
         "0.0",
         "0.0",
         "0.0",
         "0.0",
         "0.0",
         "0.0",
         "6.254295623782952e-05",
         "0.0",
         "0.0",
         "0.0",
         "0.0",
         "0.0",
         "0.0",
         "0.0",
         "0.0",
         "0.0",
         "0.0",
         "0"
        ],
        [
         "4",
         "0.1752037038432027",
         "0.0031352329657091",
         "0.0100050705212672",
         "0.0039190315701103",
         "0.0185808287331658",
         "0.0209322630944738",
         "0.0451841604361821",
         "0.0126792296116386",
         "0.004610635958433",
         "0.0026741719397394",
         "0.1961366094060812",
         "0.0010143393968805",
         "0.0455991950256369",
         "0.0",
         "0.0082530334828351",
         "0.0280786961476357",
         "0.0005993819036342",
         "0.0210705222951714",
         "0.0215316861160859",
         "0.0005532758010372",
         "0.0013370795451856",
         "0.0021669945316783",
         "0.0019364640186935",
         "0.0009682320093467",
         "0.0267417193973948",
         "0.0005071696984402",
         "0.0",
         "4.6106359584330026e-05",
         "4.6106359584330026e-05",
         "0.0007838075989588",
         "0.0002305317979216",
         "0.0007377014963619",
         "0.0104661315472369",
         "0.0120798579874988",
         "0.0003227440031155",
         "0.0001383183077909",
         "0.0016137264402619",
         "0.0",
         "9.22125906749791e-05",
         "0.0005532758010372",
         "9.22125906749791e-05",
         "0.0001844256953246",
         "0.0017059335057086",
         "0.0006454880062311",
         "0.0003688501057125",
         "0.0008760198041528",
         "0.0395130918276396",
         "0.0",
         "0.0002305317979216",
         "0.0",
         "0.0124948154807452",
         "0.0273871431567855",
         "0.0002305317979216",
         "0.0",
         "0.0016598299729853",
         "0.0001844256953246",
         "0.0",
         "0.0002766379005186",
         "0.0005993819036342",
         "0.0005071696984402",
         "0.0004610635958433",
         "9.22125906749791e-05",
         "0.0005071696984402",
         "0.0",
         "0.0113882535991762",
         "0.0",
         "4.6106359584330026e-05",
         "4.6106359584330026e-05",
         "0.006500983595035",
         "0.0119415345399607",
         "0.007745856074774",
         "0.0",
         "0.0",
         "0.0001383183077909",
         "0.0015676100581705",
         "0.0017059335057086",
         "0.0",
         "0.0",
         "0.0",
         "0.0011526577046714",
         "0.0",
         "4.6106359584330026e-05",
         "0.0",
         "9.22125906749791e-05",
         "0.0",
         "4.6106359584330026e-05",
         "0.0002766379005186",
         "0.0",
         "0.0",
         "0.0024436285773865",
         "9.22125906749791e-05",
         "0.0",
         "0.0",
         "0.0",
         "0.0",
         "0.0178892757423156",
         "0.0",
         "4.6106359584330026e-05",
         "0.0",
         "0.0002305317979216",
         "0.0003688501057125",
         "0.0007838075989588",
         "4.6106359584330026e-05",
         "0.0",
         "9.22125906749791e-05",
         "4.6106359584330026e-05",
         "4.6106359584330026e-05",
         "0.0",
         "4.6106359584330026e-05",
         "0.0",
         "4.6106359584330026e-05",
         "0.0069620574703728",
         "0.0002766379005186",
         "0.0",
         "0.0",
         "0.0419567846518667",
         "0.0",
         "0.0001844256953246",
         "0.0",
         "0.0",
         "0.0",
         "0.0001383183077909",
         "9.22125906749791e-05",
         "0.0",
         "0.0",
         "0.0019364640186935",
         "0.0",
         "0.0",
         "0.0003227440031155",
         "0.0010604454994775",
         "0.0",
         "0.0002305317979216",
         "0.0015215065254471",
         "0.0",
         "0.0009221259067497",
         "9.22125906749791e-05",
         "0.0001844256953246",
         "0.0",
         "4.6106359584330026e-05",
         "0.0",
         "0.0",
         "0.0",
         "0.0",
         "0.0",
         "4.6106359584330026e-05",
         "0.0",
         "0.0002305317979216",
         "0.0",
         "0.0",
         "0.0",
         "0.0",
         "0.0130020185875425",
         "0.0",
         "4.6106359584330026e-05",
         "9.22125906749791e-05",
         "4.6106359584330026e-05",
         "0.0",
         "9.22125906749791e-05",
         "0.0",
         "0.0",
         "0.0",
         "0.0004149562083095",
         "0.0",
         "0.0",
         "0.0",
         "0.0",
         "0.0",
         "0.0",
         "0.0",
         "0.0",
         "0.0",
         "0.0",
         "0.0002766379005186",
         "4.6106359584330026e-05",
         "0.0",
         "0.0",
         "0.0",
         "0.0034118670114173",
         "0.0",
         "0.0",
         "0.0021669945316783",
         "0.0",
         "9.22125906749791e-05",
         "0.0",
         "0.0001844256953246",
         "0.0",
         "0.0",
         "0.0",
         "9.22125906749791e-05",
         "0.0",
         "0.0",
         "0.0",
         "0.0001844256953246",
         "0.0001383183077909",
         "0.0003227440031155",
         "0.0",
         "0.0074231184963425",
         "0.0001383183077909",
         "0.0",
         "4.6106359584330026e-05",
         "0.0",
         "0.0099128506064524",
         "0.0217622037797026",
         "0.0",
         "0.0129097601246234",
         "0.0031813364984325",
         "0.0",
         "0.0",
         "0.0010143393968805",
         "0.0",
         "9.22125906749791e-05",
         "0.0",
         "4.6106359584330026e-05",
         "0.0",
         "0.0",
         "4.6106359584330026e-05",
         "0.0184425695324682",
         "0.0",
         "0.0",
         "0.0",
         "0.0",
         "0.0",
         "4.6106359584330026e-05",
         "4.6106359584330026e-05",
         "0.0",
         "0.0",
         "0.0",
         "0.0",
         "0.0",
         "0.0",
         "0.0001383183077909",
         "0.0",
         "0.0",
         "0.0001383183077909",
         "0.0",
         "0.0",
         "0.0",
         "9.22125906749791e-05",
         "0.0024436285773865",
         "0.0004610635958433",
         "0.0",
         "4.6106359584330026e-05",
         "9.22125906749791e-05",
         "0.0005993819036342",
         "0.0001844256953246",
         "0.0",
         "0.0",
         "0.0",
         "0.0",
         "4.6106359584330026e-05",
         "9.22125906749791e-05",
         "0.0002766379005186",
         "4.6106359584330026e-05",
         "9.22125906749791e-05",
         "0.0",
         "4.6106359584330026e-05",
         "0.0",
         "0.0",
         "9.22125906749791e-05",
         "0.0",
         "0.0013370795451856",
         "0.0",
         "0.0",
         "4.6106359584330026e-05",
         "0.0002305317979216",
         "0.0",
         "0.0",
         "0.0",
         "0.0008760198041528",
         "0.0",
         "0.0",
         "0.0",
         "0.0",
         "0.0",
         "0.0005993819036342",
         "4.6106359584330026e-05",
         "0.0",
         "0.0",
         "0.0",
         "4.6106359584330026e-05",
         "0.0",
         "0.0",
         "0.0",
         "0.0",
         "0.0",
         "0.0",
         "0.0",
         "0.0",
         "0.0001383183077909",
         "0.0",
         "0.0",
         "0.0",
         "0.0",
         "0.0",
         "0.0",
         "9.22125906749791e-05",
         "0.0",
         "0.0",
         "0.0",
         "0.0",
         "0.0",
         "0.0",
         "0.0",
         "0.0",
         "0.0",
         "0.0",
         "0.0",
         "0.0",
         "4.6106359584330026e-05",
         "0.0",
         "0.0",
         "0.0",
         "4.6106359584330026e-05",
         "0.0",
         "0.0",
         "0.0",
         "0.0",
         "0.0",
         "0.0",
         "0.0024897449594779",
         "0.0004610635958433",
         "4.6106359584330026e-05",
         "0.0",
         "0.0",
         "0.0",
         "0.0",
         "9.22125906749791e-05",
         "0.0",
         "0.0",
         "0.0",
         "0.0",
         "0.0",
         "0.0",
         "0.0",
         "0.0",
         "0.0",
         "0.0",
         "4.6106359584330026e-05",
         "0.0",
         "0.0",
         "0.0",
         "0.0",
         "0.0",
         "0.0",
         "0.0",
         "0.0",
         "0.0",
         "0.0",
         "0.0",
         "0.0",
         "0.0",
         "0.0",
         "0.0",
         "0.0",
         "0.0",
         "4.6106359584330026e-05",
         "0.0",
         "0.0",
         "0.0",
         "9.22125906749791e-05",
         "0.0",
         "0.0",
         "0.0",
         "0.0",
         "0.0",
         "0.0",
         "0.0",
         "0.0",
         "0.0011987638072684",
         "0.0",
         "0.0",
         "0.0",
         "0.0",
         "9.22125906749791e-05",
         "0.0",
         "0.0",
         "4.6106359584330026e-05",
         "0.0",
         "4.6106359584330026e-05",
         "0.0",
         "4.6106359584330026e-05",
         "0.0",
         "0.0",
         "4.6106359584330026e-05",
         "0.0",
         "0.0",
         "0.0002305317979216",
         "0.0",
         "0.0",
         "0.0002305317979216",
         "0.0",
         "0.0",
         "0.0",
         "0.0",
         "0.0",
         "0.0",
         "0.0",
         "0.0",
         "0.0",
         "0.0",
         "0.0",
         "0.0",
         "9.22125906749791e-05",
         "4.6106359584330026e-05",
         "0.0",
         "0.0",
         "0.0",
         "0.0",
         "0.0",
         "0.0",
         "0.0",
         "0.0",
         "0.0",
         "0.0",
         "0.0",
         "0.0",
         "0.0",
         "0.0",
         "0.0",
         "0.0",
         "0.0",
         "0.0",
         "0.0",
         "0.0",
         "0.0",
         "0.0",
         "0.0",
         "0.0",
         "0.0",
         "0.0",
         "0.0",
         "0.0",
         "0.0",
         "0.0",
         "0.0",
         "0.0",
         "0.0",
         "0.0",
         "4.6106359584330026e-05",
         "4.6106359584330026e-05",
         "0.0",
         "0.0",
         "0.0",
         "0.0",
         "4.6106359584330026e-05",
         "9.22125906749791e-05",
         "0.0",
         "0.0",
         "0.0",
         "4.6106359584330026e-05",
         "0.0",
         "0.0001383183077909",
         "0.0",
         "0.0",
         "0.0",
         "0.0",
         "0.0",
         "0.0",
         "0.0",
         "0.0",
         "0.0",
         "0.0",
         "0.0",
         "0.0",
         "0.0",
         "4.6106359584330026e-05",
         "0.0",
         "0.0",
         "0.0",
         "0.0",
         "0.0",
         "0.0",
         "0.0",
         "0.0001844256953246",
         "0.0",
         "0.0001383183077909",
         "0.0",
         "0.0",
         "9.22125906749791e-05",
         "0.0",
         "0.0",
         "0.0",
         "0.0",
         "0.0",
         "0.0",
         "0.0",
         "0.0",
         "0.0",
         "0.0",
         "0.0",
         "0.0",
         "0.0",
         "0.0",
         "0.0",
         "0.0",
         "0.0",
         "0.0",
         "0.0",
         "0.0",
         "0.0",
         "0.0",
         "0.0",
         "0.0",
         "0.0",
         "4.6106359584330026e-05",
         "0.0",
         "0.0",
         "0.0",
         "0.0",
         "0.0",
         "0.0",
         "0.0",
         "0.0",
         "0.0",
         "0.0",
         "0.0",
         "0.0",
         "0.0",
         "0.0",
         "0.0",
         "0.0",
         "0.0",
         "0.0",
         "0.0",
         "0.0",
         "0.0",
         "0.0",
         "0.0",
         "0.0",
         "0.0",
         "0.0",
         "0.0",
         "0.0",
         "0.0",
         "0.0",
         "0.0",
         "0.0",
         "0.0",
         "0.0",
         "0.0",
         "0.0",
         "0.0",
         "0.0",
         "0.0",
         "0.0",
         "0.0",
         "0.0",
         "0.0",
         "0.0",
         "0.0",
         "0.0",
         "0.0",
         "0.0",
         "0.0",
         "0.0",
         "0.0",
         "1"
        ]
       ],
       "shape": {
        "columns": 557,
        "rows": 5
       }
      },
      "text/html": [
       "<div>\n",
       "<style scoped>\n",
       "    .dataframe tbody tr th:only-of-type {\n",
       "        vertical-align: middle;\n",
       "    }\n",
       "\n",
       "    .dataframe tbody tr th {\n",
       "        vertical-align: top;\n",
       "    }\n",
       "\n",
       "    .dataframe thead th {\n",
       "        text-align: right;\n",
       "    }\n",
       "</style>\n",
       "<table border=\"1\" class=\"dataframe\">\n",
       "  <thead>\n",
       "    <tr style=\"text-align: right;\">\n",
       "      <th></th>\n",
       "      <th>821</th>\n",
       "      <th>328813</th>\n",
       "      <th>823</th>\n",
       "      <th>817</th>\n",
       "      <th>818</th>\n",
       "      <th>239935</th>\n",
       "      <th>28116</th>\n",
       "      <th>351091</th>\n",
       "      <th>28118</th>\n",
       "      <th>1161942</th>\n",
       "      <th>...</th>\n",
       "      <th>78344</th>\n",
       "      <th>1692</th>\n",
       "      <th>68274</th>\n",
       "      <th>40091</th>\n",
       "      <th>1393</th>\n",
       "      <th>28133</th>\n",
       "      <th>183</th>\n",
       "      <th>29346</th>\n",
       "      <th>349096</th>\n",
       "      <th>Depression</th>\n",
       "    </tr>\n",
       "  </thead>\n",
       "  <tbody>\n",
       "    <tr>\n",
       "      <th>0</th>\n",
       "      <td>0.224972</td>\n",
       "      <td>0.002162</td>\n",
       "      <td>0.001842</td>\n",
       "      <td>0.000801</td>\n",
       "      <td>0.002563</td>\n",
       "      <td>0.000080</td>\n",
       "      <td>0.038603</td>\n",
       "      <td>0.002723</td>\n",
       "      <td>0.002403</td>\n",
       "      <td>0.000000</td>\n",
       "      <td>...</td>\n",
       "      <td>0.0</td>\n",
       "      <td>0.0</td>\n",
       "      <td>0.0</td>\n",
       "      <td>0.00008</td>\n",
       "      <td>0.0</td>\n",
       "      <td>0.0</td>\n",
       "      <td>0.0</td>\n",
       "      <td>0.000000</td>\n",
       "      <td>0.00008</td>\n",
       "      <td>0</td>\n",
       "    </tr>\n",
       "    <tr>\n",
       "      <th>1</th>\n",
       "      <td>0.009963</td>\n",
       "      <td>0.000082</td>\n",
       "      <td>0.018865</td>\n",
       "      <td>0.000082</td>\n",
       "      <td>0.003022</td>\n",
       "      <td>0.005063</td>\n",
       "      <td>0.006370</td>\n",
       "      <td>0.018375</td>\n",
       "      <td>0.000408</td>\n",
       "      <td>0.034953</td>\n",
       "      <td>...</td>\n",
       "      <td>0.0</td>\n",
       "      <td>0.0</td>\n",
       "      <td>0.0</td>\n",
       "      <td>0.00000</td>\n",
       "      <td>0.0</td>\n",
       "      <td>0.0</td>\n",
       "      <td>0.0</td>\n",
       "      <td>0.000000</td>\n",
       "      <td>0.00000</td>\n",
       "      <td>1</td>\n",
       "    </tr>\n",
       "    <tr>\n",
       "      <th>2</th>\n",
       "      <td>0.131690</td>\n",
       "      <td>0.018601</td>\n",
       "      <td>0.000093</td>\n",
       "      <td>0.005562</td>\n",
       "      <td>0.013163</td>\n",
       "      <td>0.009362</td>\n",
       "      <td>0.215486</td>\n",
       "      <td>0.009795</td>\n",
       "      <td>0.002101</td>\n",
       "      <td>0.000185</td>\n",
       "      <td>...</td>\n",
       "      <td>0.0</td>\n",
       "      <td>0.0</td>\n",
       "      <td>0.0</td>\n",
       "      <td>0.00000</td>\n",
       "      <td>0.0</td>\n",
       "      <td>0.0</td>\n",
       "      <td>0.0</td>\n",
       "      <td>0.000031</td>\n",
       "      <td>0.00000</td>\n",
       "      <td>0</td>\n",
       "    </tr>\n",
       "    <tr>\n",
       "      <th>3</th>\n",
       "      <td>0.106448</td>\n",
       "      <td>0.003627</td>\n",
       "      <td>0.002877</td>\n",
       "      <td>0.000375</td>\n",
       "      <td>0.021202</td>\n",
       "      <td>0.000063</td>\n",
       "      <td>0.039402</td>\n",
       "      <td>0.060479</td>\n",
       "      <td>0.000751</td>\n",
       "      <td>0.000125</td>\n",
       "      <td>...</td>\n",
       "      <td>0.0</td>\n",
       "      <td>0.0</td>\n",
       "      <td>0.0</td>\n",
       "      <td>0.00000</td>\n",
       "      <td>0.0</td>\n",
       "      <td>0.0</td>\n",
       "      <td>0.0</td>\n",
       "      <td>0.000000</td>\n",
       "      <td>0.00000</td>\n",
       "      <td>0</td>\n",
       "    </tr>\n",
       "    <tr>\n",
       "      <th>4</th>\n",
       "      <td>0.175204</td>\n",
       "      <td>0.003135</td>\n",
       "      <td>0.010005</td>\n",
       "      <td>0.003919</td>\n",
       "      <td>0.018581</td>\n",
       "      <td>0.020932</td>\n",
       "      <td>0.045184</td>\n",
       "      <td>0.012679</td>\n",
       "      <td>0.004611</td>\n",
       "      <td>0.002674</td>\n",
       "      <td>...</td>\n",
       "      <td>0.0</td>\n",
       "      <td>0.0</td>\n",
       "      <td>0.0</td>\n",
       "      <td>0.00000</td>\n",
       "      <td>0.0</td>\n",
       "      <td>0.0</td>\n",
       "      <td>0.0</td>\n",
       "      <td>0.000000</td>\n",
       "      <td>0.00000</td>\n",
       "      <td>1</td>\n",
       "    </tr>\n",
       "  </tbody>\n",
       "</table>\n",
       "<p>5 rows × 557 columns</p>\n",
       "</div>"
      ],
      "text/plain": [
       "        821    328813       823       817       818    239935     28116  \\\n",
       "0  0.224972  0.002162  0.001842  0.000801  0.002563  0.000080  0.038603   \n",
       "1  0.009963  0.000082  0.018865  0.000082  0.003022  0.005063  0.006370   \n",
       "2  0.131690  0.018601  0.000093  0.005562  0.013163  0.009362  0.215486   \n",
       "3  0.106448  0.003627  0.002877  0.000375  0.021202  0.000063  0.039402   \n",
       "4  0.175204  0.003135  0.010005  0.003919  0.018581  0.020932  0.045184   \n",
       "\n",
       "     351091     28118   1161942  ...  78344  1692  68274    40091  1393  \\\n",
       "0  0.002723  0.002403  0.000000  ...    0.0   0.0    0.0  0.00008   0.0   \n",
       "1  0.018375  0.000408  0.034953  ...    0.0   0.0    0.0  0.00000   0.0   \n",
       "2  0.009795  0.002101  0.000185  ...    0.0   0.0    0.0  0.00000   0.0   \n",
       "3  0.060479  0.000751  0.000125  ...    0.0   0.0    0.0  0.00000   0.0   \n",
       "4  0.012679  0.004611  0.002674  ...    0.0   0.0    0.0  0.00000   0.0   \n",
       "\n",
       "   28133  183     29346   349096  Depression  \n",
       "0    0.0  0.0  0.000000  0.00008           0  \n",
       "1    0.0  0.0  0.000000  0.00000           1  \n",
       "2    0.0  0.0  0.000031  0.00000           0  \n",
       "3    0.0  0.0  0.000000  0.00000           0  \n",
       "4    0.0  0.0  0.000000  0.00000           1  \n",
       "\n",
       "[5 rows x 557 columns]"
      ]
     },
     "execution_count": 44,
     "metadata": {},
     "output_type": "execute_result"
    }
   ],
   "source": [
    "\n",
    "data = pd.read_csv('Data/Final_data/final_depr_one_scaled_2')\n",
    "\n",
    "data = data.iloc[:, 1:]\n",
    "data.head()"
   ]
  },
  {
   "cell_type": "code",
   "execution_count": 45,
   "id": "831adf45",
   "metadata": {},
   "outputs": [],
   "source": [
    "class Model(nn.Module):\n",
    "    def __init__(self, input_size, h1, h2, h3, output_size = 2):\n",
    "        super(Model, self).__init__()\n",
    "        self.net = nn.Sequential(\n",
    "            nn.Linear(input_size, h1),\n",
    "            nn.ReLU(),\n",
    "            nn.Dropout(p=0.3),\n",
    "            nn.Linear(h1, h2),\n",
    "            nn.ReLU(),\n",
    "            nn.Dropout(p=0.3),\n",
    "            nn.Linear(h2, h3),\n",
    "            nn.ReLU(),\n",
    "            nn.Dropout(p=0.3),\n",
    "            nn.Linear(h3, output_size) \n",
    "        )\n",
    "    def forward(self, x):\n",
    "        return self.net(x)\n"
   ]
  },
  {
   "cell_type": "code",
   "execution_count": 46,
   "id": "e2281da9",
   "metadata": {},
   "outputs": [],
   "source": [
    "class SklearnWrapper(BaseEstimator, ClassifierMixin):\n",
    "    def __init__(self, input_size=10, h1=32, h2=16, h3=16, lr=0.01, num_epochs=100):\n",
    "        self.input_size = input_size\n",
    "        self.h1 = h1\n",
    "        self.h2 = h2\n",
    "        self.h3 = h3\n",
    "        self.lr = lr\n",
    "        self.num_epochs = num_epochs\n",
    "        self.device = torch.device(\"cuda\" if torch.cuda.is_available() else \"cpu\")\n",
    "        self.model = None\n",
    "\n",
    "    def fit(self, X, y):\n",
    "        dataset = TensorDataset(X, y)\n",
    "        \n",
    "        val_size = int(0.2 * len(dataset))\n",
    "        train_size = len(dataset) - val_size\n",
    "        train_dataset, val_dataset = random_split(dataset, [train_size, val_size])\n",
    "\n",
    "        train_loader = DataLoader(train_dataset, batch_size=32, shuffle=True)\n",
    "        val_loader = DataLoader(val_dataset, batch_size=32)\n",
    "\n",
    "        self.model = Model(self.input_size, self.h1, self.h2, self.h3).to(self.device)\n",
    "        optimizer = torch.optim.Adam(self.model.parameters(), lr=self.lr, weight_decay=1e-4)\n",
    "        criterion = nn.CrossEntropyLoss()\n",
    "\n",
    "        best_loss = float('inf')\n",
    "        patience = 20\n",
    "        wait = 0\n",
    "        best_state = None\n",
    "\n",
    "        for epoch in range(self.num_epochs):\n",
    "            self.model.train()\n",
    "            for xb, yb in train_loader:\n",
    "                xb, yb = xb.to(self.device), yb.to(self.device)\n",
    "                pred = self.model(xb)\n",
    "                loss = criterion(pred, yb)\n",
    "                optimizer.zero_grad()\n",
    "                loss.backward()\n",
    "                optimizer.step()\n",
    "\n",
    "        \n",
    "            self.model.eval()\n",
    "            val_loss = 0\n",
    "            with torch.no_grad():\n",
    "                for xb, yb in val_loader:\n",
    "                    xb, yb = xb.to(self.device), yb.to(self.device)\n",
    "                    pred = self.model(xb)\n",
    "                    val_loss += criterion(pred, yb).item()\n",
    "                    \n",
    "\n",
    "            val_loss /= len(val_loader)\n",
    "\n",
    "            if val_loss < best_loss:\n",
    "                best_loss = val_loss\n",
    "                best_state = self.model.state_dict()\n",
    "                wait = 0\n",
    "            else:\n",
    "                wait += 1\n",
    "                if wait >= patience:\n",
    "                    #print(f\"Early stopping at epoch {epoch+1}\")\n",
    "                    break\n",
    "\n",
    "        #if best_state:\n",
    "         #   self.model.load_state_dict(best_state)\n",
    "        \n",
    "        self.best_state_dict = best_state\n",
    "   \n",
    "        if self.best_state_dict is not None:\n",
    "            self.model.load_state_dict(self.best_state_dict)\n",
    "\n",
    "        return self\n",
    "\n",
    "\n",
    "    def predict(self, X):\n",
    "        self.model.eval()\n",
    "        with torch.no_grad():\n",
    "            outputs = self.model(X)\n",
    "        return outputs.argmax(dim=1).cpu().numpy()\n",
    "    \n",
    "    def predict_proba(self, X):\n",
    "        with torch.no_grad():\n",
    "            outputs = self.model(X)\n",
    "            probs = torch.softmax(outputs, dim=1)\n",
    "            return probs.cpu().numpy()\n"
   ]
  },
  {
   "cell_type": "code",
   "execution_count": 47,
   "id": "aa3ab425",
   "metadata": {},
   "outputs": [
    {
     "data": {
      "text/plain": [
       "\"param_grid = {\\n    'h1': [32, 64],\\n    'h2': [16, 32],\\n    'h3': [16, 32],\\n    'lr': [0.0001],\\n    'num_epochs': [100 ]\\n}\""
      ]
     },
     "execution_count": 47,
     "metadata": {},
     "output_type": "execute_result"
    }
   ],
   "source": [
    "'''param_grid = {\n",
    "    'h1': [32, 64],\n",
    "    'h2': [16, 32],\n",
    "    'h3': [16, 32],\n",
    "    'lr': [0.0001],\n",
    "    'num_epochs': [100 ]\n",
    "}'''"
   ]
  },
  {
   "cell_type": "code",
   "execution_count": 48,
   "id": "3ddaa312",
   "metadata": {},
   "outputs": [],
   "source": [
    "param_grid = {\n",
    "    'h1': [32, 64, 96, 128, 160],\n",
    "    'h2': [16, 32, 64, 96],\n",
    "    'h3': [16, 32, 64, 96],\n",
    "    'lr': [0.0001, 0.0005],\n",
    "    'num_epochs': [40, 60, 100, 120, 160, 200]\n",
    "}"
   ]
  },
  {
   "cell_type": "code",
   "execution_count": 49,
   "id": "5b1c0675",
   "metadata": {},
   "outputs": [],
   "source": [
    "scoring = {\n",
    "    'accuracy': make_scorer(accuracy_score),\n",
    "    'roc_auc': make_scorer(roc_auc_score, needs_proba=True, multi_class='ovr')\n",
    "    #'neg_log_loss': make_scorer(log_loss, greater_is_better=False, needs_proba=True) \n",
    "    #check loss calc\n",
    "}"
   ]
  },
  {
   "cell_type": "code",
   "execution_count": 50,
   "id": "7e37fd01",
   "metadata": {},
   "outputs": [],
   "source": [
    "X = data.drop('Depression', axis = 1)\n",
    "y = data['Depression']\n",
    "\n",
    "X = X.values\n",
    "y = y.values\n",
    "\n",
    "#X_train, X_test, y_train, y_test = train_test_split(X, y, test_size=0.2)\n",
    "\n",
    "#X_train = torch.FloatTensor(X_train)\n",
    "#X_test = torch.FloatTensor(X_test)\n",
    "\n",
    "#y_train = torch.LongTensor(y_train)\n",
    "#y_test = torch.LongTensor(y_test)"
   ]
  },
  {
   "cell_type": "code",
   "execution_count": 51,
   "id": "0fc10f62",
   "metadata": {},
   "outputs": [
    {
     "name": "stdout",
     "output_type": "stream",
     "text": [
      "Top feature names: ['255723', '85831', '392736', '53462', '29346', '1692', '66219', '587753', '183', '78344', '1776082', '745368', '84112', '1304158', '930124', '1309', '47877', '45076', '46506', '371601', '947013', '40091', '831', '544645', '1453594', '1670', '1580', '999468', '363832', '68274', '339862', '1536', '1623', '658457', '1265', '871325', '232270', '1322', '332163', '1495', '1736', '1428', '36854', '28108', '395922', '70775', '314319', '40324', '242750', '1655', '1343', '202611', '360807', '52769', '392412', '77768', '45254', '216940', '156974', '863']\n",
      "Fold Accuracy: 0.9080\n",
      "Confusion Matrix:\n",
      "[[40  3]\n",
      " [ 5 39]]\n",
      "ROC AUC Score: 0.9667\n",
      "Top feature names: ['45076', '40091', '106648', '66219', '147802', '392736', '36842', '156974', '28038', '37930', '947013', '1692', '1304158', '314319', '58134', '40214', '46867', '1724', '2137', '632', '395922', '148814', '831', '564835', '1309', '1495', '183', '658457', '255723', '1015', '52769', '38303', '1168034', '584', '36854', '68274', '28108', '1776082', '587', '78344', '303', '1717', '736', '1670', '232270', '332163', '1536', '1559', '43997', '467976', '1580', '339862', '29346', '40324', '863', '1530', '234908', '290053', '363832', '2702']\n",
      "Fold Accuracy: 0.9195\n",
      "Confusion Matrix:\n",
      "[[40  7]\n",
      " [ 0 40]]\n",
      "ROC AUC Score: 0.9862\n",
      "Top feature names: ['1692', '392736', '183', '363832', '66219', '587', '1536', '745368', '1495', '36842', '28133', '339862', '148814', '47877', '28038', '45076', '255723', '78344', '831', '1586267', '46206', '626935', '1309', '632', '46867', '1776082', '1168034', '863', '658457', '736', '376805', '1304158', '46506', '371601', '314319', '316', '584', '138595', '1694', '633701', '28108', '384638', '89014', '180311', '901', '287', '1590', '947013', '68274', '264027', '1503', '853', '588', '216940', '332249', '42256', '47880', '544645', '1580', '40324']\n",
      "Fold Accuracy: 0.9195\n",
      "Confusion Matrix:\n",
      "[[48  5]\n",
      " [ 2 32]]\n",
      "ROC AUC Score: 0.9872\n",
      "Top feature names: ['36854', '183', '392736', '66219', '255723', '339862', '1692', '78344', '1670', '376805', '1586267', '947013', '395922', '1495', '467976', '156974', '43997', '47877', '314319', '36842', '1304158', '564835', '582', '204038', '1343', '2137', '45076', '1530', '232270', '28901', '1580', '1724', '53462', '1536', '310298', '40214', '831', '48466', '89014', '363832', '28091', '658457', '544645', '242750', '1613', '40091', '61435', '39482', '147802', '1453594', '59310', '1717', '308994', '234908', '52769', '317', '102684', '1755626', '999468', '371601']\n",
      "Fold Accuracy: 0.8506\n",
      "Confusion Matrix:\n",
      "[[36  4]\n",
      " [ 9 38]]\n",
      "ROC AUC Score: 0.9367\n",
      "Top feature names: ['78344', '1495', '1692', '339862', '148814', '232270', '46867', '36854', '40324', '40091', '392736', '633701', '173480', '745368', '1304158', '66219', '863', '1580', '53462', '45076', '831', '48466', '2137', '1586267', '1530', '59310', '1670', '29346', '1161942', '1309', '255723', '1393', '204038', '36842', '76853', '332163', '46506', '1724', '47877', '180311', '587', '1536', '28038', '29385', '1623', '947013', '282402', '303', '1717', '83771', '1531', '85831', '58134', '544645', '234908', '384638', '216940', '395922', '736', '410072']\n",
      "Fold Accuracy: 0.8605\n",
      "Confusion Matrix:\n",
      "[[31  3]\n",
      " [ 9 43]]\n",
      "ROC AUC Score: 0.9282\n",
      "Nested CV Mean Accuracy: 0.8916\n"
     ]
    }
   ],
   "source": [
    "\n",
    "nested_scores = []\n",
    "data_X = data.drop('Depression', axis = 1)\n",
    "feature_names = data_X.columns.tolist()\n",
    "N = 60\n",
    "all_fprs = []\n",
    "all_tprs = []\n",
    "roc_auc_scores = []\n",
    "top_features_per_fold = []\n",
    "\n",
    "outer_cv = KFold(n_splits=5, shuffle=True, random_state=42)\n",
    "\n",
    "for train_idx, test_idx in outer_cv.split(X, y):\n",
    "    X_train_cv = X[train_idx]\n",
    "    y_train_cv = y[train_idx]\n",
    "    X_test_cv = X[test_idx]\n",
    "    y_test_cv = y[test_idx]\n",
    "\n",
    "    scaler = StandardScaler()\n",
    "    X_train_cv = scaler.fit_transform(X_train_cv)\n",
    "    X_test_cv = scaler.fit_transform(X_test_cv)\n",
    "\n",
    "    X_train_cv = torch.FloatTensor(X_train_cv)\n",
    "    y_train_cv = torch.LongTensor(y_train_cv)\n",
    "    X_test_cv = torch.FloatTensor(X_test_cv)\n",
    "    \n",
    "\n",
    "\n",
    "    clf = GridSearchCV(SklearnWrapper(input_size=X.shape[1]), param_grid, cv=3, scoring='accuracy') #, n_jobs=-1\n",
    "    clf.fit(X_train_cv, y_train_cv)\n",
    "\n",
    "    with torch.no_grad():\n",
    "        first_layer_weights = clf.best_estimator_.model.net[0].weight.detach().cpu().numpy()\n",
    "        feature_importance = np.mean(np.abs(first_layer_weights), axis=0)\n",
    "        top_feature_indices = np.argsort(feature_importance)[::-1][:N]\n",
    "        top_feature_names = [feature_names[i] for i in top_feature_indices]\n",
    "\n",
    "    #print(\"Top feature indices:\", top_feature_indices)\n",
    "    print(\"Top feature names:\", top_feature_names)\n",
    "    top_features_per_fold.append(top_feature_names)   \n",
    "\n",
    "    preds = clf.predict(X_test_cv)\n",
    "    acc = accuracy_score(y_test_cv, preds)\n",
    "    nested_scores.append(acc)\n",
    "    print(f\"Fold Accuracy: {acc:.4f}\")\n",
    "\n",
    "    cm = confusion_matrix(y_test_cv, preds)\n",
    "    print(\"Confusion Matrix:\")\n",
    "    print(cm)\n",
    "\n",
    "    \n",
    "    if hasattr(clf, \"predict_proba\"):\n",
    "        probs = clf.predict_proba(X_test_cv)[:, 1]\n",
    "        roc_auc = roc_auc_score(y_test_cv, probs)\n",
    "        print(f\"ROC AUC Score: {roc_auc:.4f}\")\n",
    "        roc_auc_scores.append(roc_auc)\n",
    "\n",
    "        fpr, tpr, _ = roc_curve(y_test_cv, probs)\n",
    "        all_fprs.append(fpr)\n",
    "        all_tprs.append(tpr)\n",
    "    else:\n",
    "        print(\"ROC AUC Score: Not available (no probability prediction)\")\n",
    "\n",
    "print(f\"Nested CV Mean Accuracy: {np.mean(nested_scores):.4f}\")\n"
   ]
  },
  {
   "cell_type": "code",
   "execution_count": 52,
   "id": "b26eb62f",
   "metadata": {},
   "outputs": [
    {
     "data": {
      "image/png": "[encoded data removed]",
      "text/plain": [
       "<Figure size 800x600 with 1 Axes>"
      ]
     },
     "metadata": {},
     "output_type": "display_data"
    }
   ],
   "source": [
    "plt.figure(figsize=(8, 6))\n",
    "for i in range(len(all_fprs)):\n",
    "    plt.plot(all_fprs[i], all_tprs[i], label=f'Fold {i+1} (AUC = {roc_auc_scores[i]:.2f})')\n",
    "\n",
    "plt.plot([0, 1], [0, 1], 'k--', label='Chance')\n",
    "plt.xlabel('False Positive Rate')\n",
    "plt.ylabel('True Positive Rate')\n",
    "plt.title('ROC Curves for All Folds')\n",
    "plt.legend(loc='lower right')\n",
    "plt.grid(True)\n",
    "plt.tight_layout()\n",
    "plt.show()"
   ]
  },
  {
   "cell_type": "code",
   "execution_count": 53,
   "id": "405d7349",
   "metadata": {},
   "outputs": [
    {
     "name": "stdout",
     "output_type": "stream",
     "text": [
      "Model(\n",
      "  (net): Sequential(\n",
      "    (0): Linear(in_features=556, out_features=64, bias=True)\n",
      "    (1): ReLU()\n",
      "    (2): Dropout(p=0.3, inplace=False)\n",
      "    (3): Linear(in_features=64, out_features=16, bias=True)\n",
      "    (4): ReLU()\n",
      "    (5): Dropout(p=0.3, inplace=False)\n",
      "    (6): Linear(in_features=16, out_features=64, bias=True)\n",
      "    (7): ReLU()\n",
      "    (8): Dropout(p=0.3, inplace=False)\n",
      "    (9): Linear(in_features=64, out_features=2, bias=True)\n",
      "  )\n",
      ")\n"
     ]
    }
   ],
   "source": [
    "print(clf.best_estimator_.model)"
   ]
  },
  {
   "cell_type": "code",
   "execution_count": 54,
   "id": "694f1a70",
   "metadata": {},
   "outputs": [],
   "source": [
    "def features_in_k_arrays(arrays, k):\n",
    "    if not arrays:\n",
    "        return []\n",
    "\n",
    "    counter = Counter()\n",
    "    \n",
    "    for array in arrays:\n",
    "        unique_strings = set(array)  \n",
    "        counter.update(unique_strings)\n",
    "    \n",
    "    return [string for string, count in counter.items() if count >= k]"
   ]
  },
  {
   "cell_type": "code",
   "execution_count": 55,
   "id": "d185e78c",
   "metadata": {},
   "outputs": [
    {
     "name": "stdout",
     "output_type": "stream",
     "text": [
      "\n",
      "Features appearing in at least 4 folds: ['36854', '40091', '1692', '1536', '66219', '1309', '1580', '47877', '232270', '78344', '40324', '831', '658457', '947013', '544645', '1670', '183', '1495', '863', '314319', '339862', '45076', '1304158', '395922', '392736', '363832', '255723', '36842'] \n",
      " total length: 28\n",
      "\n",
      "Features appearing in at least 3 folds: ['36854', '29346', '40091', '1692', '1536', '66219', '1309', '1580', '47877', '232270', '78344', '1776082', '40324', '831', '658457', '947013', '46506', '544645', '332163', '156974', '1670', '52769', '183', '1495', '863', '53462', '314319', '745368', '28108', '339862', '45076', '216940', '1304158', '371601', '395922', '392736', '68274', '363832', '255723', '28038', '1717', '2137', '736', '234908', '1724', '587', '46867', '1530', '36842', '148814', '1586267'] \n",
      " total length: 51\n"
     ]
    }
   ],
   "source": [
    "k=4\n",
    "common_features = features_in_k_arrays(top_features_per_fold, k)\n",
    "print(f\"\\nFeatures appearing in at least {k} folds: {common_features} \\n total length: {len(common_features)}\")\n",
    "\n",
    "k=3\n",
    "common_features = features_in_k_arrays(top_features_per_fold, k)\n",
    "print(f\"\\nFeatures appearing in at least {k} folds: {common_features} \\n total length: {len(common_features)}\")\n"
   ]
  },
  {
   "cell_type": "code",
   "execution_count": 56,
   "id": "c769ba03",
   "metadata": {},
   "outputs": [],
   "source": [
    "#m = clf.best_state_dict"
   ]
  },
  {
   "cell_type": "code",
   "execution_count": 57,
   "id": "ab178725",
   "metadata": {},
   "outputs": [],
   "source": [
    "best_model = clf.best_estimator_"
   ]
  },
  {
   "cell_type": "code",
   "execution_count": 58,
   "id": "173d37f6",
   "metadata": {},
   "outputs": [
    {
     "ename": "NameError",
     "evalue": "name 'X_test' is not defined",
     "output_type": "error",
     "traceback": [
      "\u001b[1;31m---------------------------------------------------------------------------\u001b[0m",
      "\u001b[1;31mNameError\u001b[0m                                 Traceback (most recent call last)",
      "Cell \u001b[1;32mIn[58], line 3\u001b[0m\n\u001b[0;32m      1\u001b[0m correct \u001b[38;5;241m=\u001b[39m \u001b[38;5;241m0\u001b[39m\n\u001b[0;32m      2\u001b[0m \u001b[38;5;28;01mwith\u001b[39;00m torch\u001b[38;5;241m.\u001b[39mno_grad():\n\u001b[1;32m----> 3\u001b[0m   \u001b[38;5;28;01mfor\u001b[39;00m i, data \u001b[38;5;129;01min\u001b[39;00m \u001b[38;5;28menumerate\u001b[39m(X_test):\n\u001b[0;32m      4\u001b[0m     y_val \u001b[38;5;241m=\u001b[39m best_model\u001b[38;5;241m.\u001b[39mmodel\u001b[38;5;241m.\u001b[39mforward(data)\n\u001b[0;32m      6\u001b[0m     \u001b[38;5;28mprint\u001b[39m(\u001b[38;5;124mf\u001b[39m\u001b[38;5;124m'\u001b[39m\u001b[38;5;132;01m{\u001b[39;00mi\u001b[38;5;241m+\u001b[39m\u001b[38;5;241m1\u001b[39m\u001b[38;5;132;01m}\u001b[39;00m\u001b[38;5;124m.)  \u001b[39m\u001b[38;5;132;01m{\u001b[39;00m\u001b[38;5;28mstr\u001b[39m(y_val)\u001b[38;5;132;01m}\u001b[39;00m\u001b[38;5;124m \u001b[39m\u001b[38;5;130;01m\\t\u001b[39;00m\u001b[38;5;124m \u001b[39m\u001b[38;5;132;01m{\u001b[39;00my_test[i]\u001b[38;5;132;01m}\u001b[39;00m\u001b[38;5;124m \u001b[39m\u001b[38;5;130;01m\\t\u001b[39;00m\u001b[38;5;124m \u001b[39m\u001b[38;5;132;01m{\u001b[39;00my_val\u001b[38;5;241m.\u001b[39margmax()\u001b[38;5;241m.\u001b[39mitem()\u001b[38;5;132;01m}\u001b[39;00m\u001b[38;5;124m'\u001b[39m)\n",
      "\u001b[1;31mNameError\u001b[0m: name 'X_test' is not defined"
     ]
    }
   ],
   "source": [
    "correct = 0\n",
    "with torch.no_grad():\n",
    "  for i, data in enumerate(X_test):\n",
    "    y_val = best_model.model.forward(data)\n",
    "\n",
    "    print(f'{i+1}.)  {str(y_val)} \\t {y_test[i]} \\t {y_val.argmax().item()}')\n",
    "\n",
    "    # Correct or not\n",
    "    if y_val.argmax().item() == y_test[i]:\n",
    "      correct +=1\n",
    "\n",
    "print(f'We got {correct} correct!')\n",
    "accuracy = correct / list(y_test.shape)[0]\n",
    "print(f'Accuracy is: {accuracy}')"
   ]
  },
  {
   "cell_type": "code",
   "execution_count": null,
   "id": "135e47fc",
   "metadata": {},
   "outputs": [
    {
     "name": "stdout",
     "output_type": "stream",
     "text": [
      "[87]\n"
     ]
    }
   ],
   "source": [
    "#print(list(y_test.shape))"
   ]
  },
  {
   "cell_type": "code",
   "execution_count": null,
   "id": "274259fb",
   "metadata": {},
   "outputs": [],
   "source": [
    "#torch.save(best_model.model.state_dict(), 'Models/3_layer_nn_96_16_32_with_dropout')"
   ]
  },
  {
   "cell_type": "code",
   "execution_count": null,
   "id": "ca4f66f6",
   "metadata": {},
   "outputs": [
    {
     "data": {
      "text/plain": [
       "Model(\n",
       "  (net): Sequential(\n",
       "    (0): Linear(in_features=556, out_features=96, bias=True)\n",
       "    (1): ReLU()\n",
       "    (2): Dropout(p=0.3, inplace=False)\n",
       "    (3): Linear(in_features=96, out_features=16, bias=True)\n",
       "    (4): ReLU()\n",
       "    (5): Dropout(p=0.3, inplace=False)\n",
       "    (6): Linear(in_features=16, out_features=32, bias=True)\n",
       "    (7): ReLU()\n",
       "    (8): Dropout(p=0.3, inplace=False)\n",
       "    (9): Linear(in_features=32, out_features=2, bias=True)\n",
       "  )\n",
       ")"
      ]
     },
     "execution_count": 108,
     "metadata": {},
     "output_type": "execute_result"
    }
   ],
   "source": [
    "'''model = Model(input_size=X_train.shape[1], h1=96, h2=16, h3=32, output_size=2)\n",
    "model.load_state_dict(torch.load('Models/3_layer_nn_96_16_32_with_dropout'))\n",
    "model.eval()'''"
   ]
  },
  {
   "cell_type": "code",
   "execution_count": null,
   "id": "9bdd0cf1",
   "metadata": {},
   "outputs": [
    {
     "ename": "AttributeError",
     "evalue": "'Tensor' object has no attribute 'drop'",
     "output_type": "error",
     "traceback": [
      "\u001b[1;31m---------------------------------------------------------------------------\u001b[0m",
      "\u001b[1;31mAttributeError\u001b[0m                            Traceback (most recent call last)",
      "Cell \u001b[1;32mIn[109], line 1\u001b[0m\n\u001b[1;32m----> 1\u001b[0m data_X \u001b[38;5;241m=\u001b[39m data\u001b[38;5;241m.\u001b[39mdrop(\u001b[38;5;124m'\u001b[39m\u001b[38;5;124mDepression\u001b[39m\u001b[38;5;124m'\u001b[39m, axis \u001b[38;5;241m=\u001b[39m \u001b[38;5;241m1\u001b[39m)\n\u001b[0;32m      2\u001b[0m feature_names \u001b[38;5;241m=\u001b[39m data_X\u001b[38;5;241m.\u001b[39mcolumns\u001b[38;5;241m.\u001b[39mtolist()\n\u001b[0;32m      3\u001b[0m nr_top_features \u001b[38;5;241m=\u001b[39m \u001b[38;5;241m20\u001b[39m\n",
      "\u001b[1;31mAttributeError\u001b[0m: 'Tensor' object has no attribute 'drop'"
     ]
    }
   ],
   "source": [
    "'''data_X = data.drop('Depression', axis = 1)\n",
    "feature_names = data_X.columns.tolist()\n",
    "nr_top_features = 20\n",
    "\n",
    "first_layer_weights = model.net[0].weight.detach().cpu().numpy()\n",
    "\n",
    "feature_importance = np.mean(np.abs(first_layer_weights), axis=0)\n",
    "\n",
    "\n",
    "top_feature_indices = np.argsort(feature_importance)[::-1][:nr_top_features]\n",
    "\n",
    "top_feature_names = [feature_names[i] for i in top_feature_indices]\n",
    "\n",
    "print(\"Top feature indices:\", top_feature_indices)\n",
    "print(\"Top feature names:\", top_feature_names)\n",
    "'''"
   ]
  },
  {
   "cell_type": "code",
   "execution_count": null,
   "id": "f095c4bb",
   "metadata": {},
   "outputs": [
    {
     "data": {
      "text/plain": [
       "\"correct = 0\\nwith torch.no_grad():\\n  for i, data in enumerate(X_test):\\n    y_val = model.forward(data)\\n\\n    print(f'{i+1}.)  {str(y_val)} \\t {y_test[i]} \\t {y_val.argmax().item()}')\\n\\n    # Correct or not\\n    if y_val.argmax().item() == y_test[i]:\\n      correct +=1\\n\\nprint(f'We got {correct} correct!')\""
      ]
     },
     "execution_count": 264,
     "metadata": {},
     "output_type": "execute_result"
    }
   ],
   "source": [
    "'''correct = 0\n",
    "with torch.no_grad():\n",
    "  for i, data in enumerate(X_test):\n",
    "    y_val = model.forward(data)\n",
    "\n",
    "    print(f'{i+1}.)  {str(y_val)} \\t {y_test[i]} \\t {y_val.argmax().item()}')\n",
    "\n",
    "    # Correct or not\n",
    "    if y_val.argmax().item() == y_test[i]:\n",
    "      correct +=1\n",
    "\n",
    "print(f'We got {correct} correct!')'''"
   ]
  }
 ],
 "metadata": {
  "kernelspec": {
   "display_name": "base",
   "language": "python",
   "name": "python3"
  },
  "language_info": {
   "codemirror_mode": {
    "name": "ipython",
    "version": 3
   },
   "file_extension": ".py",
   "mimetype": "text/x-python",
   "name": "python",
   "nbconvert_exporter": "python",
   "pygments_lexer": "ipython3",
   "version": "3.11.4"
  }
 },
 "nbformat": 4,
 "nbformat_minor": 5
}
