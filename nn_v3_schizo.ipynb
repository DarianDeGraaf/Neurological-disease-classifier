{
 "cells": [
  {
   "cell_type": "code",
   "execution_count": 18,
   "id": "7581f6b5",
   "metadata": {},
   "outputs": [
    {
     "name": "stdout",
     "output_type": "stream",
     "text": [
      "torch module path: c:\\Users\\Daria\\anaconda3\\Lib\\site-packages\\torch\\__init__.py\n",
      "False\n"
     ]
    }
   ],
   "source": [
    "import os\n",
    "import torch\n",
    "print(\"torch module path:\", torch.__file__)\n",
    "print(torch.cuda.is_available())\n",
    "from torch import nn\n",
    "import torch.nn.functional as F\n",
    "from torch.utils.data import DataLoader\n",
    "from torchvision import datasets, transforms\n",
    "import numpy as np\n",
    "import pandas as pd\n",
    "import random\n",
    "from sklearn.model_selection import train_test_split\n",
    "from sklearn.model_selection import GridSearchCV\n",
    "from sklearn.base import BaseEstimator, ClassifierMixin\n",
    "from sklearn.metrics import make_scorer, accuracy_score, roc_auc_score, log_loss\n",
    "\n",
    "from sklearn.model_selection import KFold\n",
    "from sklearn.metrics import accuracy_score\n",
    "from torch.utils.data import TensorDataset, DataLoader, random_split"
   ]
  },
  {
   "cell_type": "code",
   "execution_count": 19,
   "id": "bad6cd6b",
   "metadata": {},
   "outputs": [
    {
     "data": {
      "application/vnd.microsoft.datawrangler.viewer.v0+json": {
       "columns": [
        {
         "name": "index",
         "rawType": "int64",
         "type": "integer"
        },
        {
         "name": "821",
         "rawType": "float64",
         "type": "float"
        },
        {
         "name": "328813",
         "rawType": "float64",
         "type": "float"
        },
        {
         "name": "823",
         "rawType": "float64",
         "type": "float"
        },
        {
         "name": "817",
         "rawType": "float64",
         "type": "float"
        },
        {
         "name": "818",
         "rawType": "float64",
         "type": "float"
        },
        {
         "name": "239935",
         "rawType": "float64",
         "type": "float"
        },
        {
         "name": "28116",
         "rawType": "float64",
         "type": "float"
        },
        {
         "name": "351091",
         "rawType": "float64",
         "type": "float"
        },
        {
         "name": "28118",
         "rawType": "float64",
         "type": "float"
        },
        {
         "name": "1161942",
         "rawType": "float64",
         "type": "float"
        },
        {
         "name": "1755626",
         "rawType": "float64",
         "type": "float"
        },
        {
         "name": "291645",
         "rawType": "float64",
         "type": "float"
        },
        {
         "name": "39485",
         "rawType": "float64",
         "type": "float"
        },
        {
         "name": "437898",
         "rawType": "float64",
         "type": "float"
        },
        {
         "name": "69825",
         "rawType": "float64",
         "type": "float"
        },
        {
         "name": "28117",
         "rawType": "float64",
         "type": "float"
        },
        {
         "name": "29370",
         "rawType": "float64",
         "type": "float"
        },
        {
         "name": "166486",
         "rawType": "float64",
         "type": "float"
        },
        {
         "name": "301301",
         "rawType": "float64",
         "type": "float"
        },
        {
         "name": "1465754",
         "rawType": "float64",
         "type": "float"
        },
        {
         "name": "39496",
         "rawType": "float64",
         "type": "float"
        },
        {
         "name": "44749",
         "rawType": "float64",
         "type": "float"
        },
        {
         "name": "84030",
         "rawType": "float64",
         "type": "float"
        },
        {
         "name": "169435",
         "rawType": "float64",
         "type": "float"
        },
        {
         "name": "208479",
         "rawType": "float64",
         "type": "float"
        },
        {
         "name": "1264",
         "rawType": "float64",
         "type": "float"
        },
        {
         "name": "29354",
         "rawType": "float64",
         "type": "float"
        },
        {
         "name": "100884",
         "rawType": "float64",
         "type": "float"
        },
        {
         "name": "28446",
         "rawType": "float64",
         "type": "float"
        },
        {
         "name": "36835",
         "rawType": "float64",
         "type": "float"
        },
        {
         "name": "626937",
         "rawType": "float64",
         "type": "float"
        },
        {
         "name": "536633",
         "rawType": "float64",
         "type": "float"
        },
        {
         "name": "1535",
         "rawType": "float64",
         "type": "float"
        },
        {
         "name": "371601",
         "rawType": "float64",
         "type": "float"
        },
        {
         "name": "39484",
         "rawType": "float64",
         "type": "float"
        },
        {
         "name": "115979",
         "rawType": "float64",
         "type": "float"
        },
        {
         "name": "358742",
         "rawType": "float64",
         "type": "float"
        },
        {
         "name": "1547",
         "rawType": "float64",
         "type": "float"
        },
        {
         "name": "143393",
         "rawType": "float64",
         "type": "float"
        },
        {
         "name": "1681",
         "rawType": "float64",
         "type": "float"
        },
        {
         "name": "1532",
         "rawType": "float64",
         "type": "float"
        },
        {
         "name": "52787",
         "rawType": "float64",
         "type": "float"
        },
        {
         "name": "261299",
         "rawType": "float64",
         "type": "float"
        },
        {
         "name": "204516",
         "rawType": "float64",
         "type": "float"
        },
        {
         "name": "1522",
         "rawType": "float64",
         "type": "float"
        },
        {
         "name": "165179",
         "rawType": "float64",
         "type": "float"
        },
        {
         "name": "1755607",
         "rawType": "float64",
         "type": "float"
        },
        {
         "name": "47678",
         "rawType": "float64",
         "type": "float"
        },
        {
         "name": "820",
         "rawType": "float64",
         "type": "float"
        },
        {
         "name": "1265",
         "rawType": "float64",
         "type": "float"
        },
        {
         "name": "376804",
         "rawType": "float64",
         "type": "float"
        },
        {
         "name": "40518",
         "rawType": "float64",
         "type": "float"
        },
        {
         "name": "671267",
         "rawType": "float64",
         "type": "float"
        },
        {
         "name": "626930",
         "rawType": "float64",
         "type": "float"
        },
        {
         "name": "650643",
         "rawType": "float64",
         "type": "float"
        },
        {
         "name": "357276",
         "rawType": "float64",
         "type": "float"
        },
        {
         "name": "84026",
         "rawType": "float64",
         "type": "float"
        },
        {
         "name": "392838",
         "rawType": "float64",
         "type": "float"
        },
        {
         "name": "1515",
         "rawType": "float64",
         "type": "float"
        },
        {
         "name": "36847",
         "rawType": "float64",
         "type": "float"
        },
        {
         "name": "46506",
         "rawType": "float64",
         "type": "float"
        },
        {
         "name": "246787",
         "rawType": "float64",
         "type": "float"
        },
        {
         "name": "61171",
         "rawType": "float64",
         "type": "float"
        },
        {
         "name": "29348",
         "rawType": "float64",
         "type": "float"
        },
        {
         "name": "122355",
         "rawType": "float64",
         "type": "float"
        },
        {
         "name": "876",
         "rawType": "float64",
         "type": "float"
        },
        {
         "name": "732242",
         "rawType": "float64",
         "type": "float"
        },
        {
         "name": "1512",
         "rawType": "float64",
         "type": "float"
        },
        {
         "name": "410072",
         "rawType": "float64",
         "type": "float"
        },
        {
         "name": "649724",
         "rawType": "float64",
         "type": "float"
        },
        {
         "name": "100176",
         "rawType": "float64",
         "type": "float"
        },
        {
         "name": "40520",
         "rawType": "float64",
         "type": "float"
        },
        {
         "name": "328812",
         "rawType": "float64",
         "type": "float"
        },
        {
         "name": "338188",
         "rawType": "float64",
         "type": "float"
        },
        {
         "name": "35517",
         "rawType": "float64",
         "type": "float"
        },
        {
         "name": "487175",
         "rawType": "float64",
         "type": "float"
        },
        {
         "name": "29356",
         "rawType": "float64",
         "type": "float"
        },
        {
         "name": "83661",
         "rawType": "float64",
         "type": "float"
        },
        {
         "name": "291644",
         "rawType": "float64",
         "type": "float"
        },
        {
         "name": "28112",
         "rawType": "float64",
         "type": "float"
        },
        {
         "name": "36842",
         "rawType": "float64",
         "type": "float"
        },
        {
         "name": "214856",
         "rawType": "float64",
         "type": "float"
        },
        {
         "name": "847",
         "rawType": "float64",
         "type": "float"
        },
        {
         "name": "310297",
         "rawType": "float64",
         "type": "float"
        },
        {
         "name": "33069",
         "rawType": "float64",
         "type": "float"
        },
        {
         "name": "151276",
         "rawType": "float64",
         "type": "float"
        },
        {
         "name": "1308",
         "rawType": "float64",
         "type": "float"
        },
        {
         "name": "29375",
         "rawType": "float64",
         "type": "float"
        },
        {
         "name": "28111",
         "rawType": "float64",
         "type": "float"
        },
        {
         "name": "28454",
         "rawType": "float64",
         "type": "float"
        },
        {
         "name": "1133319",
         "rawType": "float64",
         "type": "float"
        },
        {
         "name": "185300",
         "rawType": "float64",
         "type": "float"
        },
        {
         "name": "1350067",
         "rawType": "float64",
         "type": "float"
        },
        {
         "name": "2173",
         "rawType": "float64",
         "type": "float"
        },
        {
         "name": "572036",
         "rawType": "float64",
         "type": "float"
        },
        {
         "name": "562",
         "rawType": "float64",
         "type": "float"
        },
        {
         "name": "106588",
         "rawType": "float64",
         "type": "float"
        },
        {
         "name": "28025",
         "rawType": "float64",
         "type": "float"
        },
        {
         "name": "1297750",
         "rawType": "float64",
         "type": "float"
        },
        {
         "name": "376806",
         "rawType": "float64",
         "type": "float"
        },
        {
         "name": "1404",
         "rawType": "float64",
         "type": "float"
        },
        {
         "name": "97253",
         "rawType": "float64",
         "type": "float"
        },
        {
         "name": "317",
         "rawType": "float64",
         "type": "float"
        },
        {
         "name": "397865",
         "rawType": "float64",
         "type": "float"
        },
        {
         "name": "591197",
         "rawType": "float64",
         "type": "float"
        },
        {
         "name": "287",
         "rawType": "float64",
         "type": "float"
        },
        {
         "name": "282125",
         "rawType": "float64",
         "type": "float"
        },
        {
         "name": "626932",
         "rawType": "float64",
         "type": "float"
        },
        {
         "name": "219748",
         "rawType": "float64",
         "type": "float"
        },
        {
         "name": "882211",
         "rawType": "float64",
         "type": "float"
        },
        {
         "name": "310298",
         "rawType": "float64",
         "type": "float"
        },
        {
         "name": "729",
         "rawType": "float64",
         "type": "float"
        },
        {
         "name": "328814",
         "rawType": "float64",
         "type": "float"
        },
        {
         "name": "1630",
         "rawType": "float64",
         "type": "float"
        },
        {
         "name": "294",
         "rawType": "float64",
         "type": "float"
        },
        {
         "name": "329854",
         "rawType": "float64",
         "type": "float"
        },
        {
         "name": "39492",
         "rawType": "float64",
         "type": "float"
        },
        {
         "name": "1303",
         "rawType": "float64",
         "type": "float"
        },
        {
         "name": "587753",
         "rawType": "float64",
         "type": "float"
        },
        {
         "name": "33039",
         "rawType": "float64",
         "type": "float"
        },
        {
         "name": "243924",
         "rawType": "float64",
         "type": "float"
        },
        {
         "name": "290053",
         "rawType": "float64",
         "type": "float"
        },
        {
         "name": "502558",
         "rawType": "float64",
         "type": "float"
        },
        {
         "name": "47880",
         "rawType": "float64",
         "type": "float"
        },
        {
         "name": "47884",
         "rawType": "float64",
         "type": "float"
        },
        {
         "name": "84032",
         "rawType": "float64",
         "type": "float"
        },
        {
         "name": "1260",
         "rawType": "float64",
         "type": "float"
        },
        {
         "name": "1304",
         "rawType": "float64",
         "type": "float"
        },
        {
         "name": "28037",
         "rawType": "float64",
         "type": "float"
        },
        {
         "name": "39486",
         "rawType": "float64",
         "type": "float"
        },
        {
         "name": "303",
         "rawType": "float64",
         "type": "float"
        },
        {
         "name": "626931",
         "rawType": "float64",
         "type": "float"
        },
        {
         "name": "39490",
         "rawType": "float64",
         "type": "float"
        },
        {
         "name": "29524",
         "rawType": "float64",
         "type": "float"
        },
        {
         "name": "33035",
         "rawType": "float64",
         "type": "float"
        },
        {
         "name": "39778",
         "rawType": "float64",
         "type": "float"
        },
        {
         "name": "288965",
         "rawType": "float64",
         "type": "float"
        },
        {
         "name": "28038",
         "rawType": "float64",
         "type": "float"
        },
        {
         "name": "29466",
         "rawType": "float64",
         "type": "float"
        },
        {
         "name": "37734",
         "rawType": "float64",
         "type": "float"
        },
        {
         "name": "28127",
         "rawType": "float64",
         "type": "float"
        },
        {
         "name": "43675",
         "rawType": "float64",
         "type": "float"
        },
        {
         "name": "1352",
         "rawType": "float64",
         "type": "float"
        },
        {
         "name": "281920",
         "rawType": "float64",
         "type": "float"
        },
        {
         "name": "187327",
         "rawType": "float64",
         "type": "float"
        },
        {
         "name": "1267",
         "rawType": "float64",
         "type": "float"
        },
        {
         "name": "839",
         "rawType": "float64",
         "type": "float"
        },
        {
         "name": "290055",
         "rawType": "float64",
         "type": "float"
        },
        {
         "name": "155617",
         "rawType": "float64",
         "type": "float"
        },
        {
         "name": "658457",
         "rawType": "float64",
         "type": "float"
        },
        {
         "name": "1313",
         "rawType": "float64",
         "type": "float"
        },
        {
         "name": "1680",
         "rawType": "float64",
         "type": "float"
        },
        {
         "name": "33029",
         "rawType": "float64",
         "type": "float"
        },
        {
         "name": "35785",
         "rawType": "float64",
         "type": "float"
        },
        {
         "name": "1307",
         "rawType": "float64",
         "type": "float"
        },
        {
         "name": "1590",
         "rawType": "float64",
         "type": "float"
        },
        {
         "name": "387090",
         "rawType": "float64",
         "type": "float"
        },
        {
         "name": "1168034",
         "rawType": "float64",
         "type": "float"
        },
        {
         "name": "41976",
         "rawType": "float64",
         "type": "float"
        },
        {
         "name": "1177728",
         "rawType": "float64",
         "type": "float"
        },
        {
         "name": "871325",
         "rawType": "float64",
         "type": "float"
        },
        {
         "name": "39491",
         "rawType": "float64",
         "type": "float"
        },
        {
         "name": "28901",
         "rawType": "float64",
         "type": "float"
        },
        {
         "name": "28123",
         "rawType": "float64",
         "type": "float"
        },
        {
         "name": "1408",
         "rawType": "float64",
         "type": "float"
        },
        {
         "name": "990",
         "rawType": "float64",
         "type": "float"
        },
        {
         "name": "146817",
         "rawType": "float64",
         "type": "float"
        },
        {
         "name": "1113650",
         "rawType": "float64",
         "type": "float"
        },
        {
         "name": "33037",
         "rawType": "float64",
         "type": "float"
        },
        {
         "name": "1544",
         "rawType": "float64",
         "type": "float"
        },
        {
         "name": "1078480",
         "rawType": "float64",
         "type": "float"
        },
        {
         "name": "58138",
         "rawType": "float64",
         "type": "float"
        },
        {
         "name": "341225",
         "rawType": "float64",
         "type": "float"
        },
        {
         "name": "58172",
         "rawType": "float64",
         "type": "float"
        },
        {
         "name": "40324",
         "rawType": "float64",
         "type": "float"
        },
        {
         "name": "29347",
         "rawType": "float64",
         "type": "float"
        },
        {
         "name": "35519",
         "rawType": "float64",
         "type": "float"
        },
        {
         "name": "39497",
         "rawType": "float64",
         "type": "float"
        },
        {
         "name": "454154",
         "rawType": "float64",
         "type": "float"
        },
        {
         "name": "574375",
         "rawType": "float64",
         "type": "float"
        },
        {
         "name": "40519",
         "rawType": "float64",
         "type": "float"
        },
        {
         "name": "35833",
         "rawType": "float64",
         "type": "float"
        },
        {
         "name": "1559",
         "rawType": "float64",
         "type": "float"
        },
        {
         "name": "1520",
         "rawType": "float64",
         "type": "float"
        },
        {
         "name": "1077256",
         "rawType": "float64",
         "type": "float"
        },
        {
         "name": "84031",
         "rawType": "float64",
         "type": "float"
        },
        {
         "name": "310300",
         "rawType": "float64",
         "type": "float"
        },
        {
         "name": "84109",
         "rawType": "float64",
         "type": "float"
        },
        {
         "name": "36874",
         "rawType": "float64",
         "type": "float"
        },
        {
         "name": "1736",
         "rawType": "float64",
         "type": "float"
        },
        {
         "name": "626935",
         "rawType": "float64",
         "type": "float"
        },
        {
         "name": "885581",
         "rawType": "float64",
         "type": "float"
        },
        {
         "name": "39488",
         "rawType": "float64",
         "type": "float"
        },
        {
         "name": "46228",
         "rawType": "float64",
         "type": "float"
        },
        {
         "name": "29363",
         "rawType": "float64",
         "type": "float"
        },
        {
         "name": "1502",
         "rawType": "float64",
         "type": "float"
        },
        {
         "name": "33043",
         "rawType": "float64",
         "type": "float"
        },
        {
         "name": "216816",
         "rawType": "float64",
         "type": "float"
        },
        {
         "name": "33038",
         "rawType": "float64",
         "type": "float"
        },
        {
         "name": "33953",
         "rawType": "float64",
         "type": "float"
        },
        {
         "name": "29360",
         "rawType": "float64",
         "type": "float"
        },
        {
         "name": "39493",
         "rawType": "float64",
         "type": "float"
        },
        {
         "name": "218538",
         "rawType": "float64",
         "type": "float"
        },
        {
         "name": "118748",
         "rawType": "float64",
         "type": "float"
        },
        {
         "name": "78342",
         "rawType": "float64",
         "type": "float"
        },
        {
         "name": "28130",
         "rawType": "float64",
         "type": "float"
        },
        {
         "name": "1685",
         "rawType": "float64",
         "type": "float"
        },
        {
         "name": "47246",
         "rawType": "float64",
         "type": "float"
        },
        {
         "name": "39483",
         "rawType": "float64",
         "type": "float"
        },
        {
         "name": "36745",
         "rawType": "float64",
         "type": "float"
        },
        {
         "name": "871324",
         "rawType": "float64",
         "type": "float"
        },
        {
         "name": "471189",
         "rawType": "float64",
         "type": "float"
        },
        {
         "name": "1358",
         "rawType": "float64",
         "type": "float"
        },
        {
         "name": "1280",
         "rawType": "float64",
         "type": "float"
        },
        {
         "name": "74426",
         "rawType": "float64",
         "type": "float"
        },
        {
         "name": "1114008",
         "rawType": "float64",
         "type": "float"
        },
        {
         "name": "1646",
         "rawType": "float64",
         "type": "float"
        },
        {
         "name": "871327",
         "rawType": "float64",
         "type": "float"
        },
        {
         "name": "2052",
         "rawType": "float64",
         "type": "float"
        },
        {
         "name": "1504",
         "rawType": "float64",
         "type": "float"
        },
        {
         "name": "332249",
         "rawType": "float64",
         "type": "float"
        },
        {
         "name": "29355",
         "rawType": "float64",
         "type": "float"
        },
        {
         "name": "46503",
         "rawType": "float64",
         "type": "float"
        },
        {
         "name": "36854",
         "rawType": "float64",
         "type": "float"
        },
        {
         "name": "180164",
         "rawType": "float64",
         "type": "float"
        },
        {
         "name": "147207",
         "rawType": "float64",
         "type": "float"
        },
        {
         "name": "89153",
         "rawType": "float64",
         "type": "float"
        },
        {
         "name": "1510",
         "rawType": "float64",
         "type": "float"
        },
        {
         "name": "1527",
         "rawType": "float64",
         "type": "float"
        },
        {
         "name": "1428",
         "rawType": "float64",
         "type": "float"
        },
        {
         "name": "114702",
         "rawType": "float64",
         "type": "float"
        },
        {
         "name": "999468",
         "rawType": "float64",
         "type": "float"
        },
        {
         "name": "178214",
         "rawType": "float64",
         "type": "float"
        },
        {
         "name": "574930",
         "rawType": "float64",
         "type": "float"
        },
        {
         "name": "477666",
         "rawType": "float64",
         "type": "float"
        },
        {
         "name": "84112",
         "rawType": "float64",
         "type": "float"
        },
        {
         "name": "66851",
         "rawType": "float64",
         "type": "float"
        },
        {
         "name": "387661",
         "rawType": "float64",
         "type": "float"
        },
        {
         "name": "28026",
         "rawType": "float64",
         "type": "float"
        },
        {
         "name": "645466",
         "rawType": "float64",
         "type": "float"
        },
        {
         "name": "28126",
         "rawType": "float64",
         "type": "float"
        },
        {
         "name": "76517",
         "rawType": "float64",
         "type": "float"
        },
        {
         "name": "1671366",
         "rawType": "float64",
         "type": "float"
        },
        {
         "name": "105841",
         "rawType": "float64",
         "type": "float"
        },
        {
         "name": "158787",
         "rawType": "float64",
         "type": "float"
        },
        {
         "name": "1686",
         "rawType": "float64",
         "type": "float"
        },
        {
         "name": "33032",
         "rawType": "float64",
         "type": "float"
        },
        {
         "name": "78448",
         "rawType": "float64",
         "type": "float"
        },
        {
         "name": "166501",
         "rawType": "float64",
         "type": "float"
        },
        {
         "name": "1506",
         "rawType": "float64",
         "type": "float"
        },
        {
         "name": "39482",
         "rawType": "float64",
         "type": "float"
        },
        {
         "name": "58134",
         "rawType": "float64",
         "type": "float"
        },
        {
         "name": "312279",
         "rawType": "float64",
         "type": "float"
        },
        {
         "name": "167964",
         "rawType": "float64",
         "type": "float"
        },
        {
         "name": "69824",
         "rawType": "float64",
         "type": "float"
        },
        {
         "name": "90730",
         "rawType": "float64",
         "type": "float"
        },
        {
         "name": "33031",
         "rawType": "float64",
         "type": "float"
        },
        {
         "name": "28135",
         "rawType": "float64",
         "type": "float"
        },
        {
         "name": "1071880",
         "rawType": "float64",
         "type": "float"
        },
        {
         "name": "28108",
         "rawType": "float64",
         "type": "float"
        },
        {
         "name": "35760",
         "rawType": "float64",
         "type": "float"
        },
        {
         "name": "43143",
         "rawType": "float64",
         "type": "float"
        },
        {
         "name": "106648",
         "rawType": "float64",
         "type": "float"
        },
        {
         "name": "1689",
         "rawType": "float64",
         "type": "float"
        },
        {
         "name": "61435",
         "rawType": "float64",
         "type": "float"
        },
        {
         "name": "2741",
         "rawType": "float64",
         "type": "float"
        },
        {
         "name": "52773",
         "rawType": "float64",
         "type": "float"
        },
        {
         "name": "31971",
         "rawType": "float64",
         "type": "float"
        },
        {
         "name": "78343",
         "rawType": "float64",
         "type": "float"
        },
        {
         "name": "582",
         "rawType": "float64",
         "type": "float"
        },
        {
         "name": "2047",
         "rawType": "float64",
         "type": "float"
        },
        {
         "name": "589436",
         "rawType": "float64",
         "type": "float"
        },
        {
         "name": "189722",
         "rawType": "float64",
         "type": "float"
        },
        {
         "name": "1735",
         "rawType": "float64",
         "type": "float"
        },
        {
         "name": "356829",
         "rawType": "float64",
         "type": "float"
        },
        {
         "name": "28119",
         "rawType": "float64",
         "type": "float"
        },
        {
         "name": "901",
         "rawType": "float64",
         "type": "float"
        },
        {
         "name": "881",
         "rawType": "float64",
         "type": "float"
        },
        {
         "name": "863643",
         "rawType": "float64",
         "type": "float"
        },
        {
         "name": "319644",
         "rawType": "float64",
         "type": "float"
        },
        {
         "name": "1725",
         "rawType": "float64",
         "type": "float"
        },
        {
         "name": "28128",
         "rawType": "float64",
         "type": "float"
        },
        {
         "name": "46206",
         "rawType": "float64",
         "type": "float"
        },
        {
         "name": "191493",
         "rawType": "float64",
         "type": "float"
        },
        {
         "name": "137732",
         "rawType": "float64",
         "type": "float"
        },
        {
         "name": "1827099",
         "rawType": "float64",
         "type": "float"
        },
        {
         "name": "1563",
         "rawType": "float64",
         "type": "float"
        },
        {
         "name": "488",
         "rawType": "float64",
         "type": "float"
        },
        {
         "name": "483",
         "rawType": "float64",
         "type": "float"
        },
        {
         "name": "1487956",
         "rawType": "float64",
         "type": "float"
        },
        {
         "name": "88431",
         "rawType": "float64",
         "type": "float"
        },
        {
         "name": "28132",
         "rawType": "float64",
         "type": "float"
        },
        {
         "name": "851",
         "rawType": "float64",
         "type": "float"
        },
        {
         "name": "863",
         "rawType": "float64",
         "type": "float"
        },
        {
         "name": "28136",
         "rawType": "float64",
         "type": "float"
        },
        {
         "name": "363832",
         "rawType": "float64",
         "type": "float"
        },
        {
         "name": "53374",
         "rawType": "float64",
         "type": "float"
        },
        {
         "name": "29317",
         "rawType": "float64",
         "type": "float"
        },
        {
         "name": "45254",
         "rawType": "float64",
         "type": "float"
        },
        {
         "name": "762211",
         "rawType": "float64",
         "type": "float"
        },
        {
         "name": "267818",
         "rawType": "float64",
         "type": "float"
        },
        {
         "name": "52561",
         "rawType": "float64",
         "type": "float"
        },
        {
         "name": "1519",
         "rawType": "float64",
         "type": "float"
        },
        {
         "name": "54911",
         "rawType": "float64",
         "type": "float"
        },
        {
         "name": "44742",
         "rawType": "float64",
         "type": "float"
        },
        {
         "name": "237258",
         "rawType": "float64",
         "type": "float"
        },
        {
         "name": "316",
         "rawType": "float64",
         "type": "float"
        },
        {
         "name": "1223514",
         "rawType": "float64",
         "type": "float"
        },
        {
         "name": "1379",
         "rawType": "float64",
         "type": "float"
        },
        {
         "name": "860",
         "rawType": "float64",
         "type": "float"
        },
        {
         "name": "52769",
         "rawType": "float64",
         "type": "float"
        },
        {
         "name": "187145",
         "rawType": "float64",
         "type": "float"
        },
        {
         "name": "1747",
         "rawType": "float64",
         "type": "float"
        },
        {
         "name": "47770",
         "rawType": "float64",
         "type": "float"
        },
        {
         "name": "1582",
         "rawType": "float64",
         "type": "float"
        },
        {
         "name": "45851",
         "rawType": "float64",
         "type": "float"
        },
        {
         "name": "1282",
         "rawType": "float64",
         "type": "float"
        },
        {
         "name": "1718",
         "rawType": "float64",
         "type": "float"
        },
        {
         "name": "1755629",
         "rawType": "float64",
         "type": "float"
        },
        {
         "name": "762210",
         "rawType": "float64",
         "type": "float"
        },
        {
         "name": "270498",
         "rawType": "float64",
         "type": "float"
        },
        {
         "name": "28139",
         "rawType": "float64",
         "type": "float"
        },
        {
         "name": "28091",
         "rawType": "float64",
         "type": "float"
        },
        {
         "name": "467976",
         "rawType": "float64",
         "type": "float"
        },
        {
         "name": "879",
         "rawType": "float64",
         "type": "float"
        },
        {
         "name": "584",
         "rawType": "float64",
         "type": "float"
        },
        {
         "name": "1311",
         "rawType": "float64",
         "type": "float"
        },
        {
         "name": "40214",
         "rawType": "float64",
         "type": "float"
        },
        {
         "name": "253245",
         "rawType": "float64",
         "type": "float"
        },
        {
         "name": "61635",
         "rawType": "float64",
         "type": "float"
        },
        {
         "name": "588",
         "rawType": "float64",
         "type": "float"
        },
        {
         "name": "905",
         "rawType": "float64",
         "type": "float"
        },
        {
         "name": "1660",
         "rawType": "float64",
         "type": "float"
        },
        {
         "name": "1503",
         "rawType": "float64",
         "type": "float"
        },
        {
         "name": "470565",
         "rawType": "float64",
         "type": "float"
        },
        {
         "name": "415956",
         "rawType": "float64",
         "type": "float"
        },
        {
         "name": "1531",
         "rawType": "float64",
         "type": "float"
        },
        {
         "name": "1755610",
         "rawType": "float64",
         "type": "float"
        },
        {
         "name": "185293",
         "rawType": "float64",
         "type": "float"
        },
        {
         "name": "840",
         "rawType": "float64",
         "type": "float"
        },
        {
         "name": "228603",
         "rawType": "float64",
         "type": "float"
        },
        {
         "name": "45076",
         "rawType": "float64",
         "type": "float"
        },
        {
         "name": "564835",
         "rawType": "float64",
         "type": "float"
        },
        {
         "name": "634771",
         "rawType": "float64",
         "type": "float"
        },
        {
         "name": "454155",
         "rawType": "float64",
         "type": "float"
        },
        {
         "name": "47877",
         "rawType": "float64",
         "type": "float"
        },
        {
         "name": "43770",
         "rawType": "float64",
         "type": "float"
        },
        {
         "name": "341220",
         "rawType": "float64",
         "type": "float"
        },
        {
         "name": "76853",
         "rawType": "float64",
         "type": "float"
        },
        {
         "name": "218284",
         "rawType": "float64",
         "type": "float"
        },
        {
         "name": "136857",
         "rawType": "float64",
         "type": "float"
        },
        {
         "name": "1776082",
         "rawType": "float64",
         "type": "float"
        },
        {
         "name": "39777",
         "rawType": "float64",
         "type": "float"
        },
        {
         "name": "1727",
         "rawType": "float64",
         "type": "float"
        },
        {
         "name": "1309",
         "rawType": "float64",
         "type": "float"
        },
        {
         "name": "29389",
         "rawType": "float64",
         "type": "float"
        },
        {
         "name": "43131",
         "rawType": "float64",
         "type": "float"
        },
        {
         "name": "1349",
         "rawType": "float64",
         "type": "float"
        },
        {
         "name": "1328",
         "rawType": "float64",
         "type": "float"
        },
        {
         "name": "358743",
         "rawType": "float64",
         "type": "float"
        },
        {
         "name": "1338",
         "rawType": "float64",
         "type": "float"
        },
        {
         "name": "1655",
         "rawType": "float64",
         "type": "float"
        },
        {
         "name": "29552",
         "rawType": "float64",
         "type": "float"
        },
        {
         "name": "38986",
         "rawType": "float64",
         "type": "float"
        },
        {
         "name": "1539",
         "rawType": "float64",
         "type": "float"
        },
        {
         "name": "386414",
         "rawType": "float64",
         "type": "float"
        },
        {
         "name": "184870",
         "rawType": "float64",
         "type": "float"
        },
        {
         "name": "309120",
         "rawType": "float64",
         "type": "float"
        },
        {
         "name": "48256",
         "rawType": "float64",
         "type": "float"
        },
        {
         "name": "1501",
         "rawType": "float64",
         "type": "float"
        },
        {
         "name": "53443",
         "rawType": "float64",
         "type": "float"
        },
        {
         "name": "1491",
         "rawType": "float64",
         "type": "float"
        },
        {
         "name": "214853",
         "rawType": "float64",
         "type": "float"
        },
        {
         "name": "54006",
         "rawType": "float64",
         "type": "float"
        },
        {
         "name": "38304",
         "rawType": "float64",
         "type": "float"
        },
        {
         "name": "47715",
         "rawType": "float64",
         "type": "float"
        },
        {
         "name": "53462",
         "rawType": "float64",
         "type": "float"
        },
        {
         "name": "2736",
         "rawType": "float64",
         "type": "float"
        },
        {
         "name": "726",
         "rawType": "float64",
         "type": "float"
        },
        {
         "name": "884684",
         "rawType": "float64",
         "type": "float"
        },
        {
         "name": "1121298",
         "rawType": "float64",
         "type": "float"
        },
        {
         "name": "28137",
         "rawType": "float64",
         "type": "float"
        },
        {
         "name": "1584",
         "rawType": "float64",
         "type": "float"
        },
        {
         "name": "691816",
         "rawType": "float64",
         "type": "float"
        },
        {
         "name": "36834",
         "rawType": "float64",
         "type": "float"
        },
        {
         "name": "1670",
         "rawType": "float64",
         "type": "float"
        },
        {
         "name": "1507",
         "rawType": "float64",
         "type": "float"
        },
        {
         "name": "202611",
         "rawType": "float64",
         "type": "float"
        },
        {
         "name": "552810",
         "rawType": "float64",
         "type": "float"
        },
        {
         "name": "1492",
         "rawType": "float64",
         "type": "float"
        },
        {
         "name": "133453",
         "rawType": "float64",
         "type": "float"
        },
        {
         "name": "70775",
         "rawType": "float64",
         "type": "float"
        },
        {
         "name": "28129",
         "rawType": "float64",
         "type": "float"
        },
        {
         "name": "282402",
         "rawType": "float64",
         "type": "float"
        },
        {
         "name": "185294",
         "rawType": "float64",
         "type": "float"
        },
        {
         "name": "147802",
         "rawType": "float64",
         "type": "float"
        },
        {
         "name": "77095",
         "rawType": "float64",
         "type": "float"
        },
        {
         "name": "33033",
         "rawType": "float64",
         "type": "float"
        },
        {
         "name": "29367",
         "rawType": "float64",
         "type": "float"
        },
        {
         "name": "35825",
         "rawType": "float64",
         "type": "float"
        },
        {
         "name": "228604",
         "rawType": "float64",
         "type": "float"
        },
        {
         "name": "28125",
         "rawType": "float64",
         "type": "float"
        },
        {
         "name": "1648",
         "rawType": "float64",
         "type": "float"
        },
        {
         "name": "1382",
         "rawType": "float64",
         "type": "float"
        },
        {
         "name": "36849",
         "rawType": "float64",
         "type": "float"
        },
        {
         "name": "53972",
         "rawType": "float64",
         "type": "float"
        },
        {
         "name": "589437",
         "rawType": "float64",
         "type": "float"
        },
        {
         "name": "1364",
         "rawType": "float64",
         "type": "float"
        },
        {
         "name": "363277",
         "rawType": "float64",
         "type": "float"
        },
        {
         "name": "1646377",
         "rawType": "float64",
         "type": "float"
        },
        {
         "name": "907",
         "rawType": "float64",
         "type": "float"
        },
        {
         "name": "39950",
         "rawType": "float64",
         "type": "float"
        },
        {
         "name": "1597",
         "rawType": "float64",
         "type": "float"
        },
        {
         "name": "28134",
         "rawType": "float64",
         "type": "float"
        },
        {
         "name": "33034",
         "rawType": "float64",
         "type": "float"
        },
        {
         "name": "341694",
         "rawType": "float64",
         "type": "float"
        },
        {
         "name": "2702",
         "rawType": "float64",
         "type": "float"
        },
        {
         "name": "114527",
         "rawType": "float64",
         "type": "float"
        },
        {
         "name": "827",
         "rawType": "float64",
         "type": "float"
        },
        {
         "name": "701529",
         "rawType": "float64",
         "type": "float"
        },
        {
         "name": "1258",
         "rawType": "float64",
         "type": "float"
        },
        {
         "name": "1859291",
         "rawType": "float64",
         "type": "float"
        },
        {
         "name": "242750",
         "rawType": "float64",
         "type": "float"
        },
        {
         "name": "1717",
         "rawType": "float64",
         "type": "float"
        },
        {
         "name": "38286",
         "rawType": "float64",
         "type": "float"
        },
        {
         "name": "29385",
         "rawType": "float64",
         "type": "float"
        },
        {
         "name": "39029",
         "rawType": "float64",
         "type": "float"
        },
        {
         "name": "1304158",
         "rawType": "float64",
         "type": "float"
        },
        {
         "name": "1724",
         "rawType": "float64",
         "type": "float"
        },
        {
         "name": "633701",
         "rawType": "float64",
         "type": "float"
        },
        {
         "name": "38301",
         "rawType": "float64",
         "type": "float"
        },
        {
         "name": "472113",
         "rawType": "float64",
         "type": "float"
        },
        {
         "name": "48467",
         "rawType": "float64",
         "type": "float"
        },
        {
         "name": "1613",
         "rawType": "float64",
         "type": "float"
        },
        {
         "name": "1659",
         "rawType": "float64",
         "type": "float"
        },
        {
         "name": "133926",
         "rawType": "float64",
         "type": "float"
        },
        {
         "name": "1254",
         "rawType": "float64",
         "type": "float"
        },
        {
         "name": "102684",
         "rawType": "float64",
         "type": "float"
        },
        {
         "name": "99807",
         "rawType": "float64",
         "type": "float"
        },
        {
         "name": "1134405",
         "rawType": "float64",
         "type": "float"
        },
        {
         "name": "46124",
         "rawType": "float64",
         "type": "float"
        },
        {
         "name": "930124",
         "rawType": "float64",
         "type": "float"
        },
        {
         "name": "77768",
         "rawType": "float64",
         "type": "float"
        },
        {
         "name": "42256",
         "rawType": "float64",
         "type": "float"
        },
        {
         "name": "982",
         "rawType": "float64",
         "type": "float"
        },
        {
         "name": "33905",
         "rawType": "float64",
         "type": "float"
        },
        {
         "name": "461876",
         "rawType": "float64",
         "type": "float"
        },
        {
         "name": "831",
         "rawType": "float64",
         "type": "float"
        },
        {
         "name": "66219",
         "rawType": "float64",
         "type": "float"
        },
        {
         "name": "2088",
         "rawType": "float64",
         "type": "float"
        },
        {
         "name": "43997",
         "rawType": "float64",
         "type": "float"
        },
        {
         "name": "118967",
         "rawType": "float64",
         "type": "float"
        },
        {
         "name": "264463",
         "rawType": "float64",
         "type": "float"
        },
        {
         "name": "1541",
         "rawType": "float64",
         "type": "float"
        },
        {
         "name": "86664",
         "rawType": "float64",
         "type": "float"
        },
        {
         "name": "1336",
         "rawType": "float64",
         "type": "float"
        },
        {
         "name": "57706",
         "rawType": "float64",
         "type": "float"
        },
        {
         "name": "1113741",
         "rawType": "float64",
         "type": "float"
        },
        {
         "name": "52226",
         "rawType": "float64",
         "type": "float"
        },
        {
         "name": "1402",
         "rawType": "float64",
         "type": "float"
        },
        {
         "name": "196024",
         "rawType": "float64",
         "type": "float"
        },
        {
         "name": "1599",
         "rawType": "float64",
         "type": "float"
        },
        {
         "name": "1453594",
         "rawType": "float64",
         "type": "float"
        },
        {
         "name": "1566358",
         "rawType": "float64",
         "type": "float"
        },
        {
         "name": "103892",
         "rawType": "float64",
         "type": "float"
        },
        {
         "name": "762212",
         "rawType": "float64",
         "type": "float"
        },
        {
         "name": "173480",
         "rawType": "float64",
         "type": "float"
        },
        {
         "name": "1691",
         "rawType": "float64",
         "type": "float"
        },
        {
         "name": "332163",
         "rawType": "float64",
         "type": "float"
        },
        {
         "name": "40215",
         "rawType": "float64",
         "type": "float"
        },
        {
         "name": "1598",
         "rawType": "float64",
         "type": "float"
        },
        {
         "name": "58180",
         "rawType": "float64",
         "type": "float"
        },
        {
         "name": "1343",
         "rawType": "float64",
         "type": "float"
        },
        {
         "name": "1694",
         "rawType": "float64",
         "type": "float"
        },
        {
         "name": "983706",
         "rawType": "float64",
         "type": "float"
        },
        {
         "name": "253239",
         "rawType": "float64",
         "type": "float"
        },
        {
         "name": "38284",
         "rawType": "float64",
         "type": "float"
        },
        {
         "name": "78257",
         "rawType": "float64",
         "type": "float"
        },
        {
         "name": "97084",
         "rawType": "float64",
         "type": "float"
        },
        {
         "name": "467210",
         "rawType": "float64",
         "type": "float"
        },
        {
         "name": "1114067",
         "rawType": "float64",
         "type": "float"
        },
        {
         "name": "151781",
         "rawType": "float64",
         "type": "float"
        },
        {
         "name": "48466",
         "rawType": "float64",
         "type": "float"
        },
        {
         "name": "1586267",
         "rawType": "float64",
         "type": "float"
        },
        {
         "name": "108980",
         "rawType": "float64",
         "type": "float"
        },
        {
         "name": "166485",
         "rawType": "float64",
         "type": "float"
        },
        {
         "name": "947013",
         "rawType": "float64",
         "type": "float"
        },
        {
         "name": "1476",
         "rawType": "float64",
         "type": "float"
        },
        {
         "name": "36850",
         "rawType": "float64",
         "type": "float"
        },
        {
         "name": "294710",
         "rawType": "float64",
         "type": "float"
        },
        {
         "name": "138595",
         "rawType": "float64",
         "type": "float"
        },
        {
         "name": "157692",
         "rawType": "float64",
         "type": "float"
        },
        {
         "name": "652716",
         "rawType": "float64",
         "type": "float"
        },
        {
         "name": "305719",
         "rawType": "float64",
         "type": "float"
        },
        {
         "name": "1015",
         "rawType": "float64",
         "type": "float"
        },
        {
         "name": "264027",
         "rawType": "float64",
         "type": "float"
        },
        {
         "name": "853",
         "rawType": "float64",
         "type": "float"
        },
        {
         "name": "85831",
         "rawType": "float64",
         "type": "float"
        },
        {
         "name": "544645",
         "rawType": "float64",
         "type": "float"
        },
        {
         "name": "204038",
         "rawType": "float64",
         "type": "float"
        },
        {
         "name": "89014",
         "rawType": "float64",
         "type": "float"
        },
        {
         "name": "214858",
         "rawType": "float64",
         "type": "float"
        },
        {
         "name": "28114",
         "rawType": "float64",
         "type": "float"
        },
        {
         "name": "755171",
         "rawType": "float64",
         "type": "float"
        },
        {
         "name": "727",
         "rawType": "float64",
         "type": "float"
        },
        {
         "name": "1124188",
         "rawType": "float64",
         "type": "float"
        },
        {
         "name": "1322",
         "rawType": "float64",
         "type": "float"
        },
        {
         "name": "180311",
         "rawType": "float64",
         "type": "float"
        },
        {
         "name": "308994",
         "rawType": "float64",
         "type": "float"
        },
        {
         "name": "745368",
         "rawType": "float64",
         "type": "float"
        },
        {
         "name": "78345",
         "rawType": "float64",
         "type": "float"
        },
        {
         "name": "1590651",
         "rawType": "float64",
         "type": "float"
        },
        {
         "name": "360807",
         "rawType": "float64",
         "type": "float"
        },
        {
         "name": "102148",
         "rawType": "float64",
         "type": "float"
        },
        {
         "name": "301302",
         "rawType": "float64",
         "type": "float"
        },
        {
         "name": "632",
         "rawType": "float64",
         "type": "float"
        },
        {
         "name": "392412",
         "rawType": "float64",
         "type": "float"
        },
        {
         "name": "234908",
         "rawType": "float64",
         "type": "float"
        },
        {
         "name": "156980",
         "rawType": "float64",
         "type": "float"
        },
        {
         "name": "54005",
         "rawType": "float64",
         "type": "float"
        },
        {
         "name": "1530",
         "rawType": "float64",
         "type": "float"
        },
        {
         "name": "587",
         "rawType": "float64",
         "type": "float"
        },
        {
         "name": "83771",
         "rawType": "float64",
         "type": "float"
        },
        {
         "name": "46867",
         "rawType": "float64",
         "type": "float"
        },
        {
         "name": "395922",
         "rawType": "float64",
         "type": "float"
        },
        {
         "name": "1536",
         "rawType": "float64",
         "type": "float"
        },
        {
         "name": "255723",
         "rawType": "float64",
         "type": "float"
        },
        {
         "name": "59310",
         "rawType": "float64",
         "type": "float"
        },
        {
         "name": "37930",
         "rawType": "float64",
         "type": "float"
        },
        {
         "name": "314319",
         "rawType": "float64",
         "type": "float"
        },
        {
         "name": "736",
         "rawType": "float64",
         "type": "float"
        },
        {
         "name": "216940",
         "rawType": "float64",
         "type": "float"
        },
        {
         "name": "1495",
         "rawType": "float64",
         "type": "float"
        },
        {
         "name": "1580",
         "rawType": "float64",
         "type": "float"
        },
        {
         "name": "38289",
         "rawType": "float64",
         "type": "float"
        },
        {
         "name": "38303",
         "rawType": "float64",
         "type": "float"
        },
        {
         "name": "2137",
         "rawType": "float64",
         "type": "float"
        },
        {
         "name": "216947",
         "rawType": "float64",
         "type": "float"
        },
        {
         "name": "384638",
         "rawType": "float64",
         "type": "float"
        },
        {
         "name": "148814",
         "rawType": "float64",
         "type": "float"
        },
        {
         "name": "339862",
         "rawType": "float64",
         "type": "float"
        },
        {
         "name": "392736",
         "rawType": "float64",
         "type": "float"
        },
        {
         "name": "232270",
         "rawType": "float64",
         "type": "float"
        },
        {
         "name": "376805",
         "rawType": "float64",
         "type": "float"
        },
        {
         "name": "156974",
         "rawType": "float64",
         "type": "float"
        },
        {
         "name": "1623",
         "rawType": "float64",
         "type": "float"
        },
        {
         "name": "28131",
         "rawType": "float64",
         "type": "float"
        },
        {
         "name": "78344",
         "rawType": "float64",
         "type": "float"
        },
        {
         "name": "1692",
         "rawType": "float64",
         "type": "float"
        },
        {
         "name": "68274",
         "rawType": "float64",
         "type": "float"
        },
        {
         "name": "40091",
         "rawType": "float64",
         "type": "float"
        },
        {
         "name": "1393",
         "rawType": "float64",
         "type": "float"
        },
        {
         "name": "28133",
         "rawType": "float64",
         "type": "float"
        },
        {
         "name": "183",
         "rawType": "float64",
         "type": "float"
        },
        {
         "name": "29346",
         "rawType": "float64",
         "type": "float"
        },
        {
         "name": "349096",
         "rawType": "float64",
         "type": "float"
        },
        {
         "name": "Schizophrenia",
         "rawType": "int64",
         "type": "integer"
        }
       ],
       "ref": "ed790e80-5ca7-4e90-be7c-ee24e0ed29ea",
       "rows": [
        [
         "0",
         "1.4395930196011415",
         "-0.4058993660284061",
         "-0.5924640007914346",
         "-0.2948578476461219",
         "-0.6296634532727263",
         "-0.3881859388026829",
         "0.0608575893463933",
         "-0.6387279048235004",
         "-0.1584730773669517",
         "-0.2740407009186428",
         "0.3109993096994453",
         "-0.0696254262682824",
         "3.6999731528806574",
         "4.470788716895542",
         "-0.2942100677071549",
         "-0.0290002807644259",
         "-0.2870715300460897",
         "6.9657190984969946",
         "4.52735770674416",
         "-0.234102494157395",
         "0.3566585176231218",
         "-0.431013168190803",
         "0.7308948165079672",
         "-0.541678642006068",
         "-0.1400709128254629",
         "-0.3774907798116197",
         "-0.1707067269972828",
         "-0.2530213918804846",
         "-0.2752458497945949",
         "-0.3274396615776178",
         "-0.3316805299796017",
         "0.6797581969446435",
         "-0.3228729137252584",
         "0.0295659393282775",
         "1.20279872765552",
         "-0.407513522336951",
         "-0.2215618686521544",
         "-0.2669768893160089",
         "-0.2657348248750009",
         "-0.1851003218893208",
         "-0.1967356578745642",
         "-0.3301848088151543",
         "-0.2680258426806403",
         "-0.4149790763433057",
         "-0.0811746299267763",
         "-0.3314392581984092",
         "-0.3290987938759643",
         "-0.2682557522723668",
         "-0.473531625513499",
         "-0.2268203814558793",
         "-0.1142983426731611",
         "-0.0614368664507577",
         "-0.1467892829222837",
         "-0.204041456028737",
         "-0.4273361531282564",
         "-0.3576021790239821",
         "-0.4760290901771206",
         "-0.5480100797378744",
         "-0.2951899640760334",
         "-0.2671163899963799",
         "-0.3959175872708137",
         "-0.2620924604831691",
         "-0.7002367920344685",
         "0.2854450067484178",
         "-0.1641462747249995",
         "-0.445195836900239",
         "-0.3619992903094015",
         "-0.2910802329262679",
         "0.0878372563244442",
         "-0.3524066655494445",
         "-0.1371677971211193",
         "1.6425711139942896",
         "-0.1866817493482758",
         "-0.326037061772613",
         "-0.3685729301370574",
         "-0.4710969394813655",
         "-0.1230120929761263",
         "-0.26894281407304",
         "1.228540536597465",
         "-0.1551047752113686",
         "-0.2159235225665126",
         "-0.2982305591255582",
         "-0.3013709148191826",
         "-0.1822885924196691",
         "-0.0964258073834186",
         "-0.2533451081315458",
         "-0.2553595239435743",
         "-0.0395725887701887",
         "-0.3233078482386951",
         "-0.1046835931971152",
         "-0.3594489649107626",
         "-0.4956209644534938",
         "-0.3171725151664222",
         "-0.1451082652627468",
         "-0.3135777503429092",
         "-0.2461834769827321",
         "-0.3836965586957462",
         "-0.1778181739919899",
         "-0.2017590438278299",
         "-0.145998245785772",
         "-0.2589547751607369",
         "1.8511564073209288",
         "-0.0969333354201702",
         "-0.3623740162319497",
         "-0.4250081110749953",
         "-0.1359679186988969",
         "1.9177399738576024",
         "-0.2613520369075862",
         "-0.3524228179890472",
         "-0.1556051384692157",
         "-0.2208739747440874",
         "-0.1020811954456134",
         "-0.4560083416092826",
         "-0.1739772495368944",
         "-0.070942749661467",
         "-0.3305272649101941",
         "0.0847493718670745",
         "-0.1994208982438132",
         "-0.1116989492439999",
         "-0.1960912661548542",
         "-0.1072248116442704",
         "0.0209207424467177",
         "-0.0697275373102674",
         "-0.0587283662367974",
         "-0.0710302537154232",
         "-0.384114272655396",
         "0.6649877023567693",
         "-0.3653424867377042",
         "-0.1850266230404494",
         "0.2196884280180691",
         "-0.0777068200569904",
         "-0.1407761979059999",
         "0.4932441033004255",
         "-0.1414208301740885",
         "-0.0703812108916059",
         "-0.1244833716606749",
         "-0.4697834286982574",
         "-0.1040928801591332",
         "-0.1203491932043672",
         "-0.1258361229768905",
         "-0.1449209632128007",
         "-0.0992163427853272",
         "-0.114521955779201",
         "-0.1928652915647107",
         "-0.1640280868102389",
         "-0.282274455518921",
         "-0.188804935632014",
         "-0.3282500628288096",
         "-0.1611412108698985",
         "-0.0488290525795516",
         "-0.1694741696540943",
         "0.5443929253704116",
         "0.2815239626333931",
         "-0.1651101548078666",
         "-0.1888935510768079",
         "-0.1008803354148199",
         "-0.1727819010287652",
         "-0.3375798114298783",
         "-0.1426867381823439",
         "-0.1531438510701566",
         "-0.2477666631986408",
         "-0.1898176934455696",
         "-0.0960516682545754",
         "-0.1024442209478308",
         "-0.1658161729475714",
         "-0.3137243499212618",
         "0.0751013906040408",
         "-0.3108924388062856",
         "-0.1652065413505404",
         "-0.2688860095549478",
         "-0.1543877437051552",
         "-0.3286945439550051",
         "0.4382148942387204",
         "-0.0399086009508947",
         "-0.0572378954850287",
         "-0.2216737092367827",
         "-0.1482894977784458",
         "1.244135458774246",
         "-0.3391942355237024",
         "-0.163659458471118",
         "-0.4233092426397967",
         "-0.5018193954316319",
         "-0.0622225972264524",
         "-0.0434836199625028",
         "-0.1826550028268171",
         "0.482391408741833",
         "-0.259635343061935",
         "-0.2323864808648647",
         "-0.1236471921412773",
         "-0.1404545730568638",
         "0.0274883507293256",
         "-0.3462365728273379",
         "-0.1729390778419426",
         "-0.058548559756505",
         "-0.1309592804703161",
         "-0.2004443930703117",
         "-0.3676331957538601",
         "0.5256784974912782",
         "-0.1195529122300414",
         "-0.2114165850784899",
         "0.6726363357331454",
         "-0.3492405425757719",
         "-0.3517802699667888",
         "-0.1429628708281641",
         "0.1700440121440344",
         "-0.0885758180146823",
         "0.6272836162228778",
         "-0.0530267019746557",
         "-0.2794758166548876",
         "-0.2147710311503816",
         "-0.213801002549361",
         "-0.3440807587085995",
         "-0.1773927999499298",
         "-0.0887356271546816",
         "-0.3199386317987843",
         "0.7106300927001908",
         "1.5785219905537236",
         "-0.2359257201334838",
         "-0.1250185038462377",
         "-0.1504508377399057",
         "-0.3503458028287573",
         "-0.3340398363127391",
         "-0.3299345671608824",
         "-0.1756212691949282",
         "-0.440386011354037",
         "-0.1401342253882947",
         "0.3186608625385346",
         "-0.2330745223673331",
         "2.5301367851047107",
         "-0.3051438288793736",
         "-0.1008263866612258",
         "-0.046277838386424",
         "1.727586552005656",
         "-0.1839384251670629",
         "-0.098356056883721",
         "0.986723952106304",
         "-0.1350943625966243",
         "-0.3372898373286299",
         "-0.2292165875109371",
         "2.5488376594237145",
         "-0.1175193001616481",
         "-0.1009837047955174",
         "-0.2767046024847849",
         "4.232513042329005",
         "0.0696318410079684",
         "-0.2563952613474125",
         "-0.1570573627944026",
         "-0.2505353213131426",
         "0.0387644952057977",
         "-0.0939590115959096",
         "-0.4019263720467773",
         "-0.1723007360951478",
         "-0.360801350238528",
         "-0.5480424585529556",
         "0.6229209512312913",
         "-0.3964945100969037",
         "-0.188789855285949",
         "-0.1086557915802894",
         "-0.3160167309491816",
         "-0.1794921481616257",
         "0.3831588517969678",
         "-0.1396382351162504",
         "-0.0741317028092256",
         "-0.0736980002740775",
         "1.5023301188100675",
         "-0.2529469215090091",
         "-0.0961631782311452",
         "-0.1763798178713979",
         "0.7033239192976907",
         "-0.0667223420081422",
         "-0.1239870136132367",
         "-0.2038820115637153",
         "-0.1599975224184756",
         "-0.2718010390314536",
         "0.4990830158700711",
         "-0.440246800731789",
         "-0.2822842583139904",
         "-0.3457528717382863",
         "-0.2379963800498089",
         "-0.2933938544950201",
         "-0.1679286088257973",
         "-0.1524730112933025",
         "-0.1408255682572783",
         "-0.1526707690154438",
         "-0.1889677030674551",
         "0.0166303684871312",
         "-0.3777467608785616",
         "-0.0795878796749492",
         "-0.141407929294686",
         "-0.1432741758038599",
         "-0.4169056759924568",
         "-0.0877431544956844",
         "-0.1398048443304509",
         "-0.1930722703533081",
         "-0.1159564292890253",
         "-0.1265801729006582",
         "-0.0628837540275676",
         "-0.1110290651215432",
         "-0.0722491681653317",
         "4.045695353627992",
         "-0.181846762057083",
         "-0.2966626049177794",
         "-0.2124685864328349",
         "1.4054346489264646",
         "-0.2279242182239134",
         "-0.1997285013161332",
         "-0.0644965909849043",
         "-0.1160854511064935",
         "-0.1352910109004928",
         "-0.0636782095926218",
         "-0.0641311809856433",
         "-0.3737542735640404",
         "-0.191806617428794",
         "-0.1519546036334994",
         "-0.0984906664185979",
         "-0.1599886210075581",
         "-0.0978791608898442",
         "-0.1627343502660556",
         "-0.2357520870435256",
         "0.032289081442055",
         "-0.3832681098021911",
         "-0.1418867263937542",
         "-0.0718227144867014",
         "-0.1121711260638952",
         "-0.1569155956640014",
         "-0.0644396554651267",
         "1.3883679227772698",
         "-0.0802645066530763",
         "-0.3804121643534028",
         "-0.1615104590207394",
         "-0.0718332006802926",
         "-0.1987322750099616",
         "-0.0906274825967917",
         "-0.1409949062174001",
         "-0.1205587060244274",
         "-0.0512583973452811",
         "-0.1198195492427336",
         "-0.1574963784554152",
         "-0.1184076094725923",
         "-0.1411820914575879",
         "-0.1607251930925428",
         "-0.2226229869162158",
         "-0.0830361363418014",
         "-0.3217607780381019",
         "-0.0971076885302645",
         "-0.0965630694858896",
         "0.3333341978591633",
         "-0.3263665982938336",
         "-0.1374278526338656",
         "-0.1461048016554353",
         "-0.1351032894547363",
         "-0.176062173992542",
         "-0.1136904765432971",
         "-0.1798557904244455",
         "-0.1670085542088558",
         "-0.2201907998000714",
         "-0.1851454970019566",
         "-0.2608048792057335",
         "0.1567519061889839",
         "-0.2383327353411931",
         "-0.1518125472118487",
         "-0.0954147363765264",
         "-0.2300473787242473",
         "-0.1284160184169998",
         "-0.1274636447897815",
         "-0.1809082092979456",
         "-0.020802816901961",
         "-0.1959234600827903",
         "-0.1501070782284042",
         "-0.2455336848764999",
         "-0.2504081370883501",
         "2.214181223907196",
         "-0.3119765578855581",
         "-0.1214735186100739",
         "-0.1381181405165636",
         "-0.1584879026247711",
         "-0.1921139545602671",
         "-0.158214396443985",
         "0.119862353527037",
         "-0.4042165580480427",
         "-0.133023418025467",
         "-0.1637107945726361",
         "-0.1815106368279255",
         "-0.3444187663533383",
         "-0.1376992629306684",
         "-0.1453252095618302",
         "-0.52073331633938",
         "-0.0572000840945935",
         "-0.6207840714913484",
         "-0.1608442928481049",
         "-0.5900796226566152",
         "-0.0671666980483185",
         "-0.2573279277461459",
         "-0.3249134250240662",
         "-0.1611739616684726",
         "-0.1227397315670014",
         "-0.1830488899680096",
         "-0.1290515878560385",
         "-0.1439623202606598",
         "-0.1035924168305116",
         "-0.1245259079010936",
         "0.1136093967683379",
         "-0.2513996866648093",
         "-0.1019830524944808",
         "-0.1662590734223403",
         "-0.3051434204966509",
         "-0.1625248964043985",
         "-0.1865327945361035",
         "-0.3401634285855198",
         "-0.0962577048568871",
         "-0.1179734078556668",
         "-0.1858332145634549",
         "-0.1142250096865065",
         "-0.1314783864609398",
         "0.336518190756361",
         "0.6948856860460745",
         "-0.0662419151211762",
         "-0.1636337244569112",
         "-0.1118798112018435",
         "-0.0235181243844981",
         "-0.0765334001873215",
         "-0.1347666490799635",
         "-0.0742276297801367",
         "-0.0820880065707465",
         "-0.0904369930646661",
         "-0.0675042533718157",
         "0.9479722728720176",
         "-0.1667935591472326",
         "-0.1282027044978744",
         "-0.0696996065012251",
         "-0.1329860170655847",
         "-0.1330040215285443",
         "-0.1614470933502642",
         "-0.0912894625505143",
         "-0.1934791830045668",
         "-0.1175931791116777",
         "-0.0663248050491892",
         "-0.1959533057474116",
         "-0.3330144512857298",
         "-0.4380477288984598",
         "-0.1225753198508591",
         "-0.1636217975135131",
         "-0.3297143366006608",
         "-0.1020614410672044",
         "-0.4363787563193317",
         "-0.3636535278183848",
         "-0.4135250601253898",
         "-0.2044965491076735",
         "-0.212886581978089",
         "-0.0562838648861238",
         "-0.1010421960030261",
         "-0.2456254212811341",
         "-0.3311540970549232",
         "-0.1137249539742613",
         "-0.2197242950770923",
         "-0.2572143984503063",
         "-0.141618291408705",
         "-0.2390173704475183",
         "-0.1413730892291917",
         "-0.2367601411906318",
         "-0.1088623250358464",
         "-0.1265395658289946",
         "-0.1890199229398997",
         "-0.2385306350072622",
         "-0.0554502042358318",
         "-0.1209863250950963",
         "-0.0793345112485621",
         "-0.2560362180396485",
         "-0.1659055083290966",
         "-0.0712512335948892",
         "-0.2142573129967935",
         "-0.331287922102234",
         "-0.1718756454327644",
         "-0.3865060556280774",
         "-0.1773999519591216",
         "-0.1758220400234764",
         "-0.0836051295261976",
         "-0.1591365476267288",
         "-0.1883974928701264",
         "-0.0931858182795215",
         "-0.2138057333959223",
         "-0.2312780798512567",
         "-0.1280035658873973",
         "-0.2150776875170625",
         "-0.0657317992164761",
         "-0.2604267997308517",
         "-0.2166941956358997",
         "-0.1142172549471145",
         "0.788416224005093",
         "-0.3634510111822129",
         "-0.0639356851722451",
         "-0.1092713699572514",
         "0.0466805842134098",
         "-0.1630777353221987",
         "-0.1189183752103769",
         "-0.0850693643993576",
         "-0.2243392544470211",
         "-0.2485118396493188",
         "-0.1741233348089459",
         "-0.0757684968849518",
         "-0.2391528858858057",
         "-0.1346392150282225",
         "-0.0820211259621661",
         "-0.1091330613955802",
         "-0.1520341759763664",
         "-0.1108514701751796",
         "-0.1228667280080249",
         "-0.1704514681906117",
         "-0.1233111968174864",
         "-0.2624483340269002",
         "-0.1805704901853555",
         "-0.1031798416245797",
         "-0.1723560186367403",
         "-0.0745410247070842",
         "-0.1504427495009596",
         "-0.050509675837474",
         "-0.0808589902451882",
         "-0.1002084127135583",
         "-0.1091445477257399",
         "-0.0833441755014238",
         "-0.195633130640536",
         "-0.0661987672024321",
         "-0.0981324502262469",
         "0.8691472847465542",
         "-0.1711737249372314",
         "-0.138462907263318",
         "0.5094919900403558",
         "-0.0559327586721816",
         "-0.1475972761919731",
         "-0.1325067314947434",
         "0.6305981660471157",
         "-0.1489057919124241",
         "-0.2074669513275826",
         "-0.0680849695338116",
         "-0.1030162326228469",
         "-0.10310316012569",
         "-0.1964414596626918",
         "-0.0962076195900716",
         "-0.0777987692402986",
         "-0.1174296829372831",
         "-0.233216856233848",
         "-0.1899308256222155",
         "-0.1925659496615876",
         "-0.1607086704323637",
         "-0.1730600650348895",
         "-0.1067640987770947",
         "-0.099615421181253",
         "-0.2553880445644598",
         "-0.2580272738793564",
         "-0.1984297005843377",
         "2.3053366342428805",
         "-0.1538233181741638",
         "-0.1065393482933393",
         "-0.1778856391637307",
         "-0.1843570313139331",
         "-0.0630338748822451",
         "0"
        ],
        [
         "1",
         "-0.7463231031770722",
         "-0.4978817404036453",
         "0.1491926069063298",
         "-0.3182544420047152",
         "-0.6119749926411232",
         "-0.3372642033953327",
         "-0.5998257743162138",
         "0.0729580408533112",
         "-0.541309559304146",
         "2.875356595841048",
         "1.8902775121357356",
         "-0.235255848035706",
         "-0.3719909602639453",
         "-0.2459944630012073",
         "-0.2237941971534277",
         "-0.8504249115636643",
         "-0.0998303154250235",
         "0.1253073074563398",
         "-0.1634763620891076",
         "-0.1887126967847322",
         "-0.0885626208347551",
         "1.0718457234868333",
         "1.4094468831119082",
         "-0.3584907238384797",
         "-0.1347079018524121",
         "-0.1578481179448065",
         "0.82165698732515",
         "-0.2530213918804846",
         "-0.2344391368949215",
         "-0.196655081436788",
         "1.4650631487277694",
         "-0.1200109337380878",
         "-0.2332447795987539",
         "-0.427490259003327",
         "2.9055473970100523",
         "-0.2767906242637669",
         "-0.3477261941602572",
         "-0.2669768893160089",
         "-0.1010627536216376",
         "-0.1851003218893208",
         "-0.1787424394366063",
         "-0.3055209004106933",
         "-0.2742027381045116",
         "-0.3234213280366483",
         "-0.2553486850505579",
         "-0.3346763792284851",
         "-0.5507514547660503",
         "-0.2460548689506286",
         "-0.6885487131384205",
         "2.775171108686935",
         "-0.0391825629714566",
         "-0.0708849855166044",
         "-0.1453424130421062",
         "-0.2806207133370622",
         "-0.4273361531282564",
         "-0.4293910483267707",
         "0.0271901542888273",
         "-0.5480100797378744",
         "0.0031179153222245",
         "-0.2179200689930312",
         "-0.4072930089096305",
         "-0.2096296151997556",
         "0.0767810899080109",
         "-0.0419935701175504",
         "-0.1657134884045845",
         "1.5786852842424652",
         "-0.3619992903094015",
         "-0.1125302101089365",
         "0.001576345237516",
         "-0.3524066655494445",
         "-0.0733783499858883",
         "0.5400567698931826",
         "-0.0245575623919811",
         "-0.326037061772613",
         "0.0150958103802426",
         "-0.4634600544793779",
         "-0.1230120929761263",
         "1.5544652236175314",
         "-0.299721522648439",
         "-0.1551047752113686",
         "-0.2159235225665126",
         "-0.3026936928457344",
         "-0.0450261639044168",
         "0.7335511624731981",
         "-0.0964258073834186",
         "-0.2462008062577763",
         "-0.2874655592345314",
         "-0.1885807602514393",
         "-0.258261122920282",
         "-0.1046835931971152",
         "-0.3594489649107626",
         "-0.4956209644534938",
         "-0.3171725151664222",
         "0.1547982145862418",
         "-0.3135777503429092",
         "-0.2461834769827321",
         "-0.3836965586957462",
         "-0.1770871337114884",
         "-0.2017590438278299",
         "-0.145998245785772",
         "-0.2589547751607369",
         "1.0796705933334647",
         "-0.0969333354201702",
         "0.7023468282503719",
         "-0.4250081110749953",
         "-0.1359679186988969",
         "-0.2888761060247852",
         "-0.3257478215828526",
         "-0.3524228179890472",
         "-0.1582473072513618",
         "0.395867040761763",
         "-0.1575980456763917",
         "-0.57380852192605",
         "-0.1739772495368944",
         "-0.070942749661467",
         "-0.325126563461994",
         "1.0186330798364305",
         "-0.1208994704805664",
         "-0.1116989492439999",
         "-0.0345759579075483",
         "-0.1072248116442704",
         "0.2941202577909726",
         "0.9560113207291072",
         "-0.0587283662367974",
         "-0.0710302537154232",
         "-0.0474793520728926",
         "-0.1221964724185238",
         "-0.3653424867377042",
         "-0.1920155787330218",
         "-0.2276569702725599",
         "-0.0777068200569904",
         "-0.1407761979059999",
         "0.7722623595831863",
         "-0.1414208301740885",
         "-0.0971334447523409",
         "-0.0835726736692099",
         "-0.2033924500870615",
         "0.2620068173542971",
         "-0.1020772070775476",
         "-0.0933750276798123",
         "-0.1363168176624717",
         "-0.0798746299345135",
         "-0.0829926749024662",
         "-0.1928652915647107",
         "-0.5357651368933245",
         "11.114158491130995",
         "-0.1543289268043449",
         "-0.3282500628288096",
         "0.8842970516945889",
         "-0.0488290525795516",
         "-0.1694741696540943",
         "0.3761681332028365",
         "-0.0937729572347806",
         "0.1843858798223606",
         "-0.1888935510768079",
         "-0.1008803354148199",
         "-0.1727819010287652",
         "2.103235126243624",
         "-0.1426867381823439",
         "-0.1531438510701566",
         "-0.2477666631986408",
         "-0.1784122692205594",
         "-0.0935173010362205",
         "-0.1024442209478308",
         "-0.1658161729475714",
         "-0.3137243499212618",
         "-0.3198290023598517",
         "-0.3108924388062856",
         "-0.1652065413505404",
         "-0.2688860095549478",
         "-0.1543877437051552",
         "-0.3286945439550051",
         "0.5850469017154284",
         "-0.0390282961473507",
         "-0.0572378954850287",
         "-0.2216737092367827",
         "-0.1482894977784458",
         "-0.2346023892658751",
         "-0.0179764837330377",
         "-0.1041307798269378",
         "0.9110007043321858",
         "0.0277274431239366",
         "-0.2076224522218365",
         "-0.1432798214908008",
         "-0.1826550028268171",
         "-0.030399529779389",
         "-0.1923175081091461",
         "-0.0325986879721634",
         "-0.1236471921412773",
         "-0.1404545730568638",
         "-0.1103354806370398",
         "-0.3462365728273379",
         "-0.0450710700563439",
         "-0.102962043150785",
         "-0.1309592804703161",
         "-0.2004443930703117",
         "0.5360890567643659",
         "0.449861275966486",
         "-0.1523578485791167",
         "-0.2114165850784899",
         "-0.4593876708722865",
         "-0.3492405425757719",
         "-0.0575984337768594",
         "-0.1429628708281641",
         "-0.1335081632578776",
         "-0.1585400964011262",
         "0.3904608849895206",
         "-0.0530267019746557",
         "-0.2794758166548876",
         "-0.1824941601998862",
         "-0.2105976744103798",
         "-0.3440807587085995",
         "-0.1773927999499298",
         "-0.0993871877622147",
         "-0.3199386317987843",
         "0.0565025976334057",
         "-0.3036323701582756",
         "0.9462357022334692",
         "-0.1250185038462377",
         "-0.1504508377399057",
         "-0.3503458028287573",
         "-0.1941219643179533",
         "-0.1271595333383417",
         "-0.1756212691949282",
         "-0.098412611272441",
         "-0.1401342253882947",
         "0.9812744291055394",
         "-0.2008044571843175",
         "0.0946111456471504",
         "-0.3051438288793736",
         "-0.1008263866612258",
         "-0.0539794114535035",
         "-0.2529984928136088",
         "-0.1839384251670629",
         "-0.1796649044675014",
         "-0.3463013335015264",
         "-0.1350943625966243",
         "-0.3372898373286299",
         "-0.2338023722260485",
         "-0.5272053272466622",
         "-0.1175193001616481",
         "-0.1009837047955174",
         "-0.2767046024847849",
         "-0.4979362063874685",
         "-0.3081392144872863",
         "-0.2563952613474125",
         "-0.1570573627944026",
         "-0.2505353213131426",
         "0.6802665525240494",
         "-0.0483277142438986",
         "-0.4019263720467773",
         "-0.1723007360951478",
         "-0.360801350238528",
         "-0.5480424585529556",
         "-0.1890827415280302",
         "-0.3964945100969037",
         "-0.2152638292756374",
         "-0.101453888180733",
         "-0.3160167309491816",
         "-0.1794921481616257",
         "0.9913200401421518",
         "-0.1396382351162504",
         "-0.0741317028092256",
         "-0.1449095143330164",
         "-0.2551646891892711",
         "-0.2529469215090091",
         "-0.0961631782311452",
         "-0.1763798178713979",
         "1.0098199653345592",
         "-0.0667223420081422",
         "0.4481756513872988",
         "-0.2037023400582909",
         "1.924418414804795",
         "-0.0844331241913373",
         "0.6645919716123001",
         "-0.440246800731789",
         "4.067777245011632",
         "2.096749649755742",
         "1.8940599353366712",
         "-0.2933938544950201",
         "-0.1679286088257973",
         "-0.1474488581656609",
         "-0.1408255682572783",
         "-0.1526707690154438",
         "-0.1889677030674551",
         "-0.1543511023816059",
         "2.823806394954957",
         "-0.0795878796749492",
         "-0.141407929294686",
         "-0.1432741758038599",
         "1.5019600105279312",
         "-0.0877431544956844",
         "-0.1398048443304509",
         "-0.1930722703533081",
         "-0.1159564292890253",
         "-0.1265801729006582",
         "-0.1148671924928998",
         "-0.1110290651215432",
         "-0.0722491681653317",
         "-0.2996050502854123",
         "-0.181846762057083",
         "-0.2966626049177794",
         "-0.2124685864328349",
         "0.5176944726464306",
         "-0.0987615294666187",
         "-0.1997285013161332",
         "-0.0644965909849043",
         "-0.1160854511064935",
         "-0.1352910109004928",
         "-0.0636782095926218",
         "-0.0641311809856433",
         "1.6348405493179523",
         "-0.191806617428794",
         "-0.1519546036334994",
         "-0.0984906664185979",
         "4.196786712892944",
         "-0.0795743114702212",
         "-0.1627343502660556",
         "0.92590794916698",
         "1.0581734495262578",
         "-0.3832681098021911",
         "-0.1418867263937542",
         "-0.0718227144867014",
         "0.3564592575844336",
         "1.269438984679492",
         "-0.0455053628790167",
         "-0.2513815310039747",
         "-0.0802645066530763",
         "-0.3804121643534028",
         "-0.0090646257336138",
         "-0.0718332006802926",
         "-0.1987322750099616",
         "-0.0906274825967917",
         "-0.1409949062174001",
         "-0.1205587060244274",
         "-0.0512583973452811",
         "-0.1198195492427336",
         "-0.1574963784554152",
         "0.3669530869053553",
         "-0.1201942929595255",
         "-0.1607251930925428",
         "-0.2226229869162158",
         "-0.0830361363418014",
         "-0.3217607780381019",
         "0.0577145128841596",
         "-0.0965630694858896",
         "-0.1226623209942535",
         "-0.3263665982938336",
         "-0.1374278526338656",
         "-0.1461048016554353",
         "-0.1351032894547363",
         "-0.176062173992542",
         "-0.1136904765432971",
         "-0.1798557904244455",
         "-0.1670085542088558",
         "-0.2201907998000714",
         "-0.1390612887737701",
         "-0.2608048792057335",
         "-0.1185152906589259",
         "-0.2383327353411931",
         "-0.1518125472118487",
         "-0.0954147363765264",
         "1.70551511863508",
         "-0.0120345342584953",
         "-0.1274636447897815",
         "-0.212469824366158",
         "-0.1413726760033881",
         "0.1828234037925161",
         "-0.1501070782284042",
         "1.2143078506948983",
         "-0.2504081370883501",
         "0.9478214379660036",
         "-0.3119765578855581",
         "-0.1214735186100739",
         "-0.0497601868963178",
         "-0.1584879026247711",
         "-0.1921139545602671",
         "-0.158214396443985",
         "-0.1390520919005786",
         "-0.4042165580480427",
         "-0.133023418025467",
         "-0.1637107945726361",
         "0.0179984831152307",
         "-0.13405192245948",
         "-0.1376992629306684",
         "1.041784813671048",
         "-0.52073331633938",
         "-0.0572000840945935",
         "-0.6207840714913484",
         "-0.1608442928481049",
         "-0.5900796226566152",
         "-0.0671666980483185",
         "-0.2573279277461459",
         "-0.3249134250240662",
         "-0.1611739616684726",
         "-0.1227397315670014",
         "-0.0986938202502627",
         "-0.1290515878560385",
         "-0.1439623202606598",
         "-0.1035924168305116",
         "-0.1245259079010936",
         "-0.1375410756104851",
         "-0.2513996866648093",
         "-0.1019830524944808",
         "1.8351633788361688",
         "-0.3051434204966509",
         "-0.1625248964043985",
         "-0.1865327945361035",
         "-0.3401634285855198",
         "-0.0962577048568871",
         "-0.1179734078556668",
         "-0.1858332145634549",
         "-0.1142250096865065",
         "-0.1314783864609398",
         "-0.1856876007291001",
         "-0.1737183702193989",
         "-0.0662419151211762",
         "-0.1636337244569112",
         "-0.1118798112018435",
         "-0.1413321062352619",
         "-0.0765334001873215",
         "-0.1347666490799635",
         "-0.0742276297801367",
         "-0.0820880065707465",
         "0.0158436168280613",
         "-0.0675042533718157",
         "-0.1044825632924623",
         "-0.1667935591472326",
         "-0.1282027044978744",
         "-0.0696996065012251",
         "-0.1329860170655847",
         "-0.1330040215285443",
         "-0.1614470933502642",
         "-0.0912894625505143",
         "-0.1934791830045668",
         "-0.1175931791116777",
         "-0.0730247573810529",
         "-0.1959533057474116",
         "-0.3330144512857298",
         "-0.4380477288984598",
         "0.0256837874684348",
         "-0.1636217975135131",
         "-0.3297143366006608",
         "-0.1020614410672044",
         "-0.4363787563193317",
         "1.2696896863437157",
         "-0.4135250601253898",
         "-0.2044965491076735",
         "7.217254514099646",
         "-0.0190281746092467",
         "-0.1010421960030261",
         "-0.2456254212811341",
         "1.2548117929288471",
         "-0.1137249539742613",
         "-0.2197242950770923",
         "-0.2572143984503063",
         "-0.141618291408705",
         "-0.2390173704475183",
         "-0.1413730892291917",
         "-0.2367601411906318",
         "-0.1088623250358464",
         "0.0522879541104538",
         "-0.1890199229398997",
         "0.8403140592428926",
         "-0.0554502042358318",
         "-0.1209863250950963",
         "-0.0793345112485621",
         "-0.2560362180396485",
         "-0.1659055083290966",
         "-0.0712512335948892",
         "-0.2142573129967935",
         "7.17123154076646",
         "-0.1718756454327644",
         "0.95545517725431",
         "-0.1773999519591216",
         "-0.1758220400234764",
         "-0.0836051295261976",
         "0.2114110159807677",
         "-0.1883974928701264",
         "-0.0931858182795215",
         "-0.2138057333959223",
         "0.34667127831885",
         "-0.1280035658873973",
         "-0.2150776875170625",
         "-0.0245490954393567",
         "-0.2604267997308517",
         "-0.2166941956358997",
         "-0.1142172549471145",
         "-0.2442532753081508",
         "-0.3634510111822129",
         "-0.0639356851722451",
         "-0.1092713699572514",
         "-0.0693537278201792",
         "-0.1630777353221987",
         "-0.1189183752103769",
         "-0.0850693643993576",
         "-0.2243392544470211",
         "-0.2485118396493188",
         "-0.1741233348089459",
         "-0.0757684968849518",
         "-0.2391528858858057",
         "-0.1346392150282225",
         "-0.0820211259621661",
         "-0.1091330613955802",
         "-0.1520341759763664",
         "-0.1108514701751796",
         "-0.1228667280080249",
         "-0.1704514681906117",
         "-0.1233111968174864",
         "-0.2624483340269002",
         "-0.1805704901853555",
         "-0.1031798416245797",
         "-0.1723560186367403",
         "-0.0745410247070842",
         "-0.1504427495009596",
         "-0.050509675837474",
         "-0.0808589902451882",
         "-0.1002084127135583",
         "-0.1091445477257399",
         "-0.0833441755014238",
         "-0.195633130640536",
         "-0.0661987672024321",
         "-0.0981324502262469",
         "-0.1330071206344865",
         "-0.1711737249372314",
         "-0.138462907263318",
         "-0.148350973021465",
         "-0.0559327586721816",
         "-0.1475972761919731",
         "-0.1325067314947434",
         "-0.1054973081060808",
         "-0.1489057919124241",
         "-0.2074669513275826",
         "-0.0680849695338116",
         "-0.1030162326228469",
         "-0.10310316012569",
         "-0.1964414596626918",
         "-0.0962076195900716",
         "-0.0777987692402986",
         "-0.1174296829372831",
         "-0.233216856233848",
         "-0.1899308256222155",
         "-0.1925659496615876",
         "-0.1607086704323637",
         "-0.1730600650348895",
         "-0.1067640987770947",
         "-0.099615421181253",
         "-0.2553880445644598",
         "-0.2580272738793564",
         "-0.1984297005843377",
         "-0.2091761558832325",
         "-0.1538233181741638",
         "-0.1065393482933393",
         "-0.1778856391637307",
         "-0.1843570313139331",
         "-0.077118090819235",
         "1"
        ],
        [
         "2",
         "0.4912254519062156",
         "0.3207828046404947",
         "-0.6686814921659399",
         "-0.1399879042878303",
         "-0.220984553705793",
         "-0.2933348280504042",
         "3.686424714720063",
         "-0.3171743668876124",
         "-0.2163649746811747",
         "-0.2573362509966704",
         "-0.9231900749927022",
         "-0.2096959517965946",
         "-0.7069301063124531",
         "-0.368204944304738",
         "0.1920277058792036",
         "-0.3967475095231664",
         "1.4277166634920777",
         "-0.298359137913437",
         "0.2815309946702145",
         "-0.243290439378921",
         "-0.087859549538474",
         "-0.5927971244123027",
         "0.5451500700086721",
         "-0.4239868311806712",
         "0.4221132098294055",
         "-0.3774907798116197",
         "2.328335123411968",
         "0.1977367786475823",
         "-0.1750534883620461",
         "-0.1704146965661779",
         "-0.3625903120563226",
         "-0.0059672530897498",
         "-0.1201990255592669",
         "1.6449380519264245",
         "-0.6237096181696744",
         "-0.407513522336951",
         "-0.1043561780944711",
         "-0.2455715901674619",
         "-0.0684391013694595",
         "-0.1851003218893208",
         "-0.1354658692685282",
         "-0.1435521748828808",
         "-0.2258385793086576",
         "-0.4143723166724901",
         "-0.188152446076749",
         "-0.3323300099943232",
         "0.2188666653763363",
         "-0.0558769457135826",
         "4.389704841223397",
         "-0.3183579732816282",
         "-0.1142983426731611",
         "-0.2759329332088716",
         "-0.2203011628042388",
         "-0.0516252461068911",
         "-0.4273361531282564",
         "-0.2216060431902158",
         "-0.2709896126893442",
         "-0.1489034540012012",
         "-0.4294178796137203",
         "-0.2927466471258292",
         "-0.3947540753266532",
         "0.4921878644962147",
         "0.4337075952564539",
         "-0.3302360457093254",
         "-0.1651088597715014",
         "-0.445195836900239",
         "-0.017122524970638",
         "-0.5897620516846871",
         "-0.4727261481049566",
         "-0.0899481294041253",
         "-0.1371677971211193",
         "-0.5526626070600162",
         "-0.1866817493482758",
         "0.3419596892215368",
         "0.1394925875424912",
         "0.9615922839738414",
         "-0.1230120929761263",
         "-0.0718317736656887",
         "-0.2867632485153656",
         "-0.1551047752113686",
         "-0.2159235225665126",
         "-0.3026936928457344",
         "-0.3013709148191826",
         "-0.1828901520658054",
         "-0.0964258073834186",
         "-0.1962130488933892",
         "-0.2418102996516641",
         "-0.0360418530538268",
         "-0.3171552348230109",
         "-0.1046835931971152",
         "-0.3594489649107626",
         "-0.0121958099473044",
         "-0.3171725151664222",
         "-0.1451082652627468",
         "0.1196583542816034",
         "-0.2461834769827321",
         "-0.3836965586957462",
         "-0.2149605224680679",
         "-0.2017590438278299",
         "-0.1222401754647564",
         "-0.2589547751607369",
         "-0.5581530744323284",
         "-0.0969333354201702",
         "-0.4188777442028134",
         "-0.2365753266643997",
         "-0.1359679186988969",
         "-0.2888761060247852",
         "-0.3422448031002289",
         "-0.3524228179890472",
         "-0.1582473072513618",
         "-0.2208739747440874",
         "-0.1861843169853845",
         "-0.5129852344383822",
         "-0.1739772495368944",
         "-0.070942749661467",
         "-0.2876016306723152",
         "-0.2962052978784417",
         "-0.2061590430203975",
         "-0.1116989492439999",
         "-0.2981342257964042",
         "-0.1072248116442704",
         "-0.196445165572857",
         "-0.2379519255833901",
         "-0.0587283662367974",
         "-0.0710302537154232",
         "-0.1152301282200014",
         "-0.1320870587116467",
         "-0.2833275059673223",
         "-0.1882833842878963",
         "-0.7824889921095608",
         "-0.0777068200569904",
         "-0.0335744644365192",
         "-0.548976488466837",
         "-0.1414208301740885",
         "-0.4142607059115523",
         "-0.1336845831800574",
         "-0.4445860587302179",
         "-0.1040928801591332",
         "-0.1203491932043672",
         "-0.1258361229768905",
         "-0.1449209632128007",
         "-0.0977527514408528",
         "-0.114521955779201",
         "-0.1928652915647107",
         "6.012705702008308",
         "-0.282274455518921",
         "-0.1603309895075238",
         "-0.3282500628288096",
         "-0.1611412108698985",
         "-0.0488290525795516",
         "-0.1694741696540943",
         "-0.3441082484771883",
         "-0.0972361722066674",
         "-0.2786297572752015",
         "-0.1888935510768079",
         "-0.1008803354148199",
         "-0.1727819010287652",
         "-0.3375798114298783",
         "-0.1426867381823439",
         "-0.1531438510701566",
         "-0.1552854887938909",
         "-0.2368861736338631",
         "-0.0960516682545754",
         "-0.1024442209478308",
         "-0.1658161729475714",
         "-0.3137243499212618",
         "-0.1166778510819487",
         "0.2847755887584978",
         "-0.1183383006462396",
         "-0.2688860095549478",
         "-0.1543877437051552",
         "-0.3286945439550051",
         "-0.3687490486973102",
         "-0.0846347106475672",
         "-0.0572378954850287",
         "-0.0966091057387483",
         "-0.1482894977784458",
         "-0.4703139105458676",
         "-0.3391942355237024",
         "-0.1298752932416675",
         "-0.4182608582596396",
         "-0.5554355171335609",
         "-0.257369429535527",
         "-0.1432798214908008",
         "-0.1826550028268171",
         "-0.2058453662700178",
         "-0.259635343061935",
         "-0.2323864808648647",
         "-0.0710730903731299",
         "-0.1404545730568638",
         "-0.0837494617183148",
         "0.1162123616710521",
         "-0.4144170380569529",
         "-0.1729600601192441",
         "-0.1309592804703161",
         "-0.2004443930703117",
         "-0.3729080550196052",
         "-0.3597727269592524",
         "-0.1641366895023071",
         "-0.2114165850784899",
         "-0.4593876708722865",
         "-0.3492405425757719",
         "-0.3557585843309347",
         "-0.1429628708281641",
         "-0.3293968315644103",
         "-0.1585400964011262",
         "-0.3400398947244831",
         "-0.0530267019746557",
         "0.3668584940230179",
         "-0.2338447136687144",
         "-0.1253953468216069",
         "-0.3440807587085995",
         "-0.1332700659410778",
         "-0.0993871877622147",
         "-0.3199386317987843",
         "-0.1528790323067984",
         "-0.3036323701582756",
         "-0.2359257201334838",
         "-0.1250185038462377",
         "-0.1504508377399057",
         "-0.3503458028287573",
         "-0.3340398363127391",
         "-0.5821646876995724",
         "-0.1756212691949282",
         "-0.3109997937575194",
         "2.876159971393624",
         "-0.3188616312259495",
         "-0.2330745223673331",
         "-0.0571902591642736",
         "-0.1964036555648358",
         "-0.1008263866612258",
         "-0.0510081563803781",
         "-0.2529984928136088",
         "-0.1839384251670629",
         "-0.1796649044675014",
         "-0.3067413808059012",
         "-0.1350943625966243",
         "-0.3372898373286299",
         "-0.2338023722260485",
         "-0.3208180043047927",
         "-0.1175193001616481",
         "-0.1009837047955174",
         "-0.1381941032469726",
         "-0.4018835539468943",
         "-0.3081392144872863",
         "-0.2563952613474125",
         "-0.0667314993373729",
         "-0.2505353213131426",
         "-0.5784417051021749",
         "-0.0939590115959096",
         "-0.4019263720467773",
         "-0.1723007360951478",
         "-0.360801350238528",
         "-0.5480424585529556",
         "-0.1890827415280302",
         "-0.3964945100969037",
         "-0.2152638292756374",
         "-0.1059309391790741",
         "-0.3160167309491816",
         "-0.1794921481616257",
         "-0.3850504346616036",
         "-0.1396382351162504",
         "-0.0741317028092256",
         "-0.1449095143330164",
         "-0.5350537009294798",
         "-0.2529469215090091",
         "-0.0961631782311452",
         "-0.1763798178713979",
         "-0.412805995795492",
         "-0.0667223420081422",
         "-0.1239870136132367",
         "-0.2024452017434299",
         "-0.1599975224184756",
         "-0.2718010390314536",
         "-0.3737164538297814",
         "-0.440246800731789",
         "-0.2822842583139904",
         "-0.3457528717382863",
         "2.450885960400965",
         "-0.2933938544950201",
         "-0.1510731320034187",
         "-0.1524730112933025",
         "-0.0441749350560683",
         "-0.1526707690154438",
         "-0.1889677030674551",
         "-0.1279654383980157",
         "0.2279097801983975",
         "-0.0795878796749492",
         "-0.141407929294686",
         "-0.1432741758038599",
         "-0.4169056759924568",
         "-0.0877431544956844",
         "-0.1398048443304509",
         "-0.1930722703533081",
         "-0.1159564292890253",
         "-0.1265801729006582",
         "-0.1148671924928998",
         "-0.1110290651215432",
         "-0.0722491681653317",
         "-0.2996050502854123",
         "-0.181846762057083",
         "-0.2966626049177794",
         "-0.2124685864328349",
         "-0.4056859830556486",
         "-0.2279242182239134",
         "-0.1997285013161332",
         "-0.0644965909849043",
         "-0.0949554692304631",
         "-0.1352910109004928",
         "-0.0636782095926218",
         "-0.0641311809856433",
         "-0.3737542735640404",
         "-0.191806617428794",
         "-0.1208236504024492",
         "-0.0984906664185979",
         "-0.1817193576688675",
         "-0.0909534899765108",
         "-0.1627343502660556",
         "-0.2357520870435256",
         "-0.3787127000725271",
         "-0.3832681098021911",
         "-0.1418867263937542",
         "-0.0718227144867014",
         "-0.1121711260638952",
         "-0.1569155956640014",
         "-0.0644396554651267",
         "-0.2513815310039747",
         "-0.0802645066530763",
         "-0.3804121643534028",
         "-0.1615104590207394",
         "-0.0718332006802926",
         "-0.0247075086018008",
         "-0.0798920500408228",
         "-0.1409949062174001",
         "-0.1205587060244274",
         "-0.0512583973452811",
         "-0.1198195492427336",
         "-0.1574963784554152",
         "-0.1184076094725923",
         "-0.1411820914575879",
         "-0.1607251930925428",
         "-0.2226229869162158",
         "-0.0830361363418014",
         "-0.3217607780381019",
         "-0.0971076885302645",
         "-0.0965630694858896",
         "-0.1692511513621631",
         "0.5864879036164216",
         "-0.1374278526338656",
         "-0.1461048016554353",
         "-0.1351032894547363",
         "-0.176062173992542",
         "-0.1136904765432971",
         "-0.1798557904244455",
         "-0.1670085542088558",
         "-0.2201907998000714",
         "0.2158835112497805",
         "-0.2608048792057335",
         "-0.1185152906589259",
         "0.1165347990119286",
         "-0.1518125472118487",
         "-0.0954147363765264",
         "-0.2192779175014791",
         "-0.1284160184169998",
         "-0.1274636447897815",
         "-0.212469824366158",
         "-0.1413726760033881",
         "-0.1959234600827903",
         "-0.1501070782284042",
         "-0.2455336848764999",
         "-0.2504081370883501",
         "-0.3693791433179331",
         "0.0056641087499869",
         "-0.1214735186100739",
         "-0.2231296789813342",
         "-0.1584879026247711",
         "-0.1921139545602671",
         "-0.158214396443985",
         "-0.1390520919005786",
         "-0.4042165580480427",
         "-0.1168306586870411",
         "-0.1637107945726361",
         "-0.1815106368279255",
         "-0.3444187663533383",
         "-0.1376992629306684",
         "-0.1453252095618302",
         "0.5576356783511052",
         "-0.0572000840945935",
         "-0.6207840714913484",
         "-0.1608442928481049",
         "-0.5900796226566152",
         "-0.0671666980483185",
         "-0.2573279277461459",
         "-0.3249134250240662",
         "-0.1611739616684726",
         "-0.1227397315670014",
         "-0.1830488899680096",
         "-0.1290515878560385",
         "0.1626043220665433",
         "-0.1035924168305116",
         "-0.1245259079010936",
         "-0.1324413951969472",
         "-0.2513996866648093",
         "-0.1019830524944808",
         "-0.1662590734223403",
         "-0.3051434204966509",
         "-0.1625248964043985",
         "-0.1865327945361035",
         "-0.3401634285855198",
         "-0.0962577048568871",
         "-0.11683435763502",
         "-0.1858332145634549",
         "-0.1142250096865065",
         "-0.1314783864609398",
         "-0.0690507001155027",
         "-0.0061651684741103",
         "-0.0662419151211762",
         "-0.1636337244569112",
         "-0.1118798112018435",
         "-0.1413321062352619",
         "-0.0463440925959318",
         "-0.1347666490799635",
         "-0.0742276297801367",
         "-0.0820880065707465",
         "-0.0904369930646661",
         "-0.0675042533718157",
         "-0.1044825632924623",
         "-0.1667935591472326",
         "-0.1282027044978744",
         "-0.0696996065012251",
         "-0.1329860170655847",
         "-0.1330040215285443",
         "-0.1614470933502642",
         "-0.0912894625505143",
         "-0.1934791830045668",
         "-0.1175931791116777",
         "-0.0730247573810529",
         "-0.1959533057474116",
         "-0.3330144512857298",
         "-0.4380477288984598",
         "-0.1225753198508591",
         "-0.1636217975135131",
         "-0.3297143366006608",
         "-0.1020614410672044",
         "-0.4363787563193317",
         "-0.3636535278183848",
         "-0.4135250601253898",
         "-0.2044965491076735",
         "-0.212886581978089",
         "-0.0562838648861238",
         "-0.1010421960030261",
         "-0.2456254212811341",
         "-0.3311540970549232",
         "-0.1137249539742613",
         "-0.2197242950770923",
         "-0.2572143984503063",
         "-0.141618291408705",
         "-0.2390173704475183",
         "-0.1309331528471391",
         "-0.2367601411906318",
         "-0.1088623250358464",
         "-0.1265395658289946",
         "-0.1890199229398997",
         "-0.2385306350072622",
         "-0.0554502042358318",
         "-0.1209863250950963",
         "-0.0793345112485621",
         "-0.2560362180396485",
         "-0.1659055083290966",
         "-0.0712512335948892",
         "-0.2142573129967935",
         "-0.331287922102234",
         "-0.1718756454327644",
         "-0.3865060556280774",
         "-0.1773999519591216",
         "-0.1758220400234764",
         "-0.0836051295261976",
         "-0.1591365476267288",
         "-0.1883974928701264",
         "-0.0931858182795215",
         "-0.2138057333959223",
         "-0.2312780798512567",
         "-0.1280035658873973",
         "-0.2150776875170625",
         "-0.0657317992164761",
         "-0.2604267997308517",
         "-0.2166941956358997",
         "-0.1142172549471145",
         "-0.2442532753081508",
         "-0.3634510111822129",
         "-0.0639356851722451",
         "-0.1092713699572514",
         "-0.0693537278201792",
         "-0.1630777353221987",
         "-0.1189183752103769",
         "-0.0850693643993576",
         "-0.2243392544470211",
         "-0.2485118396493188",
         "-0.1741233348089459",
         "-0.0757684968849518",
         "-0.2391528858858057",
         "-0.1346392150282225",
         "-0.0820211259621661",
         "-0.1091330613955802",
         "-0.1520341759763664",
         "-0.1108514701751796",
         "-0.1228667280080249",
         "-0.1704514681906117",
         "-0.1233111968174864",
         "-0.2624483340269002",
         "-0.1805704901853555",
         "-0.1031798416245797",
         "-0.1723560186367403",
         "-0.0745410247070842",
         "-0.1504427495009596",
         "-0.050509675837474",
         "-0.0808589902451882",
         "-0.1002084127135583",
         "-0.1091445477257399",
         "-0.0833441755014238",
         "-0.195633130640536",
         "-0.0661987672024321",
         "-0.0981324502262469",
         "-0.1330071206344865",
         "-0.1711737249372314",
         "-0.138462907263318",
         "-0.148350973021465",
         "-0.0559327586721816",
         "-0.1475972761919731",
         "-0.1325067314947434",
         "-0.1054973081060808",
         "-0.1489057919124241",
         "-0.2074669513275826",
         "-0.0680849695338116",
         "-0.1030162326228469",
         "-0.10310316012569",
         "-0.1964414596626918",
         "-0.0962076195900716",
         "-0.0777987692402986",
         "-0.1174296829372831",
         "-0.233216856233848",
         "0.9414142320174176",
         "-0.1925659496615876",
         "-0.1607086704323637",
         "-0.1730600650348895",
         "-0.0872294363119737",
         "-0.099615421181253",
         "-0.2553880445644598",
         "-0.2580272738793564",
         "-0.1984297005843377",
         "-0.2091761558832325",
         "-0.1538233181741638",
         "-0.1065393482933393",
         "-0.1778856391637307",
         "0.3293585437037713",
         "-0.077118090819235",
         "0"
        ],
        [
         "3",
         "0.2346044052237199",
         "-0.3411338974251335",
         "-0.5473743063777454",
         "-0.3087038799229017",
         "0.0889723468813109",
         "-0.3883652431697167",
         "0.0772323684160048",
         "1.9874423852670164",
         "-0.4756237784629599",
         "-0.2627699759030136",
         "-0.8869852913481826",
         "0.0492992386894129",
         "-0.6322720121766516",
         "-0.368204944304738",
         "-0.4957830547679083",
         "-0.5229463243141197",
         "1.0260111760740112",
         "-0.3018727023837265",
         "-0.4058311565505476",
         "-0.2333225974329257",
         "-0.4682106251244064",
         "3.4123554185300127",
         "-0.1205279974409374",
         "0.3742037972497491",
         "0.2818884276163503",
         "0.3584312243824541",
         "-0.364599992483393",
         "0.5290348823565993",
         "-0.0990757140680526",
         "-0.3909564412090379",
         "-0.2723513480083837",
         "-0.1408393456411915",
         "-0.0536263738668127",
         "-0.204803188851748",
         "-0.535514614404144",
         "-0.407513522336951",
         "-0.2492030708190483",
         "-0.2669768893160089",
         "0.995388547483556",
         "-0.1851003218893208",
         "-0.1416160054809331",
         "2.106440870692142",
         "-0.2749877596636686",
         "0.5896059833845693",
         "-0.1646719983927398",
         "-0.3338164212260851",
         "-0.3776604295508553",
         "4.979294844438963",
         "0.2772253995133399",
         "-0.2775105643646928",
         "-0.0927259315250261",
         "-0.2026503871432406",
         "0.0667300553901961",
         "2.3839644840561127",
         "-0.4273361531282564",
         "0.0290521650962657",
         "0.0279360472973283",
         "0.2598386427423614",
         "-0.3973424509297448",
         "-0.2244767601397336",
         "0.1434661351277263",
         "-0.3552418266323129",
         "0.1498616262173217",
         "-0.3481787176326246",
         "-0.1620419293701337",
         "1.769043621229728",
         "0.5687754930344674",
         "-0.5869970518023647",
         "-0.3609602057665859",
         "1.7726114133934692",
         "-0.1371677971211193",
         "-0.2218987767929191",
         "-0.0559855779280307",
         "0.3500269201084013",
         "0.2190842387161649",
         "1.6560460342743764",
         "-0.1230120929761263",
         "-0.26894281407304",
         "-0.299721522648439",
         "1.5043785214919043",
         "-0.2159235225665126",
         "-0.0029564656316408",
         "-0.3013709148191826",
         "-0.1746386802836479",
         "-0.0888390127325643",
         "1.9347990551929528",
         "-0.2285942760758128",
         "-0.1580617494335709",
         "3.123288954105139",
         "-0.1046835931971152",
         "-0.3594489649107626",
         "0.156727915887127",
         "-0.3171725151664222",
         "-0.1451082652627468",
         "-0.3135777503429092",
         "-0.2461834769827321",
         "0.6859193056254953",
         "-0.2149605224680679",
         "-0.2017590438278299",
         "-0.001729263214714",
         "-0.0348831733585491",
         "0.0690005587836566",
         "-0.0969333354201702",
         "-0.4198862945048997",
         "-0.0435932852035498",
         "-0.1359679186988969",
         "-0.2888761060247852",
         "0.1883830220230513",
         "-0.3524228179890472",
         "-0.1561840082976892",
         "-0.2208739747440874",
         "-0.1861843169853845",
         "-0.5489748682773928",
         "-0.1739772495368944",
         "-0.070942749661467",
         "-0.0718717820877037",
         "-0.3367816558812395",
         "-0.2018244296330679",
         "-0.1116989492439999",
         "-0.0388532509513906",
         "-0.1072248116442704",
         "0.5122312773164382",
         "-0.4690217838214618",
         "-0.0587283662367974",
         "-0.0710302537154232",
         "0.1315011384005932",
         "-0.1353005939509961",
         "-0.3653424867377042",
         "-0.1881505190406615",
         "0.3296865247024813",
         "-0.0777068200569904",
         "-0.0897192333921517",
         "-0.3949988260288832",
         "-0.1414208301740885",
         "-0.0534929316633121",
         "-0.1314323864947099",
         "-0.1637644236948335",
         "-0.1040928801591332",
         "-0.1203491932043672",
         "-0.1258361229768905",
         "-0.0460801392940386",
         "-0.0992163427853272",
         "-0.114521955779201",
         "0.3674674306282254",
         "2.1805633130436965",
         "-0.282274455518921",
         "-0.1401722114356941",
         "-0.3282500628288096",
         "-0.1611412108698985",
         "-0.0488290525795516",
         "-0.1694741696540943",
         "-0.3686116342680252",
         "-0.1577634806844523",
         "-0.0126839405333797",
         "-0.1577036152389991",
         "-0.1008803354148199",
         "-0.1653593555174706",
         "1.5316805004646823",
         "-0.1426867381823439",
         "-0.1531438510701566",
         "0.1266242224213907",
         "-0.2328557143051625",
         "-0.0960516682545754",
         "0.1310396719459989",
         "0.0513829038427549",
         "-0.3137243499212618",
         "-0.3198290023598517",
         "-0.3108924388062856",
         "-0.1177725400883729",
         "-0.2688860095549478",
         "-0.1543877437051552",
         "-0.3286945439550051",
         "-0.3934296138406757",
         "-0.0846347106475672",
         "-0.0572378954850287",
         "0.0314745593798821",
         "-0.1482894977784458",
         "-0.4703139105458676",
         "-0.3391942355237024",
         "-0.163659458471118",
         "-0.290466637832652",
         "-0.3600443072306861",
         "-0.257369429535527",
         "-0.1432798214908008",
         "-0.1826550028268171",
         "-0.2058453662700178",
         "-0.0534167793689642",
         "-0.2323864808648647",
         "0.1601328279936207",
         "-0.1404545730568638",
         "-0.1103354806370398",
         "3.3980209423972925",
         "1.0941613734253175",
         "-0.1729600601192441",
         "-0.1309592804703161",
         "-0.2004443930703117",
         "-0.3729080550196052",
         "-0.3890056873771951",
         "-0.1589004593742088",
         "-0.2114165850784899",
         "-0.4593876708722865",
         "0.682906920573165",
         "-0.1118823735684786",
         "-0.1175860835422049",
         "-0.3222506647724408",
         "-0.1585400964011262",
         "-0.3714350784609668",
         "-0.0530267019746557",
         "-0.2794758166548876",
         "-0.2458254676091924",
         "0.2589246474925823",
         "-0.3440807587085995",
         "-0.1773927999499298",
         "-0.0993871877622147",
         "-0.3199386317987843",
         "-0.2803142653037752",
         "-0.3036323701582756",
         "-0.2359257201334838",
         "-0.1250185038462377",
         "-0.1504508377399057",
         "-0.3503458028287573",
         "-0.3340398363127391",
         "1.8237004011042008",
         "-0.1756212691949282",
         "0.0834073001471883",
         "0.6605765763366117",
         "-0.3188616312259495",
         "-0.2330745223673331",
         "-0.0514909862222783",
         "-0.0850382119097657",
         "-0.0498070055714154",
         "-0.0539794114535035",
         "-0.2529984928136088",
         "0.401734987909136",
         "-0.1796649044675014",
         "-0.3463013335015264",
         "-0.1350943625966243",
         "-0.3324149537897276",
         "-0.2338023722260485",
         "-0.422765621365114",
         "-0.1175193001616481",
         "-0.1009837047955174",
         "-0.2767046024847849",
         "-0.4979362063874685",
         "-0.3081392144872863",
         "-0.2563952613474125",
         "-0.1570573627944026",
         "-0.2505353213131426",
         "0.3855264958144251",
         "-0.0939590115959096",
         "0.4324296421809678",
         "-0.1723007360951478",
         "2.612523469408273",
         "2.104118356660895",
         "-0.1890827415280302",
         "-0.3964945100969037",
         "-0.2152638292756374",
         "-0.1086557915802894",
         "-0.3160167309491816",
         "-0.1794921481616257",
         "-0.4298592343139961",
         "-0.1396382351162504",
         "-0.0741317028092256",
         "-0.1449095143330164",
         "0.3290224138150188",
         "-0.2529469215090091",
         "-0.0961631782311452",
         "-0.0249527493208344",
         "-0.412805995795492",
         "-0.0667223420081422",
         "-0.1239870136132367",
         "-0.1987532975902202",
         "-0.1599975224184756",
         "-0.2718010390314536",
         "-0.3737164538297814",
         "2.2925931734953706",
         "-0.2822842583139904",
         "6.762380824204387",
         "-0.2379963800498089",
         "0.1257465874136511",
         "-0.1679286088257973",
         "0.2746207333957967",
         "-0.1408255682572783",
         "-0.1526707690154438",
         "-0.1889677030674551",
         "-0.1409989693791749",
         "0.848188443949738",
         "-0.0700406230581484",
         "-0.141407929294686",
         "-0.1432741758038599",
         "-0.4169056759924568",
         "-0.0877431544956844",
         "-0.106899882008849",
         "-0.1930722703533081",
         "0.0004482246861426",
         "-0.1265801729006582",
         "-0.1148671924928998",
         "-0.1110290651215432",
         "-0.0722491681653317",
         "-0.2996050502854123",
         "-0.181846762057083",
         "-0.2966626049177794",
         "-0.2124685864328349",
         "0.3014736691481342",
         "-0.2279242182239134",
         "-0.1997285013161332",
         "-0.0644965909849043",
         "-0.1160854511064935",
         "-0.1352910109004928",
         "-0.0636782095926218",
         "-0.0641311809856433",
         "-0.3737542735640404",
         "-0.191806617428794",
         "-0.1519546036334994",
         "-0.0984906664185979",
         "-0.1817193576688675",
         "-0.0978791608898442",
         "-0.1627343502660556",
         "-0.2357520870435256",
         "-0.3787127000725271",
         "-0.3832681098021911",
         "0.4236296198888103",
         "-0.0718227144867014",
         "-0.1121711260638952",
         "-0.1569155956640014",
         "-0.0644396554651267",
         "0.0047186718337099",
         "-0.0757309688672872",
         "-0.3804121643534028",
         "-0.1615104590207394",
         "-0.0718332006802926",
         "-0.0903472200792471",
         "-0.0797624594220896",
         "-0.1409949062174001",
         "-0.1205587060244274",
         "-0.0289058478171304",
         "-0.1198195492427336",
         "-0.1574963784554152",
         "-0.107143759282044",
         "-0.1411820914575879",
         "-0.1607251930925428",
         "-0.2226229869162158",
         "-0.0830361363418014",
         "-0.3217607780381019",
         "0.4838785459745012",
         "-0.0965630694858896",
         "-0.1692511513621631",
         "-0.3263665982938336",
         "-0.1374278526338656",
         "-0.1461048016554353",
         "-0.1351032894547363",
         "-0.176062173992542",
         "-0.1136904765432971",
         "-0.1798557904244455",
         "-0.1670085542088558",
         "-0.2201907998000714",
         "0.5560105305703219",
         "-0.2608048792057335",
         "-0.1185152906589259",
         "-0.0587564881838562",
         "-0.1518125472118487",
         "-0.0954147363765264",
         "-0.2300473787242473",
         "-0.1284160184169998",
         "-0.1274636447897815",
         "-0.212469824366158",
         "-0.1413726760033881",
         "0.0160435220129858",
         "-0.1501070782284042",
         "-0.2455336848764999",
         "-0.2504081370883501",
         "-0.3693791433179331",
         "-0.3119765578855581",
         "-0.1214735186100739",
         "-0.2231296789813342",
         "-0.1584879026247711",
         "-0.1921139545602671",
         "-0.158214396443985",
         "-0.1390520919005786",
         "1.4833011821370867",
         "-0.133023418025467",
         "-0.1234327440845989",
         "-0.1815106368279255",
         "-0.1833118864702477",
         "-0.1376992629306684",
         "-0.1453252095618302",
         "0.0249617342668857",
         "-0.0572000840945935",
         "0.2599692818960067",
         "-0.1608442928481049",
         "-0.1030091336973486",
         "-0.0671666980483185",
         "-0.2573279277461459",
         "-0.3249134250240662",
         "-0.1611739616684726",
         "-0.1227397315670014",
         "-0.1830488899680096",
         "-0.1290515878560385",
         "-0.1439623202606598",
         "0.1465116773500209",
         "-0.1245259079010936",
         "-0.1375410756104851",
         "-0.2513996866648093",
         "-0.1019830524944808",
         "-0.1662590734223403",
         "-0.3051434204966509",
         "-0.1625248964043985",
         "-0.1865327945361035",
         "-0.3401634285855198",
         "-0.0962577048568871",
         "1.2884459893339648",
         "-0.1858332145634549",
         "-0.1142250096865065",
         "-0.1314783864609398",
         "-0.2341820452406681",
         "-0.1737183702193989",
         "-0.0662419151211762",
         "-0.1636337244569112",
         "0.3077887860980873",
         "-0.0493298590195363",
         "-0.0765334001873215",
         "-0.1347666490799635",
         "-0.0742276297801367",
         "-0.0820880065707465",
         "-0.0904369930646661",
         "-0.0675042533718157",
         "-0.082269765487666",
         "-0.1667935591472326",
         "-0.1282027044978744",
         "-0.0696996065012251",
         "-0.1329860170655847",
         "-0.1330040215285443",
         "-0.1614470933502642",
         "-0.0912894625505143",
         "-0.1934791830045668",
         "0.0120233365766088",
         "-0.0730247573810529",
         "-0.1959533057474116",
         "-0.3330144512857298",
         "-0.4380477288984598",
         "-0.1225753198508591",
         "-0.1636217975135131",
         "-0.3297143366006608",
         "-0.1020614410672044",
         "-0.4363787563193317",
         "-0.3636535278183848",
         "-0.4135250601253898",
         "-0.2044965491076735",
         "-0.212886581978089",
         "-0.0562838648861238",
         "-0.1010421960030261",
         "-0.2456254212811341",
         "-0.3311540970549232",
         "-0.1137249539742613",
         "0.0605284658250349",
         "-0.2572143984503063",
         "-0.141618291408705",
         "-0.2390173704475183",
         "-0.1413730892291917",
         "-0.2367601411906318",
         "-0.1088623250358464",
         "-0.1265395658289946",
         "-0.1890199229398997",
         "-0.2385306350072622",
         "-0.0554502042358318",
         "-0.1209863250950963",
         "-0.0793345112485621",
         "-0.2560362180396485",
         "-0.1659055083290966",
         "-0.0712512335948892",
         "-0.2142573129967935",
         "-0.331287922102234",
         "-0.1718756454327644",
         "-0.3865060556280774",
         "-0.1773999519591216",
         "-0.1758220400234764",
         "-0.0836051295261976",
         "-0.1591365476267288",
         "-0.1883974928701264",
         "-0.0931858182795215",
         "0.6414388661662831",
         "-0.2312780798512567",
         "-0.1280035658873973",
         "-0.2150776875170625",
         "-0.0657317992164761",
         "-0.2604267997308517",
         "-0.2166941956358997",
         "-0.1142172549471145",
         "-0.2442532753081508",
         "-0.3634510111822129",
         "-0.0639356851722451",
         "-0.1092713699572514",
         "-0.0693537278201792",
         "-0.1630777353221987",
         "-0.1189183752103769",
         "-0.0850693643993576",
         "-0.2243392544470211",
         "-0.2485118396493188",
         "-0.1741233348089459",
         "-0.0757684968849518",
         "-0.2391528858858057",
         "-0.1346392150282225",
         "-0.0820211259621661",
         "-0.1091330613955802",
         "-0.1520341759763664",
         "-0.1108514701751796",
         "-0.1228667280080249",
         "-0.1704514681906117",
         "-0.1233111968174864",
         "-0.2624483340269002",
         "-0.1805704901853555",
         "-0.1031798416245797",
         "-0.1723560186367403",
         "-0.0745410247070842",
         "-0.1504427495009596",
         "-0.050509675837474",
         "-0.0808589902451882",
         "-0.1002084127135583",
         "-0.1091445477257399",
         "-0.0833441755014238",
         "-0.195633130640536",
         "-0.0661987672024321",
         "-0.0981324502262469",
         "-0.1330071206344865",
         "-0.1711737249372314",
         "-0.138462907263318",
         "-0.148350973021465",
         "-0.0559327586721816",
         "-0.1475972761919731",
         "-0.1325067314947434",
         "-0.1054973081060808",
         "-0.1489057919124241",
         "-0.2074669513275826",
         "-0.0344618840247301",
         "-0.1030162326228469",
         "-0.10310316012569",
         "-0.1964414596626918",
         "-0.0962076195900716",
         "-0.0245689267693939",
         "-0.1174296829372831",
         "-0.233216856233848",
         "-0.1899308256222155",
         "-0.1925659496615876",
         "-0.1607086704323637",
         "-0.1730600650348895",
         "-0.096878828823149",
         "-0.099615421181253",
         "-0.2553880445644598",
         "-0.2580272738793564",
         "-0.1984297005843377",
         "-0.2091761558832325",
         "-0.1538233181741638",
         "-0.1065393482933393",
         "-0.1778856391637307",
         "-0.1843570313139331",
         "-0.077118090819235",
         "0"
        ],
        [
         "4",
         "0.933616616480025",
         "-0.3628949547226687",
         "-0.2368139209076723",
         "-0.1934249224034064",
         "-0.012090009553277",
         "-0.1751047884601489",
         "0.1957476505892286",
         "-0.186020180484976",
         "0.2653650348531898",
         "-0.0330879164101449",
         "0.8295371782616354",
         "-0.0254842932123015",
         "1.233606395849275",
         "-0.368204944304738",
         "0.0746133770414425",
         "0.3716077096141771",
         "-0.0841689534874767",
         "2.094122407087812",
         "1.325879591344947",
         "-0.2094537607636036",
         "-0.105655456005039",
         "-0.3301507356096268",
         "-0.105500952734661",
         "-0.4960882492405018",
         "-0.1125556722332391",
         "1.8700854873970276",
         "-0.364599992483393",
         "-0.2209920837201177",
         "-0.3956572800858248",
         "0.230658058265085",
         "-0.3866211222154554",
         "-0.1255111671171896",
         "0.2321069747246418",
         "0.1415831245533768",
         "-0.2596910347172354",
         "0.1091029374923852",
         "-0.1298351234694244",
         "-0.2030955188460449",
         "-0.079796564440857",
         "-0.1851003218893208",
         "-0.1764187567964832",
         "-0.2744865372157736",
         "-0.1727421241755505",
         "-0.4048754624320675",
         "-0.2553486850505579",
         "-0.3334682329580484",
         "0.4700612280521353",
         "-0.339268885419662",
         "-0.3000576863405134",
         "4.153335413959433",
         "-0.1142983426731611",
         "0.7698070619276187",
         "-0.2203011628042388",
         "-0.2663585773983838",
         "-0.4273361531282564",
         "-0.0907098237817878",
         "-0.3886124700711598",
         "0.6430724666339381",
         "-0.3967094702353527",
         "-0.2440284353434427",
         "-0.3951312348045855",
         "-0.3985013962007797",
         "-0.073548421165937",
         "0.0156743155732546",
         "-0.1657134884045845",
         "-0.445195836900239",
         "0.1526187993990519",
         "-0.1732255689638374",
         "-0.2186804802626037",
         "-0.3524066655494445",
         "-0.1371677971211193",
         "-0.1691157029363902",
         "-0.1866817493482758",
         "-0.0768420181606998",
         "-0.2602686440443504",
         "0.1179734121169351",
         "4.253487899744344",
         "-0.26894281407304",
         "-0.299721522648439",
         "-0.1551047752113686",
         "-0.2159235225665126",
         "0.6942160786145835",
         "-0.3013709148191826",
         "-0.1834061408336028",
         "-0.0964258073834186",
         "0.4284915601793241",
         "-0.2643495523259055",
         "-0.0623411874816629",
         "-0.3210126263440274",
         "-0.1046835931971152",
         "0.2478598161546384",
         "-0.2551672321982022",
         "1.815887437379043",
         "-0.1451082652627468",
         "0.3328919502943236",
         "-0.2461834769827321",
         "-0.3836965586957462",
         "0.3195951143930985",
         "-0.2017590438278299",
         "-0.1105467392188",
         "-0.2589547751607369",
         "0.3665147818512526",
         "-0.0969333354201702",
         "-0.4183813478836285",
         "1.2620531185624098",
         "-0.1359679186988969",
         "-0.2888761060247852",
         "0.151381250199793",
         "2.446240635653089",
         "-0.1582473072513618",
         "-0.219560029424609",
         "0.2199804569805463",
         "-0.5450744936760537",
         "-0.1739772495368944",
         "-0.070942749661467",
         "2.277225697589584",
         "-0.3388362064454409",
         "-0.185129105990881",
         "-0.1116989492439999",
         "-0.3131935551781484",
         "-0.1072248116442704",
         "-0.0494952233314545",
         "-0.2391556633480439",
         "-0.0587283662367974",
         "-0.0710302537154232",
         "0.5028048964017221",
         "-0.1489700649512253",
         "-0.3653424867377042",
         "-0.1705559128670903",
         "-0.3616729997763023",
         "-0.0777068200569904",
         "-0.093727609163997",
         "-0.0138519592016817",
         "-0.1414208301740885",
         "-0.0869871728709687",
         "-0.1293207421234594",
         "-0.3193863704239543",
         "-0.1040928801591332",
         "-0.1151912686617192",
         "-0.1258361229768905",
         "-0.1449209632128007",
         "-0.0992163427853272",
         "-0.114521955779201",
         "-0.1928652915647107",
         "-0.5319436489213586",
         "-0.282274455518921",
         "-0.1573534318526548",
         "-0.3282500628288096",
         "-0.1611412108698985",
         "-0.0488290525795516",
         "-0.1694741696540943",
         "0.920258664047201",
         "-0.1577634806844523",
         "-0.2132783580994454",
         "-0.1429074807085657",
         "-0.0980382533167927",
         "-0.1727819010287652",
         "0.5810930827757763",
         "-0.1426867381823439",
         "-0.1531438510701566",
         "-0.2477666631986408",
         "-0.187969906763509",
         "-0.0960516682545754",
         "-0.1024442209478308",
         "-0.1658161729475714",
         "-0.3137243499212618",
         "-0.3198290023598517",
         "-0.3108924388062856",
         "-0.1652065413505404",
         "-0.2688860095549478",
         "-0.1543877437051552",
         "-0.3286945439550051",
         "-0.1724615656894383",
         "-0.0588866126553551",
         "-0.0572378954850287",
         "-0.2216737092367827",
         "-0.1482894977784458",
         "0.3503211161037802",
         "-0.3391942355237024",
         "-0.163659458471118",
         "-0.0692524513208742",
         "-0.5554355171335609",
         "-0.2292837254548262",
         "-0.066678124945065",
         "-0.1826550028268171",
         "-0.2058453662700178",
         "-0.259635343061935",
         "-0.2323864808648647",
         "-0.1062137579938125",
         "-0.1404545730568638",
         "-0.1103354806370398",
         "-0.3462365728273379",
         "-0.1363877046836545",
         "-0.1532007151435673",
         "0.1412739353728846",
         "-0.2004443930703117",
         "0.1159924276578721",
         "1.081649184838039",
         "-0.1635275647528097",
         "-0.2114165850784899",
         "0.1923002413849632",
         "-0.3492405425757719",
         "-0.1095578470415482",
         "-0.1429628708281641",
         "0.3820563980144821",
         "-0.1585400964011262",
         "0.8210437231298346",
         "-0.0530267019746557",
         "1.842318121431068",
         "-0.2458254676091924",
         "-0.1891656967332382",
         "-0.3440807587085995",
         "-0.0786342315115234",
         "-0.0993871877622147",
         "-0.3199386317987843",
         "-0.2803142653037752",
         "0.2381286590532936",
         "-0.2359257201334838",
         "-0.1250185038462377",
         "-0.1504508377399057",
         "1.2720775240208737",
         "-0.3340398363127391",
         "0.4293490881073793",
         "-0.1756212691949282",
         "-0.440386011354037",
         "-0.1401342253882947",
         "-0.3188616312259495",
         "-0.2148557518357576",
         "-0.1770679684682801",
         "-0.3051438288793736",
         "-0.1008263866612258",
         "-0.0539794114535035",
         "-0.2529984928136088",
         "-0.1839384251670629",
         "-0.1796649044675014",
         "-0.1692096648425892",
         "-0.1350943625966243",
         "-0.3301023670297909",
         "-0.0938848668206084",
         "0.2427190453629827",
         "-0.1175193001616481",
         "-0.087837135218035",
         "-0.1389156613074006",
         "0.433698572154269",
         "-0.0181692225071379",
         "-0.2563952613474125",
         "-0.1570573627944026",
         "0.0126380516631791",
         "0.1321885594203652",
         "-0.016672644942407",
         "-0.4019263720467773",
         "-0.1723007360951478",
         "-0.360801350238528",
         "0.2340204126920351",
         "-0.1890827415280302",
         "0.328244884508889",
         "-0.1847825944308356",
         "-0.1086557915802894",
         "0.8823510848907538",
         "-0.1794921481616257",
         "1.5091650781325203",
         "-0.1396382351162504",
         "-0.0741317028092256",
         "-0.1039141974007289",
         "0.5655538432996507",
         "-0.2529469215090091",
         "-0.0961631782311452",
         "-0.1763798178713979",
         "2.63924829431448",
         "-0.0667223420081422",
         "-0.1239870136132367",
         "-0.2130106763496243",
         "-0.1599975224184756",
         "-0.2718010390314536",
         "0.7149373492347151",
         "0.0634112810574084",
         "-0.2822842583139904",
         "-0.3457528717382863",
         "-0.2379963800498089",
         "0.0155944168218914",
         "-0.1679286088257973",
         "-0.1524730112933025",
         "-0.1408255682572783",
         "-0.1526707690154438",
         "-0.1889677030674551",
         "-0.1543511023816059",
         "-0.3777467608785616",
         "-0.0795878796749492",
         "-0.141407929294686",
         "-0.1432741758038599",
         "-0.4169056759924568",
         "-0.0877431544956844",
         "-0.067033121021751",
         "-0.1930722703533081",
         "-0.1159564292890253",
         "-0.1265801729006582",
         "-0.1148671924928998",
         "-0.1110290651215432",
         "-0.0722491681653317",
         "0.5342366040666784",
         "-0.181846762057083",
         "-0.2966626049177794",
         "-0.2124685864328349",
         "0.1156286328389595",
         "-0.2279242182239134",
         "-0.1997285013161332",
         "-0.0644965909849043",
         "-0.1160854511064935",
         "-0.1352910109004928",
         "-0.0636782095926218",
         "-0.0641311809856433",
         "0.7602402495155841",
         "-0.191806617428794",
         "-0.1519546036334994",
         "-0.0984906664185979",
         "-0.1817193576688675",
         "-0.0978791608898442",
         "-0.1627343502660556",
         "-0.2357520870435256",
         "1.446545754877151",
         "2.024205759692782",
         "-0.0029212598972276",
         "-0.0718227144867014",
         "-0.1121711260638952",
         "-0.1569155956640014",
         "-0.0644396554651267",
         "-0.2513815310039747",
         "-0.0802645066530763",
         "-0.3804121643534028",
         "-0.1615104590207394",
         "-0.0718332006802926",
         "-0.1987322750099616",
         "-0.0906274825967917",
         "-0.1409949062174001",
         "-0.1205587060244274",
         "-0.0183020642237132",
         "-0.1198195492427336",
         "-0.1279121557331",
         "-0.1184076094725923",
         "-0.1411820914575879",
         "-0.1607251930925428",
         "-0.2226229869162158",
         "-0.0830361363418014",
         "-0.3217607780381019",
         "-0.0971076885302645",
         "-0.0965630694858896",
         "-0.1692511513621631",
         "-0.3263665982938336",
         "-0.1374278526338656",
         "-0.1461048016554353",
         "-0.1351032894547363",
         "-0.176062173992542",
         "-0.1136904765432971",
         "-0.1798557904244455",
         "-0.1670085542088558",
         "-0.1375243973502333",
         "-0.1851454970019566",
         "-0.2608048792057335",
         "-0.1185152906589259",
         "0.0264323472541905",
         "-0.1518125472118487",
         "-0.0954147363765264",
         "-0.2300473787242473",
         "-0.1284160184169998",
         "-0.1274636447897815",
         "-0.212469824366158",
         "-0.1413726760033881",
         "0.0179068276764787",
         "-0.1501070782284042",
         "-0.2455336848764999",
         "-0.2504081370883501",
         "1.1179275329285767",
         "-0.3119765578855581",
         "-0.1214735186100739",
         "-0.2231296789813342",
         "-0.1584879026247711",
         "-0.1921139545602671",
         "-0.0550741941898295",
         "-0.1390520919005786",
         "0.9872522321358634",
         "-0.133023418025467",
         "-0.1340180139484612",
         "-0.1815106368279255",
         "-0.2256515672597602",
         "-0.1376992629306684",
         "-0.1453252095618302",
         "1.4906852142275744",
         "-0.0572000840945935",
         "-0.6207840714913484",
         "0.006972960275287",
         "-0.5900796226566152",
         "-0.0671666980483185",
         "-0.2573279277461459",
         "-0.3249134250240662",
         "-0.1611739616684726",
         "-0.1227397315670014",
         "-0.1830488899680096",
         "-0.1290515878560385",
         "-0.1439623202606598",
         "-0.1035924168305116",
         "-0.1245259079010936",
         "-0.1375410756104851",
         "-0.2513996866648093",
         "-0.0750857759765325",
         "0.3987143189095762",
         "-0.3051434204966509",
         "-0.1625248964043985",
         "-0.1865327945361035",
         "-0.3401634285855198",
         "-0.0962577048568871",
         "-0.1179734078556668",
         "-0.1858332145634549",
         "-0.1142250096865065",
         "-0.1314783864609398",
         "-0.2341820452406681",
         "-0.1737183702193989",
         "-0.0662419151211762",
         "-0.1636337244569112",
         "-0.1118798112018435",
         "-0.1413321062352619",
         "-0.0765334001873215",
         "-0.1347666490799635",
         "-0.0742276297801367",
         "-0.0820880065707465",
         "-0.0904369930646661",
         "-0.0675042533718157",
         "-0.1044825632924623",
         "-0.1667935591472326",
         "-0.1282027044978744",
         "-0.0696996065012251",
         "-0.1329860170655847",
         "-0.1330040215285443",
         "-0.1614470933502642",
         "-0.0912894625505143",
         "-0.1934791830045668",
         "-0.1175931791116777",
         "-0.0730247573810529",
         "-0.1959533057474116",
         "1.1941051909455",
         "1.085009573474688",
         "-0.1225753198508591",
         "-0.1636217975135131",
         "-0.3297143366006608",
         "-0.1020614410672044",
         "0.3892408486639475",
         "1.48062311580205",
         "-0.4135250601253898",
         "-0.2044965491076735",
         "-0.212886581978089",
         "-0.0562838648861238",
         "0.3721455079032293",
         "-0.2456254212811341",
         "2.355006039792917",
         "-0.1137249539742613",
         "-0.2197242950770923",
         "-0.2572143984503063",
         "-0.141618291408705",
         "-0.2390173704475183",
         "-0.1413730892291917",
         "-0.2367601411906318",
         "-0.1088623250358464",
         "-0.1265395658289946",
         "-0.1890199229398997",
         "-0.2385306350072622",
         "-0.0554502042358318",
         "-0.1011574488311513",
         "-0.0793345112485621",
         "-0.2560362180396485",
         "-0.1659055083290966",
         "-0.0712512335948892",
         "-0.2142573129967935",
         "-0.331287922102234",
         "-0.1718756454327644",
         "2.644032332659305",
         "-0.1773999519591216",
         "-0.1758220400234764",
         "-0.0836051295261976",
         "0.4684621292771814",
         "1.3392805199854636",
         "-0.0931858182795215",
         "-0.2138057333959223",
         "-0.2312780798512567",
         "-0.1280035658873973",
         "-0.2150776875170625",
         "-0.0657317992164761",
         "-0.2604267997308517",
         "-0.2166941956358997",
         "-0.1142172549471145",
         "-0.2442532753081508",
         "-0.3634510111822129",
         "-0.0639356851722451",
         "-0.1092713699572514",
         "-0.0693537278201792",
         "-0.1630777353221987",
         "-0.1189183752103769",
         "-0.0850693643993576",
         "-0.2243392544470211",
         "-0.2485118396493188",
         "-0.1741233348089459",
         "-0.0757684968849518",
         "-0.2391528858858057",
         "-0.1346392150282225",
         "-0.0820211259621661",
         "-0.1091330613955802",
         "0.0775325894189771",
         "-0.1108514701751796",
         "-0.1228667280080249",
         "-0.1704514681906117",
         "-0.1233111968174864",
         "-0.2624483340269002",
         "-0.1805704901853555",
         "-0.1031798416245797",
         "-0.1723560186367403",
         "-0.0745410247070842",
         "-0.1504427495009596",
         "-0.050509675837474",
         "-0.0808589902451882",
         "-0.1002084127135583",
         "-0.1091445477257399",
         "-0.0833441755014238",
         "-0.195633130640536",
         "-0.0661987672024321",
         "-0.0981324502262469",
         "-0.1330071206344865",
         "-0.1711737249372314",
         "-0.138462907263318",
         "-0.148350973021465",
         "-0.0559327586721816",
         "-0.1475972761919731",
         "-0.1325067314947434",
         "-0.1054973081060808",
         "-0.1489057919124241",
         "-0.2074669513275826",
         "-0.0680849695338116",
         "-0.1030162326228469",
         "-0.10310316012569",
         "-0.1964414596626918",
         "-0.0962076195900716",
         "-0.0777987692402986",
         "-0.1174296829372831",
         "-0.233216856233848",
         "-0.1899308256222155",
         "-0.1925659496615876",
         "-0.1607086704323637",
         "-0.1730600650348895",
         "-0.1067640987770947",
         "-0.099615421181253",
         "-0.2553880445644598",
         "-0.2580272738793564",
         "-0.1984297005843377",
         "-0.2091761558832325",
         "-0.1538233181741638",
         "-0.1065393482933393",
         "-0.1778856391637307",
         "-0.1843570313139331",
         "-0.077118090819235",
         "1"
        ]
       ],
       "shape": {
        "columns": 557,
        "rows": 5
       }
      },
      "text/html": [
       "<div>\n",
       "<style scoped>\n",
       "    .dataframe tbody tr th:only-of-type {\n",
       "        vertical-align: middle;\n",
       "    }\n",
       "\n",
       "    .dataframe tbody tr th {\n",
       "        vertical-align: top;\n",
       "    }\n",
       "\n",
       "    .dataframe thead th {\n",
       "        text-align: right;\n",
       "    }\n",
       "</style>\n",
       "<table border=\"1\" class=\"dataframe\">\n",
       "  <thead>\n",
       "    <tr style=\"text-align: right;\">\n",
       "      <th></th>\n",
       "      <th>821</th>\n",
       "      <th>328813</th>\n",
       "      <th>823</th>\n",
       "      <th>817</th>\n",
       "      <th>818</th>\n",
       "      <th>239935</th>\n",
       "      <th>28116</th>\n",
       "      <th>351091</th>\n",
       "      <th>28118</th>\n",
       "      <th>1161942</th>\n",
       "      <th>...</th>\n",
       "      <th>78344</th>\n",
       "      <th>1692</th>\n",
       "      <th>68274</th>\n",
       "      <th>40091</th>\n",
       "      <th>1393</th>\n",
       "      <th>28133</th>\n",
       "      <th>183</th>\n",
       "      <th>29346</th>\n",
       "      <th>349096</th>\n",
       "      <th>Schizophrenia</th>\n",
       "    </tr>\n",
       "  </thead>\n",
       "  <tbody>\n",
       "    <tr>\n",
       "      <th>0</th>\n",
       "      <td>1.439593</td>\n",
       "      <td>-0.405899</td>\n",
       "      <td>-0.592464</td>\n",
       "      <td>-0.294858</td>\n",
       "      <td>-0.629663</td>\n",
       "      <td>-0.388186</td>\n",
       "      <td>0.060858</td>\n",
       "      <td>-0.638728</td>\n",
       "      <td>-0.158473</td>\n",
       "      <td>-0.274041</td>\n",
       "      <td>...</td>\n",
       "      <td>-0.255388</td>\n",
       "      <td>-0.258027</td>\n",
       "      <td>-0.19843</td>\n",
       "      <td>2.305337</td>\n",
       "      <td>-0.153823</td>\n",
       "      <td>-0.106539</td>\n",
       "      <td>-0.177886</td>\n",
       "      <td>-0.184357</td>\n",
       "      <td>-0.063034</td>\n",
       "      <td>0</td>\n",
       "    </tr>\n",
       "    <tr>\n",
       "      <th>1</th>\n",
       "      <td>-0.746323</td>\n",
       "      <td>-0.497882</td>\n",
       "      <td>0.149193</td>\n",
       "      <td>-0.318254</td>\n",
       "      <td>-0.611975</td>\n",
       "      <td>-0.337264</td>\n",
       "      <td>-0.599826</td>\n",
       "      <td>0.072958</td>\n",
       "      <td>-0.541310</td>\n",
       "      <td>2.875357</td>\n",
       "      <td>...</td>\n",
       "      <td>-0.255388</td>\n",
       "      <td>-0.258027</td>\n",
       "      <td>-0.19843</td>\n",
       "      <td>-0.209176</td>\n",
       "      <td>-0.153823</td>\n",
       "      <td>-0.106539</td>\n",
       "      <td>-0.177886</td>\n",
       "      <td>-0.184357</td>\n",
       "      <td>-0.077118</td>\n",
       "      <td>1</td>\n",
       "    </tr>\n",
       "    <tr>\n",
       "      <th>2</th>\n",
       "      <td>0.491225</td>\n",
       "      <td>0.320783</td>\n",
       "      <td>-0.668681</td>\n",
       "      <td>-0.139988</td>\n",
       "      <td>-0.220985</td>\n",
       "      <td>-0.293335</td>\n",
       "      <td>3.686425</td>\n",
       "      <td>-0.317174</td>\n",
       "      <td>-0.216365</td>\n",
       "      <td>-0.257336</td>\n",
       "      <td>...</td>\n",
       "      <td>-0.255388</td>\n",
       "      <td>-0.258027</td>\n",
       "      <td>-0.19843</td>\n",
       "      <td>-0.209176</td>\n",
       "      <td>-0.153823</td>\n",
       "      <td>-0.106539</td>\n",
       "      <td>-0.177886</td>\n",
       "      <td>0.329359</td>\n",
       "      <td>-0.077118</td>\n",
       "      <td>0</td>\n",
       "    </tr>\n",
       "    <tr>\n",
       "      <th>3</th>\n",
       "      <td>0.234604</td>\n",
       "      <td>-0.341134</td>\n",
       "      <td>-0.547374</td>\n",
       "      <td>-0.308704</td>\n",
       "      <td>0.088972</td>\n",
       "      <td>-0.388365</td>\n",
       "      <td>0.077232</td>\n",
       "      <td>1.987442</td>\n",
       "      <td>-0.475624</td>\n",
       "      <td>-0.262770</td>\n",
       "      <td>...</td>\n",
       "      <td>-0.255388</td>\n",
       "      <td>-0.258027</td>\n",
       "      <td>-0.19843</td>\n",
       "      <td>-0.209176</td>\n",
       "      <td>-0.153823</td>\n",
       "      <td>-0.106539</td>\n",
       "      <td>-0.177886</td>\n",
       "      <td>-0.184357</td>\n",
       "      <td>-0.077118</td>\n",
       "      <td>0</td>\n",
       "    </tr>\n",
       "    <tr>\n",
       "      <th>4</th>\n",
       "      <td>0.933617</td>\n",
       "      <td>-0.362895</td>\n",
       "      <td>-0.236814</td>\n",
       "      <td>-0.193425</td>\n",
       "      <td>-0.012090</td>\n",
       "      <td>-0.175105</td>\n",
       "      <td>0.195748</td>\n",
       "      <td>-0.186020</td>\n",
       "      <td>0.265365</td>\n",
       "      <td>-0.033088</td>\n",
       "      <td>...</td>\n",
       "      <td>-0.255388</td>\n",
       "      <td>-0.258027</td>\n",
       "      <td>-0.19843</td>\n",
       "      <td>-0.209176</td>\n",
       "      <td>-0.153823</td>\n",
       "      <td>-0.106539</td>\n",
       "      <td>-0.177886</td>\n",
       "      <td>-0.184357</td>\n",
       "      <td>-0.077118</td>\n",
       "      <td>1</td>\n",
       "    </tr>\n",
       "  </tbody>\n",
       "</table>\n",
       "<p>5 rows × 557 columns</p>\n",
       "</div>"
      ],
      "text/plain": [
       "        821    328813       823       817       818    239935     28116  \\\n",
       "0  1.439593 -0.405899 -0.592464 -0.294858 -0.629663 -0.388186  0.060858   \n",
       "1 -0.746323 -0.497882  0.149193 -0.318254 -0.611975 -0.337264 -0.599826   \n",
       "2  0.491225  0.320783 -0.668681 -0.139988 -0.220985 -0.293335  3.686425   \n",
       "3  0.234604 -0.341134 -0.547374 -0.308704  0.088972 -0.388365  0.077232   \n",
       "4  0.933617 -0.362895 -0.236814 -0.193425 -0.012090 -0.175105  0.195748   \n",
       "\n",
       "     351091     28118   1161942  ...     78344      1692    68274     40091  \\\n",
       "0 -0.638728 -0.158473 -0.274041  ... -0.255388 -0.258027 -0.19843  2.305337   \n",
       "1  0.072958 -0.541310  2.875357  ... -0.255388 -0.258027 -0.19843 -0.209176   \n",
       "2 -0.317174 -0.216365 -0.257336  ... -0.255388 -0.258027 -0.19843 -0.209176   \n",
       "3  1.987442 -0.475624 -0.262770  ... -0.255388 -0.258027 -0.19843 -0.209176   \n",
       "4 -0.186020  0.265365 -0.033088  ... -0.255388 -0.258027 -0.19843 -0.209176   \n",
       "\n",
       "       1393     28133       183     29346    349096  Schizophrenia  \n",
       "0 -0.153823 -0.106539 -0.177886 -0.184357 -0.063034              0  \n",
       "1 -0.153823 -0.106539 -0.177886 -0.184357 -0.077118              1  \n",
       "2 -0.153823 -0.106539 -0.177886  0.329359 -0.077118              0  \n",
       "3 -0.153823 -0.106539 -0.177886 -0.184357 -0.077118              0  \n",
       "4 -0.153823 -0.106539 -0.177886 -0.184357 -0.077118              1  \n",
       "\n",
       "[5 rows x 557 columns]"
      ]
     },
     "execution_count": 19,
     "metadata": {},
     "output_type": "execute_result"
    }
   ],
   "source": [
    "\n",
    "data = pd.read_csv('Data/Final_data/final_schizo_one_scaled')\n",
    "\n",
    "data = data.iloc[:, 1:]\n",
    "data.head()"
   ]
  },
  {
   "cell_type": "code",
   "execution_count": 20,
   "id": "678db603",
   "metadata": {},
   "outputs": [
    {
     "data": {
      "text/plain": [
       "(434, 557)"
      ]
     },
     "execution_count": 20,
     "metadata": {},
     "output_type": "execute_result"
    }
   ],
   "source": [
    "data.shape"
   ]
  },
  {
   "cell_type": "code",
   "execution_count": 21,
   "id": "831adf45",
   "metadata": {},
   "outputs": [],
   "source": [
    "class Model(nn.Module):\n",
    "    def __init__(self, input_size, h1, h2, h3, output_size = 2):\n",
    "        super(Model, self).__init__()\n",
    "        self.net = nn.Sequential(\n",
    "            nn.Linear(input_size, h1),\n",
    "            nn.ReLU(),\n",
    "            nn.Dropout(p=0.3),\n",
    "            nn.Linear(h1, h2),\n",
    "            nn.ReLU(),\n",
    "            nn.Dropout(p=0.3),\n",
    "            nn.Linear(h2, h3),\n",
    "            nn.ReLU(),\n",
    "            nn.Dropout(p=0.3),\n",
    "            nn.Linear(h3, output_size) \n",
    "        )\n",
    "    def forward(self, x):\n",
    "        return self.net(x)\n"
   ]
  },
  {
   "cell_type": "code",
   "execution_count": 22,
   "id": "e2281da9",
   "metadata": {},
   "outputs": [],
   "source": [
    "class SklearnWrapper(BaseEstimator, ClassifierMixin):\n",
    "    def __init__(self, input_size=10, h1=32, h2=16, h3=16, lr=0.01, num_epochs=100):\n",
    "        self.input_size = input_size\n",
    "        self.h1 = h1\n",
    "        self.h2 = h2\n",
    "        self.h3 = h3\n",
    "        self.lr = lr\n",
    "        self.num_epochs = num_epochs\n",
    "        self.device = torch.device(\"cuda\" if torch.cuda.is_available() else \"cpu\")\n",
    "        self.model = None\n",
    "\n",
    "    def fit(self, X, y):\n",
    "        dataset = TensorDataset(X, y)\n",
    "        \n",
    "        val_size = int(0.2 * len(dataset))\n",
    "        train_size = len(dataset) - val_size\n",
    "        train_dataset, val_dataset = random_split(dataset, [train_size, val_size])\n",
    "\n",
    "        train_loader = DataLoader(train_dataset, batch_size=32, shuffle=True)\n",
    "        val_loader = DataLoader(val_dataset, batch_size=32)\n",
    "\n",
    "        self.model = Model(self.input_size, self.h1, self.h2, self.h3).to(self.device)\n",
    "        optimizer = torch.optim.Adam(self.model.parameters(), lr=self.lr, weight_decay=1e-4)\n",
    "        criterion = nn.CrossEntropyLoss()\n",
    "\n",
    "        best_loss = float('inf')\n",
    "        patience = 20\n",
    "        wait = 0\n",
    "        best_state = None\n",
    "\n",
    "        for epoch in range(self.num_epochs):\n",
    "            self.model.train()\n",
    "            for xb, yb in train_loader:\n",
    "                xb, yb = xb.to(self.device), yb.to(self.device)\n",
    "                pred = self.model(xb)\n",
    "                loss = criterion(pred, yb)\n",
    "                optimizer.zero_grad()\n",
    "                loss.backward()\n",
    "                optimizer.step()\n",
    "\n",
    "        \n",
    "            self.model.eval()\n",
    "            val_loss = 0\n",
    "            with torch.no_grad():\n",
    "                for xb, yb in val_loader:\n",
    "                    xb, yb = xb.to(self.device), yb.to(self.device)\n",
    "                    pred = self.model(xb)\n",
    "                    val_loss += criterion(pred, yb).item()\n",
    "                    \n",
    "\n",
    "            val_loss /= len(val_loader)\n",
    "\n",
    "            if val_loss < best_loss:\n",
    "                best_loss = val_loss\n",
    "                best_state = self.model.state_dict()\n",
    "                wait = 0\n",
    "            else:\n",
    "                wait += 1\n",
    "                if wait >= patience:\n",
    "                    print(f\"Early stopping at epoch {epoch+1}\")\n",
    "                    break\n",
    "\n",
    "        #if best_state:\n",
    "         #   self.model.load_state_dict(best_state)\n",
    "        \n",
    "        self.best_state_dict = best_state\n",
    "   \n",
    "        if self.best_state_dict is not None:\n",
    "            self.model.load_state_dict(self.best_state_dict)\n",
    "\n",
    "        return self\n",
    "\n",
    "\n",
    "    def predict(self, X):\n",
    "        self.model.eval()\n",
    "        with torch.no_grad():\n",
    "            outputs = self.model(X)\n",
    "        return outputs.argmax(dim=1).cpu().numpy()\n"
   ]
  },
  {
   "cell_type": "code",
   "execution_count": 23,
   "id": "aa3ab425",
   "metadata": {},
   "outputs": [],
   "source": [
    "param_grid = {\n",
    "    'h1': [32, 64, 96, 128, 160],\n",
    "    'h2': [16, 32, 64, 96],\n",
    "    'h3': [16, 32, 64, 96],\n",
    "    'lr': [0.0001, 0.0005],\n",
    "    'num_epochs': [40, 60, 100, 120, 160, 200]\n",
    "}"
   ]
  },
  {
   "cell_type": "code",
   "execution_count": 24,
   "id": "5b1c0675",
   "metadata": {},
   "outputs": [],
   "source": [
    "scoring = {\n",
    "    'accuracy': make_scorer(accuracy_score),\n",
    "    'roc_auc': make_scorer(roc_auc_score, needs_proba=True, multi_class='ovr')\n",
    "    #'neg_log_loss': make_scorer(log_loss, greater_is_better=False, needs_proba=True) \n",
    "    #check loss calc\n",
    "}"
   ]
  },
  {
   "cell_type": "code",
   "execution_count": 25,
   "id": "7e37fd01",
   "metadata": {},
   "outputs": [],
   "source": [
    "X = data.drop('Schizophrenia', axis = 1)\n",
    "y = data['Schizophrenia']\n",
    "\n",
    "X = X.values\n",
    "y = y.values\n",
    "\n",
    "#X_train, X_test, y_train, y_test = train_test_split(X, y, test_size=0.2)\n",
    "\n",
    "#X_train = torch.FloatTensor(X_train)\n",
    "#X_test = torch.FloatTensor(X_test)\n",
    "\n",
    "#y_train = torch.LongTensor(y_train)\n",
    "#y_test = torch.LongTensor(y_test)"
   ]
  },
  {
   "cell_type": "code",
   "execution_count": 26,
   "id": "0fc10f62",
   "metadata": {},
   "outputs": [
    {
     "name": "stdout",
     "output_type": "stream",
     "text": [
      "Early stopping at epoch 35\n",
      "Fold Accuracy: 0.9195\n",
      "Early stopping at epoch 52\n",
      "Fold Accuracy: 0.8851\n",
      "Early stopping at epoch 35\n",
      "Fold Accuracy: 0.8966\n",
      "Early stopping at epoch 38\n",
      "Fold Accuracy: 0.8506\n",
      "Early stopping at epoch 35\n",
      "Fold Accuracy: 0.8023\n",
      "Nested CV Mean Accuracy: 0.8708\n"
     ]
    }
   ],
   "source": [
    "\n",
    "nested_scores = []\n",
    "\n",
    "outer_cv = KFold(n_splits=5, shuffle=True, random_state=42)\n",
    "\n",
    "for train_idx, test_idx in outer_cv.split(X, y):\n",
    "    X_train_cv = torch.FloatTensor(X[train_idx])\n",
    "    y_train_cv = torch.LongTensor(y[train_idx])\n",
    "    X_test_cv = torch.FloatTensor(X[test_idx])\n",
    "    y_test_cv = y[test_idx]\n",
    "\n",
    "    clf = GridSearchCV(SklearnWrapper(input_size=X.shape[1]), param_grid, cv=3, scoring='accuracy', n_jobs=-1)\n",
    "    clf.fit(X_train_cv, y_train_cv)\n",
    "\n",
    "    preds = clf.predict(X_test_cv)\n",
    "    acc = accuracy_score(y_test_cv, preds)\n",
    "    nested_scores.append(acc)\n",
    "    print(f\"Fold Accuracy: {acc:.4f}\")\n",
    "\n",
    "print(f\"Nested CV Mean Accuracy: {np.mean(nested_scores):.4f}\")\n"
   ]
  },
  {
   "cell_type": "code",
   "execution_count": 27,
   "id": "405d7349",
   "metadata": {},
   "outputs": [
    {
     "name": "stdout",
     "output_type": "stream",
     "text": [
      "Model(\n",
      "  (net): Sequential(\n",
      "    (0): Linear(in_features=556, out_features=64, bias=True)\n",
      "    (1): ReLU()\n",
      "    (2): Dropout(p=0.3, inplace=False)\n",
      "    (3): Linear(in_features=64, out_features=16, bias=True)\n",
      "    (4): ReLU()\n",
      "    (5): Dropout(p=0.3, inplace=False)\n",
      "    (6): Linear(in_features=16, out_features=96, bias=True)\n",
      "    (7): ReLU()\n",
      "    (8): Dropout(p=0.3, inplace=False)\n",
      "    (9): Linear(in_features=96, out_features=2, bias=True)\n",
      "  )\n",
      ")\n"
     ]
    }
   ],
   "source": [
    "print(clf.best_estimator_.model)"
   ]
  },
  {
   "cell_type": "code",
   "execution_count": 28,
   "id": "c769ba03",
   "metadata": {},
   "outputs": [],
   "source": [
    "#m = clf.best_state_dict"
   ]
  },
  {
   "cell_type": "code",
   "execution_count": 29,
   "id": "ab178725",
   "metadata": {},
   "outputs": [],
   "source": [
    "best_model = clf.best_estimator_"
   ]
  },
  {
   "cell_type": "code",
   "execution_count": 30,
   "id": "173d37f6",
   "metadata": {},
   "outputs": [
    {
     "name": "stdout",
     "output_type": "stream",
     "text": [
      "1.)  tensor([ 4.1434, -4.7077]) \t 0 \t 0\n",
      "2.)  tensor([-5.3921,  5.2129]) \t 1 \t 1\n",
      "3.)  tensor([-5.5615,  5.5170]) \t 1 \t 1\n",
      "4.)  tensor([-4.6248,  4.4974]) \t 1 \t 1\n",
      "5.)  tensor([-2.1428,  1.6851]) \t 1 \t 1\n",
      "6.)  tensor([ 6.2068, -7.2347]) \t 0 \t 0\n",
      "7.)  tensor([ 4.0744, -4.7090]) \t 0 \t 0\n",
      "8.)  tensor([ 2.7329, -3.0971]) \t 0 \t 0\n",
      "9.)  tensor([ 4.7679, -5.5309]) \t 0 \t 0\n",
      "10.)  tensor([ 6.3512, -7.4028]) \t 0 \t 0\n",
      "11.)  tensor([ 3.3522, -3.8782]) \t 0 \t 0\n",
      "12.)  tensor([-6.9197,  6.6387]) \t 1 \t 1\n",
      "13.)  tensor([ 3.3071, -3.8212]) \t 0 \t 0\n",
      "14.)  tensor([-9.5390,  9.1712]) \t 1 \t 1\n",
      "15.)  tensor([ 4.7842, -5.5651]) \t 0 \t 0\n",
      "16.)  tensor([-13.1907,  12.6885]) \t 1 \t 1\n",
      "17.)  tensor([-5.5930,  5.4075]) \t 1 \t 1\n",
      "18.)  tensor([-2.6337,  2.4759]) \t 1 \t 1\n",
      "19.)  tensor([ 5.1786, -6.0549]) \t 0 \t 0\n",
      "20.)  tensor([-8.9167,  8.5428]) \t 1 \t 1\n",
      "21.)  tensor([-8.4261,  8.1530]) \t 1 \t 1\n",
      "22.)  tensor([ 6.9398, -8.1106]) \t 0 \t 0\n",
      "23.)  tensor([-3.8820,  3.7375]) \t 1 \t 1\n",
      "24.)  tensor([ 1.7109, -1.9897]) \t 0 \t 0\n",
      "25.)  tensor([-4.9289,  4.7206]) \t 1 \t 1\n",
      "26.)  tensor([ 0.4117, -0.5612]) \t 1 \t 0\n",
      "27.)  tensor([-3.9488,  3.7400]) \t 1 \t 1\n",
      "28.)  tensor([-6.7943,  6.5241]) \t 1 \t 1\n",
      "29.)  tensor([-3.9464,  3.7816]) \t 1 \t 1\n",
      "30.)  tensor([-5.6797,  5.4772]) \t 1 \t 1\n",
      "31.)  tensor([-8.4464,  8.0406]) \t 1 \t 1\n",
      "32.)  tensor([-4.6022,  4.4858]) \t 1 \t 1\n",
      "33.)  tensor([ 5.0209, -5.8086]) \t 0 \t 0\n",
      "34.)  tensor([ 2.7128, -3.1448]) \t 0 \t 0\n",
      "35.)  tensor([ 0.6917, -1.0325]) \t 0 \t 0\n",
      "36.)  tensor([-1.6573,  1.4980]) \t 1 \t 1\n",
      "37.)  tensor([-11.0798,  10.7605]) \t 1 \t 1\n",
      "38.)  tensor([ 2.7506, -3.1269]) \t 0 \t 0\n",
      "39.)  tensor([-11.9025,  11.3670]) \t 1 \t 1\n",
      "40.)  tensor([-4.0259,  3.8406]) \t 1 \t 1\n",
      "41.)  tensor([-6.9504,  6.7166]) \t 1 \t 1\n",
      "42.)  tensor([-4.0411,  3.9824]) \t 1 \t 1\n",
      "43.)  tensor([-4.7838,  4.6171]) \t 1 \t 1\n",
      "44.)  tensor([ 2.9443, -3.3242]) \t 0 \t 0\n",
      "45.)  tensor([-7.5089,  7.2299]) \t 1 \t 1\n",
      "46.)  tensor([ 2.6517, -3.1123]) \t 0 \t 0\n",
      "47.)  tensor([ 3.2260, -3.7415]) \t 0 \t 0\n",
      "48.)  tensor([-2.7339,  2.5789]) \t 1 \t 1\n",
      "49.)  tensor([-10.9334,  10.5087]) \t 1 \t 1\n",
      "50.)  tensor([ 3.4796, -4.0022]) \t 0 \t 0\n",
      "51.)  tensor([-3.5093,  3.3527]) \t 0 \t 1\n",
      "52.)  tensor([-4.2716,  4.0601]) \t 1 \t 1\n",
      "53.)  tensor([-4.6468,  4.4012]) \t 1 \t 1\n",
      "54.)  tensor([ 3.4071, -3.9655]) \t 0 \t 0\n",
      "55.)  tensor([-4.0141,  3.8009]) \t 1 \t 1\n",
      "56.)  tensor([-7.1488,  6.8544]) \t 1 \t 1\n",
      "57.)  tensor([-11.7384,  11.2943]) \t 1 \t 1\n",
      "58.)  tensor([-6.3756,  6.0254]) \t 1 \t 1\n",
      "59.)  tensor([ 5.6766, -6.5355]) \t 0 \t 0\n",
      "60.)  tensor([ 2.7990, -3.1604]) \t 1 \t 0\n",
      "61.)  tensor([ 4.7113, -5.5095]) \t 0 \t 0\n",
      "62.)  tensor([ 0.5791, -0.9241]) \t 1 \t 0\n",
      "63.)  tensor([-3.3074,  3.1753]) \t 1 \t 1\n",
      "64.)  tensor([-7.4462,  7.1310]) \t 1 \t 1\n",
      "65.)  tensor([ 4.8903, -5.7672]) \t 0 \t 0\n",
      "66.)  tensor([ 3.8973, -4.5246]) \t 0 \t 0\n",
      "67.)  tensor([-2.0113,  1.7893]) \t 0 \t 1\n",
      "68.)  tensor([ 3.9589, -4.5307]) \t 0 \t 0\n",
      "69.)  tensor([-3.4453,  3.2688]) \t 1 \t 1\n",
      "70.)  tensor([-3.2672,  3.1205]) \t 1 \t 1\n",
      "71.)  tensor([-2.3154,  2.1893]) \t 1 \t 1\n",
      "72.)  tensor([-5.7578,  5.5159]) \t 1 \t 1\n",
      "73.)  tensor([ 3.6473, -4.0932]) \t 0 \t 0\n",
      "74.)  tensor([ 5.6698, -6.4997]) \t 0 \t 0\n",
      "75.)  tensor([ 4.0949, -4.5504]) \t 0 \t 0\n",
      "76.)  tensor([ 6.6005, -7.6462]) \t 0 \t 0\n",
      "77.)  tensor([-2.4181,  2.2712]) \t 1 \t 1\n",
      "78.)  tensor([-5.0061,  4.7540]) \t 1 \t 1\n",
      "79.)  tensor([ 7.8301, -9.1850]) \t 0 \t 0\n",
      "80.)  tensor([-9.7141,  9.3500]) \t 1 \t 1\n",
      "81.)  tensor([ 3.2657, -3.7574]) \t 0 \t 0\n",
      "82.)  tensor([-5.6074,  5.3416]) \t 1 \t 1\n",
      "83.)  tensor([ 4.0477, -4.5760]) \t 0 \t 0\n",
      "84.)  tensor([ 3.2159, -3.7071]) \t 0 \t 0\n",
      "85.)  tensor([ 2.5669, -2.8848]) \t 0 \t 0\n",
      "86.)  tensor([-3.8609,  3.6665]) \t 1 \t 1\n",
      "87.)  tensor([ 5.2198, -6.0744]) \t 0 \t 0\n",
      "We got 82 correct!\n",
      "Accuracy is: 0.9425287356321839\n"
     ]
    }
   ],
   "source": [
    "correct = 0\n",
    "with torch.no_grad():\n",
    "  for i, data in enumerate(X_test):\n",
    "    y_val = best_model.model.forward(data)\n",
    "\n",
    "    print(f'{i+1}.)  {str(y_val)} \\t {y_test[i]} \\t {y_val.argmax().item()}')\n",
    "\n",
    "    # Correct or not\n",
    "    if y_val.argmax().item() == y_test[i]:\n",
    "      correct +=1\n",
    "\n",
    "print(f'We got {correct} correct!')\n",
    "accuracy = correct / list(y_test.shape)[0]\n",
    "print(f'Accuracy is: {accuracy}')"
   ]
  },
  {
   "cell_type": "code",
   "execution_count": 31,
   "id": "135e47fc",
   "metadata": {},
   "outputs": [
    {
     "name": "stdout",
     "output_type": "stream",
     "text": [
      "[87]\n"
     ]
    }
   ],
   "source": [
    "print(list(y_test.shape))"
   ]
  },
  {
   "cell_type": "code",
   "execution_count": 32,
   "id": "274259fb",
   "metadata": {},
   "outputs": [],
   "source": [
    "#torch.save(best_model.model.state_dict(), 'Models/3_layer_nn_96_64_64_with_dropout')"
   ]
  },
  {
   "cell_type": "code",
   "execution_count": 33,
   "id": "ca4f66f6",
   "metadata": {},
   "outputs": [],
   "source": [
    "#model = Model(input_size=X_train.shape[1], h1=160, h2=16, h3=16, output_size=2)\n",
    "#model.load_state_dict(torch.load('Models/3_layer_nn_160_16_16'))\n",
    "#model.eval()"
   ]
  },
  {
   "cell_type": "code",
   "execution_count": 34,
   "id": "f095c4bb",
   "metadata": {},
   "outputs": [
    {
     "data": {
      "text/plain": [
       "\"correct = 0\\nwith torch.no_grad():\\n  for i, data in enumerate(X_test):\\n    y_val = model.forward(data)\\n\\n    print(f'{i+1}.)  {str(y_val)} \\t {y_test[i]} \\t {y_val.argmax().item()}')\\n\\n    # Correct or not\\n    if y_val.argmax().item() == y_test[i]:\\n      correct +=1\\n\\nprint(f'We got {correct} correct!')\""
      ]
     },
     "execution_count": 34,
     "metadata": {},
     "output_type": "execute_result"
    }
   ],
   "source": [
    "'''correct = 0\n",
    "with torch.no_grad():\n",
    "  for i, data in enumerate(X_test):\n",
    "    y_val = model.forward(data)\n",
    "\n",
    "    print(f'{i+1}.)  {str(y_val)} \\t {y_test[i]} \\t {y_val.argmax().item()}')\n",
    "\n",
    "    # Correct or not\n",
    "    if y_val.argmax().item() == y_test[i]:\n",
    "      correct +=1\n",
    "\n",
    "print(f'We got {correct} correct!')'''"
   ]
  }
 ],
 "metadata": {
  "kernelspec": {
   "display_name": "base",
   "language": "python",
   "name": "python3"
  },
  "language_info": {
   "codemirror_mode": {
    "name": "ipython",
    "version": 3
   },
   "file_extension": ".py",
   "mimetype": "text/x-python",
   "name": "python",
   "nbconvert_exporter": "python",
   "pygments_lexer": "ipython3",
   "version": "3.11.4"
  }
 },
 "nbformat": 4,
 "nbformat_minor": 5
}
